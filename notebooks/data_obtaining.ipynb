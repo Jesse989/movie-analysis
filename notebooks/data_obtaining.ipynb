{
 "cells": [
  {
   "cell_type": "markdown",
   "metadata": {},
   "source": [
    "# Movie Analysis: Obtaining Data "
   ]
  },
  {
   "cell_type": "markdown",
   "metadata": {},
   "source": [
    "## About:\n",
    "In this notebook I will import the external data sets I gathered, turn them into tables to check on them and then save them as CSV files for further data scrubbing:\n",
    "\n",
    "1. Money\n",
    "2. Actors\n",
    "3. Keywords"
   ]
  },
  {
   "cell_type": "code",
   "execution_count": 1,
   "metadata": {},
   "outputs": [],
   "source": [
    "# imports for entire data gathering phase\n",
    "import pandas as pd \n",
    "from bs4 import BeautifulSoup\n",
    "import os"
   ]
  },
  {
   "cell_type": "markdown",
   "metadata": {},
   "source": [
    "## 1. Money:\n",
    "This dataset was scraped from the imdbpro website. It was behind authenticaton (really good authentication, owned by Amazon.com) and even though I have an account, I was unable to setup a normal scraping script.\n",
    "\n",
    "I ended up logging into the site, and running a script in the developer console to scroll to the bottom (the content is lazy loaded, and scrolling down for an hour was not going to happen), and once at the bottom to save the page content."
   ]
  },
  {
   "cell_type": "code",
   "execution_count": 2,
   "metadata": {},
   "outputs": [],
   "source": [
    "def read_html(file_path):\n",
    "    \"\"\"Takes a saved html page and returns the results container that holds all the targeted info\n",
    "    \n",
    "    Arguments:\n",
    "        file_path (string): path to find the saved html page\n",
    "\n",
    "    Returns:\n",
    "        result (BeautifulSoup object): or None if result wasn't found\n",
    "    \"\"\"\n",
    "    # strip all the actor elements from the first html\n",
    "    with open(file_path, 'r') as f_html:\n",
    "        html = BeautifulSoup(f_html)\n",
    "        # pull out only the elements we want\n",
    "        result = html.find('div', id='results').ul.find_all('li', recursive=False)\n",
    "        return result if result else None"
   ]
  },
  {
   "cell_type": "code",
   "execution_count": 3,
   "metadata": {},
   "outputs": [],
   "source": [
    "# setup paths for importing raw html\n",
    "movie_html_a_path = os.path.join(os.pardir, 'data', 'external', 'movie_money_1m_plus.htm')\n",
    "movie_html_b_path = os.path.join(os.pardir, 'data', 'external', 'movie_money_1m_minus.htm')"
   ]
  },
  {
   "cell_type": "code",
   "execution_count": 4,
   "metadata": {},
   "outputs": [],
   "source": [
    "money_a = read_html(movie_html_a_path)\n",
    "money_b = read_html(movie_html_b_path)"
   ]
  },
  {
   "cell_type": "code",
   "execution_count": 5,
   "metadata": {},
   "outputs": [
    {
     "name": "stdout",
     "output_type": "stream",
     "text": [
      "type of container 1: <class 'bs4.element.ResultSet'>,\n",
      "type of container 2: <class 'bs4.element.ResultSet'>\n",
      "size of container 1: 7851,\n",
      "size of container 2: 6851\n"
     ]
    }
   ],
   "source": [
    "# sanity check the results\n",
    "print('type of container 1: {},\\ntype of container 2: {}'.format(type(money_a), type(money_b)))\n",
    "print('size of container 1: {},\\nsize of container 2: {}'.format(len(money_a), len(money_b)))"
   ]
  },
  {
   "cell_type": "code",
   "execution_count": 6,
   "metadata": {},
   "outputs": [
    {
     "data": {
      "text/plain": [
       "14702"
      ]
     },
     "execution_count": 6,
     "metadata": {},
     "output_type": "execute_result"
    }
   ],
   "source": [
    "# if they both look okay, go ahead and join them, then check the new length\n",
    "money_a.extend(money_b)\n",
    "len(money_a)"
   ]
  },
  {
   "cell_type": "code",
   "execution_count": 7,
   "metadata": {
    "tags": [
     "outputPrepend"
    ]
   },
   "outputs": [],
   "source": [
    "# container parser\n",
    "def money_parser(soup):\n",
    "    \"\"\"Parses through an array of soup objects and takes out the relevant info\n",
    "    \n",
    "    Arguments:\n",
    "        soup (bs4.element.ResultSet): Chunk to search through\n",
    "    \n",
    "    Returns:\n",
    "        results (List): A list of dictionaries \n",
    "    \"\"\"\n",
    "    results = []\n",
    "    for title in soup:\n",
    "        result = {\n",
    "            'imdb_id': title.find('span', class_='display-title').a.get('href')[27:36] if title.find('span', class_='display-title') else None,\n",
    "            'title': title.find('span', class_='display-title').a.get_text() if title.find('span', class_='display-title') else None,\n",
    "            'year': title.find('span', class_='year').get_text()[1:-1] if title.find('span', class_='year') else None,\n",
    "            'director': title.find('span', class_='display-name').a.get_text() if title.find('span', class_='display-name') else None,\n",
    "            'production_co': title.find('span', class_='display-company').a.get_text() if title.find('span', class_='display-company') else None,\n",
    "            'region_code': title.find('span', class_='region_code').get_text().strip() if title.find('span', class_='region_code') else None,\n",
    "            'rank': title.find('span', class_='ranking').get_text().strip() if title.find('span', class_='ranking') else None,\n",
    "            'budget_usd': title.find('span', class_='budget_usd').get_text().strip() if title.find('span', class_='budget_usd') else None,\n",
    "            'us_gross': title.find('span', class_='us_gross').get_text().strip() if title.find('span', class_='us_gross') else None\n",
    "        }\n",
    "        results.append(result)\n",
    "    return results"
   ]
  },
  {
   "cell_type": "code",
   "execution_count": 8,
   "metadata": {},
   "outputs": [],
   "source": [
    "parsed_money = money_parser(money_a)"
   ]
  },
  {
   "cell_type": "markdown",
   "metadata": {},
   "source": [
    "### Explore and make sure we have what we were looking for"
   ]
  },
  {
   "cell_type": "code",
   "execution_count": 9,
   "metadata": {},
   "outputs": [
    {
     "name": "stdout",
     "output_type": "stream",
     "text": [
      "<class 'pandas.core.frame.DataFrame'>\n",
      "RangeIndex: 14702 entries, 0 to 14701\n",
      "Data columns (total 9 columns):\n",
      "imdb_id          14700 non-null object\n",
      "title            14700 non-null object\n",
      "year             14685 non-null object\n",
      "director         14671 non-null object\n",
      "production_co    14345 non-null object\n",
      "region_code      13447 non-null object\n",
      "rank             14700 non-null object\n",
      "budget_usd       14700 non-null object\n",
      "us_gross         14700 non-null object\n",
      "dtypes: object(9)\n",
      "memory usage: 1.0+ MB\n"
     ]
    }
   ],
   "source": [
    "# load up new dataset with the parsed info\n",
    "money_test_df = pd.DataFrame.from_dict(parsed_money)\n",
    "money_test_df.info()"
   ]
  },
  {
   "cell_type": "code",
   "execution_count": 10,
   "metadata": {},
   "outputs": [
    {
     "data": {
      "text/html": [
       "<div>\n",
       "<style scoped>\n",
       "    .dataframe tbody tr th:only-of-type {\n",
       "        vertical-align: middle;\n",
       "    }\n",
       "\n",
       "    .dataframe tbody tr th {\n",
       "        vertical-align: top;\n",
       "    }\n",
       "\n",
       "    .dataframe thead th {\n",
       "        text-align: right;\n",
       "    }\n",
       "</style>\n",
       "<table border=\"1\" class=\"dataframe\">\n",
       "  <thead>\n",
       "    <tr style=\"text-align: right;\">\n",
       "      <th></th>\n",
       "      <th>imdb_id</th>\n",
       "      <th>title</th>\n",
       "      <th>year</th>\n",
       "      <th>director</th>\n",
       "      <th>production_co</th>\n",
       "      <th>region_code</th>\n",
       "      <th>rank</th>\n",
       "      <th>budget_usd</th>\n",
       "      <th>us_gross</th>\n",
       "    </tr>\n",
       "  </thead>\n",
       "  <tbody>\n",
       "    <tr>\n",
       "      <td>count</td>\n",
       "      <td>14700</td>\n",
       "      <td>14700</td>\n",
       "      <td>14685</td>\n",
       "      <td>14671</td>\n",
       "      <td>14345</td>\n",
       "      <td>13447</td>\n",
       "      <td>14700</td>\n",
       "      <td>14700</td>\n",
       "      <td>14700</td>\n",
       "    </tr>\n",
       "    <tr>\n",
       "      <td>unique</td>\n",
       "      <td>14560</td>\n",
       "      <td>14204</td>\n",
       "      <td>105</td>\n",
       "      <td>6952</td>\n",
       "      <td>6232</td>\n",
       "      <td>90</td>\n",
       "      <td>14549</td>\n",
       "      <td>807</td>\n",
       "      <td>1370</td>\n",
       "    </tr>\n",
       "    <tr>\n",
       "      <td>top</td>\n",
       "      <td>tt0041959</td>\n",
       "      <td>Hamlet</td>\n",
       "      <td>2017</td>\n",
       "      <td>Woody Allen</td>\n",
       "      <td>Universal Pictures</td>\n",
       "      <td>[US]</td>\n",
       "      <td></td>\n",
       "      <td></td>\n",
       "      <td>$1.1MM</td>\n",
       "    </tr>\n",
       "    <tr>\n",
       "      <td>freq</td>\n",
       "      <td>2</td>\n",
       "      <td>4</td>\n",
       "      <td>604</td>\n",
       "      <td>42</td>\n",
       "      <td>400</td>\n",
       "      <td>8886</td>\n",
       "      <td>12</td>\n",
       "      <td>6704</td>\n",
       "      <td>145</td>\n",
       "    </tr>\n",
       "  </tbody>\n",
       "</table>\n",
       "</div>"
      ],
      "text/plain": [
       "          imdb_id   title   year     director       production_co region_code  \\\n",
       "count       14700   14700  14685        14671               14345       13447   \n",
       "unique      14560   14204    105         6952                6232          90   \n",
       "top     tt0041959  Hamlet   2017  Woody Allen  Universal Pictures        [US]   \n",
       "freq            2       4    604           42                 400        8886   \n",
       "\n",
       "         rank budget_usd us_gross  \n",
       "count   14700      14700    14700  \n",
       "unique  14549        807     1370  \n",
       "top                        $1.1MM  \n",
       "freq       12       6704      145  "
      ]
     },
     "execution_count": 10,
     "metadata": {},
     "output_type": "execute_result"
    }
   ],
   "source": [
    "# look at the description\n",
    "money_test_df.describe()"
   ]
  },
  {
   "cell_type": "code",
   "execution_count": 11,
   "metadata": {},
   "outputs": [
    {
     "data": {
      "text/html": [
       "<div>\n",
       "<style scoped>\n",
       "    .dataframe tbody tr th:only-of-type {\n",
       "        vertical-align: middle;\n",
       "    }\n",
       "\n",
       "    .dataframe tbody tr th {\n",
       "        vertical-align: top;\n",
       "    }\n",
       "\n",
       "    .dataframe thead th {\n",
       "        text-align: right;\n",
       "    }\n",
       "</style>\n",
       "<table border=\"1\" class=\"dataframe\">\n",
       "  <thead>\n",
       "    <tr style=\"text-align: right;\">\n",
       "      <th></th>\n",
       "      <th>imdb_id</th>\n",
       "      <th>title</th>\n",
       "      <th>year</th>\n",
       "      <th>director</th>\n",
       "      <th>production_co</th>\n",
       "      <th>region_code</th>\n",
       "      <th>rank</th>\n",
       "      <th>budget_usd</th>\n",
       "      <th>us_gross</th>\n",
       "    </tr>\n",
       "  </thead>\n",
       "  <tbody>\n",
       "    <tr>\n",
       "      <td>10201</td>\n",
       "      <td>tt2024519</td>\n",
       "      <td>The Broken Circle Breakdown</td>\n",
       "      <td>2012</td>\n",
       "      <td>Felix van Groeningen</td>\n",
       "      <td>Menuet Producties</td>\n",
       "      <td>[BE]</td>\n",
       "      <td>10,053</td>\n",
       "      <td></td>\n",
       "      <td>$175K</td>\n",
       "    </tr>\n",
       "    <tr>\n",
       "      <td>2721</td>\n",
       "      <td>tt0280460</td>\n",
       "      <td>The Banger Sisters</td>\n",
       "      <td>2002</td>\n",
       "      <td>Bob Dolman</td>\n",
       "      <td>Fox Searchlight Pictures</td>\n",
       "      <td>[US]</td>\n",
       "      <td>19,898</td>\n",
       "      <td>$10MM</td>\n",
       "      <td>$30MM</td>\n",
       "    </tr>\n",
       "    <tr>\n",
       "      <td>3220</td>\n",
       "      <td>tt0387514</td>\n",
       "      <td>Prime</td>\n",
       "      <td>2005</td>\n",
       "      <td>Ben Younger</td>\n",
       "      <td>Prime Film Productions LLC</td>\n",
       "      <td>[US]</td>\n",
       "      <td>13,311</td>\n",
       "      <td>$22MM</td>\n",
       "      <td>$23MM</td>\n",
       "    </tr>\n",
       "  </tbody>\n",
       "</table>\n",
       "</div>"
      ],
      "text/plain": [
       "         imdb_id                        title  year              director  \\\n",
       "10201  tt2024519  The Broken Circle Breakdown  2012  Felix van Groeningen   \n",
       "2721   tt0280460           The Banger Sisters  2002            Bob Dolman   \n",
       "3220   tt0387514                        Prime  2005           Ben Younger   \n",
       "\n",
       "                    production_co region_code    rank budget_usd us_gross  \n",
       "10201           Menuet Producties        [BE]  10,053               $175K  \n",
       "2721     Fox Searchlight Pictures        [US]  19,898      $10MM    $30MM  \n",
       "3220   Prime Film Productions LLC        [US]  13,311      $22MM    $23MM  "
      ]
     },
     "execution_count": 11,
     "metadata": {},
     "output_type": "execute_result"
    }
   ],
   "source": [
    "# look at some samples\n",
    "money_test_df.sample(3)"
   ]
  },
  {
   "cell_type": "code",
   "execution_count": 12,
   "metadata": {},
   "outputs": [
    {
     "data": {
      "text/plain": [
       "2"
      ]
     },
     "execution_count": 12,
     "metadata": {},
     "output_type": "execute_result"
    }
   ],
   "source": [
    "# test for na values\n",
    "money_test_df['us_gross'].isna().sum()"
   ]
  },
  {
   "cell_type": "markdown",
   "metadata": {},
   "source": [
    "Look's like a pretty solid dataset. I will still have to format the currencies in the scrubbing phase. Let me save it to a CSV for the data scrubbing process:"
   ]
  },
  {
   "cell_type": "code",
   "execution_count": 13,
   "metadata": {},
   "outputs": [],
   "source": [
    "# file out path. Going to put it in interim for now. After its scrubbed it will live in processed.\n",
    "out_path = os.path.join(os.pardir, 'data', 'interim', 'money.csv')\n",
    "money_test_df.to_csv(out_path, index=False)"
   ]
  },
  {
   "cell_type": "code",
   "execution_count": 14,
   "metadata": {},
   "outputs": [
    {
     "data": {
      "text/plain": [
       "8131     tt6752848\n",
       "9782     tt0120775\n",
       "13037    tt6874254\n",
       "2372     tt0079948\n",
       "519      tt0120347\n",
       "12043    tt0309600\n",
       "9488     tt0476884\n",
       "11719    tt3186318\n",
       "723      tt1059786\n",
       "8273     tt1385869\n",
       "9461     tt6692354\n",
       "9530     tt0097662\n",
       "6602     tt0080116\n",
       "4448     tt0160429\n",
       "2290     tt0137523\n",
       "12632    tt1230130\n",
       "10383    tt1646975\n",
       "14249    tt0100275\n",
       "11238    tt0975684\n",
       "6116     tt0102493\n",
       "12398    tt0498351\n",
       "3904     tt0055928\n",
       "10871    tt3282712\n",
       "1865     tt0057193\n",
       "14277    tt6251666\n",
       "6175     tt4080728\n",
       "3762     tt0271367\n",
       "11780    tt3451230\n",
       "10982    tt2184331\n",
       "8533     tt1139800\n",
       "13605    tt7765120\n",
       "11545    tt3142232\n",
       "11891    tt0870089\n",
       "14312    tt1603489\n",
       "5050     tt0077275\n",
       "14592    tt0120376\n",
       "957      tt0077766\n",
       "4209     tt2097307\n",
       "11581    tt2023690\n",
       "7132     tt5342904\n",
       "113      tt0295297\n",
       "11538    tt8844204\n",
       "2232     tt0481536\n",
       "11683    tt6764122\n",
       "3463     tt0082558\n",
       "13242    tt2085888\n",
       "7292     tt1017456\n",
       "6353     tt3416744\n",
       "7624     tt0120865\n",
       "976      tt0093565\n",
       "Name: imdb_id, dtype: object"
      ]
     },
     "execution_count": 14,
     "metadata": {},
     "output_type": "execute_result"
    }
   ],
   "source": [
    "money_df = pd.read_csv(out_path)\n",
    "money_df['imdb_id'].sample(50)"
   ]
  },
  {
   "cell_type": "markdown",
   "metadata": {},
   "source": [
    "## 2. Actors:\n",
    "Actors were also taken from the people section of the imdb pro website, in the same manner."
   ]
  },
  {
   "cell_type": "code",
   "execution_count": 15,
   "metadata": {},
   "outputs": [],
   "source": [
    "# setup paths for importing raw html\n",
    "actors_html_path = os.path.join(os.pardir, 'data', 'external', 'actors_0-10k.htm')\n",
    "actors_html_b_path = os.path.join(os.pardir, 'data', 'external', 'actors_10k-20k.htm')\n",
    "actors_html_c_path = os.path.join(os.pardir, 'data', 'external', 'actors_20k-30k.htm')"
   ]
  },
  {
   "cell_type": "code",
   "execution_count": 16,
   "metadata": {},
   "outputs": [],
   "source": [
    "# use our function to grab results div\n",
    "actors_a = read_html(actors_html_path)\n",
    "actors_b = read_html(actors_html_b_path)\n",
    "actors_c = read_html(actors_html_c_path)"
   ]
  },
  {
   "cell_type": "code",
   "execution_count": 17,
   "metadata": {},
   "outputs": [
    {
     "name": "stdout",
     "output_type": "stream",
     "text": [
      "type of container 1: <class 'bs4.element.ResultSet'>,\n",
      "type of container 2: <class 'bs4.element.ResultSet'>,\n",
      "type of container 3: <class 'bs4.element.ResultSet'>\n",
      "size of container 1: 9726,\n",
      "size of container 2: 851,\n",
      "type of container 3: 626\n"
     ]
    }
   ],
   "source": [
    "# sanity check the results\n",
    "print('type of container 1: {},\\ntype of container 2: {},\\ntype of container 3: {}'.format(type(actors_a), type(actors_b), type(actors_c)))\n",
    "print('size of container 1: {},\\nsize of container 2: {},\\ntype of container 3: {}'.format(len(actors_a), len(actors_b), len(actors_c)))"
   ]
  },
  {
   "cell_type": "markdown",
   "metadata": {},
   "source": [
    "Add them together:"
   ]
  },
  {
   "cell_type": "code",
   "execution_count": 18,
   "metadata": {},
   "outputs": [],
   "source": [
    "actors_a.extend(actors_b)\n",
    "actors_a.extend(actors_c)"
   ]
  },
  {
   "cell_type": "markdown",
   "metadata": {},
   "source": [
    "Check the size:"
   ]
  },
  {
   "cell_type": "code",
   "execution_count": 19,
   "metadata": {},
   "outputs": [
    {
     "data": {
      "text/plain": [
       "11203"
      ]
     },
     "execution_count": 19,
     "metadata": {},
     "output_type": "execute_result"
    }
   ],
   "source": [
    "len(actors_a)"
   ]
  },
  {
   "cell_type": "code",
   "execution_count": 20,
   "metadata": {},
   "outputs": [],
   "source": [
    "def parse_actors(soup):\n",
    "    \"\"\"Parses through an array of soup objects and takes out the relevant info\n",
    "    \n",
    "    Arguments:\n",
    "        soup (bs4.element.ResultSet): Chunk to search through\n",
    "    \n",
    "    Returns:\n",
    "        results (List): A list of dictionaries \n",
    "    \"\"\"\n",
    "    actors = []\n",
    "    for actor_html in soup:\n",
    "        actor = {\n",
    "            'name': actor_html.find('span', class_='display-name').a.get_text() if actor_html.find('span', class_='display-name') else None,\n",
    "            'year': actor_html.find('span', class_='year').get_text().strip() if actor_html.find('span', class_='year') else None,\n",
    "            'rank': actor_html.find('span', class_='ranking').get_text().strip() if actor_html.find('span', class_='ranking') else None,\n",
    "            'age': actor_html.find('span', class_='age_rank').get_text().strip() if actor_html.find('span', class_='age_rank') else None,\n",
    "            'height': actor_html.find('span', class_='height').get_text().strip() if actor_html.find('span', class_='height') else None\n",
    "        }\n",
    "        actors.append(actor)\n",
    "    return actors"
   ]
  },
  {
   "cell_type": "code",
   "execution_count": 21,
   "metadata": {},
   "outputs": [],
   "source": [
    "parsed_actors = parse_actors(actors_a)"
   ]
  },
  {
   "cell_type": "code",
   "execution_count": 22,
   "metadata": {},
   "outputs": [],
   "source": [
    "# load into df\n",
    "actors_df = pd.DataFrame().from_dict(parsed_actors)"
   ]
  },
  {
   "cell_type": "markdown",
   "metadata": {},
   "source": [
    "Checking out the result"
   ]
  },
  {
   "cell_type": "code",
   "execution_count": 23,
   "metadata": {},
   "outputs": [
    {
     "name": "stdout",
     "output_type": "stream",
     "text": [
      "<class 'pandas.core.frame.DataFrame'>\n",
      "RangeIndex: 11203 entries, 0 to 11202\n",
      "Data columns (total 5 columns):\n",
      "name      11200 non-null object\n",
      "year      11198 non-null object\n",
      "rank      11200 non-null object\n",
      "age       11200 non-null object\n",
      "height    11200 non-null object\n",
      "dtypes: object(5)\n",
      "memory usage: 437.7+ KB\n"
     ]
    }
   ],
   "source": [
    "actors_df.info()"
   ]
  },
  {
   "cell_type": "code",
   "execution_count": 24,
   "metadata": {},
   "outputs": [
    {
     "data": {
      "text/html": [
       "<div>\n",
       "<style scoped>\n",
       "    .dataframe tbody tr th:only-of-type {\n",
       "        vertical-align: middle;\n",
       "    }\n",
       "\n",
       "    .dataframe tbody tr th {\n",
       "        vertical-align: top;\n",
       "    }\n",
       "\n",
       "    .dataframe thead th {\n",
       "        text-align: right;\n",
       "    }\n",
       "</style>\n",
       "<table border=\"1\" class=\"dataframe\">\n",
       "  <thead>\n",
       "    <tr style=\"text-align: right;\">\n",
       "      <th></th>\n",
       "      <th>name</th>\n",
       "      <th>year</th>\n",
       "      <th>rank</th>\n",
       "      <th>age</th>\n",
       "      <th>height</th>\n",
       "    </tr>\n",
       "  </thead>\n",
       "  <tbody>\n",
       "    <tr>\n",
       "      <td>1140</td>\n",
       "      <td>Teresa Ruiz</td>\n",
       "      <td>(2018-2020)</td>\n",
       "      <td>1,157</td>\n",
       "      <td></td>\n",
       "      <td>5' 3½\"</td>\n",
       "    </tr>\n",
       "    <tr>\n",
       "      <td>9294</td>\n",
       "      <td>Henry Simmons</td>\n",
       "      <td>(2014)</td>\n",
       "      <td>9,628</td>\n",
       "      <td></td>\n",
       "      <td>6' 4\"</td>\n",
       "    </tr>\n",
       "    <tr>\n",
       "      <td>3562</td>\n",
       "      <td>Cerina Vincent</td>\n",
       "      <td>(2002)</td>\n",
       "      <td>3,653</td>\n",
       "      <td></td>\n",
       "      <td>5' 7\"</td>\n",
       "    </tr>\n",
       "    <tr>\n",
       "      <td>4094</td>\n",
       "      <td>Chris Tucker</td>\n",
       "      <td>(2001)</td>\n",
       "      <td>4,202</td>\n",
       "      <td>48</td>\n",
       "      <td>6' 1\"</td>\n",
       "    </tr>\n",
       "    <tr>\n",
       "      <td>6570</td>\n",
       "      <td>Yasiin Bey</td>\n",
       "      <td>(2003)</td>\n",
       "      <td>6,753</td>\n",
       "      <td>46</td>\n",
       "      <td>5' 9\"</td>\n",
       "    </tr>\n",
       "  </tbody>\n",
       "</table>\n",
       "</div>"
      ],
      "text/plain": [
       "                name         year   rank age  height\n",
       "1140     Teresa Ruiz  (2018-2020)  1,157      5' 3½\"\n",
       "9294   Henry Simmons       (2014)  9,628       6' 4\"\n",
       "3562  Cerina Vincent       (2002)  3,653       5' 7\"\n",
       "4094    Chris Tucker       (2001)  4,202  48   6' 1\"\n",
       "6570      Yasiin Bey       (2003)  6,753  46   5' 9\""
      ]
     },
     "execution_count": 24,
     "metadata": {},
     "output_type": "execute_result"
    }
   ],
   "source": [
    "actors_df.sample(5)"
   ]
  },
  {
   "cell_type": "code",
   "execution_count": 25,
   "metadata": {},
   "outputs": [
    {
     "data": {
      "text/html": [
       "<div>\n",
       "<style scoped>\n",
       "    .dataframe tbody tr th:only-of-type {\n",
       "        vertical-align: middle;\n",
       "    }\n",
       "\n",
       "    .dataframe tbody tr th {\n",
       "        vertical-align: top;\n",
       "    }\n",
       "\n",
       "    .dataframe thead th {\n",
       "        text-align: right;\n",
       "    }\n",
       "</style>\n",
       "<table border=\"1\" class=\"dataframe\">\n",
       "  <thead>\n",
       "    <tr style=\"text-align: right;\">\n",
       "      <th></th>\n",
       "      <th>name</th>\n",
       "      <th>year</th>\n",
       "      <th>rank</th>\n",
       "      <th>age</th>\n",
       "      <th>height</th>\n",
       "    </tr>\n",
       "  </thead>\n",
       "  <tbody>\n",
       "    <tr>\n",
       "      <td>count</td>\n",
       "      <td>11200</td>\n",
       "      <td>11198</td>\n",
       "      <td>11200</td>\n",
       "      <td>11200</td>\n",
       "      <td>11200</td>\n",
       "    </tr>\n",
       "    <tr>\n",
       "      <td>unique</td>\n",
       "      <td>10645</td>\n",
       "      <td>1347</td>\n",
       "      <td>10654</td>\n",
       "      <td>129</td>\n",
       "      <td>122</td>\n",
       "    </tr>\n",
       "    <tr>\n",
       "      <td>top</td>\n",
       "      <td>James Murray</td>\n",
       "      <td>(2019)</td>\n",
       "      <td>1,130</td>\n",
       "      <td></td>\n",
       "      <td></td>\n",
       "    </tr>\n",
       "    <tr>\n",
       "      <td>freq</td>\n",
       "      <td>3</td>\n",
       "      <td>512</td>\n",
       "      <td>2</td>\n",
       "      <td>3195</td>\n",
       "      <td>1455</td>\n",
       "    </tr>\n",
       "  </tbody>\n",
       "</table>\n",
       "</div>"
      ],
      "text/plain": [
       "                name    year   rank    age height\n",
       "count          11200   11198  11200  11200  11200\n",
       "unique         10645    1347  10654    129    122\n",
       "top     James Murray  (2019)  1,130              \n",
       "freq               3     512      2   3195   1455"
      ]
     },
     "execution_count": 25,
     "metadata": {},
     "output_type": "execute_result"
    }
   ],
   "source": [
    "actors_df.describe()"
   ]
  },
  {
   "cell_type": "code",
   "execution_count": 26,
   "metadata": {},
   "outputs": [
    {
     "data": {
      "text/plain": [
       "name      3\n",
       "year      5\n",
       "rank      3\n",
       "age       3\n",
       "height    3\n",
       "dtype: int64"
      ]
     },
     "execution_count": 26,
     "metadata": {},
     "output_type": "execute_result"
    }
   ],
   "source": [
    "actors_df.isna().sum()"
   ]
  },
  {
   "cell_type": "markdown",
   "metadata": {},
   "source": [
    "Looks pretty good to me. Let's write it to a CSV and move on."
   ]
  },
  {
   "cell_type": "code",
   "execution_count": 27,
   "metadata": {},
   "outputs": [],
   "source": [
    "# file out path. Going to put it in interim for now. After its scrubbed it will live in processed.\n",
    "out_path = os.path.join(os.pardir, 'data', 'interim', 'actors.csv')\n",
    "actors_df.to_csv(out_path, index=False)"
   ]
  },
  {
   "cell_type": "code",
   "execution_count": 28,
   "metadata": {},
   "outputs": [
    {
     "data": {
      "text/html": [
       "<div>\n",
       "<style scoped>\n",
       "    .dataframe tbody tr th:only-of-type {\n",
       "        vertical-align: middle;\n",
       "    }\n",
       "\n",
       "    .dataframe tbody tr th {\n",
       "        vertical-align: top;\n",
       "    }\n",
       "\n",
       "    .dataframe thead th {\n",
       "        text-align: right;\n",
       "    }\n",
       "</style>\n",
       "<table border=\"1\" class=\"dataframe\">\n",
       "  <thead>\n",
       "    <tr style=\"text-align: right;\">\n",
       "      <th></th>\n",
       "      <th>name</th>\n",
       "      <th>year</th>\n",
       "      <th>rank</th>\n",
       "      <th>age</th>\n",
       "      <th>height</th>\n",
       "    </tr>\n",
       "  </thead>\n",
       "  <tbody>\n",
       "    <tr>\n",
       "      <td>0</td>\n",
       "      <td>Max von Sydow</td>\n",
       "      <td>(1929–2020)</td>\n",
       "      <td>1</td>\n",
       "      <td>90.0</td>\n",
       "      <td>6' 4\"</td>\n",
       "    </tr>\n",
       "    <tr>\n",
       "      <td>1</td>\n",
       "      <td>Ana de Armas</td>\n",
       "      <td>(2017)</td>\n",
       "      <td>2</td>\n",
       "      <td>NaN</td>\n",
       "      <td>5' 6¼\"</td>\n",
       "    </tr>\n",
       "    <tr>\n",
       "      <td>2</td>\n",
       "      <td>Iliza Shlesinger</td>\n",
       "      <td>(2020)</td>\n",
       "      <td>3</td>\n",
       "      <td>NaN</td>\n",
       "      <td>5' 5\"</td>\n",
       "    </tr>\n",
       "    <tr>\n",
       "      <td>3</td>\n",
       "      <td>Mark Wahlberg</td>\n",
       "      <td>(2010)</td>\n",
       "      <td>4</td>\n",
       "      <td>48.0</td>\n",
       "      <td>5' 8\"</td>\n",
       "    </tr>\n",
       "    <tr>\n",
       "      <td>4</td>\n",
       "      <td>Tom Hanks</td>\n",
       "      <td>(2000)</td>\n",
       "      <td>5</td>\n",
       "      <td>63.0</td>\n",
       "      <td>6' 0\"</td>\n",
       "    </tr>\n",
       "  </tbody>\n",
       "</table>\n",
       "</div>"
      ],
      "text/plain": [
       "               name         year rank   age  height\n",
       "0     Max von Sydow  (1929–2020)    1  90.0   6' 4\"\n",
       "1      Ana de Armas       (2017)    2   NaN  5' 6¼\"\n",
       "2  Iliza Shlesinger       (2020)    3   NaN   5' 5\"\n",
       "3     Mark Wahlberg       (2010)    4  48.0   5' 8\"\n",
       "4         Tom Hanks       (2000)    5  63.0   6' 0\""
      ]
     },
     "execution_count": 28,
     "metadata": {},
     "output_type": "execute_result"
    }
   ],
   "source": [
    "actors_df = pd.read_csv(out_path)\n",
    "actors_df.head()"
   ]
  },
  {
   "cell_type": "markdown",
   "metadata": {},
   "source": [
    "## 3. Keywords\n",
    "The keywords data was gathered from the TheMovieDB.com site using the script in src/data/keyword_builder.\n",
    "\n",
    "The script creates a list of imdb id's, and queries the API for each id. If it finds an id it will query the API once more to get the list of keywords for that id.\n",
    "\n",
    "After the scripts runs through all the id's, it exports the database to a CSV and saves it in /data/raw."
   ]
  },
  {
   "cell_type": "markdown",
   "metadata": {},
   "source": [
    "## Finished\n",
    "That is it for pulling in new data. We should have enough to answer our questions."
   ]
  },
  {
   "cell_type": "code",
   "execution_count": null,
   "metadata": {},
   "outputs": [],
   "source": []
  }
 ],
 "metadata": {
  "file_extension": ".py",
  "kernelspec": {
   "display_name": "Python 3",
   "language": "python",
   "name": "python3"
  },
  "language_info": {
   "codemirror_mode": {
    "name": "ipython",
    "version": 3
   },
   "file_extension": ".py",
   "mimetype": "text/x-python",
   "name": "python",
   "nbconvert_exporter": "python",
   "pygments_lexer": "ipython3",
   "version": "3.6.9"
  },
  "mimetype": "text/x-python",
  "name": "python",
  "npconvert_exporter": "python",
  "pygments_lexer": "ipython3",
  "toc": {
   "base_numbering": 1,
   "nav_menu": {},
   "number_sections": true,
   "sideBar": true,
   "skip_h1_title": false,
   "title_cell": "Table of Contents",
   "title_sidebar": "Contents",
   "toc_cell": false,
   "toc_position": {},
   "toc_section_display": true,
   "toc_window_display": false
  },
  "varInspector": {
   "cols": {
    "lenName": 16,
    "lenType": 16,
    "lenVar": 40
   },
   "kernels_config": {
    "python": {
     "delete_cmd_postfix": "",
     "delete_cmd_prefix": "del ",
     "library": "var_list.py",
     "varRefreshCmd": "print(var_dic_list())"
    },
    "r": {
     "delete_cmd_postfix": ") ",
     "delete_cmd_prefix": "rm(",
     "library": "var_list.r",
     "varRefreshCmd": "cat(var_dic_list()) "
    }
   },
   "types_to_exclude": [
    "module",
    "function",
    "builtin_function_or_method",
    "instance",
    "_Feature"
   ],
   "window_display": false
  },
  "version": 3
 },
 "nbformat": 4,
 "nbformat_minor": 2
}
