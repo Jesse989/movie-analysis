{
 "cells": [
  {
   "cell_type": "markdown",
   "metadata": {},
   "source": [
    "# Movie Analysis: Data Scrubbing"
   ]
  },
  {
   "cell_type": "markdown",
   "metadata": {},
   "source": [
    "## About:\n",
    "In the data scrubbing phase I will focus on cleaning up the columns I plan on using, and building up the data frame I will use for the EDA phase:\n",
    "\n",
    "1. US Gross Revenue\n",
    "2. Genre\n",
    "3. Actors\n",
    "4. Time of Year (date)\n",
    "5. Keywords (content)\n",
    "6. Combined"
   ]
  },
  {
   "cell_type": "markdown",
   "metadata": {},
   "source": [
    "### Project imports:"
   ]
  },
  {
   "cell_type": "code",
   "execution_count": 1,
   "metadata": {
    "ExecuteTime": {
     "end_time": "2020-03-24T21:44:50.221772Z",
     "start_time": "2020-03-24T21:44:50.217262Z"
    }
   },
   "outputs": [],
   "source": [
    "# imports for entire data gathering phase\n",
    "import pandas as pd \n",
    "import os"
   ]
  },
  {
   "cell_type": "markdown",
   "metadata": {},
   "source": [
    "## 1. US Gross Revene\n",
    "This column will be how we measure the other columns, so we will start here and drop any rows that don't have this information."
   ]
  },
  {
   "cell_type": "code",
   "execution_count": 2,
   "metadata": {
    "ExecuteTime": {
     "end_time": "2020-03-24T21:44:52.621784Z",
     "start_time": "2020-03-24T21:44:52.544084Z"
    }
   },
   "outputs": [],
   "source": [
    "revenue_path = os.path.join(os.pardir, 'data', 'interim', 'money.csv')\n",
    "revenue_df = pd.read_csv(revenue_path)"
   ]
  },
  {
   "cell_type": "code",
   "execution_count": 3,
   "metadata": {
    "ExecuteTime": {
     "end_time": "2020-03-24T21:44:54.556678Z",
     "start_time": "2020-03-24T21:44:54.488807Z"
    }
   },
   "outputs": [
    {
     "data": {
      "text/html": [
       "<div>\n",
       "<style scoped>\n",
       "    .dataframe tbody tr th:only-of-type {\n",
       "        vertical-align: middle;\n",
       "    }\n",
       "\n",
       "    .dataframe tbody tr th {\n",
       "        vertical-align: top;\n",
       "    }\n",
       "\n",
       "    .dataframe thead th {\n",
       "        text-align: right;\n",
       "    }\n",
       "</style>\n",
       "<table border=\"1\" class=\"dataframe\">\n",
       "  <thead>\n",
       "    <tr style=\"text-align: right;\">\n",
       "      <th></th>\n",
       "      <th>imdb_id</th>\n",
       "      <th>title</th>\n",
       "      <th>year</th>\n",
       "      <th>director</th>\n",
       "      <th>production_co</th>\n",
       "      <th>region_code</th>\n",
       "      <th>rank</th>\n",
       "      <th>budget_usd</th>\n",
       "      <th>us_gross</th>\n",
       "    </tr>\n",
       "  </thead>\n",
       "  <tbody>\n",
       "    <tr>\n",
       "      <td>0</td>\n",
       "      <td>tt2488496</td>\n",
       "      <td>Star Wars: Episode VII - The Force Awakens</td>\n",
       "      <td>2015</td>\n",
       "      <td>J.J. Abrams</td>\n",
       "      <td>Lucasfilm</td>\n",
       "      <td>[US]</td>\n",
       "      <td>519</td>\n",
       "      <td>$245MM</td>\n",
       "      <td>$937MM</td>\n",
       "    </tr>\n",
       "    <tr>\n",
       "      <td>1</td>\n",
       "      <td>tt4154796</td>\n",
       "      <td>Avengers: Endgame</td>\n",
       "      <td>2019</td>\n",
       "      <td>Anthony Russo</td>\n",
       "      <td>Marvel Studios</td>\n",
       "      <td>[US]</td>\n",
       "      <td>111</td>\n",
       "      <td>$356MM</td>\n",
       "      <td>$858MM</td>\n",
       "    </tr>\n",
       "    <tr>\n",
       "      <td>2</td>\n",
       "      <td>tt0499549</td>\n",
       "      <td>Avatar</td>\n",
       "      <td>2009</td>\n",
       "      <td>James Cameron</td>\n",
       "      <td>Twentieth Century Fox</td>\n",
       "      <td>[US]</td>\n",
       "      <td>533</td>\n",
       "      <td>$237MM</td>\n",
       "      <td>$761MM</td>\n",
       "    </tr>\n",
       "    <tr>\n",
       "      <td>3</td>\n",
       "      <td>tt1825683</td>\n",
       "      <td>Black Panther</td>\n",
       "      <td>2018</td>\n",
       "      <td>Ryan Coogler</td>\n",
       "      <td>Marvel Studios</td>\n",
       "      <td>[US]</td>\n",
       "      <td>269</td>\n",
       "      <td>$200MM</td>\n",
       "      <td>$700MM</td>\n",
       "    </tr>\n",
       "    <tr>\n",
       "      <td>4</td>\n",
       "      <td>tt4154756</td>\n",
       "      <td>Avengers: Infinity War</td>\n",
       "      <td>2018</td>\n",
       "      <td>Anthony Russo</td>\n",
       "      <td>Marvel Studios</td>\n",
       "      <td>[US]</td>\n",
       "      <td>376</td>\n",
       "      <td>$321MM</td>\n",
       "      <td>$679MM</td>\n",
       "    </tr>\n",
       "  </tbody>\n",
       "</table>\n",
       "</div>"
      ],
      "text/plain": [
       "     imdb_id                                       title  year       director  \\\n",
       "0  tt2488496  Star Wars: Episode VII - The Force Awakens  2015    J.J. Abrams   \n",
       "1  tt4154796                           Avengers: Endgame  2019  Anthony Russo   \n",
       "2  tt0499549                                      Avatar  2009  James Cameron   \n",
       "3  tt1825683                               Black Panther  2018   Ryan Coogler   \n",
       "4  tt4154756                      Avengers: Infinity War  2018  Anthony Russo   \n",
       "\n",
       "           production_co region_code rank budget_usd us_gross  \n",
       "0              Lucasfilm        [US]  519     $245MM   $937MM  \n",
       "1         Marvel Studios        [US]  111     $356MM   $858MM  \n",
       "2  Twentieth Century Fox        [US]  533     $237MM   $761MM  \n",
       "3         Marvel Studios        [US]  269     $200MM   $700MM  \n",
       "4         Marvel Studios        [US]  376     $321MM   $679MM  "
      ]
     },
     "execution_count": 3,
     "metadata": {},
     "output_type": "execute_result"
    }
   ],
   "source": [
    "revenue_df.head()"
   ]
  },
  {
   "cell_type": "code",
   "execution_count": 4,
   "metadata": {},
   "outputs": [
    {
     "data": {
      "text/html": [
       "<div>\n",
       "<style scoped>\n",
       "    .dataframe tbody tr th:only-of-type {\n",
       "        vertical-align: middle;\n",
       "    }\n",
       "\n",
       "    .dataframe tbody tr th {\n",
       "        vertical-align: top;\n",
       "    }\n",
       "\n",
       "    .dataframe thead th {\n",
       "        text-align: right;\n",
       "    }\n",
       "</style>\n",
       "<table border=\"1\" class=\"dataframe\">\n",
       "  <thead>\n",
       "    <tr style=\"text-align: right;\">\n",
       "      <th></th>\n",
       "      <th>imdb_id</th>\n",
       "      <th>title</th>\n",
       "      <th>year</th>\n",
       "      <th>director</th>\n",
       "      <th>production_co</th>\n",
       "      <th>region_code</th>\n",
       "      <th>rank</th>\n",
       "      <th>budget_usd</th>\n",
       "      <th>us_gross</th>\n",
       "    </tr>\n",
       "  </thead>\n",
       "  <tbody>\n",
       "    <tr>\n",
       "      <td>5194</td>\n",
       "      <td>tt0091605</td>\n",
       "      <td>The Name of the Rose</td>\n",
       "      <td>1986</td>\n",
       "      <td>Jean-Jacques Annaud</td>\n",
       "      <td>Constantin Film</td>\n",
       "      <td>[DE]</td>\n",
       "      <td>2,485</td>\n",
       "      <td>ITL 30B</td>\n",
       "      <td>$7.2MM</td>\n",
       "    </tr>\n",
       "  </tbody>\n",
       "</table>\n",
       "</div>"
      ],
      "text/plain": [
       "        imdb_id                 title  year             director  \\\n",
       "5194  tt0091605  The Name of the Rose  1986  Jean-Jacques Annaud   \n",
       "\n",
       "        production_co region_code   rank budget_usd us_gross  \n",
       "5194  Constantin Film        [DE]  2,485    ITL 30B   $7.2MM  "
      ]
     },
     "execution_count": 4,
     "metadata": {},
     "output_type": "execute_result"
    }
   ],
   "source": [
    "revenue_df.loc[revenue_df['imdb_id'] == 'tt0091605']"
   ]
  },
  {
   "cell_type": "code",
   "execution_count": 5,
   "metadata": {
    "ExecuteTime": {
     "end_time": "2020-03-24T21:45:00.828326Z",
     "start_time": "2020-03-24T21:45:00.799253Z"
    }
   },
   "outputs": [],
   "source": [
    "revenue_df = revenue_df[:-1]"
   ]
  },
  {
   "cell_type": "markdown",
   "metadata": {},
   "source": [
    "### Changes:\n",
    "\n",
    "1. Convert 'us_gross', and 'budget_usd' values into floats. That means stripping the non-number characters out as well as changing 'MM' to ',000,000'.\n",
    "2. Convert year column to int, so the years don't have the trailing .0.\n",
    "3. region_code does not need the brackets around the abbreviations."
   ]
  },
  {
   "cell_type": "code",
   "execution_count": 6,
   "metadata": {
    "ExecuteTime": {
     "end_time": "2020-03-24T21:45:03.347796Z",
     "start_time": "2020-03-24T21:45:03.327513Z"
    },
    "code_folding": []
   },
   "outputs": [],
   "source": [
    "# Created 3/22/2020 with current exhange values. Values not adjusted for the date the movie was created.\n",
    "def get_conversion_rate(value):\n",
    "    \"\"\"Get exchange rate for given currency code\n",
    "    \n",
    "    Arguments:\n",
    "        value (string): String with currency code or symbol in it\n",
    "\n",
    "    Returns:\n",
    "        rate (float): Conversion rate to usd\n",
    "    \"\"\"\n",
    "    if '£' in value:\n",
    "        return 0.854\n",
    "    elif '€' in value:\n",
    "        return 0.9334\n",
    "    elif 'AUD' in value:\n",
    "        return 1.7229\n",
    "    elif 'CAD' in value:\n",
    "        return 1.435\n",
    "    elif 'FRF' in value:\n",
    "        return 6.55957 * 0.9334\n",
    "    elif 'INR' in value:\n",
    "        return 75.394\n",
    "    elif 'THB' in value:\n",
    "        return 32.68\n",
    "    elif 'EM' in value:\n",
    "        return 1 # cant find info on EM\n",
    "    elif 'JPY' in value:\n",
    "        return 110.75\n",
    "    elif 'SKW' in value:\n",
    "        return 1254.45\n",
    "    elif 'HUF' in value:\n",
    "        return 327.94\n",
    "    elif 'NGN' in value:\n",
    "        return 364\n",
    "    elif 'CNY' in value:\n",
    "        return 7.0950\n",
    "    elif 'ESP' in value:\n",
    "        return 155.42826\n",
    "    elif 'RUR' in value:\n",
    "        return 79.87\n",
    "    elif 'HKD' in value:\n",
    "        return 7.7570\n",
    "    elif 'ISK' in value:\n",
    "        return 140.490\n",
    "    elif 'PHP' in value:\n",
    "        return 51.19\n",
    "    elif 'DKK' in value:\n",
    "        return 6.9716\n",
    "    elif 'CZK' in value:\n",
    "        return 25.5620\n",
    "    elif 'SKK' in value:\n",
    "        return 10.3753\n",
    "    elif 'NOK' in value:\n",
    "        return 11.7890\n",
    "    elif 'MXN' in value:\n",
    "        return 24.4215\n",
    "    elif 'JMD' in value:\n",
    "        return 135.07\n",
    "    elif 'PLN' in value:\n",
    "        return 4.23\n",
    "    elif 'KRW' in value:\n",
    "        return 1228.97\n",
    "    elif 'ITL' in value:\n",
    "        return 1804.64\n",
    "    else:\n",
    "        return 1"
   ]
  },
  {
   "cell_type": "code",
   "execution_count": 7,
   "metadata": {
    "ExecuteTime": {
     "end_time": "2020-03-24T21:45:05.409886Z",
     "start_time": "2020-03-24T21:45:05.391233Z"
    },
    "code_folding": [
     0
    ]
   },
   "outputs": [],
   "source": [
    "def strip_currency_code(value):\n",
    "    \"\"\"Strips currency code from front of currency string\n",
    "\n",
    "    Arguments: \n",
    "        value (string): currency amount prefaced with currency code\n",
    "    \n",
    "    Returns:\n",
    "        value (string): value without the currency code\n",
    "    \"\"\"\n",
    "    if value[:1] in '$£€':\n",
    "        return value[1:]\n",
    "    else:\n",
    "        return value[3:]"
   ]
  },
  {
   "cell_type": "code",
   "execution_count": 8,
   "metadata": {
    "ExecuteTime": {
     "end_time": "2020-03-24T21:45:07.317330Z",
     "start_time": "2020-03-24T21:45:07.308065Z"
    },
    "code_folding": [
     0
    ]
   },
   "outputs": [],
   "source": [
    "def convert_money(value):\n",
    "    \"\"\"Takes currency string and parses it into correct amount in USD\n",
    "    \n",
    "    Arguments:\n",
    "        value (string): currency in form: CAD 345.3B \n",
    "\n",
    "    Returns:\n",
    "        value (int): currency converted to USD and in standard numeric form\n",
    "    \"\"\"\n",
    "    # type check:\n",
    "    if type(value) != str:\n",
    "        return\n",
    "    \n",
    "    # check currency sign and get coefficient\n",
    "    coef = get_conversion_rate(value)\n",
    "    value = strip_currency_code(value)\n",
    "    if 'K' in value:\n",
    "        value = (float(value.strip('K')) * 1000) / coef\n",
    "    elif 'MM' in value:\n",
    "        value = (float(value.strip('MM')) * 1000000) / coef\n",
    "    elif 'B' in value:\n",
    "        value = (float(value.strip('B')) * 1000000000) / coef\n",
    "    else:\n",
    "        value = float(value.strip()) / coef\n",
    "    return value"
   ]
  },
  {
   "cell_type": "code",
   "execution_count": 9,
   "metadata": {
    "ExecuteTime": {
     "end_time": "2020-03-24T21:45:09.366834Z",
     "start_time": "2020-03-24T21:45:09.225402Z"
    }
   },
   "outputs": [],
   "source": [
    "revenue_df['us_gross'] = revenue_df['us_gross'].apply(convert_money)"
   ]
  },
  {
   "cell_type": "code",
   "execution_count": 10,
   "metadata": {},
   "outputs": [
    {
     "data": {
      "text/plain": [
       "0        937000000.0\n",
       "1        858000000.0\n",
       "2        761000000.0\n",
       "3        700000000.0\n",
       "4        679000000.0\n",
       "            ...     \n",
       "14696            NaN\n",
       "14697            NaN\n",
       "14698            NaN\n",
       "14699            NaN\n",
       "14700            NaN\n",
       "Name: us_gross, Length: 14701, dtype: float64"
      ]
     },
     "execution_count": 10,
     "metadata": {},
     "output_type": "execute_result"
    }
   ],
   "source": [
    "revenue_df['us_gross']"
   ]
  },
  {
   "cell_type": "code",
   "execution_count": 11,
   "metadata": {
    "ExecuteTime": {
     "end_time": "2020-03-24T21:45:11.409761Z",
     "start_time": "2020-03-24T21:45:11.344963Z"
    }
   },
   "outputs": [],
   "source": [
    "revenue_df['budget_usd'] = revenue_df['budget_usd'].apply(convert_money)"
   ]
  },
  {
   "cell_type": "code",
   "execution_count": 12,
   "metadata": {
    "ExecuteTime": {
     "end_time": "2020-03-24T21:45:13.682594Z",
     "start_time": "2020-03-24T21:45:13.672994Z"
    }
   },
   "outputs": [
    {
     "data": {
      "text/plain": [
       "6705"
      ]
     },
     "execution_count": 12,
     "metadata": {},
     "output_type": "execute_result"
    }
   ],
   "source": [
    "revenue_df['budget_usd'].isna().sum()"
   ]
  },
  {
   "cell_type": "code",
   "execution_count": 13,
   "metadata": {
    "ExecuteTime": {
     "end_time": "2020-03-24T21:45:15.711263Z",
     "start_time": "2020-03-24T21:45:15.665132Z"
    }
   },
   "outputs": [
    {
     "data": {
      "text/html": [
       "<div>\n",
       "<style scoped>\n",
       "    .dataframe tbody tr th:only-of-type {\n",
       "        vertical-align: middle;\n",
       "    }\n",
       "\n",
       "    .dataframe tbody tr th {\n",
       "        vertical-align: top;\n",
       "    }\n",
       "\n",
       "    .dataframe thead th {\n",
       "        text-align: right;\n",
       "    }\n",
       "</style>\n",
       "<table border=\"1\" class=\"dataframe\">\n",
       "  <thead>\n",
       "    <tr style=\"text-align: right;\">\n",
       "      <th></th>\n",
       "      <th>imdb_id</th>\n",
       "      <th>title</th>\n",
       "      <th>year</th>\n",
       "      <th>director</th>\n",
       "      <th>production_co</th>\n",
       "      <th>region_code</th>\n",
       "      <th>rank</th>\n",
       "      <th>budget_usd</th>\n",
       "      <th>us_gross</th>\n",
       "    </tr>\n",
       "  </thead>\n",
       "  <tbody>\n",
       "    <tr>\n",
       "      <td>3426</td>\n",
       "      <td>tt0085334</td>\n",
       "      <td>A Christmas Story</td>\n",
       "      <td>1983</td>\n",
       "      <td>Bob Clark</td>\n",
       "      <td>Metro-Goldwyn-Mayer (MGM)</td>\n",
       "      <td>[US]</td>\n",
       "      <td>7,231</td>\n",
       "      <td>3.300000e+06</td>\n",
       "      <td>21000000.0</td>\n",
       "    </tr>\n",
       "    <tr>\n",
       "      <td>10010</td>\n",
       "      <td>tt0473753</td>\n",
       "      <td>Angel-A</td>\n",
       "      <td>2005</td>\n",
       "      <td>Luc Besson</td>\n",
       "      <td>EuropaCorp</td>\n",
       "      <td>[FR]</td>\n",
       "      <td>13,972</td>\n",
       "      <td>1.607028e+07</td>\n",
       "      <td>203000.0</td>\n",
       "    </tr>\n",
       "    <tr>\n",
       "      <td>3209</td>\n",
       "      <td>tt0088885</td>\n",
       "      <td>The Care Bears Movie</td>\n",
       "      <td>1985</td>\n",
       "      <td>Arna Selznick</td>\n",
       "      <td>Nelvana</td>\n",
       "      <td>[CA]</td>\n",
       "      <td>28,304</td>\n",
       "      <td>2.000000e+06</td>\n",
       "      <td>23000000.0</td>\n",
       "    </tr>\n",
       "    <tr>\n",
       "      <td>4290</td>\n",
       "      <td>tt0376136</td>\n",
       "      <td>The Rum Diary</td>\n",
       "      <td>2011</td>\n",
       "      <td>Bruce Robinson</td>\n",
       "      <td>GK Films</td>\n",
       "      <td>[GB]</td>\n",
       "      <td>5,713</td>\n",
       "      <td>4.500000e+07</td>\n",
       "      <td>13000000.0</td>\n",
       "    </tr>\n",
       "    <tr>\n",
       "      <td>8999</td>\n",
       "      <td>tt1214962</td>\n",
       "      <td>Seeking Justice</td>\n",
       "      <td>2011</td>\n",
       "      <td>Roger Donaldson</td>\n",
       "      <td>Endgame Entertainment</td>\n",
       "      <td>[US]</td>\n",
       "      <td>12,847</td>\n",
       "      <td>1.700000e+07</td>\n",
       "      <td>412000.0</td>\n",
       "    </tr>\n",
       "  </tbody>\n",
       "</table>\n",
       "</div>"
      ],
      "text/plain": [
       "         imdb_id                 title  year         director  \\\n",
       "3426   tt0085334     A Christmas Story  1983        Bob Clark   \n",
       "10010  tt0473753               Angel-A  2005       Luc Besson   \n",
       "3209   tt0088885  The Care Bears Movie  1985    Arna Selznick   \n",
       "4290   tt0376136         The Rum Diary  2011   Bruce Robinson   \n",
       "8999   tt1214962       Seeking Justice  2011  Roger Donaldson   \n",
       "\n",
       "                   production_co region_code    rank    budget_usd    us_gross  \n",
       "3426   Metro-Goldwyn-Mayer (MGM)        [US]   7,231  3.300000e+06  21000000.0  \n",
       "10010                 EuropaCorp        [FR]  13,972  1.607028e+07    203000.0  \n",
       "3209                     Nelvana        [CA]  28,304  2.000000e+06  23000000.0  \n",
       "4290                    GK Films        [GB]   5,713  4.500000e+07  13000000.0  \n",
       "8999       Endgame Entertainment        [US]  12,847  1.700000e+07    412000.0  "
      ]
     },
     "execution_count": 13,
     "metadata": {},
     "output_type": "execute_result"
    }
   ],
   "source": [
    "revenue_df.sample(5)"
   ]
  },
  {
   "cell_type": "markdown",
   "metadata": {},
   "source": [
    "Now for region code. We actually don't need this column so we will drop it."
   ]
  },
  {
   "cell_type": "code",
   "execution_count": 14,
   "metadata": {
    "ExecuteTime": {
     "end_time": "2020-03-24T21:45:18.088171Z",
     "start_time": "2020-03-24T21:45:18.076738Z"
    }
   },
   "outputs": [],
   "source": [
    "revenue_df.drop(columns='region_code', inplace=True)"
   ]
  },
  {
   "cell_type": "markdown",
   "metadata": {},
   "source": [
    "For the 'year' column we went ahead and dropped the missing rows, because there were only 6 of them."
   ]
  },
  {
   "cell_type": "code",
   "execution_count": 15,
   "metadata": {
    "ExecuteTime": {
     "end_time": "2020-03-24T21:45:20.349270Z",
     "start_time": "2020-03-24T21:45:20.296623Z"
    }
   },
   "outputs": [
    {
     "data": {
      "text/plain": [
       "imdb_id             1\n",
       "title               1\n",
       "year               16\n",
       "director           30\n",
       "production_co     356\n",
       "rank               13\n",
       "budget_usd       6705\n",
       "us_gross          103\n",
       "dtype: int64"
      ]
     },
     "execution_count": 15,
     "metadata": {},
     "output_type": "execute_result"
    }
   ],
   "source": [
    "revenue_df.isna().sum()"
   ]
  },
  {
   "cell_type": "markdown",
   "metadata": {},
   "source": [
    "Cleaning up Nan values:"
   ]
  },
  {
   "cell_type": "code",
   "execution_count": 16,
   "metadata": {
    "ExecuteTime": {
     "end_time": "2020-03-24T21:45:22.308891Z",
     "start_time": "2020-03-24T21:45:22.295609Z"
    }
   },
   "outputs": [],
   "source": [
    "# first, change the missing values from budget to -1, so we dont drop 1910 rows.\n",
    "revenue_df['budget_usd'] = revenue_df['budget_usd'].fillna(-1)"
   ]
  },
  {
   "cell_type": "code",
   "execution_count": 17,
   "metadata": {
    "ExecuteTime": {
     "end_time": "2020-03-24T21:45:24.376371Z",
     "start_time": "2020-03-24T21:45:24.357921Z"
    }
   },
   "outputs": [],
   "source": [
    "# also, fill in the production_co missing values with an 'Unknown'\n",
    "revenue_df['production_co'] = revenue_df['production_co'].fillna('Unknown')"
   ]
  },
  {
   "cell_type": "code",
   "execution_count": 18,
   "metadata": {
    "ExecuteTime": {
     "end_time": "2020-03-24T21:45:26.199245Z",
     "start_time": "2020-03-24T21:45:26.173605Z"
    }
   },
   "outputs": [
    {
     "name": "stdout",
     "output_type": "stream",
     "text": [
      "<class 'pandas.core.frame.DataFrame'>\n",
      "RangeIndex: 14701 entries, 0 to 14700\n",
      "Data columns (total 8 columns):\n",
      "imdb_id          14700 non-null object\n",
      "title            14700 non-null object\n",
      "year             14685 non-null object\n",
      "director         14671 non-null object\n",
      "production_co    14701 non-null object\n",
      "rank             14688 non-null object\n",
      "budget_usd       14701 non-null float64\n",
      "us_gross         14598 non-null float64\n",
      "dtypes: float64(2), object(6)\n",
      "memory usage: 918.9+ KB\n"
     ]
    }
   ],
   "source": [
    "revenue_df.info()"
   ]
  },
  {
   "cell_type": "code",
   "execution_count": 19,
   "metadata": {
    "ExecuteTime": {
     "end_time": "2020-03-24T21:45:28.132380Z",
     "start_time": "2020-03-24T21:45:28.116299Z"
    }
   },
   "outputs": [],
   "source": [
    "revenue_df = revenue_df.dropna()"
   ]
  },
  {
   "cell_type": "code",
   "execution_count": 20,
   "metadata": {
    "ExecuteTime": {
     "end_time": "2020-03-24T21:45:28.164880Z",
     "start_time": "2020-03-24T21:45:28.140429Z"
    }
   },
   "outputs": [
    {
     "data": {
      "text/html": [
       "<div>\n",
       "<style scoped>\n",
       "    .dataframe tbody tr th:only-of-type {\n",
       "        vertical-align: middle;\n",
       "    }\n",
       "\n",
       "    .dataframe tbody tr th {\n",
       "        vertical-align: top;\n",
       "    }\n",
       "\n",
       "    .dataframe thead th {\n",
       "        text-align: right;\n",
       "    }\n",
       "</style>\n",
       "<table border=\"1\" class=\"dataframe\">\n",
       "  <thead>\n",
       "    <tr style=\"text-align: right;\">\n",
       "      <th></th>\n",
       "      <th>imdb_id</th>\n",
       "      <th>title</th>\n",
       "      <th>year</th>\n",
       "      <th>director</th>\n",
       "      <th>production_co</th>\n",
       "      <th>rank</th>\n",
       "      <th>budget_usd</th>\n",
       "      <th>us_gross</th>\n",
       "    </tr>\n",
       "  </thead>\n",
       "  <tbody>\n",
       "    <tr>\n",
       "      <td>8620</td>\n",
       "      <td>tt3110960</td>\n",
       "      <td>Jimmy's Hall</td>\n",
       "      <td>2014</td>\n",
       "      <td>Ken Loach</td>\n",
       "      <td>Sixteen Films</td>\n",
       "      <td>20,527</td>\n",
       "      <td>-1.0</td>\n",
       "      <td>561000.0</td>\n",
       "    </tr>\n",
       "    <tr>\n",
       "      <td>13381</td>\n",
       "      <td>tt0148421</td>\n",
       "      <td>Looking for an Echo</td>\n",
       "      <td>2000</td>\n",
       "      <td>Martin Davidson</td>\n",
       "      <td>Echo Productions</td>\n",
       "      <td>110,129</td>\n",
       "      <td>-1.0</td>\n",
       "      <td>13000.0</td>\n",
       "    </tr>\n",
       "    <tr>\n",
       "      <td>9211</td>\n",
       "      <td>tt0118843</td>\n",
       "      <td>Black Cat, White Cat</td>\n",
       "      <td>1998</td>\n",
       "      <td>Emir Kusturica</td>\n",
       "      <td>CiBy 2000</td>\n",
       "      <td>10,546</td>\n",
       "      <td>-1.0</td>\n",
       "      <td>351000.0</td>\n",
       "    </tr>\n",
       "    <tr>\n",
       "      <td>10922</td>\n",
       "      <td>tt0446747</td>\n",
       "      <td>Mutual Appreciation</td>\n",
       "      <td>2005</td>\n",
       "      <td>Andrew Bujalski</td>\n",
       "      <td>Mutual Appreciation LLC</td>\n",
       "      <td>101,865</td>\n",
       "      <td>-1.0</td>\n",
       "      <td>104000.0</td>\n",
       "    </tr>\n",
       "    <tr>\n",
       "      <td>10988</td>\n",
       "      <td>tt0341569</td>\n",
       "      <td>Self Medicated</td>\n",
       "      <td>2005</td>\n",
       "      <td>Monty Lapica</td>\n",
       "      <td>Promise Pictures</td>\n",
       "      <td>179,570</td>\n",
       "      <td>400000.0</td>\n",
       "      <td>101000.0</td>\n",
       "    </tr>\n",
       "  </tbody>\n",
       "</table>\n",
       "</div>"
      ],
      "text/plain": [
       "         imdb_id                 title  year         director  \\\n",
       "8620   tt3110960          Jimmy's Hall  2014        Ken Loach   \n",
       "13381  tt0148421   Looking for an Echo  2000  Martin Davidson   \n",
       "9211   tt0118843  Black Cat, White Cat  1998   Emir Kusturica   \n",
       "10922  tt0446747   Mutual Appreciation  2005  Andrew Bujalski   \n",
       "10988  tt0341569        Self Medicated  2005     Monty Lapica   \n",
       "\n",
       "                 production_co     rank  budget_usd  us_gross  \n",
       "8620             Sixteen Films   20,527        -1.0  561000.0  \n",
       "13381         Echo Productions  110,129        -1.0   13000.0  \n",
       "9211                 CiBy 2000   10,546        -1.0  351000.0  \n",
       "10922  Mutual Appreciation LLC  101,865        -1.0  104000.0  \n",
       "10988         Promise Pictures  179,570    400000.0  101000.0  "
      ]
     },
     "execution_count": 20,
     "metadata": {},
     "output_type": "execute_result"
    }
   ],
   "source": [
    "revenue_df.sample(5)"
   ]
  },
  {
   "cell_type": "markdown",
   "metadata": {},
   "source": [
    "Now for dropping duplicates:"
   ]
  },
  {
   "cell_type": "code",
   "execution_count": 21,
   "metadata": {
    "ExecuteTime": {
     "end_time": "2020-03-24T21:45:31.968955Z",
     "start_time": "2020-03-24T21:45:31.890309Z"
    }
   },
   "outputs": [],
   "source": [
    "revenue_df = revenue_df.drop_duplicates()"
   ]
  },
  {
   "cell_type": "code",
   "execution_count": 22,
   "metadata": {
    "ExecuteTime": {
     "end_time": "2020-03-24T21:45:33.764269Z",
     "start_time": "2020-03-24T21:45:33.745870Z"
    }
   },
   "outputs": [
    {
     "name": "stdout",
     "output_type": "stream",
     "text": [
      "<class 'pandas.core.frame.DataFrame'>\n",
      "Int64Index: 14431 entries, 0 to 14598\n",
      "Data columns (total 8 columns):\n",
      "imdb_id          14431 non-null object\n",
      "title            14431 non-null object\n",
      "year             14431 non-null object\n",
      "director         14431 non-null object\n",
      "production_co    14431 non-null object\n",
      "rank             14431 non-null object\n",
      "budget_usd       14431 non-null float64\n",
      "us_gross         14431 non-null float64\n",
      "dtypes: float64(2), object(6)\n",
      "memory usage: 1014.7+ KB\n"
     ]
    }
   ],
   "source": [
    "revenue_df.info()"
   ]
  },
  {
   "cell_type": "code",
   "execution_count": 23,
   "metadata": {
    "ExecuteTime": {
     "end_time": "2020-03-24T21:45:35.709168Z",
     "start_time": "2020-03-24T21:45:35.656232Z"
    }
   },
   "outputs": [
    {
     "data": {
      "text/html": [
       "<div>\n",
       "<style scoped>\n",
       "    .dataframe tbody tr th:only-of-type {\n",
       "        vertical-align: middle;\n",
       "    }\n",
       "\n",
       "    .dataframe tbody tr th {\n",
       "        vertical-align: top;\n",
       "    }\n",
       "\n",
       "    .dataframe thead th {\n",
       "        text-align: right;\n",
       "    }\n",
       "</style>\n",
       "<table border=\"1\" class=\"dataframe\">\n",
       "  <thead>\n",
       "    <tr style=\"text-align: right;\">\n",
       "      <th></th>\n",
       "      <th>imdb_id</th>\n",
       "      <th>title</th>\n",
       "      <th>year</th>\n",
       "      <th>director</th>\n",
       "      <th>production_co</th>\n",
       "      <th>rank</th>\n",
       "      <th>budget_usd</th>\n",
       "      <th>us_gross</th>\n",
       "    </tr>\n",
       "  </thead>\n",
       "  <tbody>\n",
       "    <tr>\n",
       "      <td>3690</td>\n",
       "      <td>tt0462519</td>\n",
       "      <td>School for Scoundrels</td>\n",
       "      <td>2006</td>\n",
       "      <td>Todd Phillips</td>\n",
       "      <td>Dimension Films</td>\n",
       "      <td>19,341</td>\n",
       "      <td>35000000.0</td>\n",
       "      <td>18000000.0</td>\n",
       "    </tr>\n",
       "    <tr>\n",
       "      <td>11592</td>\n",
       "      <td>tt7690016</td>\n",
       "      <td>Never Goin' Back</td>\n",
       "      <td>2018</td>\n",
       "      <td>Augustine Frizzell</td>\n",
       "      <td>Sailor Bear</td>\n",
       "      <td>15,528</td>\n",
       "      <td>-1.0</td>\n",
       "      <td>61000.0</td>\n",
       "    </tr>\n",
       "    <tr>\n",
       "      <td>1458</td>\n",
       "      <td>tt0364751</td>\n",
       "      <td>Without a Paddle</td>\n",
       "      <td>2004</td>\n",
       "      <td>Steven Brill</td>\n",
       "      <td>Paramount Pictures</td>\n",
       "      <td>5,268</td>\n",
       "      <td>19000000.0</td>\n",
       "      <td>58000000.0</td>\n",
       "    </tr>\n",
       "  </tbody>\n",
       "</table>\n",
       "</div>"
      ],
      "text/plain": [
       "         imdb_id                  title  year            director  \\\n",
       "3690   tt0462519  School for Scoundrels  2006       Todd Phillips   \n",
       "11592  tt7690016       Never Goin' Back  2018  Augustine Frizzell   \n",
       "1458   tt0364751       Without a Paddle  2004        Steven Brill   \n",
       "\n",
       "            production_co    rank  budget_usd    us_gross  \n",
       "3690      Dimension Films  19,341  35000000.0  18000000.0  \n",
       "11592         Sailor Bear  15,528        -1.0     61000.0  \n",
       "1458   Paramount Pictures   5,268  19000000.0  58000000.0  "
      ]
     },
     "execution_count": 23,
     "metadata": {},
     "output_type": "execute_result"
    }
   ],
   "source": [
    "revenue_df.sample(3)"
   ]
  },
  {
   "cell_type": "code",
   "execution_count": 24,
   "metadata": {},
   "outputs": [],
   "source": [
    "def calc_revenue(df):\n",
    "    return df['us_gross'] - df['budget_usd'] "
   ]
  },
  {
   "cell_type": "code",
   "execution_count": 25,
   "metadata": {},
   "outputs": [],
   "source": [
    "revenue_df['revenue'] = revenue_df[revenue_df['budget_usd'] > 0].apply(calc_revenue, axis=1)"
   ]
  },
  {
   "cell_type": "markdown",
   "metadata": {},
   "source": [
    "Added in a revenue column after being advised about how much better it would be for a metric."
   ]
  },
  {
   "cell_type": "code",
   "execution_count": 26,
   "metadata": {
    "ExecuteTime": {
     "end_time": "2020-03-24T21:45:43.135797Z",
     "start_time": "2020-03-24T21:45:43.065635Z"
    }
   },
   "outputs": [
    {
     "data": {
      "text/html": [
       "<div>\n",
       "<style scoped>\n",
       "    .dataframe tbody tr th:only-of-type {\n",
       "        vertical-align: middle;\n",
       "    }\n",
       "\n",
       "    .dataframe tbody tr th {\n",
       "        vertical-align: top;\n",
       "    }\n",
       "\n",
       "    .dataframe thead th {\n",
       "        text-align: right;\n",
       "    }\n",
       "</style>\n",
       "<table border=\"1\" class=\"dataframe\">\n",
       "  <thead>\n",
       "    <tr style=\"text-align: right;\">\n",
       "      <th></th>\n",
       "      <th>imdb_id</th>\n",
       "      <th>title</th>\n",
       "      <th>year</th>\n",
       "      <th>director</th>\n",
       "      <th>production_co</th>\n",
       "      <th>rank</th>\n",
       "      <th>budget_usd</th>\n",
       "      <th>us_gross</th>\n",
       "      <th>revenue</th>\n",
       "    </tr>\n",
       "  </thead>\n",
       "  <tbody>\n",
       "    <tr>\n",
       "      <td>1107</td>\n",
       "      <td>tt0401729</td>\n",
       "      <td>John Carter</td>\n",
       "      <td>2012</td>\n",
       "      <td>Andrew Stanton</td>\n",
       "      <td>Walt Disney Pictures</td>\n",
       "      <td>1,817</td>\n",
       "      <td>250000000.0</td>\n",
       "      <td>73000000.0</td>\n",
       "      <td>-177000000.0</td>\n",
       "    </tr>\n",
       "    <tr>\n",
       "      <td>1271</td>\n",
       "      <td>tt1440129</td>\n",
       "      <td>Battleship</td>\n",
       "      <td>2012</td>\n",
       "      <td>Peter Berg</td>\n",
       "      <td>Universal Pictures</td>\n",
       "      <td>3,013</td>\n",
       "      <td>209000000.0</td>\n",
       "      <td>65000000.0</td>\n",
       "      <td>-144000000.0</td>\n",
       "    </tr>\n",
       "  </tbody>\n",
       "</table>\n",
       "</div>"
      ],
      "text/plain": [
       "        imdb_id        title  year        director         production_co  \\\n",
       "1107  tt0401729  John Carter  2012  Andrew Stanton  Walt Disney Pictures   \n",
       "1271  tt1440129   Battleship  2012      Peter Berg    Universal Pictures   \n",
       "\n",
       "       rank   budget_usd    us_gross      revenue  \n",
       "1107  1,817  250000000.0  73000000.0 -177000000.0  \n",
       "1271  3,013  209000000.0  65000000.0 -144000000.0  "
      ]
     },
     "execution_count": 26,
     "metadata": {},
     "output_type": "execute_result"
    }
   ],
   "source": [
    "revenue_df[revenue_df['budget_usd'] > 0].sort_values('revenue').head(2)"
   ]
  },
  {
   "cell_type": "markdown",
   "metadata": {},
   "source": [
    "Change rank type from string to int"
   ]
  },
  {
   "cell_type": "code",
   "execution_count": 27,
   "metadata": {},
   "outputs": [],
   "source": [
    "def fix_rank(value):\n",
    "    value = value.replace(',', '')\n",
    "    return int(value)"
   ]
  },
  {
   "cell_type": "code",
   "execution_count": 28,
   "metadata": {},
   "outputs": [],
   "source": [
    "revenue_df['rank'] = revenue_df['rank'].apply(fix_rank)\n",
    "revenue_df['popular'] = revenue_df['rank'].apply(lambda x: x < revenue_df['rank'].quantile(.1))"
   ]
  },
  {
   "cell_type": "code",
   "execution_count": 29,
   "metadata": {},
   "outputs": [
    {
     "data": {
      "text/html": [
       "<div>\n",
       "<style scoped>\n",
       "    .dataframe tbody tr th:only-of-type {\n",
       "        vertical-align: middle;\n",
       "    }\n",
       "\n",
       "    .dataframe tbody tr th {\n",
       "        vertical-align: top;\n",
       "    }\n",
       "\n",
       "    .dataframe thead th {\n",
       "        text-align: right;\n",
       "    }\n",
       "</style>\n",
       "<table border=\"1\" class=\"dataframe\">\n",
       "  <thead>\n",
       "    <tr style=\"text-align: right;\">\n",
       "      <th></th>\n",
       "      <th>imdb_id</th>\n",
       "      <th>title</th>\n",
       "      <th>year</th>\n",
       "      <th>director</th>\n",
       "      <th>production_co</th>\n",
       "      <th>rank</th>\n",
       "      <th>budget_usd</th>\n",
       "      <th>us_gross</th>\n",
       "      <th>revenue</th>\n",
       "      <th>popular</th>\n",
       "    </tr>\n",
       "  </thead>\n",
       "  <tbody>\n",
       "    <tr>\n",
       "      <td>10281</td>\n",
       "      <td>tt4383288</td>\n",
       "      <td>Polina, danser sa vie</td>\n",
       "      <td>2016</td>\n",
       "      <td>Valérie Müller</td>\n",
       "      <td>Everybody on the Deck</td>\n",
       "      <td>41395</td>\n",
       "      <td>-1.0</td>\n",
       "      <td>165000.0</td>\n",
       "      <td>NaN</td>\n",
       "      <td>False</td>\n",
       "    </tr>\n",
       "    <tr>\n",
       "      <td>1808</td>\n",
       "      <td>tt0100050</td>\n",
       "      <td>Look Who's Talking Too</td>\n",
       "      <td>1990</td>\n",
       "      <td>Amy Heckerling</td>\n",
       "      <td>TriStar Pictures</td>\n",
       "      <td>12804</td>\n",
       "      <td>-1.0</td>\n",
       "      <td>48000000.0</td>\n",
       "      <td>NaN</td>\n",
       "      <td>False</td>\n",
       "    </tr>\n",
       "    <tr>\n",
       "      <td>3837</td>\n",
       "      <td>tt0488658</td>\n",
       "      <td>Unaccompanied Minors</td>\n",
       "      <td>2006</td>\n",
       "      <td>Paul Feig</td>\n",
       "      <td>Warner Bros.</td>\n",
       "      <td>19415</td>\n",
       "      <td>25000000.0</td>\n",
       "      <td>17000000.0</td>\n",
       "      <td>-8000000.0</td>\n",
       "      <td>False</td>\n",
       "    </tr>\n",
       "  </tbody>\n",
       "</table>\n",
       "</div>"
      ],
      "text/plain": [
       "         imdb_id                   title  year        director  \\\n",
       "10281  tt4383288   Polina, danser sa vie  2016  Valérie Müller   \n",
       "1808   tt0100050  Look Who's Talking Too  1990  Amy Heckerling   \n",
       "3837   tt0488658    Unaccompanied Minors  2006       Paul Feig   \n",
       "\n",
       "               production_co   rank  budget_usd    us_gross    revenue  \\\n",
       "10281  Everybody on the Deck  41395        -1.0    165000.0        NaN   \n",
       "1808        TriStar Pictures  12804        -1.0  48000000.0        NaN   \n",
       "3837            Warner Bros.  19415  25000000.0  17000000.0 -8000000.0   \n",
       "\n",
       "       popular  \n",
       "10281    False  \n",
       "1808     False  \n",
       "3837     False  "
      ]
     },
     "execution_count": 29,
     "metadata": {},
     "output_type": "execute_result"
    }
   ],
   "source": [
    "revenue_df.sample(3)"
   ]
  },
  {
   "cell_type": "markdown",
   "metadata": {},
   "source": [
    "### Save as CSV"
   ]
  },
  {
   "cell_type": "code",
   "execution_count": 30,
   "metadata": {
    "ExecuteTime": {
     "end_time": "2020-03-24T21:45:38.522024Z",
     "start_time": "2020-03-24T21:45:38.342582Z"
    }
   },
   "outputs": [],
   "source": [
    "revenue_save_path = os.path.join(os.pardir, 'data', 'processed', 'revenue.csv')\n",
    "revenue_df.to_csv(revenue_save_path, index=False)"
   ]
  },
  {
   "cell_type": "code",
   "execution_count": 31,
   "metadata": {
    "ExecuteTime": {
     "end_time": "2020-03-24T21:45:40.984328Z",
     "start_time": "2020-03-24T21:45:40.810483Z"
    }
   },
   "outputs": [
    {
     "data": {
      "text/html": [
       "<div>\n",
       "<style scoped>\n",
       "    .dataframe tbody tr th:only-of-type {\n",
       "        vertical-align: middle;\n",
       "    }\n",
       "\n",
       "    .dataframe tbody tr th {\n",
       "        vertical-align: top;\n",
       "    }\n",
       "\n",
       "    .dataframe thead th {\n",
       "        text-align: right;\n",
       "    }\n",
       "</style>\n",
       "<table border=\"1\" class=\"dataframe\">\n",
       "  <thead>\n",
       "    <tr style=\"text-align: right;\">\n",
       "      <th></th>\n",
       "      <th>imdb_id</th>\n",
       "      <th>title</th>\n",
       "      <th>year</th>\n",
       "      <th>director</th>\n",
       "      <th>production_co</th>\n",
       "      <th>rank</th>\n",
       "      <th>budget_usd</th>\n",
       "      <th>us_gross</th>\n",
       "      <th>revenue</th>\n",
       "      <th>popular</th>\n",
       "    </tr>\n",
       "  </thead>\n",
       "  <tbody>\n",
       "    <tr>\n",
       "      <td>1164</td>\n",
       "      <td>tt0162650</td>\n",
       "      <td>Shaft</td>\n",
       "      <td>2000</td>\n",
       "      <td>John Singleton</td>\n",
       "      <td>Paramount Pictures</td>\n",
       "      <td>3704</td>\n",
       "      <td>46000000.0</td>\n",
       "      <td>70000000.0</td>\n",
       "      <td>24000000.0</td>\n",
       "      <td>False</td>\n",
       "    </tr>\n",
       "    <tr>\n",
       "      <td>6145</td>\n",
       "      <td>tt0102913</td>\n",
       "      <td>Shout</td>\n",
       "      <td>1991</td>\n",
       "      <td>Jeffrey Hornaday</td>\n",
       "      <td>Robert Simonds Productions</td>\n",
       "      <td>27536</td>\n",
       "      <td>-1.0</td>\n",
       "      <td>3500000.0</td>\n",
       "      <td>NaN</td>\n",
       "      <td>False</td>\n",
       "    </tr>\n",
       "    <tr>\n",
       "      <td>1674</td>\n",
       "      <td>tt1179891</td>\n",
       "      <td>My Bloody Valentine</td>\n",
       "      <td>2009</td>\n",
       "      <td>Patrick Lussier</td>\n",
       "      <td>Lionsgate</td>\n",
       "      <td>5156</td>\n",
       "      <td>15000000.0</td>\n",
       "      <td>52000000.0</td>\n",
       "      <td>37000000.0</td>\n",
       "      <td>False</td>\n",
       "    </tr>\n",
       "  </tbody>\n",
       "</table>\n",
       "</div>"
      ],
      "text/plain": [
       "        imdb_id                title  year          director  \\\n",
       "1164  tt0162650                Shaft  2000    John Singleton   \n",
       "6145  tt0102913                Shout  1991  Jeffrey Hornaday   \n",
       "1674  tt1179891  My Bloody Valentine  2009   Patrick Lussier   \n",
       "\n",
       "                   production_co   rank  budget_usd    us_gross     revenue  \\\n",
       "1164          Paramount Pictures   3704  46000000.0  70000000.0  24000000.0   \n",
       "6145  Robert Simonds Productions  27536        -1.0   3500000.0         NaN   \n",
       "1674                   Lionsgate   5156  15000000.0  52000000.0  37000000.0   \n",
       "\n",
       "      popular  \n",
       "1164    False  \n",
       "6145    False  \n",
       "1674    False  "
      ]
     },
     "execution_count": 31,
     "metadata": {},
     "output_type": "execute_result"
    }
   ],
   "source": [
    "test_revenue_save = pd.read_csv(revenue_save_path)\n",
    "test_revenue_save.sample(3)"
   ]
  },
  {
   "cell_type": "markdown",
   "metadata": {},
   "source": [
    "## 2. Genre:\n",
    "For genre we will need a dataset that lists each movie and it's genre. To analyze the success of the genre, we will need to examine the relationship of genre to the revenue earned."
   ]
  },
  {
   "cell_type": "markdown",
   "metadata": {},
   "source": [
    "Bringing in the list of movie titles:"
   ]
  },
  {
   "cell_type": "code",
   "execution_count": 32,
   "metadata": {
    "ExecuteTime": {
     "end_time": "2020-03-24T18:25:59.887423Z",
     "start_time": "2020-03-24T18:25:59.882320Z"
    }
   },
   "outputs": [],
   "source": [
    "titles_path = os.path.join(os.pardir, 'data', 'raw', 'movies.csv')"
   ]
  },
  {
   "cell_type": "code",
   "execution_count": 33,
   "metadata": {
    "ExecuteTime": {
     "end_time": "2020-03-24T18:26:01.982323Z",
     "start_time": "2020-03-24T18:26:00.666811Z"
    }
   },
   "outputs": [
    {
     "data": {
      "text/html": [
       "<div>\n",
       "<style scoped>\n",
       "    .dataframe tbody tr th:only-of-type {\n",
       "        vertical-align: middle;\n",
       "    }\n",
       "\n",
       "    .dataframe tbody tr th {\n",
       "        vertical-align: top;\n",
       "    }\n",
       "\n",
       "    .dataframe thead th {\n",
       "        text-align: right;\n",
       "    }\n",
       "</style>\n",
       "<table border=\"1\" class=\"dataframe\">\n",
       "  <thead>\n",
       "    <tr style=\"text-align: right;\">\n",
       "      <th></th>\n",
       "      <th>tconst</th>\n",
       "      <th>primaryTitle</th>\n",
       "      <th>startYear</th>\n",
       "      <th>genres</th>\n",
       "    </tr>\n",
       "  </thead>\n",
       "  <tbody>\n",
       "    <tr>\n",
       "      <td>0</td>\n",
       "      <td>tt0000009</td>\n",
       "      <td>Miss Jerry</td>\n",
       "      <td>1894</td>\n",
       "      <td>Romance</td>\n",
       "    </tr>\n",
       "    <tr>\n",
       "      <td>1</td>\n",
       "      <td>tt0000147</td>\n",
       "      <td>The Corbett-Fitzsimmons Fight</td>\n",
       "      <td>1897</td>\n",
       "      <td>Documentary,News,Sport</td>\n",
       "    </tr>\n",
       "    <tr>\n",
       "      <td>2</td>\n",
       "      <td>tt0000335</td>\n",
       "      <td>Soldiers of the Cross</td>\n",
       "      <td>1900</td>\n",
       "      <td>Biography,Drama</td>\n",
       "    </tr>\n",
       "    <tr>\n",
       "      <td>3</td>\n",
       "      <td>tt0000502</td>\n",
       "      <td>Bohemios</td>\n",
       "      <td>1905</td>\n",
       "      <td>\\N</td>\n",
       "    </tr>\n",
       "    <tr>\n",
       "      <td>4</td>\n",
       "      <td>tt0000574</td>\n",
       "      <td>The Story of the Kelly Gang</td>\n",
       "      <td>1906</td>\n",
       "      <td>Biography,Crime,Drama</td>\n",
       "    </tr>\n",
       "  </tbody>\n",
       "</table>\n",
       "</div>"
      ],
      "text/plain": [
       "      tconst                   primaryTitle startYear                  genres\n",
       "0  tt0000009                     Miss Jerry      1894                 Romance\n",
       "1  tt0000147  The Corbett-Fitzsimmons Fight      1897  Documentary,News,Sport\n",
       "2  tt0000335          Soldiers of the Cross      1900         Biography,Drama\n",
       "3  tt0000502                       Bohemios      1905                      \\N\n",
       "4  tt0000574    The Story of the Kelly Gang      1906   Biography,Crime,Drama"
      ]
     },
     "execution_count": 33,
     "metadata": {},
     "output_type": "execute_result"
    }
   ],
   "source": [
    "genres_df = pd.read_csv(titles_path)\n",
    "genres_df.head()"
   ]
  },
  {
   "cell_type": "code",
   "execution_count": 34,
   "metadata": {
    "ExecuteTime": {
     "end_time": "2020-03-24T18:26:02.823116Z",
     "start_time": "2020-03-24T18:26:02.673872Z"
    }
   },
   "outputs": [
    {
     "name": "stdout",
     "output_type": "stream",
     "text": [
      "<class 'pandas.core.frame.DataFrame'>\n",
      "RangeIndex: 545821 entries, 0 to 545820\n",
      "Data columns (total 4 columns):\n",
      "tconst          545821 non-null object\n",
      "primaryTitle    545821 non-null object\n",
      "startYear       545821 non-null object\n",
      "genres          545821 non-null object\n",
      "dtypes: object(4)\n",
      "memory usage: 16.7+ MB\n"
     ]
    }
   ],
   "source": [
    "genres_df.info()"
   ]
  },
  {
   "cell_type": "markdown",
   "metadata": {},
   "source": [
    "### Changes:\n",
    "Looking at the initial dataframe, these are the things I would like to change:\n",
    "1. Change column names\n",
    "2. Drop original_title and runtime_minutes columns"
   ]
  },
  {
   "cell_type": "code",
   "execution_count": 35,
   "metadata": {
    "ExecuteTime": {
     "end_time": "2020-03-24T18:26:03.572419Z",
     "start_time": "2020-03-24T18:26:03.337869Z"
    }
   },
   "outputs": [],
   "source": [
    "genres_df = genres_df.rename(columns={'tconst': 'imdb_id', 'primaryTitle': 'title', 'startYear': 'year'})"
   ]
  },
  {
   "cell_type": "code",
   "execution_count": 36,
   "metadata": {
    "ExecuteTime": {
     "end_time": "2020-03-24T18:26:03.659686Z",
     "start_time": "2020-03-24T18:26:03.575826Z"
    }
   },
   "outputs": [
    {
     "data": {
      "text/html": [
       "<div>\n",
       "<style scoped>\n",
       "    .dataframe tbody tr th:only-of-type {\n",
       "        vertical-align: middle;\n",
       "    }\n",
       "\n",
       "    .dataframe tbody tr th {\n",
       "        vertical-align: top;\n",
       "    }\n",
       "\n",
       "    .dataframe thead th {\n",
       "        text-align: right;\n",
       "    }\n",
       "</style>\n",
       "<table border=\"1\" class=\"dataframe\">\n",
       "  <thead>\n",
       "    <tr style=\"text-align: right;\">\n",
       "      <th></th>\n",
       "      <th>imdb_id</th>\n",
       "      <th>title</th>\n",
       "      <th>year</th>\n",
       "      <th>genres</th>\n",
       "    </tr>\n",
       "  </thead>\n",
       "  <tbody>\n",
       "    <tr>\n",
       "      <td>211020</td>\n",
       "      <td>tt0469695</td>\n",
       "      <td>You Bet Your Life</td>\n",
       "      <td>2005</td>\n",
       "      <td>Drama,Thriller</td>\n",
       "    </tr>\n",
       "    <tr>\n",
       "      <td>320428</td>\n",
       "      <td>tt1871282</td>\n",
       "      <td>Gotta Have Faith</td>\n",
       "      <td>\\N</td>\n",
       "      <td>Comedy</td>\n",
       "    </tr>\n",
       "    <tr>\n",
       "      <td>536397</td>\n",
       "      <td>tt9381904</td>\n",
       "      <td>Tough Guy</td>\n",
       "      <td>\\N</td>\n",
       "      <td>Drama</td>\n",
       "    </tr>\n",
       "  </tbody>\n",
       "</table>\n",
       "</div>"
      ],
      "text/plain": [
       "          imdb_id              title  year          genres\n",
       "211020  tt0469695  You Bet Your Life  2005  Drama,Thriller\n",
       "320428  tt1871282   Gotta Have Faith    \\N          Comedy\n",
       "536397  tt9381904          Tough Guy    \\N           Drama"
      ]
     },
     "execution_count": 36,
     "metadata": {},
     "output_type": "execute_result"
    }
   ],
   "source": [
    "genres_df.sample(3)"
   ]
  },
  {
   "cell_type": "markdown",
   "metadata": {},
   "source": [
    "That looks good. Let me deal with Nan's:"
   ]
  },
  {
   "cell_type": "code",
   "execution_count": 37,
   "metadata": {
    "ExecuteTime": {
     "end_time": "2020-03-24T18:26:03.922683Z",
     "start_time": "2020-03-24T18:26:03.668950Z"
    }
   },
   "outputs": [
    {
     "data": {
      "text/plain": [
       "imdb_id    0\n",
       "title      0\n",
       "year       0\n",
       "genres     0\n",
       "dtype: int64"
      ]
     },
     "execution_count": 37,
     "metadata": {},
     "output_type": "execute_result"
    }
   ],
   "source": [
    "genres_df.isna().sum()"
   ]
  },
  {
   "cell_type": "markdown",
   "metadata": {},
   "source": [
    "### Save as CSV"
   ]
  },
  {
   "cell_type": "code",
   "execution_count": 38,
   "metadata": {
    "ExecuteTime": {
     "end_time": "2020-03-24T18:26:07.383436Z",
     "start_time": "2020-03-24T18:26:05.321253Z"
    }
   },
   "outputs": [],
   "source": [
    "genres_save_path = os.path.join(os.pardir, 'data', 'processed', 'genres.csv')\n",
    "genres_df.to_csv(genres_save_path, index=False)"
   ]
  },
  {
   "cell_type": "code",
   "execution_count": 39,
   "metadata": {
    "ExecuteTime": {
     "end_time": "2020-03-24T18:26:09.281234Z",
     "start_time": "2020-03-24T18:26:08.016328Z"
    }
   },
   "outputs": [
    {
     "data": {
      "text/html": [
       "<div>\n",
       "<style scoped>\n",
       "    .dataframe tbody tr th:only-of-type {\n",
       "        vertical-align: middle;\n",
       "    }\n",
       "\n",
       "    .dataframe tbody tr th {\n",
       "        vertical-align: top;\n",
       "    }\n",
       "\n",
       "    .dataframe thead th {\n",
       "        text-align: right;\n",
       "    }\n",
       "</style>\n",
       "<table border=\"1\" class=\"dataframe\">\n",
       "  <thead>\n",
       "    <tr style=\"text-align: right;\">\n",
       "      <th></th>\n",
       "      <th>imdb_id</th>\n",
       "      <th>title</th>\n",
       "      <th>year</th>\n",
       "      <th>genres</th>\n",
       "    </tr>\n",
       "  </thead>\n",
       "  <tbody>\n",
       "    <tr>\n",
       "      <td>434896</td>\n",
       "      <td>tt5139324</td>\n",
       "      <td>Peter Pacifica</td>\n",
       "      <td>2015</td>\n",
       "      <td>Documentary,Sport</td>\n",
       "    </tr>\n",
       "    <tr>\n",
       "      <td>521160</td>\n",
       "      <td>tt8637464</td>\n",
       "      <td>The Rise of Modern Cooking</td>\n",
       "      <td>\\N</td>\n",
       "      <td>Documentary</td>\n",
       "    </tr>\n",
       "    <tr>\n",
       "      <td>116087</td>\n",
       "      <td>tt0189817</td>\n",
       "      <td>Nos va la marcha</td>\n",
       "      <td>1979</td>\n",
       "      <td>Documentary,Musical</td>\n",
       "    </tr>\n",
       "  </tbody>\n",
       "</table>\n",
       "</div>"
      ],
      "text/plain": [
       "          imdb_id                       title  year               genres\n",
       "434896  tt5139324              Peter Pacifica  2015    Documentary,Sport\n",
       "521160  tt8637464  The Rise of Modern Cooking    \\N          Documentary\n",
       "116087  tt0189817            Nos va la marcha  1979  Documentary,Musical"
      ]
     },
     "execution_count": 39,
     "metadata": {},
     "output_type": "execute_result"
    }
   ],
   "source": [
    "test_genres_save = pd.read_csv(genres_save_path)\n",
    "test_genres_save.sample(3)"
   ]
  },
  {
   "cell_type": "markdown",
   "metadata": {},
   "source": [
    "## 3. Actors\n",
    "These columns will be key in identifying the people who have the ability to produce high quality work on a consistent basis."
   ]
  },
  {
   "cell_type": "code",
   "execution_count": 40,
   "metadata": {
    "ExecuteTime": {
     "end_time": "2020-03-24T18:26:13.036061Z",
     "start_time": "2020-03-24T18:26:10.569032Z"
    }
   },
   "outputs": [],
   "source": [
    "people_path = os.path.join(os.pardir, 'data', 'raw', 'imdb.name.basics.csv')\n",
    "people_df = pd.read_csv(people_path)"
   ]
  },
  {
   "cell_type": "code",
   "execution_count": 41,
   "metadata": {
    "ExecuteTime": {
     "end_time": "2020-03-24T18:26:43.414513Z",
     "start_time": "2020-03-24T18:26:43.365611Z"
    }
   },
   "outputs": [
    {
     "data": {
      "text/html": [
       "<div>\n",
       "<style scoped>\n",
       "    .dataframe tbody tr th:only-of-type {\n",
       "        vertical-align: middle;\n",
       "    }\n",
       "\n",
       "    .dataframe tbody tr th {\n",
       "        vertical-align: top;\n",
       "    }\n",
       "\n",
       "    .dataframe thead th {\n",
       "        text-align: right;\n",
       "    }\n",
       "</style>\n",
       "<table border=\"1\" class=\"dataframe\">\n",
       "  <thead>\n",
       "    <tr style=\"text-align: right;\">\n",
       "      <th></th>\n",
       "      <th>nconst</th>\n",
       "      <th>primary_name</th>\n",
       "      <th>birth_year</th>\n",
       "      <th>death_year</th>\n",
       "      <th>primary_profession</th>\n",
       "      <th>known_for_titles</th>\n",
       "    </tr>\n",
       "  </thead>\n",
       "  <tbody>\n",
       "    <tr>\n",
       "      <td>90001</td>\n",
       "      <td>nm1519079</td>\n",
       "      <td>Guy Davidi</td>\n",
       "      <td>1978.0</td>\n",
       "      <td>NaN</td>\n",
       "      <td>director,cinematographer,editor</td>\n",
       "      <td>tt2127300,tt1811387,tt5131742,tt2125423</td>\n",
       "    </tr>\n",
       "    <tr>\n",
       "      <td>89722</td>\n",
       "      <td>nm1303407</td>\n",
       "      <td>Deniz Özerman</td>\n",
       "      <td>1969.0</td>\n",
       "      <td>NaN</td>\n",
       "      <td>actress</td>\n",
       "      <td>tt0470883,tt5104676,tt4321754,tt1815871</td>\n",
       "    </tr>\n",
       "    <tr>\n",
       "      <td>517456</td>\n",
       "      <td>nm6510424</td>\n",
       "      <td>Gregory Melville</td>\n",
       "      <td>NaN</td>\n",
       "      <td>NaN</td>\n",
       "      <td>producer</td>\n",
       "      <td>tt2505700</td>\n",
       "    </tr>\n",
       "  </tbody>\n",
       "</table>\n",
       "</div>"
      ],
      "text/plain": [
       "           nconst      primary_name  birth_year  death_year  \\\n",
       "90001   nm1519079        Guy Davidi      1978.0         NaN   \n",
       "89722   nm1303407     Deniz Özerman      1969.0         NaN   \n",
       "517456  nm6510424  Gregory Melville         NaN         NaN   \n",
       "\n",
       "                     primary_profession  \\\n",
       "90001   director,cinematographer,editor   \n",
       "89722                           actress   \n",
       "517456                         producer   \n",
       "\n",
       "                               known_for_titles  \n",
       "90001   tt2127300,tt1811387,tt5131742,tt2125423  \n",
       "89722   tt0470883,tt5104676,tt4321754,tt1815871  \n",
       "517456                                tt2505700  "
      ]
     },
     "execution_count": 41,
     "metadata": {},
     "output_type": "execute_result"
    }
   ],
   "source": [
    "people_df.sample(3)"
   ]
  },
  {
   "cell_type": "markdown",
   "metadata": {},
   "source": [
    "### Changes:\n",
    "Some cleanup tasks:\n",
    "1. Change name of primary_name column to 'name'\n",
    "2. Select all the actors and actress\n",
    "3. Drop birth_year, death_year, known_for_titles"
   ]
  },
  {
   "cell_type": "code",
   "execution_count": 42,
   "metadata": {
    "ExecuteTime": {
     "end_time": "2020-03-24T18:26:48.582604Z",
     "start_time": "2020-03-24T18:26:48.538621Z"
    }
   },
   "outputs": [
    {
     "data": {
      "text/html": [
       "<div>\n",
       "<style scoped>\n",
       "    .dataframe tbody tr th:only-of-type {\n",
       "        vertical-align: middle;\n",
       "    }\n",
       "\n",
       "    .dataframe tbody tr th {\n",
       "        vertical-align: top;\n",
       "    }\n",
       "\n",
       "    .dataframe thead th {\n",
       "        text-align: right;\n",
       "    }\n",
       "</style>\n",
       "<table border=\"1\" class=\"dataframe\">\n",
       "  <thead>\n",
       "    <tr style=\"text-align: right;\">\n",
       "      <th></th>\n",
       "      <th>nconst</th>\n",
       "      <th>primary_name</th>\n",
       "      <th>birth_year</th>\n",
       "      <th>death_year</th>\n",
       "      <th>primary_profession</th>\n",
       "      <th>known_for_titles</th>\n",
       "    </tr>\n",
       "  </thead>\n",
       "  <tbody>\n",
       "    <tr>\n",
       "      <td>432766</td>\n",
       "      <td>nm5163762</td>\n",
       "      <td>Ramiro Ariza Castillo</td>\n",
       "      <td>NaN</td>\n",
       "      <td>NaN</td>\n",
       "      <td>cinematographer,editor</td>\n",
       "      <td>tt2273418</td>\n",
       "    </tr>\n",
       "    <tr>\n",
       "      <td>502223</td>\n",
       "      <td>nm7649017</td>\n",
       "      <td>Ronnie Shafer</td>\n",
       "      <td>NaN</td>\n",
       "      <td>NaN</td>\n",
       "      <td>actor,producer</td>\n",
       "      <td>tt4795624</td>\n",
       "    </tr>\n",
       "    <tr>\n",
       "      <td>328285</td>\n",
       "      <td>nm4425411</td>\n",
       "      <td>Skyler Vallo</td>\n",
       "      <td>NaN</td>\n",
       "      <td>NaN</td>\n",
       "      <td>actress,soundtrack</td>\n",
       "      <td>tt4163224,tt0844441,tt1758795,tt0460627</td>\n",
       "    </tr>\n",
       "  </tbody>\n",
       "</table>\n",
       "</div>"
      ],
      "text/plain": [
       "           nconst           primary_name  birth_year  death_year  \\\n",
       "432766  nm5163762  Ramiro Ariza Castillo         NaN         NaN   \n",
       "502223  nm7649017          Ronnie Shafer         NaN         NaN   \n",
       "328285  nm4425411           Skyler Vallo         NaN         NaN   \n",
       "\n",
       "            primary_profession                         known_for_titles  \n",
       "432766  cinematographer,editor                                tt2273418  \n",
       "502223          actor,producer                                tt4795624  \n",
       "328285      actress,soundtrack  tt4163224,tt0844441,tt1758795,tt0460627  "
      ]
     },
     "execution_count": 42,
     "metadata": {},
     "output_type": "execute_result"
    }
   ],
   "source": [
    "people_df.sample(3)"
   ]
  },
  {
   "cell_type": "code",
   "execution_count": 43,
   "metadata": {
    "ExecuteTime": {
     "end_time": "2020-03-24T18:26:51.615699Z",
     "start_time": "2020-03-24T18:26:51.270502Z"
    }
   },
   "outputs": [],
   "source": [
    "people_df = people_df.rename(columns={'primary_name': 'name'})"
   ]
  },
  {
   "cell_type": "code",
   "execution_count": 44,
   "metadata": {
    "ExecuteTime": {
     "end_time": "2020-03-24T18:26:52.448360Z",
     "start_time": "2020-03-24T18:26:52.437874Z"
    }
   },
   "outputs": [],
   "source": [
    "def can_act(professions):\n",
    "    if type(professions) != str:\n",
    "        return False\n",
    "    if 'actor' in professions or 'actress' in professions:\n",
    "        return True\n",
    "    else:\n",
    "        return False"
   ]
  },
  {
   "cell_type": "code",
   "execution_count": 45,
   "metadata": {
    "ExecuteTime": {
     "end_time": "2020-03-24T18:26:53.694140Z",
     "start_time": "2020-03-24T18:26:53.378019Z"
    }
   },
   "outputs": [],
   "source": [
    "people_df['can_act'] = people_df['primary_profession'].apply(can_act)"
   ]
  },
  {
   "cell_type": "code",
   "execution_count": 46,
   "metadata": {
    "ExecuteTime": {
     "end_time": "2020-03-24T21:22:27.132779Z",
     "start_time": "2020-03-24T21:20:51.565Z"
    }
   },
   "outputs": [
    {
     "data": {
      "text/html": [
       "<div>\n",
       "<style scoped>\n",
       "    .dataframe tbody tr th:only-of-type {\n",
       "        vertical-align: middle;\n",
       "    }\n",
       "\n",
       "    .dataframe tbody tr th {\n",
       "        vertical-align: top;\n",
       "    }\n",
       "\n",
       "    .dataframe thead th {\n",
       "        text-align: right;\n",
       "    }\n",
       "</style>\n",
       "<table border=\"1\" class=\"dataframe\">\n",
       "  <thead>\n",
       "    <tr style=\"text-align: right;\">\n",
       "      <th></th>\n",
       "      <th>nconst</th>\n",
       "      <th>name</th>\n",
       "      <th>birth_year</th>\n",
       "      <th>death_year</th>\n",
       "      <th>primary_profession</th>\n",
       "      <th>known_for_titles</th>\n",
       "      <th>can_act</th>\n",
       "    </tr>\n",
       "  </thead>\n",
       "  <tbody>\n",
       "    <tr>\n",
       "      <td>497105</td>\n",
       "      <td>nm8566085</td>\n",
       "      <td>Federico López-Schaper</td>\n",
       "      <td>NaN</td>\n",
       "      <td>NaN</td>\n",
       "      <td>composer,actor,music_department</td>\n",
       "      <td>tt5609672,tt4947588,tt5609554,tt6487296</td>\n",
       "      <td>True</td>\n",
       "    </tr>\n",
       "    <tr>\n",
       "      <td>260751</td>\n",
       "      <td>nm4093330</td>\n",
       "      <td>James Cathcart</td>\n",
       "      <td>NaN</td>\n",
       "      <td>NaN</td>\n",
       "      <td>director,actor,writer</td>\n",
       "      <td>tt1730311,tt2357469,tt2006791</td>\n",
       "      <td>True</td>\n",
       "    </tr>\n",
       "    <tr>\n",
       "      <td>386460</td>\n",
       "      <td>nm7707127</td>\n",
       "      <td>Maria Muro</td>\n",
       "      <td>NaN</td>\n",
       "      <td>NaN</td>\n",
       "      <td>actor</td>\n",
       "      <td>tt5175426</td>\n",
       "      <td>True</td>\n",
       "    </tr>\n",
       "  </tbody>\n",
       "</table>\n",
       "</div>"
      ],
      "text/plain": [
       "           nconst                    name  birth_year  death_year  \\\n",
       "497105  nm8566085  Federico López-Schaper         NaN         NaN   \n",
       "260751  nm4093330          James Cathcart         NaN         NaN   \n",
       "386460  nm7707127              Maria Muro         NaN         NaN   \n",
       "\n",
       "                     primary_profession  \\\n",
       "497105  composer,actor,music_department   \n",
       "260751            director,actor,writer   \n",
       "386460                            actor   \n",
       "\n",
       "                               known_for_titles  can_act  \n",
       "497105  tt5609672,tt4947588,tt5609554,tt6487296     True  \n",
       "260751            tt1730311,tt2357469,tt2006791     True  \n",
       "386460                                tt5175426     True  "
      ]
     },
     "execution_count": 46,
     "metadata": {},
     "output_type": "execute_result"
    }
   ],
   "source": [
    "people_df.sample(3)"
   ]
  },
  {
   "cell_type": "markdown",
   "metadata": {},
   "source": [
    "Okay, we will grab all the actors and directors and make individual dataframes for them:"
   ]
  },
  {
   "cell_type": "code",
   "execution_count": 47,
   "metadata": {
    "ExecuteTime": {
     "end_time": "2020-03-24T18:26:56.238194Z",
     "start_time": "2020-03-24T18:26:56.184624Z"
    }
   },
   "outputs": [],
   "source": [
    "actors_df = people_df[people_df['can_act'] == True]"
   ]
  },
  {
   "cell_type": "markdown",
   "metadata": {},
   "source": [
    "And now we can drop the unwanted columns:"
   ]
  },
  {
   "cell_type": "code",
   "execution_count": 48,
   "metadata": {
    "ExecuteTime": {
     "end_time": "2020-03-24T18:26:57.873722Z",
     "start_time": "2020-03-24T18:26:57.828530Z"
    }
   },
   "outputs": [],
   "source": [
    "drop_columns = ['primary_profession', 'can_act', 'birth_year', 'death_year', 'known_for_titles']\n",
    "actors_df = actors_df.drop(columns=drop_columns)"
   ]
  },
  {
   "cell_type": "code",
   "execution_count": 49,
   "metadata": {
    "ExecuteTime": {
     "end_time": "2020-03-24T18:26:58.792722Z",
     "start_time": "2020-03-24T18:26:58.769829Z"
    }
   },
   "outputs": [
    {
     "data": {
      "text/html": [
       "<div>\n",
       "<style scoped>\n",
       "    .dataframe tbody tr th:only-of-type {\n",
       "        vertical-align: middle;\n",
       "    }\n",
       "\n",
       "    .dataframe tbody tr th {\n",
       "        vertical-align: top;\n",
       "    }\n",
       "\n",
       "    .dataframe thead th {\n",
       "        text-align: right;\n",
       "    }\n",
       "</style>\n",
       "<table border=\"1\" class=\"dataframe\">\n",
       "  <thead>\n",
       "    <tr style=\"text-align: right;\">\n",
       "      <th></th>\n",
       "      <th>nconst</th>\n",
       "      <th>name</th>\n",
       "    </tr>\n",
       "  </thead>\n",
       "  <tbody>\n",
       "    <tr>\n",
       "      <td>370954</td>\n",
       "      <td>nm7069097</td>\n",
       "      <td>Norman Provost</td>\n",
       "    </tr>\n",
       "    <tr>\n",
       "      <td>568055</td>\n",
       "      <td>nm8812055</td>\n",
       "      <td>Shiu-Hang Kwok</td>\n",
       "    </tr>\n",
       "    <tr>\n",
       "      <td>581597</td>\n",
       "      <td>nm7953852</td>\n",
       "      <td>John David Givhan</td>\n",
       "    </tr>\n",
       "  </tbody>\n",
       "</table>\n",
       "</div>"
      ],
      "text/plain": [
       "           nconst               name\n",
       "370954  nm7069097     Norman Provost\n",
       "568055  nm8812055     Shiu-Hang Kwok\n",
       "581597  nm7953852  John David Givhan"
      ]
     },
     "execution_count": 49,
     "metadata": {},
     "output_type": "execute_result"
    }
   ],
   "source": [
    "actors_df.sample(3)"
   ]
  },
  {
   "cell_type": "markdown",
   "metadata": {},
   "source": [
    "Let's check for missing values:"
   ]
  },
  {
   "cell_type": "code",
   "execution_count": 50,
   "metadata": {
    "ExecuteTime": {
     "end_time": "2020-03-24T18:27:00.658779Z",
     "start_time": "2020-03-24T18:27:00.611473Z"
    }
   },
   "outputs": [
    {
     "data": {
      "text/plain": [
       "nconst    0\n",
       "name      0\n",
       "dtype: int64"
      ]
     },
     "execution_count": 50,
     "metadata": {},
     "output_type": "execute_result"
    }
   ],
   "source": [
    "actors_df.isna().sum()"
   ]
  },
  {
   "cell_type": "markdown",
   "metadata": {},
   "source": [
    "There we go. A very large list of actors and actresses. We can join them to the titles and see if there are any patterns amongst the top performing titles."
   ]
  },
  {
   "cell_type": "markdown",
   "metadata": {},
   "source": [
    "### Save as CSV"
   ]
  },
  {
   "cell_type": "code",
   "execution_count": 51,
   "metadata": {
    "ExecuteTime": {
     "end_time": "2020-03-24T18:27:03.813146Z",
     "start_time": "2020-03-24T18:27:02.902511Z"
    }
   },
   "outputs": [],
   "source": [
    "actors_save_path = os.path.join(os.pardir, 'data', 'processed', 'actors.csv')\n",
    "actors_df.to_csv(actors_save_path, index=False)"
   ]
  },
  {
   "cell_type": "code",
   "execution_count": 52,
   "metadata": {
    "ExecuteTime": {
     "end_time": "2020-03-24T18:27:05.229683Z",
     "start_time": "2020-03-24T18:27:04.673268Z"
    }
   },
   "outputs": [
    {
     "data": {
      "text/html": [
       "<div>\n",
       "<style scoped>\n",
       "    .dataframe tbody tr th:only-of-type {\n",
       "        vertical-align: middle;\n",
       "    }\n",
       "\n",
       "    .dataframe tbody tr th {\n",
       "        vertical-align: top;\n",
       "    }\n",
       "\n",
       "    .dataframe thead th {\n",
       "        text-align: right;\n",
       "    }\n",
       "</style>\n",
       "<table border=\"1\" class=\"dataframe\">\n",
       "  <thead>\n",
       "    <tr style=\"text-align: right;\">\n",
       "      <th></th>\n",
       "      <th>nconst</th>\n",
       "      <th>name</th>\n",
       "    </tr>\n",
       "  </thead>\n",
       "  <tbody>\n",
       "    <tr>\n",
       "      <td>88962</td>\n",
       "      <td>nm4464725</td>\n",
       "      <td>Chetanya Adib</td>\n",
       "    </tr>\n",
       "    <tr>\n",
       "      <td>100744</td>\n",
       "      <td>nm1286701</td>\n",
       "      <td>Mohan Bhandari</td>\n",
       "    </tr>\n",
       "    <tr>\n",
       "      <td>116662</td>\n",
       "      <td>nm4598055</td>\n",
       "      <td>Matteo Lucchi</td>\n",
       "    </tr>\n",
       "  </tbody>\n",
       "</table>\n",
       "</div>"
      ],
      "text/plain": [
       "           nconst            name\n",
       "88962   nm4464725   Chetanya Adib\n",
       "100744  nm1286701  Mohan Bhandari\n",
       "116662  nm4598055   Matteo Lucchi"
      ]
     },
     "execution_count": 52,
     "metadata": {},
     "output_type": "execute_result"
    }
   ],
   "source": [
    "test_actors_save = pd.read_csv(actors_save_path)\n",
    "test_actors_save.sample(3)"
   ]
  },
  {
   "cell_type": "markdown",
   "metadata": {},
   "source": [
    "## 4. Time of Year (date)\n",
    "Time of year will be an important metric to discover the most opportune time to release a film."
   ]
  },
  {
   "cell_type": "code",
   "execution_count": 53,
   "metadata": {
    "ExecuteTime": {
     "end_time": "2020-03-24T18:27:07.067394Z",
     "start_time": "2020-03-24T18:27:06.980650Z"
    }
   },
   "outputs": [],
   "source": [
    "date_path = os.path.join(os.pardir, 'data', 'raw', 'tmdb_movies.csv')\n",
    "date_df = pd.read_csv(date_path)"
   ]
  },
  {
   "cell_type": "code",
   "execution_count": 54,
   "metadata": {
    "ExecuteTime": {
     "end_time": "2020-03-24T18:27:08.196388Z",
     "start_time": "2020-03-24T18:27:08.142123Z"
    }
   },
   "outputs": [
    {
     "data": {
      "text/html": [
       "<div>\n",
       "<style scoped>\n",
       "    .dataframe tbody tr th:only-of-type {\n",
       "        vertical-align: middle;\n",
       "    }\n",
       "\n",
       "    .dataframe tbody tr th {\n",
       "        vertical-align: top;\n",
       "    }\n",
       "\n",
       "    .dataframe thead th {\n",
       "        text-align: right;\n",
       "    }\n",
       "</style>\n",
       "<table border=\"1\" class=\"dataframe\">\n",
       "  <thead>\n",
       "    <tr style=\"text-align: right;\">\n",
       "      <th></th>\n",
       "      <th>imdbId</th>\n",
       "      <th>budget</th>\n",
       "      <th>revenue</th>\n",
       "      <th>originalTitle</th>\n",
       "      <th>releaseDate</th>\n",
       "    </tr>\n",
       "  </thead>\n",
       "  <tbody>\n",
       "    <tr>\n",
       "      <td>12839</td>\n",
       "      <td>tt2042568</td>\n",
       "      <td>11000000</td>\n",
       "      <td>32935319.0</td>\n",
       "      <td>Inside Llewyn Davis</td>\n",
       "      <td>2013-10-13</td>\n",
       "    </tr>\n",
       "    <tr>\n",
       "      <td>5257</td>\n",
       "      <td>tt0431021</td>\n",
       "      <td>14000000</td>\n",
       "      <td>85446075.0</td>\n",
       "      <td>The Possession</td>\n",
       "      <td>2012-08-30</td>\n",
       "    </tr>\n",
       "    <tr>\n",
       "      <td>12893</td>\n",
       "      <td>tt0462244</td>\n",
       "      <td>6000000</td>\n",
       "      <td>18197398.0</td>\n",
       "      <td>Daddy Day Camp</td>\n",
       "      <td>2007-08-08</td>\n",
       "    </tr>\n",
       "  </tbody>\n",
       "</table>\n",
       "</div>"
      ],
      "text/plain": [
       "          imdbId    budget     revenue        originalTitle releaseDate\n",
       "12839  tt2042568  11000000  32935319.0  Inside Llewyn Davis  2013-10-13\n",
       "5257   tt0431021  14000000  85446075.0       The Possession  2012-08-30\n",
       "12893  tt0462244   6000000  18197398.0       Daddy Day Camp  2007-08-08"
      ]
     },
     "execution_count": 54,
     "metadata": {},
     "output_type": "execute_result"
    }
   ],
   "source": [
    "date_df.sample(3)"
   ]
  },
  {
   "cell_type": "markdown",
   "metadata": {},
   "source": [
    "### Changes:\n",
    "We only need a couple columns from this set:\n",
    "1. imdb_id\n",
    "2. release_date\n",
    "3. add month column\n",
    "\n",
    "The column names are ok as well, so this will be very simple."
   ]
  },
  {
   "cell_type": "code",
   "execution_count": 55,
   "metadata": {
    "ExecuteTime": {
     "end_time": "2020-03-24T18:27:10.310176Z",
     "start_time": "2020-03-24T18:27:10.270271Z"
    }
   },
   "outputs": [],
   "source": [
    "date_df = date_df.drop_duplicates()"
   ]
  },
  {
   "cell_type": "code",
   "execution_count": 56,
   "metadata": {
    "ExecuteTime": {
     "end_time": "2020-03-24T18:27:11.369339Z",
     "start_time": "2020-03-24T18:27:11.328741Z"
    }
   },
   "outputs": [],
   "source": [
    "date_df = date_df.rename(columns={'imdbId': 'imdb_id', 'originalTitle': 'title', 'releaseDate': 'date'})"
   ]
  },
  {
   "cell_type": "code",
   "execution_count": 57,
   "metadata": {
    "ExecuteTime": {
     "end_time": "2020-03-24T20:37:34.533039Z",
     "start_time": "2020-03-24T20:37:34.526327Z"
    }
   },
   "outputs": [],
   "source": [
    "date_df = date_df[['imdb_id', 'date']]"
   ]
  },
  {
   "cell_type": "code",
   "execution_count": 58,
   "metadata": {
    "ExecuteTime": {
     "end_time": "2020-03-24T20:37:37.185454Z",
     "start_time": "2020-03-24T20:37:37.174439Z"
    }
   },
   "outputs": [],
   "source": [
    "date_df = date_df.dropna()"
   ]
  },
  {
   "cell_type": "code",
   "execution_count": 59,
   "metadata": {
    "ExecuteTime": {
     "end_time": "2020-03-24T20:37:38.170889Z",
     "start_time": "2020-03-24T20:37:38.158502Z"
    }
   },
   "outputs": [
    {
     "data": {
      "text/html": [
       "<div>\n",
       "<style scoped>\n",
       "    .dataframe tbody tr th:only-of-type {\n",
       "        vertical-align: middle;\n",
       "    }\n",
       "\n",
       "    .dataframe tbody tr th {\n",
       "        vertical-align: top;\n",
       "    }\n",
       "\n",
       "    .dataframe thead th {\n",
       "        text-align: right;\n",
       "    }\n",
       "</style>\n",
       "<table border=\"1\" class=\"dataframe\">\n",
       "  <thead>\n",
       "    <tr style=\"text-align: right;\">\n",
       "      <th></th>\n",
       "      <th>imdb_id</th>\n",
       "      <th>date</th>\n",
       "    </tr>\n",
       "  </thead>\n",
       "  <tbody>\n",
       "    <tr>\n",
       "      <td>23089</td>\n",
       "      <td>tt0125794</td>\n",
       "      <td>1997-11-27</td>\n",
       "    </tr>\n",
       "    <tr>\n",
       "      <td>10830</td>\n",
       "      <td>tt0071115</td>\n",
       "      <td>1974-12-09</td>\n",
       "    </tr>\n",
       "    <tr>\n",
       "      <td>30096</td>\n",
       "      <td>tt1528071</td>\n",
       "      <td>2013-09-06</td>\n",
       "    </tr>\n",
       "  </tbody>\n",
       "</table>\n",
       "</div>"
      ],
      "text/plain": [
       "         imdb_id        date\n",
       "23089  tt0125794  1997-11-27\n",
       "10830  tt0071115  1974-12-09\n",
       "30096  tt1528071  2013-09-06"
      ]
     },
     "execution_count": 59,
     "metadata": {},
     "output_type": "execute_result"
    }
   ],
   "source": [
    "date_df.sample(3)"
   ]
  },
  {
   "cell_type": "code",
   "execution_count": 60,
   "metadata": {},
   "outputs": [],
   "source": [
    "date_df['date'] = pd.to_datetime(date_df['date'], infer_datetime_format=True)"
   ]
  },
  {
   "cell_type": "code",
   "execution_count": 61,
   "metadata": {},
   "outputs": [],
   "source": [
    "date_df['month'] = date_df['date'].apply(lambda x: x.month_name())"
   ]
  },
  {
   "cell_type": "code",
   "execution_count": 62,
   "metadata": {
    "ExecuteTime": {
     "end_time": "2020-03-24T20:37:42.233599Z",
     "start_time": "2020-03-24T20:37:42.223923Z"
    }
   },
   "outputs": [
    {
     "name": "stdout",
     "output_type": "stream",
     "text": [
      "<class 'pandas.core.frame.DataFrame'>\n",
      "Int64Index: 14466 entries, 0 to 43495\n",
      "Data columns (total 3 columns):\n",
      "imdb_id    14466 non-null object\n",
      "date       14466 non-null datetime64[ns]\n",
      "month      14466 non-null object\n",
      "dtypes: datetime64[ns](1), object(2)\n",
      "memory usage: 452.1+ KB\n"
     ]
    }
   ],
   "source": [
    "date_df.info()"
   ]
  },
  {
   "cell_type": "code",
   "execution_count": 63,
   "metadata": {
    "ExecuteTime": {
     "end_time": "2020-03-24T20:37:44.022320Z",
     "start_time": "2020-03-24T20:37:44.012076Z"
    }
   },
   "outputs": [
    {
     "data": {
      "text/plain": [
       "imdb_id    0\n",
       "date       0\n",
       "month      0\n",
       "dtype: int64"
      ]
     },
     "execution_count": 63,
     "metadata": {},
     "output_type": "execute_result"
    }
   ],
   "source": [
    "date_df.isna().sum()"
   ]
  },
  {
   "cell_type": "markdown",
   "metadata": {},
   "source": [
    "### Save to CSV"
   ]
  },
  {
   "cell_type": "code",
   "execution_count": 64,
   "metadata": {
    "ExecuteTime": {
     "end_time": "2020-03-24T20:37:47.031140Z",
     "start_time": "2020-03-24T20:37:46.999979Z"
    }
   },
   "outputs": [],
   "source": [
    "date_save_path = os.path.join(os.pardir, 'data', 'processed', 'date.csv')\n",
    "date_df.to_csv(date_save_path, index=False)"
   ]
  },
  {
   "cell_type": "code",
   "execution_count": 65,
   "metadata": {
    "ExecuteTime": {
     "end_time": "2020-03-24T20:37:48.167133Z",
     "start_time": "2020-03-24T20:37:48.131758Z"
    }
   },
   "outputs": [
    {
     "data": {
      "text/html": [
       "<div>\n",
       "<style scoped>\n",
       "    .dataframe tbody tr th:only-of-type {\n",
       "        vertical-align: middle;\n",
       "    }\n",
       "\n",
       "    .dataframe tbody tr th {\n",
       "        vertical-align: top;\n",
       "    }\n",
       "\n",
       "    .dataframe thead th {\n",
       "        text-align: right;\n",
       "    }\n",
       "</style>\n",
       "<table border=\"1\" class=\"dataframe\">\n",
       "  <thead>\n",
       "    <tr style=\"text-align: right;\">\n",
       "      <th></th>\n",
       "      <th>imdb_id</th>\n",
       "      <th>date</th>\n",
       "      <th>month</th>\n",
       "    </tr>\n",
       "  </thead>\n",
       "  <tbody>\n",
       "    <tr>\n",
       "      <td>6268</td>\n",
       "      <td>tt1189073</td>\n",
       "      <td>2011-08-17</td>\n",
       "      <td>August</td>\n",
       "    </tr>\n",
       "    <tr>\n",
       "      <td>221</td>\n",
       "      <td>tt2381249</td>\n",
       "      <td>2015-07-23</td>\n",
       "      <td>July</td>\n",
       "    </tr>\n",
       "    <tr>\n",
       "      <td>2275</td>\n",
       "      <td>tt1616195</td>\n",
       "      <td>2011-11-09</td>\n",
       "      <td>November</td>\n",
       "    </tr>\n",
       "  </tbody>\n",
       "</table>\n",
       "</div>"
      ],
      "text/plain": [
       "        imdb_id        date     month\n",
       "6268  tt1189073  2011-08-17    August\n",
       "221   tt2381249  2015-07-23      July\n",
       "2275  tt1616195  2011-11-09  November"
      ]
     },
     "execution_count": 65,
     "metadata": {},
     "output_type": "execute_result"
    }
   ],
   "source": [
    "test_date_save = pd.read_csv(date_save_path)\n",
    "test_date_save.sample(3)"
   ]
  },
  {
   "cell_type": "markdown",
   "metadata": {},
   "source": [
    "## 5. Keywords (content)"
   ]
  },
  {
   "cell_type": "code",
   "execution_count": 66,
   "metadata": {
    "ExecuteTime": {
     "end_time": "2020-03-24T18:27:23.697678Z",
     "start_time": "2020-03-24T18:27:23.421349Z"
    }
   },
   "outputs": [],
   "source": [
    "keywords_path = os.path.join(os.pardir, 'data', 'raw', 'tmdb_keywords.csv')\n",
    "keywords_df = pd.read_csv(keywords_path)"
   ]
  },
  {
   "cell_type": "code",
   "execution_count": 67,
   "metadata": {
    "ExecuteTime": {
     "end_time": "2020-03-24T18:27:24.861727Z",
     "start_time": "2020-03-24T18:27:24.808024Z"
    }
   },
   "outputs": [
    {
     "data": {
      "text/html": [
       "<div>\n",
       "<style scoped>\n",
       "    .dataframe tbody tr th:only-of-type {\n",
       "        vertical-align: middle;\n",
       "    }\n",
       "\n",
       "    .dataframe tbody tr th {\n",
       "        vertical-align: top;\n",
       "    }\n",
       "\n",
       "    .dataframe thead th {\n",
       "        text-align: right;\n",
       "    }\n",
       "</style>\n",
       "<table border=\"1\" class=\"dataframe\">\n",
       "  <thead>\n",
       "    <tr style=\"text-align: right;\">\n",
       "      <th></th>\n",
       "      <th>imdbId</th>\n",
       "      <th>keywordId</th>\n",
       "      <th>keyword</th>\n",
       "    </tr>\n",
       "  </thead>\n",
       "  <tbody>\n",
       "    <tr>\n",
       "      <td>208734</td>\n",
       "      <td>tt0118742</td>\n",
       "      <td>212642</td>\n",
       "      <td>abusive father</td>\n",
       "    </tr>\n",
       "    <tr>\n",
       "      <td>99707</td>\n",
       "      <td>tt0086197</td>\n",
       "      <td>207883</td>\n",
       "      <td>1940s</td>\n",
       "    </tr>\n",
       "    <tr>\n",
       "      <td>235668</td>\n",
       "      <td>tt4085084</td>\n",
       "      <td>1543</td>\n",
       "      <td>war veteran</td>\n",
       "    </tr>\n",
       "  </tbody>\n",
       "</table>\n",
       "</div>"
      ],
      "text/plain": [
       "           imdbId  keywordId         keyword\n",
       "208734  tt0118742     212642  abusive father\n",
       "99707   tt0086197     207883           1940s\n",
       "235668  tt4085084       1543     war veteran"
      ]
     },
     "execution_count": 67,
     "metadata": {},
     "output_type": "execute_result"
    }
   ],
   "source": [
    "keywords_df.sample(3)"
   ]
  },
  {
   "cell_type": "code",
   "execution_count": 68,
   "metadata": {
    "ExecuteTime": {
     "end_time": "2020-03-24T18:27:26.182045Z",
     "start_time": "2020-03-24T18:27:26.136098Z"
    }
   },
   "outputs": [
    {
     "name": "stdout",
     "output_type": "stream",
     "text": [
      "<class 'pandas.core.frame.DataFrame'>\n",
      "RangeIndex: 257984 entries, 0 to 257983\n",
      "Data columns (total 3 columns):\n",
      "imdbId       257984 non-null object\n",
      "keywordId    257984 non-null int64\n",
      "keyword      257984 non-null object\n",
      "dtypes: int64(1), object(2)\n",
      "memory usage: 5.9+ MB\n"
     ]
    }
   ],
   "source": [
    "keywords_df.info()"
   ]
  },
  {
   "cell_type": "markdown",
   "metadata": {},
   "source": [
    "This is a simple dataframe, when I created it I knew exactly the columns I would use. \n",
    "\n",
    "I do need to change the column names from camelCase to snake_case (node.js uses camelCase):"
   ]
  },
  {
   "cell_type": "code",
   "execution_count": 69,
   "metadata": {
    "ExecuteTime": {
     "end_time": "2020-03-24T18:27:27.460652Z",
     "start_time": "2020-03-24T18:27:27.396497Z"
    }
   },
   "outputs": [],
   "source": [
    "keywords_df = keywords_df.rename(columns={'imdbId': 'imdb_id', 'keywordId': 'keyword_id'})"
   ]
  },
  {
   "cell_type": "code",
   "execution_count": 70,
   "metadata": {
    "ExecuteTime": {
     "end_time": "2020-03-24T18:27:28.793176Z",
     "start_time": "2020-03-24T18:27:28.729097Z"
    }
   },
   "outputs": [
    {
     "data": {
      "text/html": [
       "<div>\n",
       "<style scoped>\n",
       "    .dataframe tbody tr th:only-of-type {\n",
       "        vertical-align: middle;\n",
       "    }\n",
       "\n",
       "    .dataframe tbody tr th {\n",
       "        vertical-align: top;\n",
       "    }\n",
       "\n",
       "    .dataframe thead th {\n",
       "        text-align: right;\n",
       "    }\n",
       "</style>\n",
       "<table border=\"1\" class=\"dataframe\">\n",
       "  <thead>\n",
       "    <tr style=\"text-align: right;\">\n",
       "      <th></th>\n",
       "      <th>imdb_id</th>\n",
       "      <th>keyword_id</th>\n",
       "      <th>keyword</th>\n",
       "    </tr>\n",
       "  </thead>\n",
       "  <tbody>\n",
       "    <tr>\n",
       "      <td>121841</td>\n",
       "      <td>tt0089092</td>\n",
       "      <td>14906</td>\n",
       "      <td>slave</td>\n",
       "    </tr>\n",
       "    <tr>\n",
       "      <td>176695</td>\n",
       "      <td>tt4827986</td>\n",
       "      <td>818</td>\n",
       "      <td>based on novel or book</td>\n",
       "    </tr>\n",
       "    <tr>\n",
       "      <td>123663</td>\n",
       "      <td>tt1232783</td>\n",
       "      <td>12339</td>\n",
       "      <td>slasher</td>\n",
       "    </tr>\n",
       "  </tbody>\n",
       "</table>\n",
       "</div>"
      ],
      "text/plain": [
       "          imdb_id  keyword_id                 keyword\n",
       "121841  tt0089092       14906                   slave\n",
       "176695  tt4827986         818  based on novel or book\n",
       "123663  tt1232783       12339                 slasher"
      ]
     },
     "execution_count": 70,
     "metadata": {},
     "output_type": "execute_result"
    }
   ],
   "source": [
    "keywords_df.sample(3)"
   ]
  },
  {
   "cell_type": "code",
   "execution_count": 71,
   "metadata": {
    "ExecuteTime": {
     "end_time": "2020-03-24T20:48:25.734348Z",
     "start_time": "2020-03-24T20:48:25.588074Z"
    }
   },
   "outputs": [
    {
     "data": {
      "text/plain": [
       "0         False\n",
       "1         False\n",
       "2         False\n",
       "3         False\n",
       "4         False\n",
       "          ...  \n",
       "257979     True\n",
       "257980     True\n",
       "257981     True\n",
       "257982     True\n",
       "257983     True\n",
       "Length: 257984, dtype: bool"
      ]
     },
     "execution_count": 71,
     "metadata": {},
     "output_type": "execute_result"
    }
   ],
   "source": [
    "keywords_df.duplicated()"
   ]
  },
  {
   "cell_type": "code",
   "execution_count": 72,
   "metadata": {
    "ExecuteTime": {
     "end_time": "2020-03-24T18:27:30.415250Z",
     "start_time": "2020-03-24T18:27:30.300531Z"
    }
   },
   "outputs": [
    {
     "data": {
      "text/plain": [
       "imdb_id       0\n",
       "keyword_id    0\n",
       "keyword       0\n",
       "dtype: int64"
      ]
     },
     "execution_count": 72,
     "metadata": {},
     "output_type": "execute_result"
    }
   ],
   "source": [
    "keywords_df.isna().sum()"
   ]
  },
  {
   "cell_type": "markdown",
   "metadata": {},
   "source": [
    "### Save to CSV"
   ]
  },
  {
   "cell_type": "code",
   "execution_count": 73,
   "metadata": {
    "ExecuteTime": {
     "end_time": "2020-03-24T18:27:32.975518Z",
     "start_time": "2020-03-24T18:27:31.933801Z"
    }
   },
   "outputs": [],
   "source": [
    "keywords_save_path = os.path.join(os.pardir, 'data', 'processed', 'keywords.csv')\n",
    "keywords_df.to_csv(keywords_save_path, index=False)"
   ]
  },
  {
   "cell_type": "code",
   "execution_count": 74,
   "metadata": {
    "ExecuteTime": {
     "end_time": "2020-03-24T18:27:34.352635Z",
     "start_time": "2020-03-24T18:27:34.029792Z"
    }
   },
   "outputs": [
    {
     "data": {
      "text/html": [
       "<div>\n",
       "<style scoped>\n",
       "    .dataframe tbody tr th:only-of-type {\n",
       "        vertical-align: middle;\n",
       "    }\n",
       "\n",
       "    .dataframe tbody tr th {\n",
       "        vertical-align: top;\n",
       "    }\n",
       "\n",
       "    .dataframe thead th {\n",
       "        text-align: right;\n",
       "    }\n",
       "</style>\n",
       "<table border=\"1\" class=\"dataframe\">\n",
       "  <thead>\n",
       "    <tr style=\"text-align: right;\">\n",
       "      <th></th>\n",
       "      <th>imdb_id</th>\n",
       "      <th>keyword_id</th>\n",
       "      <th>keyword</th>\n",
       "    </tr>\n",
       "  </thead>\n",
       "  <tbody>\n",
       "    <tr>\n",
       "      <td>5442</td>\n",
       "      <td>tt1408101</td>\n",
       "      <td>156395</td>\n",
       "      <td>imax</td>\n",
       "    </tr>\n",
       "    <tr>\n",
       "      <td>108018</td>\n",
       "      <td>tt0963794</td>\n",
       "      <td>208421</td>\n",
       "      <td>american tourist</td>\n",
       "    </tr>\n",
       "    <tr>\n",
       "      <td>122633</td>\n",
       "      <td>tt0105483</td>\n",
       "      <td>162710</td>\n",
       "      <td>culture</td>\n",
       "    </tr>\n",
       "  </tbody>\n",
       "</table>\n",
       "</div>"
      ],
      "text/plain": [
       "          imdb_id  keyword_id           keyword\n",
       "5442    tt1408101      156395              imax\n",
       "108018  tt0963794      208421  american tourist\n",
       "122633  tt0105483      162710           culture"
      ]
     },
     "execution_count": 74,
     "metadata": {},
     "output_type": "execute_result"
    }
   ],
   "source": [
    "test_keywords_save = pd.read_csv(keywords_save_path)\n",
    "test_keywords_save.sample(3)"
   ]
  },
  {
   "cell_type": "markdown",
   "metadata": {},
   "source": [
    "## Building Dataset\n",
    "In this section I will combine all the individual datasets into one large dataframe that I can explore in the EDA phase. \n",
    "\n",
    "I will keep the actors and keywords seperate for now so they don't explode the dataframe."
   ]
  },
  {
   "cell_type": "code",
   "execution_count": 75,
   "metadata": {
    "ExecuteTime": {
     "end_time": "2020-03-24T21:46:08.502741Z",
     "start_time": "2020-03-24T21:46:07.826312Z"
    }
   },
   "outputs": [],
   "source": [
    "# joining revenue with genres:\n",
    "combined_df = revenue_df.set_index('imdb_id').join(genres_df.set_index('imdb_id'), rsuffix='_rev')"
   ]
  },
  {
   "cell_type": "code",
   "execution_count": 76,
   "metadata": {
    "ExecuteTime": {
     "end_time": "2020-03-24T21:46:10.567729Z",
     "start_time": "2020-03-24T21:46:10.499451Z"
    }
   },
   "outputs": [
    {
     "data": {
      "text/html": [
       "<div>\n",
       "<style scoped>\n",
       "    .dataframe tbody tr th:only-of-type {\n",
       "        vertical-align: middle;\n",
       "    }\n",
       "\n",
       "    .dataframe tbody tr th {\n",
       "        vertical-align: top;\n",
       "    }\n",
       "\n",
       "    .dataframe thead th {\n",
       "        text-align: right;\n",
       "    }\n",
       "</style>\n",
       "<table border=\"1\" class=\"dataframe\">\n",
       "  <thead>\n",
       "    <tr style=\"text-align: right;\">\n",
       "      <th></th>\n",
       "      <th>title</th>\n",
       "      <th>year</th>\n",
       "      <th>director</th>\n",
       "      <th>production_co</th>\n",
       "      <th>rank</th>\n",
       "      <th>budget_usd</th>\n",
       "      <th>us_gross</th>\n",
       "      <th>revenue</th>\n",
       "      <th>popular</th>\n",
       "      <th>title_rev</th>\n",
       "      <th>year_rev</th>\n",
       "      <th>genres</th>\n",
       "    </tr>\n",
       "    <tr>\n",
       "      <th>imdb_id</th>\n",
       "      <th></th>\n",
       "      <th></th>\n",
       "      <th></th>\n",
       "      <th></th>\n",
       "      <th></th>\n",
       "      <th></th>\n",
       "      <th></th>\n",
       "      <th></th>\n",
       "      <th></th>\n",
       "      <th></th>\n",
       "      <th></th>\n",
       "      <th></th>\n",
       "    </tr>\n",
       "  </thead>\n",
       "  <tbody>\n",
       "    <tr>\n",
       "      <td>tt2488496</td>\n",
       "      <td>Star Wars: Episode VII - The Force Awakens</td>\n",
       "      <td>2015</td>\n",
       "      <td>J.J. Abrams</td>\n",
       "      <td>Lucasfilm</td>\n",
       "      <td>519</td>\n",
       "      <td>245000000.0</td>\n",
       "      <td>937000000.0</td>\n",
       "      <td>692000000.0</td>\n",
       "      <td>True</td>\n",
       "      <td>Star Wars: Episode VII - The Force Awakens</td>\n",
       "      <td>2015</td>\n",
       "      <td>Action,Adventure,Sci-Fi</td>\n",
       "    </tr>\n",
       "    <tr>\n",
       "      <td>tt4154796</td>\n",
       "      <td>Avengers: Endgame</td>\n",
       "      <td>2019</td>\n",
       "      <td>Anthony Russo</td>\n",
       "      <td>Marvel Studios</td>\n",
       "      <td>111</td>\n",
       "      <td>356000000.0</td>\n",
       "      <td>858000000.0</td>\n",
       "      <td>502000000.0</td>\n",
       "      <td>True</td>\n",
       "      <td>Avengers: Endgame</td>\n",
       "      <td>2019</td>\n",
       "      <td>Action,Adventure,Drama</td>\n",
       "    </tr>\n",
       "    <tr>\n",
       "      <td>tt0499549</td>\n",
       "      <td>Avatar</td>\n",
       "      <td>2009</td>\n",
       "      <td>James Cameron</td>\n",
       "      <td>Twentieth Century Fox</td>\n",
       "      <td>533</td>\n",
       "      <td>237000000.0</td>\n",
       "      <td>761000000.0</td>\n",
       "      <td>524000000.0</td>\n",
       "      <td>True</td>\n",
       "      <td>Avatar</td>\n",
       "      <td>2009</td>\n",
       "      <td>Action,Adventure,Fantasy</td>\n",
       "    </tr>\n",
       "  </tbody>\n",
       "</table>\n",
       "</div>"
      ],
      "text/plain": [
       "                                                title  year       director  \\\n",
       "imdb_id                                                                      \n",
       "tt2488496  Star Wars: Episode VII - The Force Awakens  2015    J.J. Abrams   \n",
       "tt4154796                           Avengers: Endgame  2019  Anthony Russo   \n",
       "tt0499549                                      Avatar  2009  James Cameron   \n",
       "\n",
       "                   production_co  rank   budget_usd     us_gross      revenue  \\\n",
       "imdb_id                                                                         \n",
       "tt2488496              Lucasfilm   519  245000000.0  937000000.0  692000000.0   \n",
       "tt4154796         Marvel Studios   111  356000000.0  858000000.0  502000000.0   \n",
       "tt0499549  Twentieth Century Fox   533  237000000.0  761000000.0  524000000.0   \n",
       "\n",
       "           popular                                   title_rev year_rev  \\\n",
       "imdb_id                                                                   \n",
       "tt2488496     True  Star Wars: Episode VII - The Force Awakens     2015   \n",
       "tt4154796     True                           Avengers: Endgame     2019   \n",
       "tt0499549     True                                      Avatar     2009   \n",
       "\n",
       "                             genres  \n",
       "imdb_id                              \n",
       "tt2488496   Action,Adventure,Sci-Fi  \n",
       "tt4154796    Action,Adventure,Drama  \n",
       "tt0499549  Action,Adventure,Fantasy  "
      ]
     },
     "execution_count": 76,
     "metadata": {},
     "output_type": "execute_result"
    }
   ],
   "source": [
    "combined_df.head(3)"
   ]
  },
  {
   "cell_type": "code",
   "execution_count": 77,
   "metadata": {
    "ExecuteTime": {
     "end_time": "2020-03-24T21:46:12.574029Z",
     "start_time": "2020-03-24T21:46:12.534169Z"
    }
   },
   "outputs": [],
   "source": [
    "combined_df = combined_df.drop(columns=['title_rev', 'year_rev'])"
   ]
  },
  {
   "cell_type": "code",
   "execution_count": 78,
   "metadata": {
    "ExecuteTime": {
     "end_time": "2020-03-24T21:46:14.408079Z",
     "start_time": "2020-03-24T21:46:14.387626Z"
    }
   },
   "outputs": [],
   "source": [
    "combined_df = combined_df.reset_index()"
   ]
  },
  {
   "cell_type": "code",
   "execution_count": 79,
   "metadata": {
    "ExecuteTime": {
     "end_time": "2020-03-24T21:46:16.530356Z",
     "start_time": "2020-03-24T21:46:16.454624Z"
    }
   },
   "outputs": [],
   "source": [
    "# adding in time of year next:\n",
    "combined_df = combined_df.set_index('imdb_id').join(date_df.set_index('imdb_id')).reset_index()"
   ]
  },
  {
   "cell_type": "code",
   "execution_count": 80,
   "metadata": {
    "ExecuteTime": {
     "end_time": "2020-03-24T21:46:21.301931Z",
     "start_time": "2020-03-24T21:46:21.252000Z"
    }
   },
   "outputs": [
    {
     "data": {
      "text/html": [
       "<div>\n",
       "<style scoped>\n",
       "    .dataframe tbody tr th:only-of-type {\n",
       "        vertical-align: middle;\n",
       "    }\n",
       "\n",
       "    .dataframe tbody tr th {\n",
       "        vertical-align: top;\n",
       "    }\n",
       "\n",
       "    .dataframe thead th {\n",
       "        text-align: right;\n",
       "    }\n",
       "</style>\n",
       "<table border=\"1\" class=\"dataframe\">\n",
       "  <thead>\n",
       "    <tr style=\"text-align: right;\">\n",
       "      <th></th>\n",
       "      <th>imdb_id</th>\n",
       "      <th>title</th>\n",
       "      <th>year</th>\n",
       "      <th>director</th>\n",
       "      <th>production_co</th>\n",
       "      <th>rank</th>\n",
       "      <th>budget_usd</th>\n",
       "      <th>us_gross</th>\n",
       "      <th>revenue</th>\n",
       "      <th>popular</th>\n",
       "      <th>genres</th>\n",
       "      <th>date</th>\n",
       "      <th>month</th>\n",
       "    </tr>\n",
       "  </thead>\n",
       "  <tbody>\n",
       "    <tr>\n",
       "      <td>6828</td>\n",
       "      <td>tt0098659</td>\n",
       "      <td>Winter People</td>\n",
       "      <td>1989</td>\n",
       "      <td>Ted Kotcheff</td>\n",
       "      <td>Castle Rock Entertainment</td>\n",
       "      <td>36360</td>\n",
       "      <td>-1.000000e+00</td>\n",
       "      <td>2000000.0</td>\n",
       "      <td>NaN</td>\n",
       "      <td>False</td>\n",
       "      <td>Drama</td>\n",
       "      <td>1989-04-14</td>\n",
       "      <td>April</td>\n",
       "    </tr>\n",
       "    <tr>\n",
       "      <td>8914</td>\n",
       "      <td>tt7690638</td>\n",
       "      <td>Soorma</td>\n",
       "      <td>2018</td>\n",
       "      <td>Shaad Ali</td>\n",
       "      <td>CS Films'</td>\n",
       "      <td>21047</td>\n",
       "      <td>2.652731e+06</td>\n",
       "      <td>390000.0</td>\n",
       "      <td>-2.262731e+06</td>\n",
       "      <td>False</td>\n",
       "      <td>Biography,Drama,Sport</td>\n",
       "      <td>2018-07-13</td>\n",
       "      <td>July</td>\n",
       "    </tr>\n",
       "    <tr>\n",
       "      <td>8059</td>\n",
       "      <td>tt0084264</td>\n",
       "      <td>Lonely Hearts</td>\n",
       "      <td>1982</td>\n",
       "      <td>Paul Cox</td>\n",
       "      <td>Adam Packer Film Productions</td>\n",
       "      <td>172569</td>\n",
       "      <td>-1.000000e+00</td>\n",
       "      <td>777000.0</td>\n",
       "      <td>NaN</td>\n",
       "      <td>False</td>\n",
       "      <td>Comedy,Drama,Romance</td>\n",
       "      <td>1982-11-01</td>\n",
       "      <td>November</td>\n",
       "    </tr>\n",
       "    <tr>\n",
       "      <td>7770</td>\n",
       "      <td>tt0248617</td>\n",
       "      <td>Yaadein...</td>\n",
       "      <td>2001</td>\n",
       "      <td>Subhash Ghai</td>\n",
       "      <td>Mukta Arts</td>\n",
       "      <td>62607</td>\n",
       "      <td>2.122185e+06</td>\n",
       "      <td>1000000.0</td>\n",
       "      <td>-1.122185e+06</td>\n",
       "      <td>False</td>\n",
       "      <td>Drama,Musical,Romance</td>\n",
       "      <td>2001-07-27</td>\n",
       "      <td>July</td>\n",
       "    </tr>\n",
       "    <tr>\n",
       "      <td>2504</td>\n",
       "      <td>tt0918927</td>\n",
       "      <td>Doubt</td>\n",
       "      <td>2008</td>\n",
       "      <td>John Patrick Shanley</td>\n",
       "      <td>Goodspeed Productions</td>\n",
       "      <td>5994</td>\n",
       "      <td>2.000000e+07</td>\n",
       "      <td>33000000.0</td>\n",
       "      <td>1.300000e+07</td>\n",
       "      <td>False</td>\n",
       "      <td>Drama,Mystery</td>\n",
       "      <td>2008-11-27</td>\n",
       "      <td>November</td>\n",
       "    </tr>\n",
       "  </tbody>\n",
       "</table>\n",
       "</div>"
      ],
      "text/plain": [
       "        imdb_id          title  year              director  \\\n",
       "6828  tt0098659  Winter People  1989          Ted Kotcheff   \n",
       "8914  tt7690638         Soorma  2018             Shaad Ali   \n",
       "8059  tt0084264  Lonely Hearts  1982              Paul Cox   \n",
       "7770  tt0248617     Yaadein...  2001          Subhash Ghai   \n",
       "2504  tt0918927          Doubt  2008  John Patrick Shanley   \n",
       "\n",
       "                     production_co    rank    budget_usd    us_gross  \\\n",
       "6828     Castle Rock Entertainment   36360 -1.000000e+00   2000000.0   \n",
       "8914                     CS Films'   21047  2.652731e+06    390000.0   \n",
       "8059  Adam Packer Film Productions  172569 -1.000000e+00    777000.0   \n",
       "7770                    Mukta Arts   62607  2.122185e+06   1000000.0   \n",
       "2504         Goodspeed Productions    5994  2.000000e+07  33000000.0   \n",
       "\n",
       "           revenue  popular                 genres       date     month  \n",
       "6828           NaN    False                  Drama 1989-04-14     April  \n",
       "8914 -2.262731e+06    False  Biography,Drama,Sport 2018-07-13      July  \n",
       "8059           NaN    False   Comedy,Drama,Romance 1982-11-01  November  \n",
       "7770 -1.122185e+06    False  Drama,Musical,Romance 2001-07-27      July  \n",
       "2504  1.300000e+07    False          Drama,Mystery 2008-11-27  November  "
      ]
     },
     "execution_count": 80,
     "metadata": {},
     "output_type": "execute_result"
    }
   ],
   "source": [
    "combined_df.sample(5)"
   ]
  },
  {
   "cell_type": "code",
   "execution_count": 81,
   "metadata": {
    "ExecuteTime": {
     "end_time": "2020-03-24T21:46:23.933462Z",
     "start_time": "2020-03-24T21:46:23.866178Z"
    }
   },
   "outputs": [
    {
     "name": "stdout",
     "output_type": "stream",
     "text": [
      "<class 'pandas.core.frame.DataFrame'>\n",
      "RangeIndex: 14431 entries, 0 to 14430\n",
      "Data columns (total 13 columns):\n",
      "imdb_id          14431 non-null object\n",
      "title            14431 non-null object\n",
      "year             14431 non-null object\n",
      "director         14431 non-null object\n",
      "production_co    14431 non-null object\n",
      "rank             14431 non-null int64\n",
      "budget_usd       14431 non-null float64\n",
      "us_gross         14431 non-null float64\n",
      "revenue          7896 non-null float64\n",
      "popular          14431 non-null bool\n",
      "genres           14317 non-null object\n",
      "date             14375 non-null datetime64[ns]\n",
      "month            14375 non-null object\n",
      "dtypes: bool(1), datetime64[ns](1), float64(3), int64(1), object(7)\n",
      "memory usage: 1.3+ MB\n"
     ]
    }
   ],
   "source": [
    "combined_df.info()"
   ]
  },
  {
   "cell_type": "code",
   "execution_count": 82,
   "metadata": {},
   "outputs": [],
   "source": [
    "combined_df = combined_df.dropna()"
   ]
  },
  {
   "cell_type": "code",
   "execution_count": 83,
   "metadata": {},
   "outputs": [
    {
     "name": "stdout",
     "output_type": "stream",
     "text": [
      "<class 'pandas.core.frame.DataFrame'>\n",
      "Int64Index: 7865 entries, 0 to 14430\n",
      "Data columns (total 13 columns):\n",
      "imdb_id          7865 non-null object\n",
      "title            7865 non-null object\n",
      "year             7865 non-null object\n",
      "director         7865 non-null object\n",
      "production_co    7865 non-null object\n",
      "rank             7865 non-null int64\n",
      "budget_usd       7865 non-null float64\n",
      "us_gross         7865 non-null float64\n",
      "revenue          7865 non-null float64\n",
      "popular          7865 non-null bool\n",
      "genres           7865 non-null object\n",
      "date             7865 non-null datetime64[ns]\n",
      "month            7865 non-null object\n",
      "dtypes: bool(1), datetime64[ns](1), float64(3), int64(1), object(7)\n",
      "memory usage: 806.5+ KB\n"
     ]
    }
   ],
   "source": [
    "combined_df.info()"
   ]
  },
  {
   "cell_type": "markdown",
   "metadata": {},
   "source": [
    "### Save to CSV"
   ]
  },
  {
   "cell_type": "code",
   "execution_count": 84,
   "metadata": {},
   "outputs": [],
   "source": [
    "combined_save_path = os.path.join(os.pardir, 'data', 'processed', 'combined.csv')\n",
    "combined_df.to_csv(combined_save_path, index=False)"
   ]
  },
  {
   "cell_type": "code",
   "execution_count": 85,
   "metadata": {},
   "outputs": [
    {
     "data": {
      "text/html": [
       "<div>\n",
       "<style scoped>\n",
       "    .dataframe tbody tr th:only-of-type {\n",
       "        vertical-align: middle;\n",
       "    }\n",
       "\n",
       "    .dataframe tbody tr th {\n",
       "        vertical-align: top;\n",
       "    }\n",
       "\n",
       "    .dataframe thead th {\n",
       "        text-align: right;\n",
       "    }\n",
       "</style>\n",
       "<table border=\"1\" class=\"dataframe\">\n",
       "  <thead>\n",
       "    <tr style=\"text-align: right;\">\n",
       "      <th></th>\n",
       "      <th>imdb_id</th>\n",
       "      <th>title</th>\n",
       "      <th>year</th>\n",
       "      <th>director</th>\n",
       "      <th>production_co</th>\n",
       "      <th>rank</th>\n",
       "      <th>budget_usd</th>\n",
       "      <th>us_gross</th>\n",
       "      <th>revenue</th>\n",
       "      <th>popular</th>\n",
       "      <th>genres</th>\n",
       "      <th>date</th>\n",
       "      <th>month</th>\n",
       "    </tr>\n",
       "  </thead>\n",
       "  <tbody>\n",
       "    <tr>\n",
       "      <td>3760</td>\n",
       "      <td>tt0115571</td>\n",
       "      <td>The Arrival</td>\n",
       "      <td>1996</td>\n",
       "      <td>David Twohy</td>\n",
       "      <td>Live Entertainment</td>\n",
       "      <td>5850</td>\n",
       "      <td>25000000.0</td>\n",
       "      <td>14000000.0</td>\n",
       "      <td>-11000000.0</td>\n",
       "      <td>False</td>\n",
       "      <td>Sci-Fi,Thriller</td>\n",
       "      <td>1996-05-31</td>\n",
       "      <td>May</td>\n",
       "    </tr>\n",
       "    <tr>\n",
       "      <td>4027</td>\n",
       "      <td>tt0083190</td>\n",
       "      <td>Thief</td>\n",
       "      <td>1981</td>\n",
       "      <td>Michael Mann</td>\n",
       "      <td>Mann/Caan Productions</td>\n",
       "      <td>9013</td>\n",
       "      <td>5500000.0</td>\n",
       "      <td>11000000.0</td>\n",
       "      <td>5500000.0</td>\n",
       "      <td>False</td>\n",
       "      <td>Action,Crime,Drama</td>\n",
       "      <td>1981-03-27</td>\n",
       "      <td>March</td>\n",
       "    </tr>\n",
       "    <tr>\n",
       "      <td>3061</td>\n",
       "      <td>tt0097142</td>\n",
       "      <td>Dad</td>\n",
       "      <td>1989</td>\n",
       "      <td>Gary David Goldberg</td>\n",
       "      <td>Amblin Entertainment</td>\n",
       "      <td>19326</td>\n",
       "      <td>19000000.0</td>\n",
       "      <td>22000000.0</td>\n",
       "      <td>3000000.0</td>\n",
       "      <td>False</td>\n",
       "      <td>Comedy,Drama</td>\n",
       "      <td>1989-10-27</td>\n",
       "      <td>October</td>\n",
       "    </tr>\n",
       "  </tbody>\n",
       "</table>\n",
       "</div>"
      ],
      "text/plain": [
       "        imdb_id        title  year             director  \\\n",
       "3760  tt0115571  The Arrival  1996          David Twohy   \n",
       "4027  tt0083190        Thief  1981         Michael Mann   \n",
       "3061  tt0097142          Dad  1989  Gary David Goldberg   \n",
       "\n",
       "              production_co   rank  budget_usd    us_gross     revenue  \\\n",
       "3760     Live Entertainment   5850  25000000.0  14000000.0 -11000000.0   \n",
       "4027  Mann/Caan Productions   9013   5500000.0  11000000.0   5500000.0   \n",
       "3061   Amblin Entertainment  19326  19000000.0  22000000.0   3000000.0   \n",
       "\n",
       "      popular              genres        date    month  \n",
       "3760    False     Sci-Fi,Thriller  1996-05-31      May  \n",
       "4027    False  Action,Crime,Drama  1981-03-27    March  \n",
       "3061    False        Comedy,Drama  1989-10-27  October  "
      ]
     },
     "execution_count": 85,
     "metadata": {},
     "output_type": "execute_result"
    }
   ],
   "source": [
    "test_combined_save = pd.read_csv(combined_save_path)\n",
    "test_combined_save.sample(3)"
   ]
  },
  {
   "cell_type": "code",
   "execution_count": 86,
   "metadata": {},
   "outputs": [
    {
     "name": "stdout",
     "output_type": "stream",
     "text": [
      "<class 'pandas.core.frame.DataFrame'>\n",
      "Int64Index: 7865 entries, 0 to 14430\n",
      "Data columns (total 13 columns):\n",
      "imdb_id          7865 non-null object\n",
      "title            7865 non-null object\n",
      "year             7865 non-null object\n",
      "director         7865 non-null object\n",
      "production_co    7865 non-null object\n",
      "rank             7865 non-null int64\n",
      "budget_usd       7865 non-null float64\n",
      "us_gross         7865 non-null float64\n",
      "revenue          7865 non-null float64\n",
      "popular          7865 non-null bool\n",
      "genres           7865 non-null object\n",
      "date             7865 non-null datetime64[ns]\n",
      "month            7865 non-null object\n",
      "dtypes: bool(1), datetime64[ns](1), float64(3), int64(1), object(7)\n",
      "memory usage: 806.5+ KB\n"
     ]
    }
   ],
   "source": [
    "combined_df.info()"
   ]
  },
  {
   "cell_type": "code",
   "execution_count": null,
   "metadata": {},
   "outputs": [],
   "source": []
  }
 ],
 "metadata": {
  "file_extension": ".py",
  "kernelspec": {
   "display_name": "Python 3",
   "language": "python",
   "name": "python3"
  },
  "language_info": {
   "codemirror_mode": {
    "name": "ipython",
    "version": 3
   },
   "file_extension": ".py",
   "mimetype": "text/x-python",
   "name": "python",
   "nbconvert_exporter": "python",
   "pygments_lexer": "ipython3",
   "version": "3.6.9"
  },
  "mimetype": "text/x-python",
  "name": "python",
  "npconvert_exporter": "python",
  "pygments_lexer": "ipython3",
  "toc": {
   "base_numbering": 1,
   "nav_menu": {},
   "number_sections": true,
   "sideBar": true,
   "skip_h1_title": false,
   "title_cell": "Table of Contents",
   "title_sidebar": "Contents",
   "toc_cell": false,
   "toc_position": {},
   "toc_section_display": true,
   "toc_window_display": false
  },
  "varInspector": {
   "cols": {
    "lenName": 16,
    "lenType": 16,
    "lenVar": 40
   },
   "kernels_config": {
    "python": {
     "delete_cmd_postfix": "",
     "delete_cmd_prefix": "del ",
     "library": "var_list.py",
     "varRefreshCmd": "print(var_dic_list())"
    },
    "r": {
     "delete_cmd_postfix": ") ",
     "delete_cmd_prefix": "rm(",
     "library": "var_list.r",
     "varRefreshCmd": "cat(var_dic_list()) "
    }
   },
   "oldHeight": 120,
   "position": {
    "height": "40px",
    "left": "448px",
    "right": "20px",
    "top": "110px",
    "width": "435px"
   },
   "types_to_exclude": [
    "module",
    "function",
    "builtin_function_or_method",
    "instance",
    "_Feature"
   ],
   "varInspector_section_display": "none",
   "window_display": true
  },
  "version": 3
 },
 "nbformat": 4,
 "nbformat_minor": 2
}
