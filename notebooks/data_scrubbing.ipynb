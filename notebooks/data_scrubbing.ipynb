{
 "cells": [
  {
   "cell_type": "markdown",
   "metadata": {},
   "source": [
    "# Movie Analysis: Data Scrubbing"
   ]
  },
  {
   "cell_type": "markdown",
   "metadata": {},
   "source": [
    "## About:\n",
    "In the data scrubbing phase I will focus on cleaning up the columns I plan on using, and building up the data frame I will use for the EDA phase:\n",
    "\n",
    "1. US Gross Revenue\n",
    "2. Genre\n",
    "3. Actors\n",
    "4. Time of Year (date)\n",
    "5. Keywords (content)\n",
    "6. Combined"
   ]
  },
  {
   "cell_type": "markdown",
   "metadata": {},
   "source": [
    "### Project imports:"
   ]
  },
  {
   "cell_type": "code",
   "execution_count": 1,
   "metadata": {
    "ExecuteTime": {
     "end_time": "2020-03-24T21:44:50.221772Z",
     "start_time": "2020-03-24T21:44:50.217262Z"
    }
   },
   "outputs": [],
   "source": [
    "# imports for entire data gathering phase\n",
    "import pandas as pd \n",
    "import os"
   ]
  },
  {
   "cell_type": "markdown",
   "metadata": {},
   "source": [
    "## 1. US Gross Revene\n",
    "This column will be how we measure the other columns, so we will start here and drop any rows that don't have this information."
   ]
  },
  {
   "cell_type": "code",
   "execution_count": 2,
   "metadata": {
    "ExecuteTime": {
     "end_time": "2020-03-24T21:44:52.621784Z",
     "start_time": "2020-03-24T21:44:52.544084Z"
    }
   },
   "outputs": [],
   "source": [
    "revenue_path = os.path.join(os.pardir, 'data', 'interim', 'money.csv')\n",
    "revenue_df = pd.read_csv(revenue_path)"
   ]
  },
  {
   "cell_type": "code",
   "execution_count": 3,
   "metadata": {
    "ExecuteTime": {
     "end_time": "2020-03-24T21:44:54.556678Z",
     "start_time": "2020-03-24T21:44:54.488807Z"
    }
   },
   "outputs": [
    {
     "data": {
      "text/html": [
       "<div>\n",
       "<style scoped>\n",
       "    .dataframe tbody tr th:only-of-type {\n",
       "        vertical-align: middle;\n",
       "    }\n",
       "\n",
       "    .dataframe tbody tr th {\n",
       "        vertical-align: top;\n",
       "    }\n",
       "\n",
       "    .dataframe thead th {\n",
       "        text-align: right;\n",
       "    }\n",
       "</style>\n",
       "<table border=\"1\" class=\"dataframe\">\n",
       "  <thead>\n",
       "    <tr style=\"text-align: right;\">\n",
       "      <th></th>\n",
       "      <th>imdb_id</th>\n",
       "      <th>title</th>\n",
       "      <th>year</th>\n",
       "      <th>director</th>\n",
       "      <th>production_co</th>\n",
       "      <th>region_code</th>\n",
       "      <th>rank</th>\n",
       "      <th>budget_usd</th>\n",
       "      <th>us_gross</th>\n",
       "    </tr>\n",
       "  </thead>\n",
       "  <tbody>\n",
       "    <tr>\n",
       "      <td>0</td>\n",
       "      <td>tt2488496</td>\n",
       "      <td>Star Wars: Episode VII - The Force Awakens</td>\n",
       "      <td>2015</td>\n",
       "      <td>J.J. Abrams</td>\n",
       "      <td>Lucasfilm</td>\n",
       "      <td>[US]</td>\n",
       "      <td>519</td>\n",
       "      <td>$245MM</td>\n",
       "      <td>$937MM</td>\n",
       "    </tr>\n",
       "    <tr>\n",
       "      <td>1</td>\n",
       "      <td>tt4154796</td>\n",
       "      <td>Avengers: Endgame</td>\n",
       "      <td>2019</td>\n",
       "      <td>Anthony Russo</td>\n",
       "      <td>Marvel Studios</td>\n",
       "      <td>[US]</td>\n",
       "      <td>111</td>\n",
       "      <td>$356MM</td>\n",
       "      <td>$858MM</td>\n",
       "    </tr>\n",
       "    <tr>\n",
       "      <td>2</td>\n",
       "      <td>tt0499549</td>\n",
       "      <td>Avatar</td>\n",
       "      <td>2009</td>\n",
       "      <td>James Cameron</td>\n",
       "      <td>Twentieth Century Fox</td>\n",
       "      <td>[US]</td>\n",
       "      <td>533</td>\n",
       "      <td>$237MM</td>\n",
       "      <td>$761MM</td>\n",
       "    </tr>\n",
       "    <tr>\n",
       "      <td>3</td>\n",
       "      <td>tt1825683</td>\n",
       "      <td>Black Panther</td>\n",
       "      <td>2018</td>\n",
       "      <td>Ryan Coogler</td>\n",
       "      <td>Marvel Studios</td>\n",
       "      <td>[US]</td>\n",
       "      <td>269</td>\n",
       "      <td>$200MM</td>\n",
       "      <td>$700MM</td>\n",
       "    </tr>\n",
       "    <tr>\n",
       "      <td>4</td>\n",
       "      <td>tt4154756</td>\n",
       "      <td>Avengers: Infinity War</td>\n",
       "      <td>2018</td>\n",
       "      <td>Anthony Russo</td>\n",
       "      <td>Marvel Studios</td>\n",
       "      <td>[US]</td>\n",
       "      <td>376</td>\n",
       "      <td>$321MM</td>\n",
       "      <td>$679MM</td>\n",
       "    </tr>\n",
       "  </tbody>\n",
       "</table>\n",
       "</div>"
      ],
      "text/plain": [
       "     imdb_id                                       title  year       director  \\\n",
       "0  tt2488496  Star Wars: Episode VII - The Force Awakens  2015    J.J. Abrams   \n",
       "1  tt4154796                           Avengers: Endgame  2019  Anthony Russo   \n",
       "2  tt0499549                                      Avatar  2009  James Cameron   \n",
       "3  tt1825683                               Black Panther  2018   Ryan Coogler   \n",
       "4  tt4154756                      Avengers: Infinity War  2018  Anthony Russo   \n",
       "\n",
       "           production_co region_code rank budget_usd us_gross  \n",
       "0              Lucasfilm        [US]  519     $245MM   $937MM  \n",
       "1         Marvel Studios        [US]  111     $356MM   $858MM  \n",
       "2  Twentieth Century Fox        [US]  533     $237MM   $761MM  \n",
       "3         Marvel Studios        [US]  269     $200MM   $700MM  \n",
       "4         Marvel Studios        [US]  376     $321MM   $679MM  "
      ]
     },
     "execution_count": 3,
     "metadata": {},
     "output_type": "execute_result"
    }
   ],
   "source": [
    "revenue_df.head()"
   ]
  },
  {
   "cell_type": "code",
   "execution_count": 4,
   "metadata": {},
   "outputs": [
    {
     "data": {
      "text/html": [
       "<div>\n",
       "<style scoped>\n",
       "    .dataframe tbody tr th:only-of-type {\n",
       "        vertical-align: middle;\n",
       "    }\n",
       "\n",
       "    .dataframe tbody tr th {\n",
       "        vertical-align: top;\n",
       "    }\n",
       "\n",
       "    .dataframe thead th {\n",
       "        text-align: right;\n",
       "    }\n",
       "</style>\n",
       "<table border=\"1\" class=\"dataframe\">\n",
       "  <thead>\n",
       "    <tr style=\"text-align: right;\">\n",
       "      <th></th>\n",
       "      <th>imdb_id</th>\n",
       "      <th>title</th>\n",
       "      <th>year</th>\n",
       "      <th>director</th>\n",
       "      <th>production_co</th>\n",
       "      <th>region_code</th>\n",
       "      <th>rank</th>\n",
       "      <th>budget_usd</th>\n",
       "      <th>us_gross</th>\n",
       "    </tr>\n",
       "  </thead>\n",
       "  <tbody>\n",
       "    <tr>\n",
       "      <td>5194</td>\n",
       "      <td>tt0091605</td>\n",
       "      <td>The Name of the Rose</td>\n",
       "      <td>1986</td>\n",
       "      <td>Jean-Jacques Annaud</td>\n",
       "      <td>Constantin Film</td>\n",
       "      <td>[DE]</td>\n",
       "      <td>2,485</td>\n",
       "      <td>ITL 30B</td>\n",
       "      <td>$7.2MM</td>\n",
       "    </tr>\n",
       "  </tbody>\n",
       "</table>\n",
       "</div>"
      ],
      "text/plain": [
       "        imdb_id                 title  year             director  \\\n",
       "5194  tt0091605  The Name of the Rose  1986  Jean-Jacques Annaud   \n",
       "\n",
       "        production_co region_code   rank budget_usd us_gross  \n",
       "5194  Constantin Film        [DE]  2,485    ITL 30B   $7.2MM  "
      ]
     },
     "execution_count": 4,
     "metadata": {},
     "output_type": "execute_result"
    }
   ],
   "source": [
    "revenue_df.loc[revenue_df['imdb_id'] == 'tt0091605']"
   ]
  },
  {
   "cell_type": "code",
   "execution_count": 5,
   "metadata": {
    "ExecuteTime": {
     "end_time": "2020-03-24T21:45:00.828326Z",
     "start_time": "2020-03-24T21:45:00.799253Z"
    }
   },
   "outputs": [],
   "source": [
    "revenue_df = revenue_df[:-1]"
   ]
  },
  {
   "cell_type": "markdown",
   "metadata": {},
   "source": [
    "### Changes:\n",
    "\n",
    "1. Convert 'us_gross', and 'budget_usd' values into floats. That means stripping the non-number characters out as well as changing 'MM' to ',000,000'.\n",
    "2. Convert year column to int, so the years don't have the trailing .0.\n",
    "3. region_code does not need the brackets around the abbreviations."
   ]
  },
  {
   "cell_type": "code",
   "execution_count": 6,
   "metadata": {
    "ExecuteTime": {
     "end_time": "2020-03-24T21:45:03.347796Z",
     "start_time": "2020-03-24T21:45:03.327513Z"
    },
    "code_folding": []
   },
   "outputs": [],
   "source": [
    "# Created 3/22/2020 with current exhange values. Values not adjusted for the date the movie was created.\n",
    "def get_conversion_rate(value):\n",
    "    \"\"\"Get exchange rate for given currency code\n",
    "    \n",
    "    Arguments:\n",
    "        value (string): String with currency code or symbol in it\n",
    "\n",
    "    Returns:\n",
    "        rate (float): Conversion rate to usd\n",
    "    \"\"\"\n",
    "    if '£' in value:\n",
    "        return 0.854\n",
    "    elif '€' in value:\n",
    "        return 0.9334\n",
    "    elif 'AUD' in value:\n",
    "        return 1.7229\n",
    "    elif 'CAD' in value:\n",
    "        return 1.435\n",
    "    elif 'FRF' in value:\n",
    "        return 6.55957 * 0.9334\n",
    "    elif 'INR' in value:\n",
    "        return 75.394\n",
    "    elif 'THB' in value:\n",
    "        return 32.68\n",
    "    elif 'EM' in value:\n",
    "        return 1 # cant find info on EM\n",
    "    elif 'JPY' in value:\n",
    "        return 110.75\n",
    "    elif 'SKW' in value:\n",
    "        return 1254.45\n",
    "    elif 'HUF' in value:\n",
    "        return 327.94\n",
    "    elif 'NGN' in value:\n",
    "        return 364\n",
    "    elif 'CNY' in value:\n",
    "        return 7.0950\n",
    "    elif 'ESP' in value:\n",
    "        return 155.42826\n",
    "    elif 'RUR' in value:\n",
    "        return 79.87\n",
    "    elif 'HKD' in value:\n",
    "        return 7.7570\n",
    "    elif 'ISK' in value:\n",
    "        return 140.490\n",
    "    elif 'PHP' in value:\n",
    "        return 51.19\n",
    "    elif 'DKK' in value:\n",
    "        return 6.9716\n",
    "    elif 'CZK' in value:\n",
    "        return 25.5620\n",
    "    elif 'SKK' in value:\n",
    "        return 10.3753\n",
    "    elif 'NOK' in value:\n",
    "        return 11.7890\n",
    "    elif 'MXN' in value:\n",
    "        return 24.4215\n",
    "    elif 'JMD' in value:\n",
    "        return 135.07\n",
    "    elif 'PLN' in value:\n",
    "        return 4.23\n",
    "    elif 'KRW' in value:\n",
    "        return 1228.97\n",
    "    elif 'ITL' in value:\n",
    "        return 1804.64\n",
    "    else:\n",
    "        return 1"
   ]
  },
  {
   "cell_type": "code",
   "execution_count": 7,
   "metadata": {
    "ExecuteTime": {
     "end_time": "2020-03-24T21:45:05.409886Z",
     "start_time": "2020-03-24T21:45:05.391233Z"
    },
    "code_folding": [
     0
    ]
   },
   "outputs": [],
   "source": [
    "def strip_currency_code(value):\n",
    "    \"\"\"Strips currency code from front of currency string\n",
    "\n",
    "    Arguments: \n",
    "        value (string): currency amount prefaced with currency code\n",
    "    \n",
    "    Returns:\n",
    "        value (string): value without the currency code\n",
    "    \"\"\"\n",
    "    if value[:1] in '$£€':\n",
    "        return value[1:]\n",
    "    else:\n",
    "        return value[3:]"
   ]
  },
  {
   "cell_type": "code",
   "execution_count": 8,
   "metadata": {
    "ExecuteTime": {
     "end_time": "2020-03-24T21:45:07.317330Z",
     "start_time": "2020-03-24T21:45:07.308065Z"
    },
    "code_folding": [
     0
    ]
   },
   "outputs": [],
   "source": [
    "def convert_money(value):\n",
    "    \"\"\"Takes currency string and parses it into correct amount in USD\n",
    "    \n",
    "    Arguments:\n",
    "        value (string): currency in form: CAD 345.3B \n",
    "\n",
    "    Returns:\n",
    "        value (int): currency converted to USD and in standard numeric form\n",
    "    \"\"\"\n",
    "    # type check:\n",
    "    if type(value) != str:\n",
    "        return\n",
    "    \n",
    "    # check currency sign and get coefficient\n",
    "    coef = get_conversion_rate(value)\n",
    "    value = strip_currency_code(value)\n",
    "    if 'K' in value:\n",
    "        value = (float(value.strip('K')) * 1000) / coef\n",
    "    elif 'MM' in value:\n",
    "        value = (float(value.strip('MM')) * 1000000) / coef\n",
    "    elif 'B' in value:\n",
    "        value = (float(value.strip('B')) * 1000000000) / coef\n",
    "    else:\n",
    "        value = float(value.strip()) / coef\n",
    "    return value"
   ]
  },
  {
   "cell_type": "code",
   "execution_count": 9,
   "metadata": {
    "ExecuteTime": {
     "end_time": "2020-03-24T21:45:09.366834Z",
     "start_time": "2020-03-24T21:45:09.225402Z"
    }
   },
   "outputs": [],
   "source": [
    "revenue_df['us_gross'] = revenue_df['us_gross'].apply(convert_money)"
   ]
  },
  {
   "cell_type": "code",
   "execution_count": 10,
   "metadata": {},
   "outputs": [
    {
     "data": {
      "text/plain": [
       "0        937000000.0\n",
       "1        858000000.0\n",
       "2        761000000.0\n",
       "3        700000000.0\n",
       "4        679000000.0\n",
       "            ...     \n",
       "14696            NaN\n",
       "14697            NaN\n",
       "14698            NaN\n",
       "14699            NaN\n",
       "14700            NaN\n",
       "Name: us_gross, Length: 14701, dtype: float64"
      ]
     },
     "execution_count": 10,
     "metadata": {},
     "output_type": "execute_result"
    }
   ],
   "source": [
    "revenue_df['us_gross']"
   ]
  },
  {
   "cell_type": "code",
   "execution_count": 11,
   "metadata": {
    "ExecuteTime": {
     "end_time": "2020-03-24T21:45:11.409761Z",
     "start_time": "2020-03-24T21:45:11.344963Z"
    }
   },
   "outputs": [],
   "source": [
    "revenue_df['budget_usd'] = revenue_df['budget_usd'].apply(convert_money)"
   ]
  },
  {
   "cell_type": "code",
   "execution_count": 12,
   "metadata": {
    "ExecuteTime": {
     "end_time": "2020-03-24T21:45:13.682594Z",
     "start_time": "2020-03-24T21:45:13.672994Z"
    }
   },
   "outputs": [
    {
     "data": {
      "text/plain": [
       "6705"
      ]
     },
     "execution_count": 12,
     "metadata": {},
     "output_type": "execute_result"
    }
   ],
   "source": [
    "revenue_df['budget_usd'].isna().sum()"
   ]
  },
  {
   "cell_type": "code",
   "execution_count": 13,
   "metadata": {
    "ExecuteTime": {
     "end_time": "2020-03-24T21:45:15.711263Z",
     "start_time": "2020-03-24T21:45:15.665132Z"
    }
   },
   "outputs": [
    {
     "data": {
      "text/html": [
       "<div>\n",
       "<style scoped>\n",
       "    .dataframe tbody tr th:only-of-type {\n",
       "        vertical-align: middle;\n",
       "    }\n",
       "\n",
       "    .dataframe tbody tr th {\n",
       "        vertical-align: top;\n",
       "    }\n",
       "\n",
       "    .dataframe thead th {\n",
       "        text-align: right;\n",
       "    }\n",
       "</style>\n",
       "<table border=\"1\" class=\"dataframe\">\n",
       "  <thead>\n",
       "    <tr style=\"text-align: right;\">\n",
       "      <th></th>\n",
       "      <th>imdb_id</th>\n",
       "      <th>title</th>\n",
       "      <th>year</th>\n",
       "      <th>director</th>\n",
       "      <th>production_co</th>\n",
       "      <th>region_code</th>\n",
       "      <th>rank</th>\n",
       "      <th>budget_usd</th>\n",
       "      <th>us_gross</th>\n",
       "    </tr>\n",
       "  </thead>\n",
       "  <tbody>\n",
       "    <tr>\n",
       "      <td>3441</td>\n",
       "      <td>tt1430612</td>\n",
       "      <td>Brick Mansions</td>\n",
       "      <td>2014</td>\n",
       "      <td>Camille Delamarre</td>\n",
       "      <td>Relativity Media</td>\n",
       "      <td>[US]</td>\n",
       "      <td>8,992</td>\n",
       "      <td>28000000.0</td>\n",
       "      <td>20000000.0</td>\n",
       "    </tr>\n",
       "    <tr>\n",
       "      <td>10132</td>\n",
       "      <td>tt3458236</td>\n",
       "      <td>Lambert &amp; Stamp</td>\n",
       "      <td>2014</td>\n",
       "      <td>James D. Cooper</td>\n",
       "      <td>Motocinema</td>\n",
       "      <td>[US]</td>\n",
       "      <td>158,522</td>\n",
       "      <td>NaN</td>\n",
       "      <td>183000.0</td>\n",
       "    </tr>\n",
       "    <tr>\n",
       "      <td>6536</td>\n",
       "      <td>tt1127715</td>\n",
       "      <td>Sin Nombre</td>\n",
       "      <td>2009</td>\n",
       "      <td>Cary Joji Fukunaga</td>\n",
       "      <td>Scion Films</td>\n",
       "      <td>[GB]</td>\n",
       "      <td>9,926</td>\n",
       "      <td>NaN</td>\n",
       "      <td>2500000.0</td>\n",
       "    </tr>\n",
       "    <tr>\n",
       "      <td>13256</td>\n",
       "      <td>tt2063819</td>\n",
       "      <td>The Olivia Experiment</td>\n",
       "      <td>2012</td>\n",
       "      <td>Sonja Schenk</td>\n",
       "      <td>Mansfield Films</td>\n",
       "      <td>[US]</td>\n",
       "      <td>110,963</td>\n",
       "      <td>NaN</td>\n",
       "      <td>15000.0</td>\n",
       "    </tr>\n",
       "    <tr>\n",
       "      <td>4631</td>\n",
       "      <td>tt0089629</td>\n",
       "      <td>Moving Violations</td>\n",
       "      <td>1985</td>\n",
       "      <td>Neal Israel</td>\n",
       "      <td>SLM Production Group</td>\n",
       "      <td>[US]</td>\n",
       "      <td>15,521</td>\n",
       "      <td>NaN</td>\n",
       "      <td>11000000.0</td>\n",
       "    </tr>\n",
       "  </tbody>\n",
       "</table>\n",
       "</div>"
      ],
      "text/plain": [
       "         imdb_id                  title  year            director  \\\n",
       "3441   tt1430612         Brick Mansions  2014   Camille Delamarre   \n",
       "10132  tt3458236        Lambert & Stamp  2014     James D. Cooper   \n",
       "6536   tt1127715             Sin Nombre  2009  Cary Joji Fukunaga   \n",
       "13256  tt2063819  The Olivia Experiment  2012        Sonja Schenk   \n",
       "4631   tt0089629      Moving Violations  1985         Neal Israel   \n",
       "\n",
       "              production_co region_code     rank  budget_usd    us_gross  \n",
       "3441       Relativity Media        [US]    8,992  28000000.0  20000000.0  \n",
       "10132            Motocinema        [US]  158,522         NaN    183000.0  \n",
       "6536            Scion Films        [GB]    9,926         NaN   2500000.0  \n",
       "13256       Mansfield Films        [US]  110,963         NaN     15000.0  \n",
       "4631   SLM Production Group        [US]   15,521         NaN  11000000.0  "
      ]
     },
     "execution_count": 13,
     "metadata": {},
     "output_type": "execute_result"
    }
   ],
   "source": [
    "revenue_df.sample(5)"
   ]
  },
  {
   "cell_type": "markdown",
   "metadata": {},
   "source": [
    "Now for region code. We actually don't need this column so we will drop it."
   ]
  },
  {
   "cell_type": "code",
   "execution_count": 14,
   "metadata": {
    "ExecuteTime": {
     "end_time": "2020-03-24T21:45:18.088171Z",
     "start_time": "2020-03-24T21:45:18.076738Z"
    }
   },
   "outputs": [],
   "source": [
    "revenue_df.drop(columns='region_code', inplace=True)"
   ]
  },
  {
   "cell_type": "markdown",
   "metadata": {},
   "source": [
    "For the 'year' column we went ahead and dropped the missing rows, because there were only 6 of them."
   ]
  },
  {
   "cell_type": "code",
   "execution_count": 15,
   "metadata": {
    "ExecuteTime": {
     "end_time": "2020-03-24T21:45:20.349270Z",
     "start_time": "2020-03-24T21:45:20.296623Z"
    }
   },
   "outputs": [
    {
     "data": {
      "text/plain": [
       "imdb_id             1\n",
       "title               1\n",
       "year               16\n",
       "director           30\n",
       "production_co     356\n",
       "rank               13\n",
       "budget_usd       6705\n",
       "us_gross          103\n",
       "dtype: int64"
      ]
     },
     "execution_count": 15,
     "metadata": {},
     "output_type": "execute_result"
    }
   ],
   "source": [
    "revenue_df.isna().sum()"
   ]
  },
  {
   "cell_type": "markdown",
   "metadata": {},
   "source": [
    "Cleaning up Nan values:"
   ]
  },
  {
   "cell_type": "code",
   "execution_count": 16,
   "metadata": {
    "ExecuteTime": {
     "end_time": "2020-03-24T21:45:22.308891Z",
     "start_time": "2020-03-24T21:45:22.295609Z"
    }
   },
   "outputs": [],
   "source": [
    "# first, change the missing values from budget to -1, so we dont drop 1910 rows.\n",
    "revenue_df['budget_usd'] = revenue_df['budget_usd'].fillna(-1)"
   ]
  },
  {
   "cell_type": "code",
   "execution_count": 17,
   "metadata": {
    "ExecuteTime": {
     "end_time": "2020-03-24T21:45:24.376371Z",
     "start_time": "2020-03-24T21:45:24.357921Z"
    }
   },
   "outputs": [],
   "source": [
    "# also, fill in the production_co missing values with an 'Unknown'\n",
    "revenue_df['production_co'] = revenue_df['production_co'].fillna('Unknown')"
   ]
  },
  {
   "cell_type": "code",
   "execution_count": 18,
   "metadata": {
    "ExecuteTime": {
     "end_time": "2020-03-24T21:45:26.199245Z",
     "start_time": "2020-03-24T21:45:26.173605Z"
    }
   },
   "outputs": [
    {
     "name": "stdout",
     "output_type": "stream",
     "text": [
      "<class 'pandas.core.frame.DataFrame'>\n",
      "RangeIndex: 14701 entries, 0 to 14700\n",
      "Data columns (total 8 columns):\n",
      "imdb_id          14700 non-null object\n",
      "title            14700 non-null object\n",
      "year             14685 non-null object\n",
      "director         14671 non-null object\n",
      "production_co    14701 non-null object\n",
      "rank             14688 non-null object\n",
      "budget_usd       14701 non-null float64\n",
      "us_gross         14598 non-null float64\n",
      "dtypes: float64(2), object(6)\n",
      "memory usage: 918.9+ KB\n"
     ]
    }
   ],
   "source": [
    "revenue_df.info()"
   ]
  },
  {
   "cell_type": "code",
   "execution_count": 19,
   "metadata": {
    "ExecuteTime": {
     "end_time": "2020-03-24T21:45:28.132380Z",
     "start_time": "2020-03-24T21:45:28.116299Z"
    }
   },
   "outputs": [],
   "source": [
    "revenue_df = revenue_df.dropna()"
   ]
  },
  {
   "cell_type": "code",
   "execution_count": 20,
   "metadata": {
    "ExecuteTime": {
     "end_time": "2020-03-24T21:45:28.164880Z",
     "start_time": "2020-03-24T21:45:28.140429Z"
    }
   },
   "outputs": [
    {
     "data": {
      "text/html": [
       "<div>\n",
       "<style scoped>\n",
       "    .dataframe tbody tr th:only-of-type {\n",
       "        vertical-align: middle;\n",
       "    }\n",
       "\n",
       "    .dataframe tbody tr th {\n",
       "        vertical-align: top;\n",
       "    }\n",
       "\n",
       "    .dataframe thead th {\n",
       "        text-align: right;\n",
       "    }\n",
       "</style>\n",
       "<table border=\"1\" class=\"dataframe\">\n",
       "  <thead>\n",
       "    <tr style=\"text-align: right;\">\n",
       "      <th></th>\n",
       "      <th>imdb_id</th>\n",
       "      <th>title</th>\n",
       "      <th>year</th>\n",
       "      <th>director</th>\n",
       "      <th>production_co</th>\n",
       "      <th>rank</th>\n",
       "      <th>budget_usd</th>\n",
       "      <th>us_gross</th>\n",
       "    </tr>\n",
       "  </thead>\n",
       "  <tbody>\n",
       "    <tr>\n",
       "      <td>63</td>\n",
       "      <td>tt2250912</td>\n",
       "      <td>Spider-Man: Homecoming</td>\n",
       "      <td>2017</td>\n",
       "      <td>Jon Watts</td>\n",
       "      <td>Columbia Pictures</td>\n",
       "      <td>624</td>\n",
       "      <td>175000000.0</td>\n",
       "      <td>334000000.0</td>\n",
       "    </tr>\n",
       "    <tr>\n",
       "      <td>8239</td>\n",
       "      <td>tt0109655</td>\n",
       "      <td>Double Happiness</td>\n",
       "      <td>1994</td>\n",
       "      <td>Mina Shum</td>\n",
       "      <td>British Columbia Film Commission</td>\n",
       "      <td>46,162</td>\n",
       "      <td>-1.0</td>\n",
       "      <td>759000.0</td>\n",
       "    </tr>\n",
       "    <tr>\n",
       "      <td>2235</td>\n",
       "      <td>tt0146336</td>\n",
       "      <td>Urban Legend</td>\n",
       "      <td>1998</td>\n",
       "      <td>Jamie Blanks</td>\n",
       "      <td>Phoenix Pictures</td>\n",
       "      <td>3,984</td>\n",
       "      <td>14000000.0</td>\n",
       "      <td>38000000.0</td>\n",
       "    </tr>\n",
       "    <tr>\n",
       "      <td>13724</td>\n",
       "      <td>tt4031126</td>\n",
       "      <td>Lycan</td>\n",
       "      <td>2017</td>\n",
       "      <td>Bev Land</td>\n",
       "      <td>1 Bullet in the Gun Productions</td>\n",
       "      <td>32,164</td>\n",
       "      <td>250000.0</td>\n",
       "      <td>9000.0</td>\n",
       "    </tr>\n",
       "    <tr>\n",
       "      <td>3874</td>\n",
       "      <td>tt0315733</td>\n",
       "      <td>21 Grams</td>\n",
       "      <td>2003</td>\n",
       "      <td>Alejandro G. Iñárritu</td>\n",
       "      <td>This Is That Productions</td>\n",
       "      <td>5,120</td>\n",
       "      <td>20000000.0</td>\n",
       "      <td>16000000.0</td>\n",
       "    </tr>\n",
       "  </tbody>\n",
       "</table>\n",
       "</div>"
      ],
      "text/plain": [
       "         imdb_id                   title  year               director  \\\n",
       "63     tt2250912  Spider-Man: Homecoming  2017              Jon Watts   \n",
       "8239   tt0109655        Double Happiness  1994              Mina Shum   \n",
       "2235   tt0146336            Urban Legend  1998           Jamie Blanks   \n",
       "13724  tt4031126                   Lycan  2017               Bev Land   \n",
       "3874   tt0315733                21 Grams  2003  Alejandro G. Iñárritu   \n",
       "\n",
       "                          production_co    rank   budget_usd     us_gross  \n",
       "63                    Columbia Pictures     624  175000000.0  334000000.0  \n",
       "8239   British Columbia Film Commission  46,162         -1.0     759000.0  \n",
       "2235                   Phoenix Pictures   3,984   14000000.0   38000000.0  \n",
       "13724   1 Bullet in the Gun Productions  32,164     250000.0       9000.0  \n",
       "3874           This Is That Productions   5,120   20000000.0   16000000.0  "
      ]
     },
     "execution_count": 20,
     "metadata": {},
     "output_type": "execute_result"
    }
   ],
   "source": [
    "revenue_df.sample(5)"
   ]
  },
  {
   "cell_type": "markdown",
   "metadata": {},
   "source": [
    "Now for dropping duplicates:"
   ]
  },
  {
   "cell_type": "code",
   "execution_count": 21,
   "metadata": {
    "ExecuteTime": {
     "end_time": "2020-03-24T21:45:31.968955Z",
     "start_time": "2020-03-24T21:45:31.890309Z"
    }
   },
   "outputs": [],
   "source": [
    "revenue_df = revenue_df.drop_duplicates()"
   ]
  },
  {
   "cell_type": "code",
   "execution_count": 22,
   "metadata": {
    "ExecuteTime": {
     "end_time": "2020-03-24T21:45:33.764269Z",
     "start_time": "2020-03-24T21:45:33.745870Z"
    }
   },
   "outputs": [
    {
     "name": "stdout",
     "output_type": "stream",
     "text": [
      "<class 'pandas.core.frame.DataFrame'>\n",
      "Int64Index: 14431 entries, 0 to 14598\n",
      "Data columns (total 8 columns):\n",
      "imdb_id          14431 non-null object\n",
      "title            14431 non-null object\n",
      "year             14431 non-null object\n",
      "director         14431 non-null object\n",
      "production_co    14431 non-null object\n",
      "rank             14431 non-null object\n",
      "budget_usd       14431 non-null float64\n",
      "us_gross         14431 non-null float64\n",
      "dtypes: float64(2), object(6)\n",
      "memory usage: 1014.7+ KB\n"
     ]
    }
   ],
   "source": [
    "revenue_df.info()"
   ]
  },
  {
   "cell_type": "code",
   "execution_count": 23,
   "metadata": {
    "ExecuteTime": {
     "end_time": "2020-03-24T21:45:35.709168Z",
     "start_time": "2020-03-24T21:45:35.656232Z"
    }
   },
   "outputs": [
    {
     "data": {
      "text/html": [
       "<div>\n",
       "<style scoped>\n",
       "    .dataframe tbody tr th:only-of-type {\n",
       "        vertical-align: middle;\n",
       "    }\n",
       "\n",
       "    .dataframe tbody tr th {\n",
       "        vertical-align: top;\n",
       "    }\n",
       "\n",
       "    .dataframe thead th {\n",
       "        text-align: right;\n",
       "    }\n",
       "</style>\n",
       "<table border=\"1\" class=\"dataframe\">\n",
       "  <thead>\n",
       "    <tr style=\"text-align: right;\">\n",
       "      <th></th>\n",
       "      <th>imdb_id</th>\n",
       "      <th>title</th>\n",
       "      <th>year</th>\n",
       "      <th>director</th>\n",
       "      <th>production_co</th>\n",
       "      <th>rank</th>\n",
       "      <th>budget_usd</th>\n",
       "      <th>us_gross</th>\n",
       "    </tr>\n",
       "  </thead>\n",
       "  <tbody>\n",
       "    <tr>\n",
       "      <td>2558</td>\n",
       "      <td>tt0063442</td>\n",
       "      <td>Planet of the Apes</td>\n",
       "      <td>1968</td>\n",
       "      <td>Franklin J. Schaffner</td>\n",
       "      <td>APJAC Productions</td>\n",
       "      <td>2,942</td>\n",
       "      <td>5800000.0</td>\n",
       "      <td>33000000.0</td>\n",
       "    </tr>\n",
       "    <tr>\n",
       "      <td>10633</td>\n",
       "      <td>tt3626442</td>\n",
       "      <td>Björk: Biophilia Live</td>\n",
       "      <td>2014</td>\n",
       "      <td>Nick Fenton</td>\n",
       "      <td>Unknown</td>\n",
       "      <td>242,834</td>\n",
       "      <td>-1.0</td>\n",
       "      <td>128000.0</td>\n",
       "    </tr>\n",
       "    <tr>\n",
       "      <td>4021</td>\n",
       "      <td>tt0089421</td>\n",
       "      <td>King Solomon's Mines</td>\n",
       "      <td>1985</td>\n",
       "      <td>J. Lee Thompson</td>\n",
       "      <td>Cannon Group</td>\n",
       "      <td>10,361</td>\n",
       "      <td>12000000.0</td>\n",
       "      <td>15000000.0</td>\n",
       "    </tr>\n",
       "  </tbody>\n",
       "</table>\n",
       "</div>"
      ],
      "text/plain": [
       "         imdb_id                  title  year               director  \\\n",
       "2558   tt0063442     Planet of the Apes  1968  Franklin J. Schaffner   \n",
       "10633  tt3626442  Björk: Biophilia Live  2014            Nick Fenton   \n",
       "4021   tt0089421   King Solomon's Mines  1985        J. Lee Thompson   \n",
       "\n",
       "           production_co     rank  budget_usd    us_gross  \n",
       "2558   APJAC Productions    2,942   5800000.0  33000000.0  \n",
       "10633            Unknown  242,834        -1.0    128000.0  \n",
       "4021        Cannon Group   10,361  12000000.0  15000000.0  "
      ]
     },
     "execution_count": 23,
     "metadata": {},
     "output_type": "execute_result"
    }
   ],
   "source": [
    "revenue_df.sample(3)"
   ]
  },
  {
   "cell_type": "code",
   "execution_count": 24,
   "metadata": {},
   "outputs": [],
   "source": [
    "def calc_revenue(df):\n",
    "    return df['us_gross'] - df['budget_usd'] "
   ]
  },
  {
   "cell_type": "code",
   "execution_count": 25,
   "metadata": {},
   "outputs": [],
   "source": [
    "revenue_df['revenue'] = revenue_df[revenue_df['budget_usd'] > 0].apply(calc_revenue, axis=1)"
   ]
  },
  {
   "cell_type": "markdown",
   "metadata": {},
   "source": [
    "Added in a revenue column after being advised about how much better it would be for a metric."
   ]
  },
  {
   "cell_type": "code",
   "execution_count": 26,
   "metadata": {
    "ExecuteTime": {
     "end_time": "2020-03-24T21:45:43.135797Z",
     "start_time": "2020-03-24T21:45:43.065635Z"
    }
   },
   "outputs": [
    {
     "data": {
      "text/html": [
       "<div>\n",
       "<style scoped>\n",
       "    .dataframe tbody tr th:only-of-type {\n",
       "        vertical-align: middle;\n",
       "    }\n",
       "\n",
       "    .dataframe tbody tr th {\n",
       "        vertical-align: top;\n",
       "    }\n",
       "\n",
       "    .dataframe thead th {\n",
       "        text-align: right;\n",
       "    }\n",
       "</style>\n",
       "<table border=\"1\" class=\"dataframe\">\n",
       "  <thead>\n",
       "    <tr style=\"text-align: right;\">\n",
       "      <th></th>\n",
       "      <th>imdb_id</th>\n",
       "      <th>title</th>\n",
       "      <th>year</th>\n",
       "      <th>director</th>\n",
       "      <th>production_co</th>\n",
       "      <th>rank</th>\n",
       "      <th>budget_usd</th>\n",
       "      <th>us_gross</th>\n",
       "      <th>revenue</th>\n",
       "    </tr>\n",
       "  </thead>\n",
       "  <tbody>\n",
       "    <tr>\n",
       "      <td>1107</td>\n",
       "      <td>tt0401729</td>\n",
       "      <td>John Carter</td>\n",
       "      <td>2012</td>\n",
       "      <td>Andrew Stanton</td>\n",
       "      <td>Walt Disney Pictures</td>\n",
       "      <td>1,817</td>\n",
       "      <td>250000000.0</td>\n",
       "      <td>73000000.0</td>\n",
       "      <td>-177000000.0</td>\n",
       "    </tr>\n",
       "    <tr>\n",
       "      <td>1271</td>\n",
       "      <td>tt1440129</td>\n",
       "      <td>Battleship</td>\n",
       "      <td>2012</td>\n",
       "      <td>Peter Berg</td>\n",
       "      <td>Universal Pictures</td>\n",
       "      <td>3,013</td>\n",
       "      <td>209000000.0</td>\n",
       "      <td>65000000.0</td>\n",
       "      <td>-144000000.0</td>\n",
       "    </tr>\n",
       "  </tbody>\n",
       "</table>\n",
       "</div>"
      ],
      "text/plain": [
       "        imdb_id        title  year        director         production_co  \\\n",
       "1107  tt0401729  John Carter  2012  Andrew Stanton  Walt Disney Pictures   \n",
       "1271  tt1440129   Battleship  2012      Peter Berg    Universal Pictures   \n",
       "\n",
       "       rank   budget_usd    us_gross      revenue  \n",
       "1107  1,817  250000000.0  73000000.0 -177000000.0  \n",
       "1271  3,013  209000000.0  65000000.0 -144000000.0  "
      ]
     },
     "execution_count": 26,
     "metadata": {},
     "output_type": "execute_result"
    }
   ],
   "source": [
    "revenue_df[revenue_df['budget_usd'] > 0].sort_values('revenue').head(2)"
   ]
  },
  {
   "cell_type": "markdown",
   "metadata": {},
   "source": [
    "Change rank type from string to int"
   ]
  },
  {
   "cell_type": "code",
   "execution_count": 27,
   "metadata": {},
   "outputs": [],
   "source": [
    "def fix_rank(value):\n",
    "    value = value.replace(',', '')\n",
    "    return int(value)"
   ]
  },
  {
   "cell_type": "code",
   "execution_count": 28,
   "metadata": {},
   "outputs": [],
   "source": [
    "revenue_df['rank'] = revenue_df['rank'].apply(fix_rank)\n",
    "revenue_df['popular'] = revenue_df['rank'].apply(lambda x: x < revenue_df['rank'].quantile(.1))"
   ]
  },
  {
   "cell_type": "code",
   "execution_count": 29,
   "metadata": {},
   "outputs": [
    {
     "data": {
      "text/html": [
       "<div>\n",
       "<style scoped>\n",
       "    .dataframe tbody tr th:only-of-type {\n",
       "        vertical-align: middle;\n",
       "    }\n",
       "\n",
       "    .dataframe tbody tr th {\n",
       "        vertical-align: top;\n",
       "    }\n",
       "\n",
       "    .dataframe thead th {\n",
       "        text-align: right;\n",
       "    }\n",
       "</style>\n",
       "<table border=\"1\" class=\"dataframe\">\n",
       "  <thead>\n",
       "    <tr style=\"text-align: right;\">\n",
       "      <th></th>\n",
       "      <th>imdb_id</th>\n",
       "      <th>title</th>\n",
       "      <th>year</th>\n",
       "      <th>director</th>\n",
       "      <th>production_co</th>\n",
       "      <th>rank</th>\n",
       "      <th>budget_usd</th>\n",
       "      <th>us_gross</th>\n",
       "      <th>revenue</th>\n",
       "      <th>popular</th>\n",
       "    </tr>\n",
       "  </thead>\n",
       "  <tbody>\n",
       "    <tr>\n",
       "      <td>8753</td>\n",
       "      <td>tt0101991</td>\n",
       "      <td>Rhapsody in August</td>\n",
       "      <td>1991</td>\n",
       "      <td>Akira Kurosawa</td>\n",
       "      <td>Feature Film Enterprise II</td>\n",
       "      <td>22493</td>\n",
       "      <td>-1.0</td>\n",
       "      <td>516000.0</td>\n",
       "      <td>NaN</td>\n",
       "      <td>False</td>\n",
       "    </tr>\n",
       "    <tr>\n",
       "      <td>11469</td>\n",
       "      <td>tt2358456</td>\n",
       "      <td>I Am Big Bird: The Caroll Spinney Story</td>\n",
       "      <td>2014</td>\n",
       "      <td>Dave LaMattina</td>\n",
       "      <td>Copper Pot Pictures</td>\n",
       "      <td>76677</td>\n",
       "      <td>100000.0</td>\n",
       "      <td>68000.0</td>\n",
       "      <td>-32000.0</td>\n",
       "      <td>False</td>\n",
       "    </tr>\n",
       "    <tr>\n",
       "      <td>9994</td>\n",
       "      <td>tt7014234</td>\n",
       "      <td>The Iron Orchard</td>\n",
       "      <td>2018</td>\n",
       "      <td>Ty Roberts</td>\n",
       "      <td>Santa Rita Film Co.</td>\n",
       "      <td>37375</td>\n",
       "      <td>-1.0</td>\n",
       "      <td>205000.0</td>\n",
       "      <td>NaN</td>\n",
       "      <td>False</td>\n",
       "    </tr>\n",
       "  </tbody>\n",
       "</table>\n",
       "</div>"
      ],
      "text/plain": [
       "         imdb_id                                    title  year  \\\n",
       "8753   tt0101991                       Rhapsody in August  1991   \n",
       "11469  tt2358456  I Am Big Bird: The Caroll Spinney Story  2014   \n",
       "9994   tt7014234                         The Iron Orchard  2018   \n",
       "\n",
       "             director               production_co   rank  budget_usd  \\\n",
       "8753   Akira Kurosawa  Feature Film Enterprise II  22493        -1.0   \n",
       "11469  Dave LaMattina         Copper Pot Pictures  76677    100000.0   \n",
       "9994       Ty Roberts         Santa Rita Film Co.  37375        -1.0   \n",
       "\n",
       "       us_gross  revenue  popular  \n",
       "8753   516000.0      NaN    False  \n",
       "11469   68000.0 -32000.0    False  \n",
       "9994   205000.0      NaN    False  "
      ]
     },
     "execution_count": 29,
     "metadata": {},
     "output_type": "execute_result"
    }
   ],
   "source": [
    "revenue_df.sample(3)"
   ]
  },
  {
   "cell_type": "markdown",
   "metadata": {},
   "source": [
    "### Save as CSV"
   ]
  },
  {
   "cell_type": "code",
   "execution_count": 30,
   "metadata": {
    "ExecuteTime": {
     "end_time": "2020-03-24T21:45:38.522024Z",
     "start_time": "2020-03-24T21:45:38.342582Z"
    }
   },
   "outputs": [],
   "source": [
    "revenue_save_path = os.path.join(os.pardir, 'data', 'processed', 'revenue.csv')\n",
    "revenue_df.to_csv(revenue_save_path, index=False)"
   ]
  },
  {
   "cell_type": "code",
   "execution_count": 31,
   "metadata": {
    "ExecuteTime": {
     "end_time": "2020-03-24T21:45:40.984328Z",
     "start_time": "2020-03-24T21:45:40.810483Z"
    }
   },
   "outputs": [
    {
     "data": {
      "text/html": [
       "<div>\n",
       "<style scoped>\n",
       "    .dataframe tbody tr th:only-of-type {\n",
       "        vertical-align: middle;\n",
       "    }\n",
       "\n",
       "    .dataframe tbody tr th {\n",
       "        vertical-align: top;\n",
       "    }\n",
       "\n",
       "    .dataframe thead th {\n",
       "        text-align: right;\n",
       "    }\n",
       "</style>\n",
       "<table border=\"1\" class=\"dataframe\">\n",
       "  <thead>\n",
       "    <tr style=\"text-align: right;\">\n",
       "      <th></th>\n",
       "      <th>imdb_id</th>\n",
       "      <th>title</th>\n",
       "      <th>year</th>\n",
       "      <th>director</th>\n",
       "      <th>production_co</th>\n",
       "      <th>rank</th>\n",
       "      <th>budget_usd</th>\n",
       "      <th>us_gross</th>\n",
       "      <th>revenue</th>\n",
       "      <th>popular</th>\n",
       "    </tr>\n",
       "  </thead>\n",
       "  <tbody>\n",
       "    <tr>\n",
       "      <td>1038</td>\n",
       "      <td>tt0088011</td>\n",
       "      <td>Romancing the Stone</td>\n",
       "      <td>1984</td>\n",
       "      <td>Robert Zemeckis</td>\n",
       "      <td>Twentieth Century Fox</td>\n",
       "      <td>3899</td>\n",
       "      <td>10000000.0</td>\n",
       "      <td>77000000.0</td>\n",
       "      <td>67000000.0</td>\n",
       "      <td>False</td>\n",
       "    </tr>\n",
       "    <tr>\n",
       "      <td>5071</td>\n",
       "      <td>tt2170299</td>\n",
       "      <td>Bad Words</td>\n",
       "      <td>2013</td>\n",
       "      <td>Jason Bateman</td>\n",
       "      <td>Aggregate Films</td>\n",
       "      <td>9677</td>\n",
       "      <td>10000000.0</td>\n",
       "      <td>7800000.0</td>\n",
       "      <td>-2200000.0</td>\n",
       "      <td>False</td>\n",
       "    </tr>\n",
       "    <tr>\n",
       "      <td>9667</td>\n",
       "      <td>tt0398971</td>\n",
       "      <td>Down and Derby</td>\n",
       "      <td>2005</td>\n",
       "      <td>Eric Hendershot</td>\n",
       "      <td>Stonehaven Media</td>\n",
       "      <td>58796</td>\n",
       "      <td>-1.0</td>\n",
       "      <td>232000.0</td>\n",
       "      <td>NaN</td>\n",
       "      <td>False</td>\n",
       "    </tr>\n",
       "  </tbody>\n",
       "</table>\n",
       "</div>"
      ],
      "text/plain": [
       "        imdb_id                title  year         director  \\\n",
       "1038  tt0088011  Romancing the Stone  1984  Robert Zemeckis   \n",
       "5071  tt2170299            Bad Words  2013    Jason Bateman   \n",
       "9667  tt0398971       Down and Derby  2005  Eric Hendershot   \n",
       "\n",
       "              production_co   rank  budget_usd    us_gross     revenue  \\\n",
       "1038  Twentieth Century Fox   3899  10000000.0  77000000.0  67000000.0   \n",
       "5071        Aggregate Films   9677  10000000.0   7800000.0  -2200000.0   \n",
       "9667       Stonehaven Media  58796        -1.0    232000.0         NaN   \n",
       "\n",
       "      popular  \n",
       "1038    False  \n",
       "5071    False  \n",
       "9667    False  "
      ]
     },
     "execution_count": 31,
     "metadata": {},
     "output_type": "execute_result"
    }
   ],
   "source": [
    "test_revenue_save = pd.read_csv(revenue_save_path)\n",
    "test_revenue_save.sample(3)"
   ]
  },
  {
   "cell_type": "markdown",
   "metadata": {},
   "source": [
    "## 2. Genre:\n",
    "For genre we will need a dataset that lists each movie and it's genre. To analyze the success of the genre, we will need to examine the relationship of genre to the revenue earned."
   ]
  },
  {
   "cell_type": "markdown",
   "metadata": {},
   "source": [
    "Bringing in the list of movie titles:"
   ]
  },
  {
   "cell_type": "code",
   "execution_count": 32,
   "metadata": {
    "ExecuteTime": {
     "end_time": "2020-03-24T18:25:59.887423Z",
     "start_time": "2020-03-24T18:25:59.882320Z"
    }
   },
   "outputs": [],
   "source": [
    "titles_path = os.path.join(os.pardir, 'data', 'raw', 'movies.csv')"
   ]
  },
  {
   "cell_type": "code",
   "execution_count": 33,
   "metadata": {
    "ExecuteTime": {
     "end_time": "2020-03-24T18:26:01.982323Z",
     "start_time": "2020-03-24T18:26:00.666811Z"
    }
   },
   "outputs": [
    {
     "data": {
      "text/html": [
       "<div>\n",
       "<style scoped>\n",
       "    .dataframe tbody tr th:only-of-type {\n",
       "        vertical-align: middle;\n",
       "    }\n",
       "\n",
       "    .dataframe tbody tr th {\n",
       "        vertical-align: top;\n",
       "    }\n",
       "\n",
       "    .dataframe thead th {\n",
       "        text-align: right;\n",
       "    }\n",
       "</style>\n",
       "<table border=\"1\" class=\"dataframe\">\n",
       "  <thead>\n",
       "    <tr style=\"text-align: right;\">\n",
       "      <th></th>\n",
       "      <th>tconst</th>\n",
       "      <th>primaryTitle</th>\n",
       "      <th>startYear</th>\n",
       "      <th>genres</th>\n",
       "    </tr>\n",
       "  </thead>\n",
       "  <tbody>\n",
       "    <tr>\n",
       "      <td>0</td>\n",
       "      <td>tt0000009</td>\n",
       "      <td>Miss Jerry</td>\n",
       "      <td>1894</td>\n",
       "      <td>Romance</td>\n",
       "    </tr>\n",
       "    <tr>\n",
       "      <td>1</td>\n",
       "      <td>tt0000147</td>\n",
       "      <td>The Corbett-Fitzsimmons Fight</td>\n",
       "      <td>1897</td>\n",
       "      <td>Documentary,News,Sport</td>\n",
       "    </tr>\n",
       "    <tr>\n",
       "      <td>2</td>\n",
       "      <td>tt0000335</td>\n",
       "      <td>Soldiers of the Cross</td>\n",
       "      <td>1900</td>\n",
       "      <td>Biography,Drama</td>\n",
       "    </tr>\n",
       "    <tr>\n",
       "      <td>3</td>\n",
       "      <td>tt0000502</td>\n",
       "      <td>Bohemios</td>\n",
       "      <td>1905</td>\n",
       "      <td>\\N</td>\n",
       "    </tr>\n",
       "    <tr>\n",
       "      <td>4</td>\n",
       "      <td>tt0000574</td>\n",
       "      <td>The Story of the Kelly Gang</td>\n",
       "      <td>1906</td>\n",
       "      <td>Biography,Crime,Drama</td>\n",
       "    </tr>\n",
       "  </tbody>\n",
       "</table>\n",
       "</div>"
      ],
      "text/plain": [
       "      tconst                   primaryTitle startYear                  genres\n",
       "0  tt0000009                     Miss Jerry      1894                 Romance\n",
       "1  tt0000147  The Corbett-Fitzsimmons Fight      1897  Documentary,News,Sport\n",
       "2  tt0000335          Soldiers of the Cross      1900         Biography,Drama\n",
       "3  tt0000502                       Bohemios      1905                      \\N\n",
       "4  tt0000574    The Story of the Kelly Gang      1906   Biography,Crime,Drama"
      ]
     },
     "execution_count": 33,
     "metadata": {},
     "output_type": "execute_result"
    }
   ],
   "source": [
    "genres_df = pd.read_csv(titles_path)\n",
    "genres_df.head()"
   ]
  },
  {
   "cell_type": "code",
   "execution_count": 34,
   "metadata": {
    "ExecuteTime": {
     "end_time": "2020-03-24T18:26:02.823116Z",
     "start_time": "2020-03-24T18:26:02.673872Z"
    }
   },
   "outputs": [
    {
     "name": "stdout",
     "output_type": "stream",
     "text": [
      "<class 'pandas.core.frame.DataFrame'>\n",
      "RangeIndex: 545821 entries, 0 to 545820\n",
      "Data columns (total 4 columns):\n",
      "tconst          545821 non-null object\n",
      "primaryTitle    545821 non-null object\n",
      "startYear       545821 non-null object\n",
      "genres          545821 non-null object\n",
      "dtypes: object(4)\n",
      "memory usage: 16.7+ MB\n"
     ]
    }
   ],
   "source": [
    "genres_df.info()"
   ]
  },
  {
   "cell_type": "markdown",
   "metadata": {},
   "source": [
    "### Changes:\n",
    "Looking at the initial dataframe, these are the things I would like to change:\n",
    "1. Change column names\n",
    "2. Drop original_title and runtime_minutes columns"
   ]
  },
  {
   "cell_type": "code",
   "execution_count": 35,
   "metadata": {
    "ExecuteTime": {
     "end_time": "2020-03-24T18:26:03.572419Z",
     "start_time": "2020-03-24T18:26:03.337869Z"
    }
   },
   "outputs": [],
   "source": [
    "genres_df = genres_df.rename(columns={'tconst': 'imdb_id', 'primaryTitle': 'title', 'startYear': 'year'})"
   ]
  },
  {
   "cell_type": "code",
   "execution_count": 36,
   "metadata": {
    "ExecuteTime": {
     "end_time": "2020-03-24T18:26:03.659686Z",
     "start_time": "2020-03-24T18:26:03.575826Z"
    }
   },
   "outputs": [
    {
     "data": {
      "text/html": [
       "<div>\n",
       "<style scoped>\n",
       "    .dataframe tbody tr th:only-of-type {\n",
       "        vertical-align: middle;\n",
       "    }\n",
       "\n",
       "    .dataframe tbody tr th {\n",
       "        vertical-align: top;\n",
       "    }\n",
       "\n",
       "    .dataframe thead th {\n",
       "        text-align: right;\n",
       "    }\n",
       "</style>\n",
       "<table border=\"1\" class=\"dataframe\">\n",
       "  <thead>\n",
       "    <tr style=\"text-align: right;\">\n",
       "      <th></th>\n",
       "      <th>imdb_id</th>\n",
       "      <th>title</th>\n",
       "      <th>year</th>\n",
       "      <th>genres</th>\n",
       "    </tr>\n",
       "  </thead>\n",
       "  <tbody>\n",
       "    <tr>\n",
       "      <td>480705</td>\n",
       "      <td>tt6789128</td>\n",
       "      <td>Untitled Bank Project</td>\n",
       "      <td>\\N</td>\n",
       "      <td>Action</td>\n",
       "    </tr>\n",
       "    <tr>\n",
       "      <td>307702</td>\n",
       "      <td>tt1679313</td>\n",
       "      <td>The Problem Solver</td>\n",
       "      <td>2010</td>\n",
       "      <td>Comedy,Mystery</td>\n",
       "    </tr>\n",
       "    <tr>\n",
       "      <td>139518</td>\n",
       "      <td>tt0241625</td>\n",
       "      <td>A keresztes vitézek</td>\n",
       "      <td>1921</td>\n",
       "      <td>\\N</td>\n",
       "    </tr>\n",
       "  </tbody>\n",
       "</table>\n",
       "</div>"
      ],
      "text/plain": [
       "          imdb_id                  title  year          genres\n",
       "480705  tt6789128  Untitled Bank Project    \\N          Action\n",
       "307702  tt1679313     The Problem Solver  2010  Comedy,Mystery\n",
       "139518  tt0241625    A keresztes vitézek  1921              \\N"
      ]
     },
     "execution_count": 36,
     "metadata": {},
     "output_type": "execute_result"
    }
   ],
   "source": [
    "genres_df.sample(3)"
   ]
  },
  {
   "cell_type": "markdown",
   "metadata": {},
   "source": [
    "That looks good. Let me deal with Nan's:"
   ]
  },
  {
   "cell_type": "code",
   "execution_count": 37,
   "metadata": {
    "ExecuteTime": {
     "end_time": "2020-03-24T18:26:03.922683Z",
     "start_time": "2020-03-24T18:26:03.668950Z"
    }
   },
   "outputs": [
    {
     "data": {
      "text/plain": [
       "imdb_id    0\n",
       "title      0\n",
       "year       0\n",
       "genres     0\n",
       "dtype: int64"
      ]
     },
     "execution_count": 37,
     "metadata": {},
     "output_type": "execute_result"
    }
   ],
   "source": [
    "genres_df.isna().sum()"
   ]
  },
  {
   "cell_type": "markdown",
   "metadata": {},
   "source": [
    "### Save as CSV"
   ]
  },
  {
   "cell_type": "code",
   "execution_count": 38,
   "metadata": {
    "ExecuteTime": {
     "end_time": "2020-03-24T18:26:07.383436Z",
     "start_time": "2020-03-24T18:26:05.321253Z"
    }
   },
   "outputs": [],
   "source": [
    "genres_save_path = os.path.join(os.pardir, 'data', 'processed', 'genres.csv')\n",
    "genres_df.to_csv(genres_save_path, index=False)"
   ]
  },
  {
   "cell_type": "code",
   "execution_count": 39,
   "metadata": {
    "ExecuteTime": {
     "end_time": "2020-03-24T18:26:09.281234Z",
     "start_time": "2020-03-24T18:26:08.016328Z"
    }
   },
   "outputs": [
    {
     "data": {
      "text/html": [
       "<div>\n",
       "<style scoped>\n",
       "    .dataframe tbody tr th:only-of-type {\n",
       "        vertical-align: middle;\n",
       "    }\n",
       "\n",
       "    .dataframe tbody tr th {\n",
       "        vertical-align: top;\n",
       "    }\n",
       "\n",
       "    .dataframe thead th {\n",
       "        text-align: right;\n",
       "    }\n",
       "</style>\n",
       "<table border=\"1\" class=\"dataframe\">\n",
       "  <thead>\n",
       "    <tr style=\"text-align: right;\">\n",
       "      <th></th>\n",
       "      <th>imdb_id</th>\n",
       "      <th>title</th>\n",
       "      <th>year</th>\n",
       "      <th>genres</th>\n",
       "    </tr>\n",
       "  </thead>\n",
       "  <tbody>\n",
       "    <tr>\n",
       "      <td>331384</td>\n",
       "      <td>tt2085866</td>\n",
       "      <td>Death Is My Profession</td>\n",
       "      <td>2011</td>\n",
       "      <td>Drama</td>\n",
       "    </tr>\n",
       "    <tr>\n",
       "      <td>320712</td>\n",
       "      <td>tt1876486</td>\n",
       "      <td>The Faces Behind the Dolls</td>\n",
       "      <td>2011</td>\n",
       "      <td>Documentary</td>\n",
       "    </tr>\n",
       "    <tr>\n",
       "      <td>457465</td>\n",
       "      <td>tt5925288</td>\n",
       "      <td>Futari no tougekyou</td>\n",
       "      <td>2016</td>\n",
       "      <td>Documentary</td>\n",
       "    </tr>\n",
       "  </tbody>\n",
       "</table>\n",
       "</div>"
      ],
      "text/plain": [
       "          imdb_id                       title  year       genres\n",
       "331384  tt2085866      Death Is My Profession  2011        Drama\n",
       "320712  tt1876486  The Faces Behind the Dolls  2011  Documentary\n",
       "457465  tt5925288         Futari no tougekyou  2016  Documentary"
      ]
     },
     "execution_count": 39,
     "metadata": {},
     "output_type": "execute_result"
    }
   ],
   "source": [
    "test_genres_save = pd.read_csv(genres_save_path)\n",
    "test_genres_save.sample(3)"
   ]
  },
  {
   "cell_type": "markdown",
   "metadata": {},
   "source": [
    "## 3. Actors\n",
    "These columns will be key in identifying the people who have the ability to produce high quality work on a consistent basis."
   ]
  },
  {
   "cell_type": "code",
   "execution_count": 40,
   "metadata": {
    "ExecuteTime": {
     "end_time": "2020-03-24T18:26:13.036061Z",
     "start_time": "2020-03-24T18:26:10.569032Z"
    }
   },
   "outputs": [],
   "source": [
    "people_path = os.path.join(os.pardir, 'data', 'raw', 'imdb.name.basics.csv')\n",
    "people_df = pd.read_csv(people_path)"
   ]
  },
  {
   "cell_type": "code",
   "execution_count": 41,
   "metadata": {
    "ExecuteTime": {
     "end_time": "2020-03-24T18:26:43.414513Z",
     "start_time": "2020-03-24T18:26:43.365611Z"
    }
   },
   "outputs": [
    {
     "data": {
      "text/html": [
       "<div>\n",
       "<style scoped>\n",
       "    .dataframe tbody tr th:only-of-type {\n",
       "        vertical-align: middle;\n",
       "    }\n",
       "\n",
       "    .dataframe tbody tr th {\n",
       "        vertical-align: top;\n",
       "    }\n",
       "\n",
       "    .dataframe thead th {\n",
       "        text-align: right;\n",
       "    }\n",
       "</style>\n",
       "<table border=\"1\" class=\"dataframe\">\n",
       "  <thead>\n",
       "    <tr style=\"text-align: right;\">\n",
       "      <th></th>\n",
       "      <th>nconst</th>\n",
       "      <th>primary_name</th>\n",
       "      <th>birth_year</th>\n",
       "      <th>death_year</th>\n",
       "      <th>primary_profession</th>\n",
       "      <th>known_for_titles</th>\n",
       "    </tr>\n",
       "  </thead>\n",
       "  <tbody>\n",
       "    <tr>\n",
       "      <td>41757</td>\n",
       "      <td>nm0524900</td>\n",
       "      <td>Dariela Ludlow</td>\n",
       "      <td>NaN</td>\n",
       "      <td>NaN</td>\n",
       "      <td>cinematographer,camera_department,director</td>\n",
       "      <td>tt0416496,tt0485851,tt1532583,tt1127826</td>\n",
       "    </tr>\n",
       "    <tr>\n",
       "      <td>124023</td>\n",
       "      <td>nm2015126</td>\n",
       "      <td>Elena Kagan</td>\n",
       "      <td>NaN</td>\n",
       "      <td>NaN</td>\n",
       "      <td>actress</td>\n",
       "      <td>tt0449519,tt5815100,tt0431022,tt0476978</td>\n",
       "    </tr>\n",
       "    <tr>\n",
       "      <td>228439</td>\n",
       "      <td>nm3301282</td>\n",
       "      <td>Kelley J. Jackson</td>\n",
       "      <td>NaN</td>\n",
       "      <td>NaN</td>\n",
       "      <td>actress,writer,director</td>\n",
       "      <td>tt0840979,tt2402207,tt4039658,tt0203259</td>\n",
       "    </tr>\n",
       "  </tbody>\n",
       "</table>\n",
       "</div>"
      ],
      "text/plain": [
       "           nconst       primary_name  birth_year  death_year  \\\n",
       "41757   nm0524900     Dariela Ludlow         NaN         NaN   \n",
       "124023  nm2015126        Elena Kagan         NaN         NaN   \n",
       "228439  nm3301282  Kelley J. Jackson         NaN         NaN   \n",
       "\n",
       "                                primary_profession  \\\n",
       "41757   cinematographer,camera_department,director   \n",
       "124023                                     actress   \n",
       "228439                     actress,writer,director   \n",
       "\n",
       "                               known_for_titles  \n",
       "41757   tt0416496,tt0485851,tt1532583,tt1127826  \n",
       "124023  tt0449519,tt5815100,tt0431022,tt0476978  \n",
       "228439  tt0840979,tt2402207,tt4039658,tt0203259  "
      ]
     },
     "execution_count": 41,
     "metadata": {},
     "output_type": "execute_result"
    }
   ],
   "source": [
    "people_df.sample(3)"
   ]
  },
  {
   "cell_type": "markdown",
   "metadata": {},
   "source": [
    "### Changes:\n",
    "Some cleanup tasks:\n",
    "1. Change name of primary_name column to 'name'\n",
    "2. Select all the actors and actress\n",
    "3. Drop birth_year, death_year, known_for_titles"
   ]
  },
  {
   "cell_type": "code",
   "execution_count": 42,
   "metadata": {
    "ExecuteTime": {
     "end_time": "2020-03-24T18:26:48.582604Z",
     "start_time": "2020-03-24T18:26:48.538621Z"
    }
   },
   "outputs": [
    {
     "data": {
      "text/html": [
       "<div>\n",
       "<style scoped>\n",
       "    .dataframe tbody tr th:only-of-type {\n",
       "        vertical-align: middle;\n",
       "    }\n",
       "\n",
       "    .dataframe tbody tr th {\n",
       "        vertical-align: top;\n",
       "    }\n",
       "\n",
       "    .dataframe thead th {\n",
       "        text-align: right;\n",
       "    }\n",
       "</style>\n",
       "<table border=\"1\" class=\"dataframe\">\n",
       "  <thead>\n",
       "    <tr style=\"text-align: right;\">\n",
       "      <th></th>\n",
       "      <th>nconst</th>\n",
       "      <th>primary_name</th>\n",
       "      <th>birth_year</th>\n",
       "      <th>death_year</th>\n",
       "      <th>primary_profession</th>\n",
       "      <th>known_for_titles</th>\n",
       "    </tr>\n",
       "  </thead>\n",
       "  <tbody>\n",
       "    <tr>\n",
       "      <td>356145</td>\n",
       "      <td>nm6591978</td>\n",
       "      <td>Pierre-Emmanuel Barré</td>\n",
       "      <td>NaN</td>\n",
       "      <td>NaN</td>\n",
       "      <td>actor,writer</td>\n",
       "      <td>tt7033196,tt6431316,tt5180488,tt5492624</td>\n",
       "    </tr>\n",
       "    <tr>\n",
       "      <td>299202</td>\n",
       "      <td>nm4260382</td>\n",
       "      <td>Sean Warner</td>\n",
       "      <td>NaN</td>\n",
       "      <td>NaN</td>\n",
       "      <td>actor</td>\n",
       "      <td>tt2224532,tt1814876,tt1696514,tt1835919</td>\n",
       "    </tr>\n",
       "    <tr>\n",
       "      <td>236901</td>\n",
       "      <td>nm3952307</td>\n",
       "      <td>Michael Faner</td>\n",
       "      <td>NaN</td>\n",
       "      <td>NaN</td>\n",
       "      <td>sound_department,cinematographer,producer</td>\n",
       "      <td>tt9248032,tt8560814,tt8367846,tt1430047</td>\n",
       "    </tr>\n",
       "  </tbody>\n",
       "</table>\n",
       "</div>"
      ],
      "text/plain": [
       "           nconst           primary_name  birth_year  death_year  \\\n",
       "356145  nm6591978  Pierre-Emmanuel Barré         NaN         NaN   \n",
       "299202  nm4260382            Sean Warner         NaN         NaN   \n",
       "236901  nm3952307          Michael Faner         NaN         NaN   \n",
       "\n",
       "                               primary_profession  \\\n",
       "356145                               actor,writer   \n",
       "299202                                      actor   \n",
       "236901  sound_department,cinematographer,producer   \n",
       "\n",
       "                               known_for_titles  \n",
       "356145  tt7033196,tt6431316,tt5180488,tt5492624  \n",
       "299202  tt2224532,tt1814876,tt1696514,tt1835919  \n",
       "236901  tt9248032,tt8560814,tt8367846,tt1430047  "
      ]
     },
     "execution_count": 42,
     "metadata": {},
     "output_type": "execute_result"
    }
   ],
   "source": [
    "people_df.sample(3)"
   ]
  },
  {
   "cell_type": "code",
   "execution_count": 43,
   "metadata": {
    "ExecuteTime": {
     "end_time": "2020-03-24T18:26:51.615699Z",
     "start_time": "2020-03-24T18:26:51.270502Z"
    }
   },
   "outputs": [],
   "source": [
    "people_df = people_df.rename(columns={'primary_name': 'name'})"
   ]
  },
  {
   "cell_type": "code",
   "execution_count": 44,
   "metadata": {
    "ExecuteTime": {
     "end_time": "2020-03-24T18:26:52.448360Z",
     "start_time": "2020-03-24T18:26:52.437874Z"
    }
   },
   "outputs": [],
   "source": [
    "def can_act(professions):\n",
    "    if type(professions) != str:\n",
    "        return False\n",
    "    if 'actor' in professions or 'actress' in professions:\n",
    "        return True\n",
    "    else:\n",
    "        return False"
   ]
  },
  {
   "cell_type": "code",
   "execution_count": 45,
   "metadata": {
    "ExecuteTime": {
     "end_time": "2020-03-24T18:26:53.694140Z",
     "start_time": "2020-03-24T18:26:53.378019Z"
    }
   },
   "outputs": [],
   "source": [
    "people_df['can_act'] = people_df['primary_profession'].apply(can_act)"
   ]
  },
  {
   "cell_type": "code",
   "execution_count": 46,
   "metadata": {
    "ExecuteTime": {
     "end_time": "2020-03-24T21:22:27.132779Z",
     "start_time": "2020-03-24T21:20:51.565Z"
    }
   },
   "outputs": [
    {
     "data": {
      "text/html": [
       "<div>\n",
       "<style scoped>\n",
       "    .dataframe tbody tr th:only-of-type {\n",
       "        vertical-align: middle;\n",
       "    }\n",
       "\n",
       "    .dataframe tbody tr th {\n",
       "        vertical-align: top;\n",
       "    }\n",
       "\n",
       "    .dataframe thead th {\n",
       "        text-align: right;\n",
       "    }\n",
       "</style>\n",
       "<table border=\"1\" class=\"dataframe\">\n",
       "  <thead>\n",
       "    <tr style=\"text-align: right;\">\n",
       "      <th></th>\n",
       "      <th>nconst</th>\n",
       "      <th>name</th>\n",
       "      <th>birth_year</th>\n",
       "      <th>death_year</th>\n",
       "      <th>primary_profession</th>\n",
       "      <th>known_for_titles</th>\n",
       "      <th>can_act</th>\n",
       "    </tr>\n",
       "  </thead>\n",
       "  <tbody>\n",
       "    <tr>\n",
       "      <td>196940</td>\n",
       "      <td>nm2157208</td>\n",
       "      <td>Golnaz Farmani</td>\n",
       "      <td>NaN</td>\n",
       "      <td>NaN</td>\n",
       "      <td>actress</td>\n",
       "      <td>tt0499537,tt2575080</td>\n",
       "      <td>True</td>\n",
       "    </tr>\n",
       "    <tr>\n",
       "      <td>603285</td>\n",
       "      <td>nm7819257</td>\n",
       "      <td>J.T. Lewis</td>\n",
       "      <td>2000.0</td>\n",
       "      <td>NaN</td>\n",
       "      <td>NaN</td>\n",
       "      <td>tt7406432,tt3758314,tt7989888</td>\n",
       "      <td>False</td>\n",
       "    </tr>\n",
       "    <tr>\n",
       "      <td>59080</td>\n",
       "      <td>nm10021381</td>\n",
       "      <td>Pooja Malekar</td>\n",
       "      <td>NaN</td>\n",
       "      <td>NaN</td>\n",
       "      <td>actress</td>\n",
       "      <td>NaN</td>\n",
       "      <td>True</td>\n",
       "    </tr>\n",
       "  </tbody>\n",
       "</table>\n",
       "</div>"
      ],
      "text/plain": [
       "            nconst            name  birth_year  death_year primary_profession  \\\n",
       "196940   nm2157208  Golnaz Farmani         NaN         NaN            actress   \n",
       "603285   nm7819257      J.T. Lewis      2000.0         NaN                NaN   \n",
       "59080   nm10021381   Pooja Malekar         NaN         NaN            actress   \n",
       "\n",
       "                     known_for_titles  can_act  \n",
       "196940            tt0499537,tt2575080     True  \n",
       "603285  tt7406432,tt3758314,tt7989888    False  \n",
       "59080                             NaN     True  "
      ]
     },
     "execution_count": 46,
     "metadata": {},
     "output_type": "execute_result"
    }
   ],
   "source": [
    "people_df.sample(3)"
   ]
  },
  {
   "cell_type": "markdown",
   "metadata": {},
   "source": [
    "Okay, we will grab all the actors and directors and make individual dataframes for them:"
   ]
  },
  {
   "cell_type": "code",
   "execution_count": 47,
   "metadata": {
    "ExecuteTime": {
     "end_time": "2020-03-24T18:26:56.238194Z",
     "start_time": "2020-03-24T18:26:56.184624Z"
    }
   },
   "outputs": [],
   "source": [
    "actors_df = people_df[people_df['can_act'] == True]"
   ]
  },
  {
   "cell_type": "markdown",
   "metadata": {},
   "source": [
    "And now we can drop the unwanted columns:"
   ]
  },
  {
   "cell_type": "code",
   "execution_count": 48,
   "metadata": {
    "ExecuteTime": {
     "end_time": "2020-03-24T18:26:57.873722Z",
     "start_time": "2020-03-24T18:26:57.828530Z"
    }
   },
   "outputs": [],
   "source": [
    "drop_columns = ['primary_profession', 'can_act', 'birth_year', 'death_year', 'known_for_titles']\n",
    "actors_df = actors_df.drop(columns=drop_columns)"
   ]
  },
  {
   "cell_type": "code",
   "execution_count": 49,
   "metadata": {
    "ExecuteTime": {
     "end_time": "2020-03-24T18:26:58.792722Z",
     "start_time": "2020-03-24T18:26:58.769829Z"
    }
   },
   "outputs": [
    {
     "data": {
      "text/html": [
       "<div>\n",
       "<style scoped>\n",
       "    .dataframe tbody tr th:only-of-type {\n",
       "        vertical-align: middle;\n",
       "    }\n",
       "\n",
       "    .dataframe tbody tr th {\n",
       "        vertical-align: top;\n",
       "    }\n",
       "\n",
       "    .dataframe thead th {\n",
       "        text-align: right;\n",
       "    }\n",
       "</style>\n",
       "<table border=\"1\" class=\"dataframe\">\n",
       "  <thead>\n",
       "    <tr style=\"text-align: right;\">\n",
       "      <th></th>\n",
       "      <th>nconst</th>\n",
       "      <th>name</th>\n",
       "    </tr>\n",
       "  </thead>\n",
       "  <tbody>\n",
       "    <tr>\n",
       "      <td>372670</td>\n",
       "      <td>nm9021148</td>\n",
       "      <td>David Engler</td>\n",
       "    </tr>\n",
       "    <tr>\n",
       "      <td>420343</td>\n",
       "      <td>nm6626945</td>\n",
       "      <td>Raul Walder</td>\n",
       "    </tr>\n",
       "    <tr>\n",
       "      <td>200269</td>\n",
       "      <td>nm2525861</td>\n",
       "      <td>Edip Tutal</td>\n",
       "    </tr>\n",
       "  </tbody>\n",
       "</table>\n",
       "</div>"
      ],
      "text/plain": [
       "           nconst          name\n",
       "372670  nm9021148  David Engler\n",
       "420343  nm6626945   Raul Walder\n",
       "200269  nm2525861    Edip Tutal"
      ]
     },
     "execution_count": 49,
     "metadata": {},
     "output_type": "execute_result"
    }
   ],
   "source": [
    "actors_df.sample(3)"
   ]
  },
  {
   "cell_type": "markdown",
   "metadata": {},
   "source": [
    "Let's check for missing values:"
   ]
  },
  {
   "cell_type": "code",
   "execution_count": 50,
   "metadata": {
    "ExecuteTime": {
     "end_time": "2020-03-24T18:27:00.658779Z",
     "start_time": "2020-03-24T18:27:00.611473Z"
    }
   },
   "outputs": [
    {
     "data": {
      "text/plain": [
       "nconst    0\n",
       "name      0\n",
       "dtype: int64"
      ]
     },
     "execution_count": 50,
     "metadata": {},
     "output_type": "execute_result"
    }
   ],
   "source": [
    "actors_df.isna().sum()"
   ]
  },
  {
   "cell_type": "markdown",
   "metadata": {},
   "source": [
    "There we go. A very large list of actors and actresses. We can join them to the titles and see if there are any patterns amongst the top performing titles."
   ]
  },
  {
   "cell_type": "markdown",
   "metadata": {},
   "source": [
    "### Save as CSV"
   ]
  },
  {
   "cell_type": "code",
   "execution_count": 51,
   "metadata": {
    "ExecuteTime": {
     "end_time": "2020-03-24T18:27:03.813146Z",
     "start_time": "2020-03-24T18:27:02.902511Z"
    }
   },
   "outputs": [],
   "source": [
    "actors_save_path = os.path.join(os.pardir, 'data', 'processed', 'actors.csv')\n",
    "actors_df.to_csv(actors_save_path, index=False)"
   ]
  },
  {
   "cell_type": "code",
   "execution_count": 52,
   "metadata": {
    "ExecuteTime": {
     "end_time": "2020-03-24T18:27:05.229683Z",
     "start_time": "2020-03-24T18:27:04.673268Z"
    }
   },
   "outputs": [
    {
     "data": {
      "text/html": [
       "<div>\n",
       "<style scoped>\n",
       "    .dataframe tbody tr th:only-of-type {\n",
       "        vertical-align: middle;\n",
       "    }\n",
       "\n",
       "    .dataframe tbody tr th {\n",
       "        vertical-align: top;\n",
       "    }\n",
       "\n",
       "    .dataframe thead th {\n",
       "        text-align: right;\n",
       "    }\n",
       "</style>\n",
       "<table border=\"1\" class=\"dataframe\">\n",
       "  <thead>\n",
       "    <tr style=\"text-align: right;\">\n",
       "      <th></th>\n",
       "      <th>nconst</th>\n",
       "      <th>name</th>\n",
       "    </tr>\n",
       "  </thead>\n",
       "  <tbody>\n",
       "    <tr>\n",
       "      <td>207975</td>\n",
       "      <td>nm5528958</td>\n",
       "      <td>J.P. Valenti</td>\n",
       "    </tr>\n",
       "    <tr>\n",
       "      <td>161009</td>\n",
       "      <td>nm4531335</td>\n",
       "      <td>Noah Gillett</td>\n",
       "    </tr>\n",
       "    <tr>\n",
       "      <td>85370</td>\n",
       "      <td>nm2913613</td>\n",
       "      <td>Bob Moore</td>\n",
       "    </tr>\n",
       "  </tbody>\n",
       "</table>\n",
       "</div>"
      ],
      "text/plain": [
       "           nconst          name\n",
       "207975  nm5528958  J.P. Valenti\n",
       "161009  nm4531335  Noah Gillett\n",
       "85370   nm2913613     Bob Moore"
      ]
     },
     "execution_count": 52,
     "metadata": {},
     "output_type": "execute_result"
    }
   ],
   "source": [
    "test_actors_save = pd.read_csv(actors_save_path)\n",
    "test_actors_save.sample(3)"
   ]
  },
  {
   "cell_type": "markdown",
   "metadata": {},
   "source": [
    "## 4. Time of Year (date)\n",
    "Time of year will be an important metric to discover the most opportune time to release a film."
   ]
  },
  {
   "cell_type": "code",
   "execution_count": 53,
   "metadata": {
    "ExecuteTime": {
     "end_time": "2020-03-24T18:27:07.067394Z",
     "start_time": "2020-03-24T18:27:06.980650Z"
    }
   },
   "outputs": [],
   "source": [
    "date_path = os.path.join(os.pardir, 'data', 'raw', 'tmdb_movies.csv')\n",
    "date_df = pd.read_csv(date_path)"
   ]
  },
  {
   "cell_type": "code",
   "execution_count": 54,
   "metadata": {
    "ExecuteTime": {
     "end_time": "2020-03-24T18:27:08.196388Z",
     "start_time": "2020-03-24T18:27:08.142123Z"
    }
   },
   "outputs": [
    {
     "data": {
      "text/html": [
       "<div>\n",
       "<style scoped>\n",
       "    .dataframe tbody tr th:only-of-type {\n",
       "        vertical-align: middle;\n",
       "    }\n",
       "\n",
       "    .dataframe tbody tr th {\n",
       "        vertical-align: top;\n",
       "    }\n",
       "\n",
       "    .dataframe thead th {\n",
       "        text-align: right;\n",
       "    }\n",
       "</style>\n",
       "<table border=\"1\" class=\"dataframe\">\n",
       "  <thead>\n",
       "    <tr style=\"text-align: right;\">\n",
       "      <th></th>\n",
       "      <th>imdbId</th>\n",
       "      <th>budget</th>\n",
       "      <th>revenue</th>\n",
       "      <th>originalTitle</th>\n",
       "      <th>releaseDate</th>\n",
       "    </tr>\n",
       "  </thead>\n",
       "  <tbody>\n",
       "    <tr>\n",
       "      <td>30781</td>\n",
       "      <td>tt2204371</td>\n",
       "      <td>0</td>\n",
       "      <td>0.0</td>\n",
       "      <td>Somm</td>\n",
       "      <td>2013-06-21</td>\n",
       "    </tr>\n",
       "    <tr>\n",
       "      <td>33163</td>\n",
       "      <td>tt8956390</td>\n",
       "      <td>0</td>\n",
       "      <td>0.0</td>\n",
       "      <td>Rojo</td>\n",
       "      <td>2018-10-26</td>\n",
       "    </tr>\n",
       "    <tr>\n",
       "      <td>19560</td>\n",
       "      <td>tt0238247</td>\n",
       "      <td>0</td>\n",
       "      <td>0.0</td>\n",
       "      <td>God's Army</td>\n",
       "      <td>2000-03-10</td>\n",
       "    </tr>\n",
       "  </tbody>\n",
       "</table>\n",
       "</div>"
      ],
      "text/plain": [
       "          imdbId  budget  revenue originalTitle releaseDate\n",
       "30781  tt2204371       0      0.0          Somm  2013-06-21\n",
       "33163  tt8956390       0      0.0          Rojo  2018-10-26\n",
       "19560  tt0238247       0      0.0    God's Army  2000-03-10"
      ]
     },
     "execution_count": 54,
     "metadata": {},
     "output_type": "execute_result"
    }
   ],
   "source": [
    "date_df.sample(3)"
   ]
  },
  {
   "cell_type": "markdown",
   "metadata": {},
   "source": [
    "### Changes:\n",
    "We only need a couple columns from this set:\n",
    "1. imdb_id\n",
    "2. release_date\n",
    "3. add month column\n",
    "\n",
    "The column names are ok as well, so this will be very simple."
   ]
  },
  {
   "cell_type": "code",
   "execution_count": 55,
   "metadata": {
    "ExecuteTime": {
     "end_time": "2020-03-24T18:27:10.310176Z",
     "start_time": "2020-03-24T18:27:10.270271Z"
    }
   },
   "outputs": [],
   "source": [
    "date_df = date_df.drop_duplicates()"
   ]
  },
  {
   "cell_type": "code",
   "execution_count": 56,
   "metadata": {
    "ExecuteTime": {
     "end_time": "2020-03-24T18:27:11.369339Z",
     "start_time": "2020-03-24T18:27:11.328741Z"
    }
   },
   "outputs": [],
   "source": [
    "date_df = date_df.rename(columns={'imdbId': 'imdb_id', 'originalTitle': 'title', 'releaseDate': 'date'})"
   ]
  },
  {
   "cell_type": "code",
   "execution_count": 57,
   "metadata": {
    "ExecuteTime": {
     "end_time": "2020-03-24T20:37:34.533039Z",
     "start_time": "2020-03-24T20:37:34.526327Z"
    }
   },
   "outputs": [],
   "source": [
    "date_df = date_df[['imdb_id', 'date']]"
   ]
  },
  {
   "cell_type": "code",
   "execution_count": 58,
   "metadata": {
    "ExecuteTime": {
     "end_time": "2020-03-24T20:37:37.185454Z",
     "start_time": "2020-03-24T20:37:37.174439Z"
    }
   },
   "outputs": [],
   "source": [
    "date_df = date_df.dropna()"
   ]
  },
  {
   "cell_type": "code",
   "execution_count": 59,
   "metadata": {
    "ExecuteTime": {
     "end_time": "2020-03-24T20:37:38.170889Z",
     "start_time": "2020-03-24T20:37:38.158502Z"
    }
   },
   "outputs": [
    {
     "data": {
      "text/html": [
       "<div>\n",
       "<style scoped>\n",
       "    .dataframe tbody tr th:only-of-type {\n",
       "        vertical-align: middle;\n",
       "    }\n",
       "\n",
       "    .dataframe tbody tr th {\n",
       "        vertical-align: top;\n",
       "    }\n",
       "\n",
       "    .dataframe thead th {\n",
       "        text-align: right;\n",
       "    }\n",
       "</style>\n",
       "<table border=\"1\" class=\"dataframe\">\n",
       "  <thead>\n",
       "    <tr style=\"text-align: right;\">\n",
       "      <th></th>\n",
       "      <th>imdb_id</th>\n",
       "      <th>date</th>\n",
       "    </tr>\n",
       "  </thead>\n",
       "  <tbody>\n",
       "    <tr>\n",
       "      <td>32071</td>\n",
       "      <td>tt0088135</td>\n",
       "      <td>1983-12-01</td>\n",
       "    </tr>\n",
       "    <tr>\n",
       "      <td>7129</td>\n",
       "      <td>tt1298644</td>\n",
       "      <td>2019-05-09</td>\n",
       "    </tr>\n",
       "    <tr>\n",
       "      <td>15601</td>\n",
       "      <td>tt0264761</td>\n",
       "      <td>2002-03-13</td>\n",
       "    </tr>\n",
       "  </tbody>\n",
       "</table>\n",
       "</div>"
      ],
      "text/plain": [
       "         imdb_id        date\n",
       "32071  tt0088135  1983-12-01\n",
       "7129   tt1298644  2019-05-09\n",
       "15601  tt0264761  2002-03-13"
      ]
     },
     "execution_count": 59,
     "metadata": {},
     "output_type": "execute_result"
    }
   ],
   "source": [
    "date_df.sample(3)"
   ]
  },
  {
   "cell_type": "code",
   "execution_count": 60,
   "metadata": {},
   "outputs": [],
   "source": [
    "date_df['date'] = pd.to_datetime(date_df['date'], infer_datetime_format=True)"
   ]
  },
  {
   "cell_type": "code",
   "execution_count": 61,
   "metadata": {},
   "outputs": [],
   "source": [
    "date_df['month'] = date_df['date'].apply(lambda x: x.month_name())"
   ]
  },
  {
   "cell_type": "code",
   "execution_count": 62,
   "metadata": {
    "ExecuteTime": {
     "end_time": "2020-03-24T20:37:42.233599Z",
     "start_time": "2020-03-24T20:37:42.223923Z"
    }
   },
   "outputs": [
    {
     "name": "stdout",
     "output_type": "stream",
     "text": [
      "<class 'pandas.core.frame.DataFrame'>\n",
      "Int64Index: 14466 entries, 0 to 43495\n",
      "Data columns (total 3 columns):\n",
      "imdb_id    14466 non-null object\n",
      "date       14466 non-null datetime64[ns]\n",
      "month      14466 non-null object\n",
      "dtypes: datetime64[ns](1), object(2)\n",
      "memory usage: 452.1+ KB\n"
     ]
    }
   ],
   "source": [
    "date_df.info()"
   ]
  },
  {
   "cell_type": "code",
   "execution_count": 63,
   "metadata": {
    "ExecuteTime": {
     "end_time": "2020-03-24T20:37:44.022320Z",
     "start_time": "2020-03-24T20:37:44.012076Z"
    }
   },
   "outputs": [
    {
     "data": {
      "text/plain": [
       "imdb_id    0\n",
       "date       0\n",
       "month      0\n",
       "dtype: int64"
      ]
     },
     "execution_count": 63,
     "metadata": {},
     "output_type": "execute_result"
    }
   ],
   "source": [
    "date_df.isna().sum()"
   ]
  },
  {
   "cell_type": "markdown",
   "metadata": {},
   "source": [
    "### Save to CSV"
   ]
  },
  {
   "cell_type": "code",
   "execution_count": 64,
   "metadata": {
    "ExecuteTime": {
     "end_time": "2020-03-24T20:37:47.031140Z",
     "start_time": "2020-03-24T20:37:46.999979Z"
    }
   },
   "outputs": [],
   "source": [
    "date_save_path = os.path.join(os.pardir, 'data', 'processed', 'date.csv')\n",
    "date_df.to_csv(date_save_path, index=False)"
   ]
  },
  {
   "cell_type": "code",
   "execution_count": 65,
   "metadata": {
    "ExecuteTime": {
     "end_time": "2020-03-24T20:37:48.167133Z",
     "start_time": "2020-03-24T20:37:48.131758Z"
    }
   },
   "outputs": [
    {
     "data": {
      "text/html": [
       "<div>\n",
       "<style scoped>\n",
       "    .dataframe tbody tr th:only-of-type {\n",
       "        vertical-align: middle;\n",
       "    }\n",
       "\n",
       "    .dataframe tbody tr th {\n",
       "        vertical-align: top;\n",
       "    }\n",
       "\n",
       "    .dataframe thead th {\n",
       "        text-align: right;\n",
       "    }\n",
       "</style>\n",
       "<table border=\"1\" class=\"dataframe\">\n",
       "  <thead>\n",
       "    <tr style=\"text-align: right;\">\n",
       "      <th></th>\n",
       "      <th>imdb_id</th>\n",
       "      <th>date</th>\n",
       "      <th>month</th>\n",
       "    </tr>\n",
       "  </thead>\n",
       "  <tbody>\n",
       "    <tr>\n",
       "      <td>6411</td>\n",
       "      <td>tt0091954</td>\n",
       "      <td>1986-10-24</td>\n",
       "      <td>October</td>\n",
       "    </tr>\n",
       "    <tr>\n",
       "      <td>12685</td>\n",
       "      <td>tt0881909</td>\n",
       "      <td>2007-06-29</td>\n",
       "      <td>June</td>\n",
       "    </tr>\n",
       "    <tr>\n",
       "      <td>9199</td>\n",
       "      <td>tt0279064</td>\n",
       "      <td>2001-03-16</td>\n",
       "      <td>March</td>\n",
       "    </tr>\n",
       "  </tbody>\n",
       "</table>\n",
       "</div>"
      ],
      "text/plain": [
       "         imdb_id        date    month\n",
       "6411   tt0091954  1986-10-24  October\n",
       "12685  tt0881909  2007-06-29     June\n",
       "9199   tt0279064  2001-03-16    March"
      ]
     },
     "execution_count": 65,
     "metadata": {},
     "output_type": "execute_result"
    }
   ],
   "source": [
    "test_date_save = pd.read_csv(date_save_path)\n",
    "test_date_save.sample(3)"
   ]
  },
  {
   "cell_type": "markdown",
   "metadata": {},
   "source": [
    "## 5. Keywords (content)"
   ]
  },
  {
   "cell_type": "code",
   "execution_count": 66,
   "metadata": {
    "ExecuteTime": {
     "end_time": "2020-03-24T18:27:23.697678Z",
     "start_time": "2020-03-24T18:27:23.421349Z"
    }
   },
   "outputs": [],
   "source": [
    "keywords_path = os.path.join(os.pardir, 'data', 'raw', 'tmdb_keywords.csv')\n",
    "keywords_df = pd.read_csv(keywords_path)"
   ]
  },
  {
   "cell_type": "code",
   "execution_count": 67,
   "metadata": {
    "ExecuteTime": {
     "end_time": "2020-03-24T18:27:24.861727Z",
     "start_time": "2020-03-24T18:27:24.808024Z"
    }
   },
   "outputs": [
    {
     "data": {
      "text/html": [
       "<div>\n",
       "<style scoped>\n",
       "    .dataframe tbody tr th:only-of-type {\n",
       "        vertical-align: middle;\n",
       "    }\n",
       "\n",
       "    .dataframe tbody tr th {\n",
       "        vertical-align: top;\n",
       "    }\n",
       "\n",
       "    .dataframe thead th {\n",
       "        text-align: right;\n",
       "    }\n",
       "</style>\n",
       "<table border=\"1\" class=\"dataframe\">\n",
       "  <thead>\n",
       "    <tr style=\"text-align: right;\">\n",
       "      <th></th>\n",
       "      <th>imdbId</th>\n",
       "      <th>keywordId</th>\n",
       "      <th>keyword</th>\n",
       "    </tr>\n",
       "  </thead>\n",
       "  <tbody>\n",
       "    <tr>\n",
       "      <td>10064</td>\n",
       "      <td>tt0458339</td>\n",
       "      <td>242</td>\n",
       "      <td>new york city</td>\n",
       "    </tr>\n",
       "    <tr>\n",
       "      <td>197940</td>\n",
       "      <td>tt0303830</td>\n",
       "      <td>18266</td>\n",
       "      <td>south america</td>\n",
       "    </tr>\n",
       "    <tr>\n",
       "      <td>127232</td>\n",
       "      <td>tt0457513</td>\n",
       "      <td>549</td>\n",
       "      <td>prostitute</td>\n",
       "    </tr>\n",
       "  </tbody>\n",
       "</table>\n",
       "</div>"
      ],
      "text/plain": [
       "           imdbId  keywordId        keyword\n",
       "10064   tt0458339        242  new york city\n",
       "197940  tt0303830      18266  south america\n",
       "127232  tt0457513        549     prostitute"
      ]
     },
     "execution_count": 67,
     "metadata": {},
     "output_type": "execute_result"
    }
   ],
   "source": [
    "keywords_df.sample(3)"
   ]
  },
  {
   "cell_type": "code",
   "execution_count": 68,
   "metadata": {
    "ExecuteTime": {
     "end_time": "2020-03-24T18:27:26.182045Z",
     "start_time": "2020-03-24T18:27:26.136098Z"
    }
   },
   "outputs": [
    {
     "name": "stdout",
     "output_type": "stream",
     "text": [
      "<class 'pandas.core.frame.DataFrame'>\n",
      "RangeIndex: 257984 entries, 0 to 257983\n",
      "Data columns (total 3 columns):\n",
      "imdbId       257984 non-null object\n",
      "keywordId    257984 non-null int64\n",
      "keyword      257984 non-null object\n",
      "dtypes: int64(1), object(2)\n",
      "memory usage: 5.9+ MB\n"
     ]
    }
   ],
   "source": [
    "keywords_df.info()"
   ]
  },
  {
   "cell_type": "markdown",
   "metadata": {},
   "source": [
    "This is a simple dataframe, when I created it I knew exactly the columns I would use. \n",
    "\n",
    "I do need to change the column names from camelCase to snake_case (node.js uses camelCase):"
   ]
  },
  {
   "cell_type": "code",
   "execution_count": 69,
   "metadata": {
    "ExecuteTime": {
     "end_time": "2020-03-24T18:27:27.460652Z",
     "start_time": "2020-03-24T18:27:27.396497Z"
    }
   },
   "outputs": [],
   "source": [
    "keywords_df = keywords_df.rename(columns={'imdbId': 'imdb_id', 'keywordId': 'keyword_id'})"
   ]
  },
  {
   "cell_type": "code",
   "execution_count": 70,
   "metadata": {
    "ExecuteTime": {
     "end_time": "2020-03-24T18:27:28.793176Z",
     "start_time": "2020-03-24T18:27:28.729097Z"
    }
   },
   "outputs": [
    {
     "data": {
      "text/html": [
       "<div>\n",
       "<style scoped>\n",
       "    .dataframe tbody tr th:only-of-type {\n",
       "        vertical-align: middle;\n",
       "    }\n",
       "\n",
       "    .dataframe tbody tr th {\n",
       "        vertical-align: top;\n",
       "    }\n",
       "\n",
       "    .dataframe thead th {\n",
       "        text-align: right;\n",
       "    }\n",
       "</style>\n",
       "<table border=\"1\" class=\"dataframe\">\n",
       "  <thead>\n",
       "    <tr style=\"text-align: right;\">\n",
       "      <th></th>\n",
       "      <th>imdb_id</th>\n",
       "      <th>keyword_id</th>\n",
       "      <th>keyword</th>\n",
       "    </tr>\n",
       "  </thead>\n",
       "  <tbody>\n",
       "    <tr>\n",
       "      <td>221836</td>\n",
       "      <td>tt1787816</td>\n",
       "      <td>6832</td>\n",
       "      <td>environmental protection agency</td>\n",
       "    </tr>\n",
       "    <tr>\n",
       "      <td>166265</td>\n",
       "      <td>tt0106966</td>\n",
       "      <td>239161</td>\n",
       "      <td>havana</td>\n",
       "    </tr>\n",
       "    <tr>\n",
       "      <td>13313</td>\n",
       "      <td>tt3783958</td>\n",
       "      <td>33928</td>\n",
       "      <td>audition</td>\n",
       "    </tr>\n",
       "  </tbody>\n",
       "</table>\n",
       "</div>"
      ],
      "text/plain": [
       "          imdb_id  keyword_id                          keyword\n",
       "221836  tt1787816        6832  environmental protection agency\n",
       "166265  tt0106966      239161                           havana\n",
       "13313   tt3783958       33928                         audition"
      ]
     },
     "execution_count": 70,
     "metadata": {},
     "output_type": "execute_result"
    }
   ],
   "source": [
    "keywords_df.sample(3)"
   ]
  },
  {
   "cell_type": "code",
   "execution_count": 71,
   "metadata": {
    "ExecuteTime": {
     "end_time": "2020-03-24T20:48:25.734348Z",
     "start_time": "2020-03-24T20:48:25.588074Z"
    }
   },
   "outputs": [
    {
     "data": {
      "text/plain": [
       "0         False\n",
       "1         False\n",
       "2         False\n",
       "3         False\n",
       "4         False\n",
       "          ...  \n",
       "257979     True\n",
       "257980     True\n",
       "257981     True\n",
       "257982     True\n",
       "257983     True\n",
       "Length: 257984, dtype: bool"
      ]
     },
     "execution_count": 71,
     "metadata": {},
     "output_type": "execute_result"
    }
   ],
   "source": [
    "keywords_df.duplicated()"
   ]
  },
  {
   "cell_type": "code",
   "execution_count": 72,
   "metadata": {
    "ExecuteTime": {
     "end_time": "2020-03-24T18:27:30.415250Z",
     "start_time": "2020-03-24T18:27:30.300531Z"
    }
   },
   "outputs": [
    {
     "data": {
      "text/plain": [
       "imdb_id       0\n",
       "keyword_id    0\n",
       "keyword       0\n",
       "dtype: int64"
      ]
     },
     "execution_count": 72,
     "metadata": {},
     "output_type": "execute_result"
    }
   ],
   "source": [
    "keywords_df.isna().sum()"
   ]
  },
  {
   "cell_type": "markdown",
   "metadata": {},
   "source": [
    "### Save to CSV"
   ]
  },
  {
   "cell_type": "code",
   "execution_count": 73,
   "metadata": {
    "ExecuteTime": {
     "end_time": "2020-03-24T18:27:32.975518Z",
     "start_time": "2020-03-24T18:27:31.933801Z"
    }
   },
   "outputs": [],
   "source": [
    "keywords_save_path = os.path.join(os.pardir, 'data', 'processed', 'keywords.csv')\n",
    "keywords_df.to_csv(keywords_save_path, index=False)"
   ]
  },
  {
   "cell_type": "code",
   "execution_count": 74,
   "metadata": {
    "ExecuteTime": {
     "end_time": "2020-03-24T18:27:34.352635Z",
     "start_time": "2020-03-24T18:27:34.029792Z"
    }
   },
   "outputs": [
    {
     "data": {
      "text/html": [
       "<div>\n",
       "<style scoped>\n",
       "    .dataframe tbody tr th:only-of-type {\n",
       "        vertical-align: middle;\n",
       "    }\n",
       "\n",
       "    .dataframe tbody tr th {\n",
       "        vertical-align: top;\n",
       "    }\n",
       "\n",
       "    .dataframe thead th {\n",
       "        text-align: right;\n",
       "    }\n",
       "</style>\n",
       "<table border=\"1\" class=\"dataframe\">\n",
       "  <thead>\n",
       "    <tr style=\"text-align: right;\">\n",
       "      <th></th>\n",
       "      <th>imdb_id</th>\n",
       "      <th>keyword_id</th>\n",
       "      <th>keyword</th>\n",
       "    </tr>\n",
       "  </thead>\n",
       "  <tbody>\n",
       "    <tr>\n",
       "      <td>250057</td>\n",
       "      <td>tt5700176</td>\n",
       "      <td>212642</td>\n",
       "      <td>abusive father</td>\n",
       "    </tr>\n",
       "    <tr>\n",
       "      <td>40624</td>\n",
       "      <td>tt0118615</td>\n",
       "      <td>886</td>\n",
       "      <td>movie business</td>\n",
       "    </tr>\n",
       "    <tr>\n",
       "      <td>163552</td>\n",
       "      <td>tt1226774</td>\n",
       "      <td>10589</td>\n",
       "      <td>warmongering</td>\n",
       "    </tr>\n",
       "  </tbody>\n",
       "</table>\n",
       "</div>"
      ],
      "text/plain": [
       "          imdb_id  keyword_id         keyword\n",
       "250057  tt5700176      212642  abusive father\n",
       "40624   tt0118615         886  movie business\n",
       "163552  tt1226774       10589    warmongering"
      ]
     },
     "execution_count": 74,
     "metadata": {},
     "output_type": "execute_result"
    }
   ],
   "source": [
    "test_keywords_save = pd.read_csv(keywords_save_path)\n",
    "test_keywords_save.sample(3)"
   ]
  },
  {
   "cell_type": "markdown",
   "metadata": {},
   "source": [
    "## Building Dataset\n",
    "In this section I will combine all the individual datasets into one large dataframe that I can explore in the EDA phase. \n",
    "\n",
    "I will keep the actors and keywords seperate for now so they don't explode the dataframe."
   ]
  },
  {
   "cell_type": "code",
   "execution_count": 75,
   "metadata": {
    "ExecuteTime": {
     "end_time": "2020-03-24T21:46:08.502741Z",
     "start_time": "2020-03-24T21:46:07.826312Z"
    }
   },
   "outputs": [],
   "source": [
    "# joining revenue with genres:\n",
    "combined_df = revenue_df.set_index('imdb_id').join(genres_df.set_index('imdb_id'), rsuffix='_rev')"
   ]
  },
  {
   "cell_type": "code",
   "execution_count": 76,
   "metadata": {
    "ExecuteTime": {
     "end_time": "2020-03-24T21:46:10.567729Z",
     "start_time": "2020-03-24T21:46:10.499451Z"
    }
   },
   "outputs": [
    {
     "data": {
      "text/html": [
       "<div>\n",
       "<style scoped>\n",
       "    .dataframe tbody tr th:only-of-type {\n",
       "        vertical-align: middle;\n",
       "    }\n",
       "\n",
       "    .dataframe tbody tr th {\n",
       "        vertical-align: top;\n",
       "    }\n",
       "\n",
       "    .dataframe thead th {\n",
       "        text-align: right;\n",
       "    }\n",
       "</style>\n",
       "<table border=\"1\" class=\"dataframe\">\n",
       "  <thead>\n",
       "    <tr style=\"text-align: right;\">\n",
       "      <th></th>\n",
       "      <th>title</th>\n",
       "      <th>year</th>\n",
       "      <th>director</th>\n",
       "      <th>production_co</th>\n",
       "      <th>rank</th>\n",
       "      <th>budget_usd</th>\n",
       "      <th>us_gross</th>\n",
       "      <th>revenue</th>\n",
       "      <th>popular</th>\n",
       "      <th>title_rev</th>\n",
       "      <th>year_rev</th>\n",
       "      <th>genres</th>\n",
       "    </tr>\n",
       "    <tr>\n",
       "      <th>imdb_id</th>\n",
       "      <th></th>\n",
       "      <th></th>\n",
       "      <th></th>\n",
       "      <th></th>\n",
       "      <th></th>\n",
       "      <th></th>\n",
       "      <th></th>\n",
       "      <th></th>\n",
       "      <th></th>\n",
       "      <th></th>\n",
       "      <th></th>\n",
       "      <th></th>\n",
       "    </tr>\n",
       "  </thead>\n",
       "  <tbody>\n",
       "    <tr>\n",
       "      <td>tt2488496</td>\n",
       "      <td>Star Wars: Episode VII - The Force Awakens</td>\n",
       "      <td>2015</td>\n",
       "      <td>J.J. Abrams</td>\n",
       "      <td>Lucasfilm</td>\n",
       "      <td>519</td>\n",
       "      <td>245000000.0</td>\n",
       "      <td>937000000.0</td>\n",
       "      <td>692000000.0</td>\n",
       "      <td>True</td>\n",
       "      <td>Star Wars: Episode VII - The Force Awakens</td>\n",
       "      <td>2015</td>\n",
       "      <td>Action,Adventure,Sci-Fi</td>\n",
       "    </tr>\n",
       "    <tr>\n",
       "      <td>tt4154796</td>\n",
       "      <td>Avengers: Endgame</td>\n",
       "      <td>2019</td>\n",
       "      <td>Anthony Russo</td>\n",
       "      <td>Marvel Studios</td>\n",
       "      <td>111</td>\n",
       "      <td>356000000.0</td>\n",
       "      <td>858000000.0</td>\n",
       "      <td>502000000.0</td>\n",
       "      <td>True</td>\n",
       "      <td>Avengers: Endgame</td>\n",
       "      <td>2019</td>\n",
       "      <td>Action,Adventure,Drama</td>\n",
       "    </tr>\n",
       "    <tr>\n",
       "      <td>tt0499549</td>\n",
       "      <td>Avatar</td>\n",
       "      <td>2009</td>\n",
       "      <td>James Cameron</td>\n",
       "      <td>Twentieth Century Fox</td>\n",
       "      <td>533</td>\n",
       "      <td>237000000.0</td>\n",
       "      <td>761000000.0</td>\n",
       "      <td>524000000.0</td>\n",
       "      <td>True</td>\n",
       "      <td>Avatar</td>\n",
       "      <td>2009</td>\n",
       "      <td>Action,Adventure,Fantasy</td>\n",
       "    </tr>\n",
       "  </tbody>\n",
       "</table>\n",
       "</div>"
      ],
      "text/plain": [
       "                                                title  year       director  \\\n",
       "imdb_id                                                                      \n",
       "tt2488496  Star Wars: Episode VII - The Force Awakens  2015    J.J. Abrams   \n",
       "tt4154796                           Avengers: Endgame  2019  Anthony Russo   \n",
       "tt0499549                                      Avatar  2009  James Cameron   \n",
       "\n",
       "                   production_co  rank   budget_usd     us_gross      revenue  \\\n",
       "imdb_id                                                                         \n",
       "tt2488496              Lucasfilm   519  245000000.0  937000000.0  692000000.0   \n",
       "tt4154796         Marvel Studios   111  356000000.0  858000000.0  502000000.0   \n",
       "tt0499549  Twentieth Century Fox   533  237000000.0  761000000.0  524000000.0   \n",
       "\n",
       "           popular                                   title_rev year_rev  \\\n",
       "imdb_id                                                                   \n",
       "tt2488496     True  Star Wars: Episode VII - The Force Awakens     2015   \n",
       "tt4154796     True                           Avengers: Endgame     2019   \n",
       "tt0499549     True                                      Avatar     2009   \n",
       "\n",
       "                             genres  \n",
       "imdb_id                              \n",
       "tt2488496   Action,Adventure,Sci-Fi  \n",
       "tt4154796    Action,Adventure,Drama  \n",
       "tt0499549  Action,Adventure,Fantasy  "
      ]
     },
     "execution_count": 76,
     "metadata": {},
     "output_type": "execute_result"
    }
   ],
   "source": [
    "combined_df.head(3)"
   ]
  },
  {
   "cell_type": "code",
   "execution_count": 77,
   "metadata": {
    "ExecuteTime": {
     "end_time": "2020-03-24T21:46:12.574029Z",
     "start_time": "2020-03-24T21:46:12.534169Z"
    }
   },
   "outputs": [],
   "source": [
    "combined_df = combined_df.drop(columns=['title_rev', 'year_rev'])"
   ]
  },
  {
   "cell_type": "code",
   "execution_count": 78,
   "metadata": {
    "ExecuteTime": {
     "end_time": "2020-03-24T21:46:14.408079Z",
     "start_time": "2020-03-24T21:46:14.387626Z"
    }
   },
   "outputs": [],
   "source": [
    "combined_df = combined_df.reset_index()"
   ]
  },
  {
   "cell_type": "code",
   "execution_count": 79,
   "metadata": {
    "ExecuteTime": {
     "end_time": "2020-03-24T21:46:16.530356Z",
     "start_time": "2020-03-24T21:46:16.454624Z"
    }
   },
   "outputs": [],
   "source": [
    "# adding in time of year next:\n",
    "combined_df = combined_df.set_index('imdb_id').join(date_df.set_index('imdb_id')).reset_index()"
   ]
  },
  {
   "cell_type": "code",
   "execution_count": 80,
   "metadata": {
    "ExecuteTime": {
     "end_time": "2020-03-24T21:46:21.301931Z",
     "start_time": "2020-03-24T21:46:21.252000Z"
    }
   },
   "outputs": [
    {
     "data": {
      "text/html": [
       "<div>\n",
       "<style scoped>\n",
       "    .dataframe tbody tr th:only-of-type {\n",
       "        vertical-align: middle;\n",
       "    }\n",
       "\n",
       "    .dataframe tbody tr th {\n",
       "        vertical-align: top;\n",
       "    }\n",
       "\n",
       "    .dataframe thead th {\n",
       "        text-align: right;\n",
       "    }\n",
       "</style>\n",
       "<table border=\"1\" class=\"dataframe\">\n",
       "  <thead>\n",
       "    <tr style=\"text-align: right;\">\n",
       "      <th></th>\n",
       "      <th>imdb_id</th>\n",
       "      <th>title</th>\n",
       "      <th>year</th>\n",
       "      <th>director</th>\n",
       "      <th>production_co</th>\n",
       "      <th>rank</th>\n",
       "      <th>budget_usd</th>\n",
       "      <th>us_gross</th>\n",
       "      <th>revenue</th>\n",
       "      <th>popular</th>\n",
       "      <th>genres</th>\n",
       "      <th>date</th>\n",
       "      <th>month</th>\n",
       "    </tr>\n",
       "  </thead>\n",
       "  <tbody>\n",
       "    <tr>\n",
       "      <td>11720</td>\n",
       "      <td>tt2611390</td>\n",
       "      <td>Difret</td>\n",
       "      <td>2014</td>\n",
       "      <td>Zeresenay Mehari</td>\n",
       "      <td>Haile Addis Pictures</td>\n",
       "      <td>80624</td>\n",
       "      <td>-1.0</td>\n",
       "      <td>50000.0</td>\n",
       "      <td>NaN</td>\n",
       "      <td>False</td>\n",
       "      <td>Biography,Crime,Drama</td>\n",
       "      <td>2014-01-19</td>\n",
       "      <td>January</td>\n",
       "    </tr>\n",
       "    <tr>\n",
       "      <td>3706</td>\n",
       "      <td>tt0110006</td>\n",
       "      <td>Heavyweights</td>\n",
       "      <td>1995</td>\n",
       "      <td>Steven Brill</td>\n",
       "      <td>Caravan Pictures</td>\n",
       "      <td>3223</td>\n",
       "      <td>-1.0</td>\n",
       "      <td>18000000.0</td>\n",
       "      <td>NaN</td>\n",
       "      <td>False</td>\n",
       "      <td>Comedy,Drama,Family</td>\n",
       "      <td>1995-02-17</td>\n",
       "      <td>February</td>\n",
       "    </tr>\n",
       "    <tr>\n",
       "      <td>7106</td>\n",
       "      <td>tt0097635</td>\n",
       "      <td>Jesus of Montreal</td>\n",
       "      <td>1989</td>\n",
       "      <td>Denys Arcand</td>\n",
       "      <td>Max Films Productions</td>\n",
       "      <td>35905</td>\n",
       "      <td>-1.0</td>\n",
       "      <td>1600000.0</td>\n",
       "      <td>NaN</td>\n",
       "      <td>False</td>\n",
       "      <td>Drama</td>\n",
       "      <td>1989-05-17</td>\n",
       "      <td>May</td>\n",
       "    </tr>\n",
       "    <tr>\n",
       "      <td>9583</td>\n",
       "      <td>tt0843358</td>\n",
       "      <td>My Dog Tulip</td>\n",
       "      <td>2009</td>\n",
       "      <td>Paul Fierlinger</td>\n",
       "      <td>Norman Twain Productions</td>\n",
       "      <td>96677</td>\n",
       "      <td>-1.0</td>\n",
       "      <td>247000.0</td>\n",
       "      <td>NaN</td>\n",
       "      <td>False</td>\n",
       "      <td>Animation,Drama</td>\n",
       "      <td>2009-01-01</td>\n",
       "      <td>January</td>\n",
       "    </tr>\n",
       "    <tr>\n",
       "      <td>11291</td>\n",
       "      <td>tt3498950</td>\n",
       "      <td>Take Me to the River</td>\n",
       "      <td>2014</td>\n",
       "      <td>Martin Shore</td>\n",
       "      <td>EGBA Entertainment</td>\n",
       "      <td>134126</td>\n",
       "      <td>-1.0</td>\n",
       "      <td>69000.0</td>\n",
       "      <td>NaN</td>\n",
       "      <td>False</td>\n",
       "      <td>Documentary,Music</td>\n",
       "      <td>2014-03-11</td>\n",
       "      <td>March</td>\n",
       "    </tr>\n",
       "  </tbody>\n",
       "</table>\n",
       "</div>"
      ],
      "text/plain": [
       "         imdb_id                 title  year          director  \\\n",
       "11720  tt2611390                Difret  2014  Zeresenay Mehari   \n",
       "3706   tt0110006          Heavyweights  1995      Steven Brill   \n",
       "7106   tt0097635     Jesus of Montreal  1989      Denys Arcand   \n",
       "9583   tt0843358          My Dog Tulip  2009   Paul Fierlinger   \n",
       "11291  tt3498950  Take Me to the River  2014      Martin Shore   \n",
       "\n",
       "                  production_co    rank  budget_usd    us_gross  revenue  \\\n",
       "11720      Haile Addis Pictures   80624        -1.0     50000.0      NaN   \n",
       "3706           Caravan Pictures    3223        -1.0  18000000.0      NaN   \n",
       "7106      Max Films Productions   35905        -1.0   1600000.0      NaN   \n",
       "9583   Norman Twain Productions   96677        -1.0    247000.0      NaN   \n",
       "11291        EGBA Entertainment  134126        -1.0     69000.0      NaN   \n",
       "\n",
       "       popular                 genres       date     month  \n",
       "11720    False  Biography,Crime,Drama 2014-01-19   January  \n",
       "3706     False    Comedy,Drama,Family 1995-02-17  February  \n",
       "7106     False                  Drama 1989-05-17       May  \n",
       "9583     False        Animation,Drama 2009-01-01   January  \n",
       "11291    False      Documentary,Music 2014-03-11     March  "
      ]
     },
     "execution_count": 80,
     "metadata": {},
     "output_type": "execute_result"
    }
   ],
   "source": [
    "combined_df.sample(5)"
   ]
  },
  {
   "cell_type": "code",
   "execution_count": 81,
   "metadata": {
    "ExecuteTime": {
     "end_time": "2020-03-24T21:46:23.933462Z",
     "start_time": "2020-03-24T21:46:23.866178Z"
    }
   },
   "outputs": [
    {
     "name": "stdout",
     "output_type": "stream",
     "text": [
      "<class 'pandas.core.frame.DataFrame'>\n",
      "RangeIndex: 14431 entries, 0 to 14430\n",
      "Data columns (total 13 columns):\n",
      "imdb_id          14431 non-null object\n",
      "title            14431 non-null object\n",
      "year             14431 non-null object\n",
      "director         14431 non-null object\n",
      "production_co    14431 non-null object\n",
      "rank             14431 non-null int64\n",
      "budget_usd       14431 non-null float64\n",
      "us_gross         14431 non-null float64\n",
      "revenue          7896 non-null float64\n",
      "popular          14431 non-null bool\n",
      "genres           14317 non-null object\n",
      "date             14375 non-null datetime64[ns]\n",
      "month            14375 non-null object\n",
      "dtypes: bool(1), datetime64[ns](1), float64(3), int64(1), object(7)\n",
      "memory usage: 1.3+ MB\n"
     ]
    }
   ],
   "source": [
    "combined_df.info()"
   ]
  },
  {
   "cell_type": "code",
   "execution_count": 82,
   "metadata": {},
   "outputs": [],
   "source": [
    "combined_df = combined_df.dropna()"
   ]
  },
  {
   "cell_type": "code",
   "execution_count": 83,
   "metadata": {},
   "outputs": [
    {
     "name": "stdout",
     "output_type": "stream",
     "text": [
      "<class 'pandas.core.frame.DataFrame'>\n",
      "Int64Index: 7865 entries, 0 to 14430\n",
      "Data columns (total 13 columns):\n",
      "imdb_id          7865 non-null object\n",
      "title            7865 non-null object\n",
      "year             7865 non-null object\n",
      "director         7865 non-null object\n",
      "production_co    7865 non-null object\n",
      "rank             7865 non-null int64\n",
      "budget_usd       7865 non-null float64\n",
      "us_gross         7865 non-null float64\n",
      "revenue          7865 non-null float64\n",
      "popular          7865 non-null bool\n",
      "genres           7865 non-null object\n",
      "date             7865 non-null datetime64[ns]\n",
      "month            7865 non-null object\n",
      "dtypes: bool(1), datetime64[ns](1), float64(3), int64(1), object(7)\n",
      "memory usage: 806.5+ KB\n"
     ]
    }
   ],
   "source": [
    "combined_df.info()"
   ]
  },
  {
   "cell_type": "markdown",
   "metadata": {},
   "source": [
    "### Save to CSV"
   ]
  },
  {
   "cell_type": "code",
   "execution_count": 84,
   "metadata": {},
   "outputs": [],
   "source": [
    "combined_save_path = os.path.join(os.pardir, 'data', 'processed', 'combined.csv')\n",
    "combined_df.to_csv(combined_save_path, index=False)"
   ]
  },
  {
   "cell_type": "code",
   "execution_count": 85,
   "metadata": {},
   "outputs": [
    {
     "data": {
      "text/html": [
       "<div>\n",
       "<style scoped>\n",
       "    .dataframe tbody tr th:only-of-type {\n",
       "        vertical-align: middle;\n",
       "    }\n",
       "\n",
       "    .dataframe tbody tr th {\n",
       "        vertical-align: top;\n",
       "    }\n",
       "\n",
       "    .dataframe thead th {\n",
       "        text-align: right;\n",
       "    }\n",
       "</style>\n",
       "<table border=\"1\" class=\"dataframe\">\n",
       "  <thead>\n",
       "    <tr style=\"text-align: right;\">\n",
       "      <th></th>\n",
       "      <th>imdb_id</th>\n",
       "      <th>title</th>\n",
       "      <th>year</th>\n",
       "      <th>director</th>\n",
       "      <th>production_co</th>\n",
       "      <th>rank</th>\n",
       "      <th>budget_usd</th>\n",
       "      <th>us_gross</th>\n",
       "      <th>revenue</th>\n",
       "      <th>popular</th>\n",
       "      <th>genres</th>\n",
       "      <th>date</th>\n",
       "      <th>month</th>\n",
       "    </tr>\n",
       "  </thead>\n",
       "  <tbody>\n",
       "    <tr>\n",
       "      <td>100</td>\n",
       "      <td>tt0198781</td>\n",
       "      <td>Monsters, Inc.</td>\n",
       "      <td>2001</td>\n",
       "      <td>Pete Docter</td>\n",
       "      <td>Pixar Animation Studios</td>\n",
       "      <td>1265</td>\n",
       "      <td>115000000.0</td>\n",
       "      <td>290000000.0</td>\n",
       "      <td>175000000.0</td>\n",
       "      <td>True</td>\n",
       "      <td>Adventure,Animation,Comedy</td>\n",
       "      <td>2001-11-01</td>\n",
       "      <td>November</td>\n",
       "    </tr>\n",
       "    <tr>\n",
       "      <td>1461</td>\n",
       "      <td>tt0096446</td>\n",
       "      <td>Willow</td>\n",
       "      <td>1988</td>\n",
       "      <td>Ron Howard</td>\n",
       "      <td>Metro-Goldwyn-Mayer (MGM)</td>\n",
       "      <td>1463</td>\n",
       "      <td>35000000.0</td>\n",
       "      <td>57000000.0</td>\n",
       "      <td>22000000.0</td>\n",
       "      <td>True</td>\n",
       "      <td>Action,Adventure,Drama</td>\n",
       "      <td>1988-05-01</td>\n",
       "      <td>May</td>\n",
       "    </tr>\n",
       "    <tr>\n",
       "      <td>447</td>\n",
       "      <td>tt0129290</td>\n",
       "      <td>Patch Adams</td>\n",
       "      <td>1998</td>\n",
       "      <td>Tom Shadyac</td>\n",
       "      <td>Universal Pictures</td>\n",
       "      <td>4797</td>\n",
       "      <td>90000000.0</td>\n",
       "      <td>135000000.0</td>\n",
       "      <td>45000000.0</td>\n",
       "      <td>False</td>\n",
       "      <td>Biography,Comedy,Drama</td>\n",
       "      <td>1998-12-25</td>\n",
       "      <td>December</td>\n",
       "    </tr>\n",
       "  </tbody>\n",
       "</table>\n",
       "</div>"
      ],
      "text/plain": [
       "        imdb_id           title  year     director              production_co  \\\n",
       "100   tt0198781  Monsters, Inc.  2001  Pete Docter    Pixar Animation Studios   \n",
       "1461  tt0096446          Willow  1988   Ron Howard  Metro-Goldwyn-Mayer (MGM)   \n",
       "447   tt0129290     Patch Adams  1998  Tom Shadyac         Universal Pictures   \n",
       "\n",
       "      rank   budget_usd     us_gross      revenue  popular  \\\n",
       "100   1265  115000000.0  290000000.0  175000000.0     True   \n",
       "1461  1463   35000000.0   57000000.0   22000000.0     True   \n",
       "447   4797   90000000.0  135000000.0   45000000.0    False   \n",
       "\n",
       "                          genres        date     month  \n",
       "100   Adventure,Animation,Comedy  2001-11-01  November  \n",
       "1461      Action,Adventure,Drama  1988-05-01       May  \n",
       "447       Biography,Comedy,Drama  1998-12-25  December  "
      ]
     },
     "execution_count": 85,
     "metadata": {},
     "output_type": "execute_result"
    }
   ],
   "source": [
    "test_combined_save = pd.read_csv(combined_save_path)\n",
    "test_combined_save.sample(3)"
   ]
  },
  {
   "cell_type": "code",
   "execution_count": 86,
   "metadata": {},
   "outputs": [
    {
     "name": "stdout",
     "output_type": "stream",
     "text": [
      "<class 'pandas.core.frame.DataFrame'>\n",
      "Int64Index: 7865 entries, 0 to 14430\n",
      "Data columns (total 13 columns):\n",
      "imdb_id          7865 non-null object\n",
      "title            7865 non-null object\n",
      "year             7865 non-null object\n",
      "director         7865 non-null object\n",
      "production_co    7865 non-null object\n",
      "rank             7865 non-null int64\n",
      "budget_usd       7865 non-null float64\n",
      "us_gross         7865 non-null float64\n",
      "revenue          7865 non-null float64\n",
      "popular          7865 non-null bool\n",
      "genres           7865 non-null object\n",
      "date             7865 non-null datetime64[ns]\n",
      "month            7865 non-null object\n",
      "dtypes: bool(1), datetime64[ns](1), float64(3), int64(1), object(7)\n",
      "memory usage: 806.5+ KB\n"
     ]
    }
   ],
   "source": [
    "combined_df.info()"
   ]
  },
  {
   "cell_type": "code",
   "execution_count": null,
   "metadata": {},
   "outputs": [],
   "source": []
  }
 ],
 "metadata": {
  "file_extension": ".py",
  "kernelspec": {
   "display_name": "Python 3",
   "language": "python",
   "name": "python3"
  },
  "language_info": {
   "codemirror_mode": {
    "name": "ipython",
    "version": 3
   },
   "file_extension": ".py",
   "mimetype": "text/x-python",
   "name": "python",
   "nbconvert_exporter": "python",
   "pygments_lexer": "ipython3",
   "version": "3.6.9"
  },
  "mimetype": "text/x-python",
  "name": "python",
  "npconvert_exporter": "python",
  "pygments_lexer": "ipython3",
  "toc": {
   "base_numbering": 1,
   "nav_menu": {},
   "number_sections": true,
   "sideBar": true,
   "skip_h1_title": false,
   "title_cell": "Table of Contents",
   "title_sidebar": "Contents",
   "toc_cell": false,
   "toc_position": {},
   "toc_section_display": true,
   "toc_window_display": false
  },
  "varInspector": {
   "cols": {
    "lenName": 16,
    "lenType": 16,
    "lenVar": 40
   },
   "kernels_config": {
    "python": {
     "delete_cmd_postfix": "",
     "delete_cmd_prefix": "del ",
     "library": "var_list.py",
     "varRefreshCmd": "print(var_dic_list())"
    },
    "r": {
     "delete_cmd_postfix": ") ",
     "delete_cmd_prefix": "rm(",
     "library": "var_list.r",
     "varRefreshCmd": "cat(var_dic_list()) "
    }
   },
   "oldHeight": 120,
   "position": {
    "height": "40px",
    "left": "448px",
    "right": "20px",
    "top": "110px",
    "width": "435px"
   },
   "types_to_exclude": [
    "module",
    "function",
    "builtin_function_or_method",
    "instance",
    "_Feature"
   ],
   "varInspector_section_display": "none",
   "window_display": true
  },
  "version": 3
 },
 "nbformat": 4,
 "nbformat_minor": 2
}
