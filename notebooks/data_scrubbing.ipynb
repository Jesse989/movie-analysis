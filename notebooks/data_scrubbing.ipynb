{
 "cells": [
  {
   "cell_type": "markdown",
   "metadata": {},
   "source": [
    "# Movie Analysis: Data Scrubbing"
   ]
  },
  {
   "cell_type": "markdown",
   "metadata": {},
   "source": [
    "## About:\n",
    "In the data scrubbing phase I will focus on cleaning up the columns I plan on using, and building up the data frame I will use for the EDA phase:\n",
    "\n",
    "1. US Gross Revenue\n",
    "2. Genre\n",
    "3. Actors\n",
    "4. Time of Year (date)\n",
    "5. Keywords (content)\n",
    "6. Combined"
   ]
  },
  {
   "cell_type": "markdown",
   "metadata": {},
   "source": [
    "### Project imports:"
   ]
  },
  {
   "cell_type": "code",
   "execution_count": 1,
   "metadata": {
    "ExecuteTime": {
     "end_time": "2020-03-24T21:44:50.221772Z",
     "start_time": "2020-03-24T21:44:50.217262Z"
    }
   },
   "outputs": [],
   "source": [
    "# imports for entire data gathering phase\n",
    "import pandas as pd \n",
    "import os"
   ]
  },
  {
   "cell_type": "markdown",
   "metadata": {},
   "source": [
    "## 1. US Gross Revene\n",
    "This column will be how we measure the other columns, so we will start here and drop any rows that don't have this information."
   ]
  },
  {
   "cell_type": "code",
   "execution_count": 2,
   "metadata": {
    "ExecuteTime": {
     "end_time": "2020-03-24T21:44:52.621784Z",
     "start_time": "2020-03-24T21:44:52.544084Z"
    }
   },
   "outputs": [],
   "source": [
    "revenue_path = os.path.join(os.pardir, 'data', 'interim', 'money.csv')\n",
    "revenue_df = pd.read_csv(revenue_path)"
   ]
  },
  {
   "cell_type": "code",
   "execution_count": 3,
   "metadata": {
    "ExecuteTime": {
     "end_time": "2020-03-24T21:44:54.556678Z",
     "start_time": "2020-03-24T21:44:54.488807Z"
    }
   },
   "outputs": [
    {
     "data": {
      "text/html": [
       "<div>\n",
       "<style scoped>\n",
       "    .dataframe tbody tr th:only-of-type {\n",
       "        vertical-align: middle;\n",
       "    }\n",
       "\n",
       "    .dataframe tbody tr th {\n",
       "        vertical-align: top;\n",
       "    }\n",
       "\n",
       "    .dataframe thead th {\n",
       "        text-align: right;\n",
       "    }\n",
       "</style>\n",
       "<table border=\"1\" class=\"dataframe\">\n",
       "  <thead>\n",
       "    <tr style=\"text-align: right;\">\n",
       "      <th></th>\n",
       "      <th>imdb_id</th>\n",
       "      <th>title</th>\n",
       "      <th>year</th>\n",
       "      <th>director</th>\n",
       "      <th>production_co</th>\n",
       "      <th>region_code</th>\n",
       "      <th>rank</th>\n",
       "      <th>budget_usd</th>\n",
       "      <th>us_gross</th>\n",
       "    </tr>\n",
       "  </thead>\n",
       "  <tbody>\n",
       "    <tr>\n",
       "      <td>0</td>\n",
       "      <td>tt2488496</td>\n",
       "      <td>Star Wars: Episode VII - The Force Awakens</td>\n",
       "      <td>2015</td>\n",
       "      <td>J.J. Abrams</td>\n",
       "      <td>Lucasfilm</td>\n",
       "      <td>[US]</td>\n",
       "      <td>519</td>\n",
       "      <td>$245MM</td>\n",
       "      <td>$937MM</td>\n",
       "    </tr>\n",
       "    <tr>\n",
       "      <td>1</td>\n",
       "      <td>tt4154796</td>\n",
       "      <td>Avengers: Endgame</td>\n",
       "      <td>2019</td>\n",
       "      <td>Anthony Russo</td>\n",
       "      <td>Marvel Studios</td>\n",
       "      <td>[US]</td>\n",
       "      <td>111</td>\n",
       "      <td>$356MM</td>\n",
       "      <td>$858MM</td>\n",
       "    </tr>\n",
       "    <tr>\n",
       "      <td>2</td>\n",
       "      <td>tt0499549</td>\n",
       "      <td>Avatar</td>\n",
       "      <td>2009</td>\n",
       "      <td>James Cameron</td>\n",
       "      <td>Twentieth Century Fox</td>\n",
       "      <td>[US]</td>\n",
       "      <td>533</td>\n",
       "      <td>$237MM</td>\n",
       "      <td>$761MM</td>\n",
       "    </tr>\n",
       "    <tr>\n",
       "      <td>3</td>\n",
       "      <td>tt1825683</td>\n",
       "      <td>Black Panther</td>\n",
       "      <td>2018</td>\n",
       "      <td>Ryan Coogler</td>\n",
       "      <td>Marvel Studios</td>\n",
       "      <td>[US]</td>\n",
       "      <td>269</td>\n",
       "      <td>$200MM</td>\n",
       "      <td>$700MM</td>\n",
       "    </tr>\n",
       "    <tr>\n",
       "      <td>4</td>\n",
       "      <td>tt4154756</td>\n",
       "      <td>Avengers: Infinity War</td>\n",
       "      <td>2018</td>\n",
       "      <td>Anthony Russo</td>\n",
       "      <td>Marvel Studios</td>\n",
       "      <td>[US]</td>\n",
       "      <td>376</td>\n",
       "      <td>$321MM</td>\n",
       "      <td>$679MM</td>\n",
       "    </tr>\n",
       "  </tbody>\n",
       "</table>\n",
       "</div>"
      ],
      "text/plain": [
       "     imdb_id                                       title  year       director  \\\n",
       "0  tt2488496  Star Wars: Episode VII - The Force Awakens  2015    J.J. Abrams   \n",
       "1  tt4154796                           Avengers: Endgame  2019  Anthony Russo   \n",
       "2  tt0499549                                      Avatar  2009  James Cameron   \n",
       "3  tt1825683                               Black Panther  2018   Ryan Coogler   \n",
       "4  tt4154756                      Avengers: Infinity War  2018  Anthony Russo   \n",
       "\n",
       "           production_co region_code rank budget_usd us_gross  \n",
       "0              Lucasfilm        [US]  519     $245MM   $937MM  \n",
       "1         Marvel Studios        [US]  111     $356MM   $858MM  \n",
       "2  Twentieth Century Fox        [US]  533     $237MM   $761MM  \n",
       "3         Marvel Studios        [US]  269     $200MM   $700MM  \n",
       "4         Marvel Studios        [US]  376     $321MM   $679MM  "
      ]
     },
     "execution_count": 3,
     "metadata": {},
     "output_type": "execute_result"
    }
   ],
   "source": [
    "revenue_df.head()"
   ]
  },
  {
   "cell_type": "code",
   "execution_count": 4,
   "metadata": {},
   "outputs": [
    {
     "data": {
      "text/html": [
       "<div>\n",
       "<style scoped>\n",
       "    .dataframe tbody tr th:only-of-type {\n",
       "        vertical-align: middle;\n",
       "    }\n",
       "\n",
       "    .dataframe tbody tr th {\n",
       "        vertical-align: top;\n",
       "    }\n",
       "\n",
       "    .dataframe thead th {\n",
       "        text-align: right;\n",
       "    }\n",
       "</style>\n",
       "<table border=\"1\" class=\"dataframe\">\n",
       "  <thead>\n",
       "    <tr style=\"text-align: right;\">\n",
       "      <th></th>\n",
       "      <th>imdb_id</th>\n",
       "      <th>title</th>\n",
       "      <th>year</th>\n",
       "      <th>director</th>\n",
       "      <th>production_co</th>\n",
       "      <th>region_code</th>\n",
       "      <th>rank</th>\n",
       "      <th>budget_usd</th>\n",
       "      <th>us_gross</th>\n",
       "    </tr>\n",
       "  </thead>\n",
       "  <tbody>\n",
       "    <tr>\n",
       "      <td>5194</td>\n",
       "      <td>tt0091605</td>\n",
       "      <td>The Name of the Rose</td>\n",
       "      <td>1986</td>\n",
       "      <td>Jean-Jacques Annaud</td>\n",
       "      <td>Constantin Film</td>\n",
       "      <td>[DE]</td>\n",
       "      <td>2,485</td>\n",
       "      <td>ITL 30B</td>\n",
       "      <td>$7.2MM</td>\n",
       "    </tr>\n",
       "  </tbody>\n",
       "</table>\n",
       "</div>"
      ],
      "text/plain": [
       "        imdb_id                 title  year             director  \\\n",
       "5194  tt0091605  The Name of the Rose  1986  Jean-Jacques Annaud   \n",
       "\n",
       "        production_co region_code   rank budget_usd us_gross  \n",
       "5194  Constantin Film        [DE]  2,485    ITL 30B   $7.2MM  "
      ]
     },
     "execution_count": 4,
     "metadata": {},
     "output_type": "execute_result"
    }
   ],
   "source": [
    "revenue_df.loc[revenue_df['imdb_id'] == 'tt0091605']"
   ]
  },
  {
   "cell_type": "code",
   "execution_count": 5,
   "metadata": {
    "ExecuteTime": {
     "end_time": "2020-03-24T21:45:00.828326Z",
     "start_time": "2020-03-24T21:45:00.799253Z"
    }
   },
   "outputs": [],
   "source": [
    "revenue_df = revenue_df[:-1]"
   ]
  },
  {
   "cell_type": "markdown",
   "metadata": {},
   "source": [
    "### Changes:\n",
    "\n",
    "1. Convert 'us_gross', and 'budget_usd' values into floats. That means stripping the non-number characters out as well as changing 'MM' to ',000,000'.\n",
    "2. Convert year column to int, so the years don't have the trailing .0.\n",
    "3. region_code does not need the brackets around the abbreviations."
   ]
  },
  {
   "cell_type": "code",
   "execution_count": 6,
   "metadata": {
    "ExecuteTime": {
     "end_time": "2020-03-24T21:45:03.347796Z",
     "start_time": "2020-03-24T21:45:03.327513Z"
    },
    "code_folding": []
   },
   "outputs": [],
   "source": [
    "# Created 3/22/2020 with current exhange values. Values not adjusted for the date the movie was created.\n",
    "def get_conversion_rate(value):\n",
    "    \"\"\"Get exchange rate for given currency code\n",
    "    \n",
    "    Arguments:\n",
    "        value (string): String with currency code or symbol in it\n",
    "\n",
    "    Returns:\n",
    "        rate (float): Conversion rate to usd\n",
    "    \"\"\"\n",
    "    if '£' in value:\n",
    "        return 0.854\n",
    "    elif '€' in value:\n",
    "        return 0.9334\n",
    "    elif 'AUD' in value:\n",
    "        return 1.7229\n",
    "    elif 'CAD' in value:\n",
    "        return 1.435\n",
    "    elif 'FRF' in value:\n",
    "        return 6.55957 * 0.9334\n",
    "    elif 'INR' in value:\n",
    "        return 75.394\n",
    "    elif 'THB' in value:\n",
    "        return 32.68\n",
    "    elif 'EM' in value:\n",
    "        return 1 # cant find info on EM\n",
    "    elif 'JPY' in value:\n",
    "        return 110.75\n",
    "    elif 'SKW' in value:\n",
    "        return 1254.45\n",
    "    elif 'HUF' in value:\n",
    "        return 327.94\n",
    "    elif 'NGN' in value:\n",
    "        return 364\n",
    "    elif 'CNY' in value:\n",
    "        return 7.0950\n",
    "    elif 'ESP' in value:\n",
    "        return 155.42826\n",
    "    elif 'RUR' in value:\n",
    "        return 79.87\n",
    "    elif 'HKD' in value:\n",
    "        return 7.7570\n",
    "    elif 'ISK' in value:\n",
    "        return 140.490\n",
    "    elif 'PHP' in value:\n",
    "        return 51.19\n",
    "    elif 'DKK' in value:\n",
    "        return 6.9716\n",
    "    elif 'CZK' in value:\n",
    "        return 25.5620\n",
    "    elif 'SKK' in value:\n",
    "        return 10.3753\n",
    "    elif 'NOK' in value:\n",
    "        return 11.7890\n",
    "    elif 'MXN' in value:\n",
    "        return 24.4215\n",
    "    elif 'JMD' in value:\n",
    "        return 135.07\n",
    "    elif 'PLN' in value:\n",
    "        return 4.23\n",
    "    elif 'KRW' in value:\n",
    "        return 1228.97\n",
    "    elif 'ITL' in value:\n",
    "        return 1804.64\n",
    "    else:\n",
    "        return 1"
   ]
  },
  {
   "cell_type": "code",
   "execution_count": 7,
   "metadata": {
    "ExecuteTime": {
     "end_time": "2020-03-24T21:45:05.409886Z",
     "start_time": "2020-03-24T21:45:05.391233Z"
    },
    "code_folding": [
     0
    ]
   },
   "outputs": [],
   "source": [
    "def strip_currency_code(value):\n",
    "    \"\"\"Strips currency code from front of currency string\n",
    "\n",
    "    Arguments: \n",
    "        value (string): currency amount prefaced with currency code\n",
    "    \n",
    "    Returns:\n",
    "        value (string): value without the currency code\n",
    "    \"\"\"\n",
    "    if value[:1] in '$£€':\n",
    "        return value[1:]\n",
    "    else:\n",
    "        return value[3:]"
   ]
  },
  {
   "cell_type": "code",
   "execution_count": 8,
   "metadata": {
    "ExecuteTime": {
     "end_time": "2020-03-24T21:45:07.317330Z",
     "start_time": "2020-03-24T21:45:07.308065Z"
    },
    "code_folding": [
     0
    ]
   },
   "outputs": [],
   "source": [
    "def convert_money(value):\n",
    "    \"\"\"Takes currency string and parses it into correct amount in USD\n",
    "    \n",
    "    Arguments:\n",
    "        value (string): currency in form: CAD 345.3B \n",
    "\n",
    "    Returns:\n",
    "        value (int): currency converted to USD and in standard numeric form\n",
    "    \"\"\"\n",
    "    # type check:\n",
    "    if type(value) != str:\n",
    "        return\n",
    "    \n",
    "    # check currency sign and get coefficient\n",
    "    coef = get_conversion_rate(value)\n",
    "    value = strip_currency_code(value)\n",
    "    if 'K' in value:\n",
    "        value = (float(value.strip('K')) * 1000) / coef\n",
    "    elif 'MM' in value:\n",
    "        value = (float(value.strip('MM')) * 1000000) / coef\n",
    "    elif 'B' in value:\n",
    "        value = (float(value.strip('B')) * 1000000000) / coef\n",
    "    else:\n",
    "        value = float(value.strip()) / coef\n",
    "    return value"
   ]
  },
  {
   "cell_type": "code",
   "execution_count": 9,
   "metadata": {
    "ExecuteTime": {
     "end_time": "2020-03-24T21:45:09.366834Z",
     "start_time": "2020-03-24T21:45:09.225402Z"
    }
   },
   "outputs": [],
   "source": [
    "revenue_df['us_gross'] = revenue_df['us_gross'].apply(convert_money)"
   ]
  },
  {
   "cell_type": "code",
   "execution_count": 10,
   "metadata": {},
   "outputs": [
    {
     "data": {
      "text/plain": [
       "0        937000000.0\n",
       "1        858000000.0\n",
       "2        761000000.0\n",
       "3        700000000.0\n",
       "4        679000000.0\n",
       "            ...     \n",
       "14696            NaN\n",
       "14697            NaN\n",
       "14698            NaN\n",
       "14699            NaN\n",
       "14700            NaN\n",
       "Name: us_gross, Length: 14701, dtype: float64"
      ]
     },
     "execution_count": 10,
     "metadata": {},
     "output_type": "execute_result"
    }
   ],
   "source": [
    "revenue_df['us_gross']"
   ]
  },
  {
   "cell_type": "code",
   "execution_count": 11,
   "metadata": {
    "ExecuteTime": {
     "end_time": "2020-03-24T21:45:11.409761Z",
     "start_time": "2020-03-24T21:45:11.344963Z"
    }
   },
   "outputs": [],
   "source": [
    "revenue_df['budget_usd'] = revenue_df['budget_usd'].apply(convert_money)"
   ]
  },
  {
   "cell_type": "code",
   "execution_count": 12,
   "metadata": {
    "ExecuteTime": {
     "end_time": "2020-03-24T21:45:13.682594Z",
     "start_time": "2020-03-24T21:45:13.672994Z"
    }
   },
   "outputs": [
    {
     "data": {
      "text/plain": [
       "6705"
      ]
     },
     "execution_count": 12,
     "metadata": {},
     "output_type": "execute_result"
    }
   ],
   "source": [
    "revenue_df['budget_usd'].isna().sum()"
   ]
  },
  {
   "cell_type": "code",
   "execution_count": 13,
   "metadata": {
    "ExecuteTime": {
     "end_time": "2020-03-24T21:45:15.711263Z",
     "start_time": "2020-03-24T21:45:15.665132Z"
    }
   },
   "outputs": [
    {
     "data": {
      "text/html": [
       "<div>\n",
       "<style scoped>\n",
       "    .dataframe tbody tr th:only-of-type {\n",
       "        vertical-align: middle;\n",
       "    }\n",
       "\n",
       "    .dataframe tbody tr th {\n",
       "        vertical-align: top;\n",
       "    }\n",
       "\n",
       "    .dataframe thead th {\n",
       "        text-align: right;\n",
       "    }\n",
       "</style>\n",
       "<table border=\"1\" class=\"dataframe\">\n",
       "  <thead>\n",
       "    <tr style=\"text-align: right;\">\n",
       "      <th></th>\n",
       "      <th>imdb_id</th>\n",
       "      <th>title</th>\n",
       "      <th>year</th>\n",
       "      <th>director</th>\n",
       "      <th>production_co</th>\n",
       "      <th>region_code</th>\n",
       "      <th>rank</th>\n",
       "      <th>budget_usd</th>\n",
       "      <th>us_gross</th>\n",
       "    </tr>\n",
       "  </thead>\n",
       "  <tbody>\n",
       "    <tr>\n",
       "      <td>13854</td>\n",
       "      <td>tt1723126</td>\n",
       "      <td>Last Days Here</td>\n",
       "      <td>2011</td>\n",
       "      <td>Don Argott</td>\n",
       "      <td>9.14 Pictures</td>\n",
       "      <td>[US]</td>\n",
       "      <td>114,022</td>\n",
       "      <td>NaN</td>\n",
       "      <td>8000.0</td>\n",
       "    </tr>\n",
       "    <tr>\n",
       "      <td>11117</td>\n",
       "      <td>tt0110115</td>\n",
       "      <td>Imaginary Crimes</td>\n",
       "      <td>1994</td>\n",
       "      <td>Anthony Drazan</td>\n",
       "      <td>Morgan Creek Entertainment</td>\n",
       "      <td>[US]</td>\n",
       "      <td>47,710</td>\n",
       "      <td>NaN</td>\n",
       "      <td>90000.0</td>\n",
       "    </tr>\n",
       "    <tr>\n",
       "      <td>6685</td>\n",
       "      <td>tt0389326</td>\n",
       "      <td>Riding Giants</td>\n",
       "      <td>2004</td>\n",
       "      <td>Stacy Peralta</td>\n",
       "      <td>Agi Orsi Productions</td>\n",
       "      <td>[US]</td>\n",
       "      <td>55,948</td>\n",
       "      <td>NaN</td>\n",
       "      <td>2300000.0</td>\n",
       "    </tr>\n",
       "    <tr>\n",
       "      <td>4650</td>\n",
       "      <td>tt0088395</td>\n",
       "      <td>Where the Boys Are</td>\n",
       "      <td>1984</td>\n",
       "      <td>Hy Averback</td>\n",
       "      <td>Incorporated Television Company (ITC)</td>\n",
       "      <td>[GB]</td>\n",
       "      <td>15,228</td>\n",
       "      <td>NaN</td>\n",
       "      <td>11000000.0</td>\n",
       "    </tr>\n",
       "    <tr>\n",
       "      <td>14559</td>\n",
       "      <td>tt2537176</td>\n",
       "      <td>I Spit on Your Grave 2</td>\n",
       "      <td>2013</td>\n",
       "      <td>Steven R. Monroe</td>\n",
       "      <td>Cinetel Films</td>\n",
       "      <td>[US]</td>\n",
       "      <td>4,001</td>\n",
       "      <td>NaN</td>\n",
       "      <td>809.0</td>\n",
       "    </tr>\n",
       "  </tbody>\n",
       "</table>\n",
       "</div>"
      ],
      "text/plain": [
       "         imdb_id                   title  year          director  \\\n",
       "13854  tt1723126          Last Days Here  2011        Don Argott   \n",
       "11117  tt0110115        Imaginary Crimes  1994    Anthony Drazan   \n",
       "6685   tt0389326           Riding Giants  2004     Stacy Peralta   \n",
       "4650   tt0088395      Where the Boys Are  1984       Hy Averback   \n",
       "14559  tt2537176  I Spit on Your Grave 2  2013  Steven R. Monroe   \n",
       "\n",
       "                               production_co region_code     rank  budget_usd  \\\n",
       "13854                          9.14 Pictures        [US]  114,022         NaN   \n",
       "11117             Morgan Creek Entertainment        [US]   47,710         NaN   \n",
       "6685                    Agi Orsi Productions        [US]   55,948         NaN   \n",
       "4650   Incorporated Television Company (ITC)        [GB]   15,228         NaN   \n",
       "14559                          Cinetel Films        [US]    4,001         NaN   \n",
       "\n",
       "         us_gross  \n",
       "13854      8000.0  \n",
       "11117     90000.0  \n",
       "6685    2300000.0  \n",
       "4650   11000000.0  \n",
       "14559       809.0  "
      ]
     },
     "execution_count": 13,
     "metadata": {},
     "output_type": "execute_result"
    }
   ],
   "source": [
    "revenue_df.sample(5)"
   ]
  },
  {
   "cell_type": "markdown",
   "metadata": {},
   "source": [
    "Now for region code. We actually don't need this column so we will drop it."
   ]
  },
  {
   "cell_type": "code",
   "execution_count": 14,
   "metadata": {
    "ExecuteTime": {
     "end_time": "2020-03-24T21:45:18.088171Z",
     "start_time": "2020-03-24T21:45:18.076738Z"
    }
   },
   "outputs": [],
   "source": [
    "revenue_df.drop(columns='region_code', inplace=True)"
   ]
  },
  {
   "cell_type": "markdown",
   "metadata": {},
   "source": [
    "For the 'year' column we went ahead and dropped the missing rows, because there were only 6 of them."
   ]
  },
  {
   "cell_type": "code",
   "execution_count": 15,
   "metadata": {
    "ExecuteTime": {
     "end_time": "2020-03-24T21:45:20.349270Z",
     "start_time": "2020-03-24T21:45:20.296623Z"
    }
   },
   "outputs": [
    {
     "data": {
      "text/plain": [
       "imdb_id             1\n",
       "title               1\n",
       "year               16\n",
       "director           30\n",
       "production_co     356\n",
       "rank               13\n",
       "budget_usd       6705\n",
       "us_gross          103\n",
       "dtype: int64"
      ]
     },
     "execution_count": 15,
     "metadata": {},
     "output_type": "execute_result"
    }
   ],
   "source": [
    "revenue_df.isna().sum()"
   ]
  },
  {
   "cell_type": "markdown",
   "metadata": {},
   "source": [
    "Cleaning up Nan values:"
   ]
  },
  {
   "cell_type": "code",
   "execution_count": 16,
   "metadata": {
    "ExecuteTime": {
     "end_time": "2020-03-24T21:45:22.308891Z",
     "start_time": "2020-03-24T21:45:22.295609Z"
    }
   },
   "outputs": [],
   "source": [
    "# first, change the missing values from budget to -1, so we dont drop 1910 rows.\n",
    "revenue_df['budget_usd'] = revenue_df['budget_usd'].fillna(-1)"
   ]
  },
  {
   "cell_type": "code",
   "execution_count": 17,
   "metadata": {
    "ExecuteTime": {
     "end_time": "2020-03-24T21:45:24.376371Z",
     "start_time": "2020-03-24T21:45:24.357921Z"
    }
   },
   "outputs": [],
   "source": [
    "# also, fill in the production_co missing values with an 'Unknown'\n",
    "revenue_df['production_co'] = revenue_df['production_co'].fillna('Unknown')"
   ]
  },
  {
   "cell_type": "code",
   "execution_count": 18,
   "metadata": {
    "ExecuteTime": {
     "end_time": "2020-03-24T21:45:26.199245Z",
     "start_time": "2020-03-24T21:45:26.173605Z"
    }
   },
   "outputs": [
    {
     "name": "stdout",
     "output_type": "stream",
     "text": [
      "<class 'pandas.core.frame.DataFrame'>\n",
      "RangeIndex: 14701 entries, 0 to 14700\n",
      "Data columns (total 8 columns):\n",
      "imdb_id          14700 non-null object\n",
      "title            14700 non-null object\n",
      "year             14685 non-null object\n",
      "director         14671 non-null object\n",
      "production_co    14701 non-null object\n",
      "rank             14688 non-null object\n",
      "budget_usd       14701 non-null float64\n",
      "us_gross         14598 non-null float64\n",
      "dtypes: float64(2), object(6)\n",
      "memory usage: 918.9+ KB\n"
     ]
    }
   ],
   "source": [
    "revenue_df.info()"
   ]
  },
  {
   "cell_type": "code",
   "execution_count": 19,
   "metadata": {
    "ExecuteTime": {
     "end_time": "2020-03-24T21:45:28.132380Z",
     "start_time": "2020-03-24T21:45:28.116299Z"
    }
   },
   "outputs": [],
   "source": [
    "revenue_df = revenue_df.dropna()"
   ]
  },
  {
   "cell_type": "code",
   "execution_count": 20,
   "metadata": {
    "ExecuteTime": {
     "end_time": "2020-03-24T21:45:28.164880Z",
     "start_time": "2020-03-24T21:45:28.140429Z"
    }
   },
   "outputs": [
    {
     "data": {
      "text/html": [
       "<div>\n",
       "<style scoped>\n",
       "    .dataframe tbody tr th:only-of-type {\n",
       "        vertical-align: middle;\n",
       "    }\n",
       "\n",
       "    .dataframe tbody tr th {\n",
       "        vertical-align: top;\n",
       "    }\n",
       "\n",
       "    .dataframe thead th {\n",
       "        text-align: right;\n",
       "    }\n",
       "</style>\n",
       "<table border=\"1\" class=\"dataframe\">\n",
       "  <thead>\n",
       "    <tr style=\"text-align: right;\">\n",
       "      <th></th>\n",
       "      <th>imdb_id</th>\n",
       "      <th>title</th>\n",
       "      <th>year</th>\n",
       "      <th>director</th>\n",
       "      <th>production_co</th>\n",
       "      <th>rank</th>\n",
       "      <th>budget_usd</th>\n",
       "      <th>us_gross</th>\n",
       "    </tr>\n",
       "  </thead>\n",
       "  <tbody>\n",
       "    <tr>\n",
       "      <td>8061</td>\n",
       "      <td>tt1002617</td>\n",
       "      <td>Between Me and My Mind</td>\n",
       "      <td>2019</td>\n",
       "      <td>Steven Cantor</td>\n",
       "      <td>Believe Entertainment Group</td>\n",
       "      <td>96,620</td>\n",
       "      <td>-1.0</td>\n",
       "      <td>875000.0</td>\n",
       "    </tr>\n",
       "    <tr>\n",
       "      <td>12226</td>\n",
       "      <td>tt3374966</td>\n",
       "      <td>The Mafia Kills Only in Summer</td>\n",
       "      <td>2013</td>\n",
       "      <td>Pif</td>\n",
       "      <td>Wildside</td>\n",
       "      <td>29,230</td>\n",
       "      <td>-1.0</td>\n",
       "      <td>37000.0</td>\n",
       "    </tr>\n",
       "    <tr>\n",
       "      <td>10058</td>\n",
       "      <td>tt3228088</td>\n",
       "      <td>Spark: A Space Tail</td>\n",
       "      <td>2016</td>\n",
       "      <td>Aaron Woodley</td>\n",
       "      <td>ToonBox Entertainment</td>\n",
       "      <td>32,181</td>\n",
       "      <td>-1.0</td>\n",
       "      <td>196000.0</td>\n",
       "    </tr>\n",
       "    <tr>\n",
       "      <td>12624</td>\n",
       "      <td>tt2435458</td>\n",
       "      <td>Last Weekend</td>\n",
       "      <td>2014</td>\n",
       "      <td>Tom Dolby</td>\n",
       "      <td>Gran Via Productions</td>\n",
       "      <td>58,207</td>\n",
       "      <td>-1.0</td>\n",
       "      <td>27000.0</td>\n",
       "    </tr>\n",
       "    <tr>\n",
       "      <td>8015</td>\n",
       "      <td>tt6257174</td>\n",
       "      <td>The Miseducation of Cameron Post</td>\n",
       "      <td>2018</td>\n",
       "      <td>Desiree Akhavan</td>\n",
       "      <td>Beachside Films</td>\n",
       "      <td>5,354</td>\n",
       "      <td>-1.0</td>\n",
       "      <td>905000.0</td>\n",
       "    </tr>\n",
       "  </tbody>\n",
       "</table>\n",
       "</div>"
      ],
      "text/plain": [
       "         imdb_id                             title  year         director  \\\n",
       "8061   tt1002617            Between Me and My Mind  2019    Steven Cantor   \n",
       "12226  tt3374966    The Mafia Kills Only in Summer  2013              Pif   \n",
       "10058  tt3228088               Spark: A Space Tail  2016    Aaron Woodley   \n",
       "12624  tt2435458                      Last Weekend  2014        Tom Dolby   \n",
       "8015   tt6257174  The Miseducation of Cameron Post  2018  Desiree Akhavan   \n",
       "\n",
       "                     production_co    rank  budget_usd  us_gross  \n",
       "8061   Believe Entertainment Group  96,620        -1.0  875000.0  \n",
       "12226                     Wildside  29,230        -1.0   37000.0  \n",
       "10058        ToonBox Entertainment  32,181        -1.0  196000.0  \n",
       "12624         Gran Via Productions  58,207        -1.0   27000.0  \n",
       "8015               Beachside Films   5,354        -1.0  905000.0  "
      ]
     },
     "execution_count": 20,
     "metadata": {},
     "output_type": "execute_result"
    }
   ],
   "source": [
    "revenue_df.sample(5)"
   ]
  },
  {
   "cell_type": "markdown",
   "metadata": {},
   "source": [
    "Now for dropping duplicates:"
   ]
  },
  {
   "cell_type": "code",
   "execution_count": 21,
   "metadata": {
    "ExecuteTime": {
     "end_time": "2020-03-24T21:45:31.968955Z",
     "start_time": "2020-03-24T21:45:31.890309Z"
    }
   },
   "outputs": [],
   "source": [
    "revenue_df = revenue_df.drop_duplicates()"
   ]
  },
  {
   "cell_type": "code",
   "execution_count": 22,
   "metadata": {
    "ExecuteTime": {
     "end_time": "2020-03-24T21:45:33.764269Z",
     "start_time": "2020-03-24T21:45:33.745870Z"
    }
   },
   "outputs": [
    {
     "name": "stdout",
     "output_type": "stream",
     "text": [
      "<class 'pandas.core.frame.DataFrame'>\n",
      "Int64Index: 14431 entries, 0 to 14598\n",
      "Data columns (total 8 columns):\n",
      "imdb_id          14431 non-null object\n",
      "title            14431 non-null object\n",
      "year             14431 non-null object\n",
      "director         14431 non-null object\n",
      "production_co    14431 non-null object\n",
      "rank             14431 non-null object\n",
      "budget_usd       14431 non-null float64\n",
      "us_gross         14431 non-null float64\n",
      "dtypes: float64(2), object(6)\n",
      "memory usage: 1014.7+ KB\n"
     ]
    }
   ],
   "source": [
    "revenue_df.info()"
   ]
  },
  {
   "cell_type": "code",
   "execution_count": 23,
   "metadata": {
    "ExecuteTime": {
     "end_time": "2020-03-24T21:45:35.709168Z",
     "start_time": "2020-03-24T21:45:35.656232Z"
    }
   },
   "outputs": [
    {
     "data": {
      "text/html": [
       "<div>\n",
       "<style scoped>\n",
       "    .dataframe tbody tr th:only-of-type {\n",
       "        vertical-align: middle;\n",
       "    }\n",
       "\n",
       "    .dataframe tbody tr th {\n",
       "        vertical-align: top;\n",
       "    }\n",
       "\n",
       "    .dataframe thead th {\n",
       "        text-align: right;\n",
       "    }\n",
       "</style>\n",
       "<table border=\"1\" class=\"dataframe\">\n",
       "  <thead>\n",
       "    <tr style=\"text-align: right;\">\n",
       "      <th></th>\n",
       "      <th>imdb_id</th>\n",
       "      <th>title</th>\n",
       "      <th>year</th>\n",
       "      <th>director</th>\n",
       "      <th>production_co</th>\n",
       "      <th>rank</th>\n",
       "      <th>budget_usd</th>\n",
       "      <th>us_gross</th>\n",
       "    </tr>\n",
       "  </thead>\n",
       "  <tbody>\n",
       "    <tr>\n",
       "      <td>14233</td>\n",
       "      <td>tt0117132</td>\n",
       "      <td>A Girl Called Rosemary</td>\n",
       "      <td>1996</td>\n",
       "      <td>Bernd Eichinger</td>\n",
       "      <td>Constantin Film</td>\n",
       "      <td>84,954</td>\n",
       "      <td>-1.0</td>\n",
       "      <td>4000.0</td>\n",
       "    </tr>\n",
       "    <tr>\n",
       "      <td>1464</td>\n",
       "      <td>tt0289879</td>\n",
       "      <td>The Butterfly Effect</td>\n",
       "      <td>2004</td>\n",
       "      <td>Eric Bress</td>\n",
       "      <td>BenderSpink</td>\n",
       "      <td>1,627</td>\n",
       "      <td>13000000.0</td>\n",
       "      <td>58000000.0</td>\n",
       "    </tr>\n",
       "    <tr>\n",
       "      <td>14398</td>\n",
       "      <td>tt0439467</td>\n",
       "      <td>The Big Question</td>\n",
       "      <td>2004</td>\n",
       "      <td>Francesco Cabras</td>\n",
       "      <td>Ganga</td>\n",
       "      <td>285,077</td>\n",
       "      <td>-1.0</td>\n",
       "      <td>2000.0</td>\n",
       "    </tr>\n",
       "  </tbody>\n",
       "</table>\n",
       "</div>"
      ],
      "text/plain": [
       "         imdb_id                   title  year          director  \\\n",
       "14233  tt0117132  A Girl Called Rosemary  1996   Bernd Eichinger   \n",
       "1464   tt0289879    The Butterfly Effect  2004        Eric Bress   \n",
       "14398  tt0439467        The Big Question  2004  Francesco Cabras   \n",
       "\n",
       "         production_co     rank  budget_usd    us_gross  \n",
       "14233  Constantin Film   84,954        -1.0      4000.0  \n",
       "1464       BenderSpink    1,627  13000000.0  58000000.0  \n",
       "14398            Ganga  285,077        -1.0      2000.0  "
      ]
     },
     "execution_count": 23,
     "metadata": {},
     "output_type": "execute_result"
    }
   ],
   "source": [
    "revenue_df.sample(3)"
   ]
  },
  {
   "cell_type": "code",
   "execution_count": 24,
   "metadata": {},
   "outputs": [],
   "source": [
    "def calc_revenue(df):\n",
    "    return df['us_gross'] - df['budget_usd'] "
   ]
  },
  {
   "cell_type": "code",
   "execution_count": 25,
   "metadata": {},
   "outputs": [],
   "source": [
    "revenue_df['revenue'] = revenue_df[revenue_df['budget_usd'] > 0].apply(calc_revenue, axis=1)"
   ]
  },
  {
   "cell_type": "markdown",
   "metadata": {},
   "source": [
    "Added in a revenue column after being advised about how much better it would be for a metric."
   ]
  },
  {
   "cell_type": "code",
   "execution_count": 26,
   "metadata": {
    "ExecuteTime": {
     "end_time": "2020-03-24T21:45:43.135797Z",
     "start_time": "2020-03-24T21:45:43.065635Z"
    }
   },
   "outputs": [
    {
     "data": {
      "text/html": [
       "<div>\n",
       "<style scoped>\n",
       "    .dataframe tbody tr th:only-of-type {\n",
       "        vertical-align: middle;\n",
       "    }\n",
       "\n",
       "    .dataframe tbody tr th {\n",
       "        vertical-align: top;\n",
       "    }\n",
       "\n",
       "    .dataframe thead th {\n",
       "        text-align: right;\n",
       "    }\n",
       "</style>\n",
       "<table border=\"1\" class=\"dataframe\">\n",
       "  <thead>\n",
       "    <tr style=\"text-align: right;\">\n",
       "      <th></th>\n",
       "      <th>imdb_id</th>\n",
       "      <th>title</th>\n",
       "      <th>year</th>\n",
       "      <th>director</th>\n",
       "      <th>production_co</th>\n",
       "      <th>rank</th>\n",
       "      <th>budget_usd</th>\n",
       "      <th>us_gross</th>\n",
       "      <th>revenue</th>\n",
       "    </tr>\n",
       "  </thead>\n",
       "  <tbody>\n",
       "    <tr>\n",
       "      <td>1107</td>\n",
       "      <td>tt0401729</td>\n",
       "      <td>John Carter</td>\n",
       "      <td>2012</td>\n",
       "      <td>Andrew Stanton</td>\n",
       "      <td>Walt Disney Pictures</td>\n",
       "      <td>1,817</td>\n",
       "      <td>250000000.0</td>\n",
       "      <td>73000000.0</td>\n",
       "      <td>-177000000.0</td>\n",
       "    </tr>\n",
       "    <tr>\n",
       "      <td>1271</td>\n",
       "      <td>tt1440129</td>\n",
       "      <td>Battleship</td>\n",
       "      <td>2012</td>\n",
       "      <td>Peter Berg</td>\n",
       "      <td>Universal Pictures</td>\n",
       "      <td>3,013</td>\n",
       "      <td>209000000.0</td>\n",
       "      <td>65000000.0</td>\n",
       "      <td>-144000000.0</td>\n",
       "    </tr>\n",
       "  </tbody>\n",
       "</table>\n",
       "</div>"
      ],
      "text/plain": [
       "        imdb_id        title  year        director         production_co  \\\n",
       "1107  tt0401729  John Carter  2012  Andrew Stanton  Walt Disney Pictures   \n",
       "1271  tt1440129   Battleship  2012      Peter Berg    Universal Pictures   \n",
       "\n",
       "       rank   budget_usd    us_gross      revenue  \n",
       "1107  1,817  250000000.0  73000000.0 -177000000.0  \n",
       "1271  3,013  209000000.0  65000000.0 -144000000.0  "
      ]
     },
     "execution_count": 26,
     "metadata": {},
     "output_type": "execute_result"
    }
   ],
   "source": [
    "revenue_df[revenue_df['budget_usd'] > 0].sort_values('revenue').head(2)"
   ]
  },
  {
   "cell_type": "markdown",
   "metadata": {},
   "source": [
    "Change rank type from string to int"
   ]
  },
  {
   "cell_type": "code",
   "execution_count": 27,
   "metadata": {},
   "outputs": [],
   "source": [
    "def fix_rank(value):\n",
    "    value = value.replace(',', '')\n",
    "    return int(value)"
   ]
  },
  {
   "cell_type": "code",
   "execution_count": 28,
   "metadata": {},
   "outputs": [],
   "source": [
    "revenue_df['rank'] = revenue_df['rank'].apply(fix_rank)\n",
    "revenue_df['popular'] = revenue_df['rank'].apply(lambda x: x < revenue_df['rank'].quantile(.1))"
   ]
  },
  {
   "cell_type": "code",
   "execution_count": 29,
   "metadata": {},
   "outputs": [
    {
     "data": {
      "text/html": [
       "<div>\n",
       "<style scoped>\n",
       "    .dataframe tbody tr th:only-of-type {\n",
       "        vertical-align: middle;\n",
       "    }\n",
       "\n",
       "    .dataframe tbody tr th {\n",
       "        vertical-align: top;\n",
       "    }\n",
       "\n",
       "    .dataframe thead th {\n",
       "        text-align: right;\n",
       "    }\n",
       "</style>\n",
       "<table border=\"1\" class=\"dataframe\">\n",
       "  <thead>\n",
       "    <tr style=\"text-align: right;\">\n",
       "      <th></th>\n",
       "      <th>imdb_id</th>\n",
       "      <th>title</th>\n",
       "      <th>year</th>\n",
       "      <th>director</th>\n",
       "      <th>production_co</th>\n",
       "      <th>rank</th>\n",
       "      <th>budget_usd</th>\n",
       "      <th>us_gross</th>\n",
       "      <th>revenue</th>\n",
       "      <th>popular</th>\n",
       "    </tr>\n",
       "  </thead>\n",
       "  <tbody>\n",
       "    <tr>\n",
       "      <td>8893</td>\n",
       "      <td>tt0102587</td>\n",
       "      <td>Only Yesterday</td>\n",
       "      <td>1991</td>\n",
       "      <td>Isao Takahata</td>\n",
       "      <td>Nippon Television Network (NTV)</td>\n",
       "      <td>5706</td>\n",
       "      <td>-1.0</td>\n",
       "      <td>453000.0</td>\n",
       "      <td>NaN</td>\n",
       "      <td>False</td>\n",
       "    </tr>\n",
       "    <tr>\n",
       "      <td>7478</td>\n",
       "      <td>tt5974460</td>\n",
       "      <td>The Women's Balcony</td>\n",
       "      <td>2016</td>\n",
       "      <td>Emil Ben-Shimon</td>\n",
       "      <td>Pie Films</td>\n",
       "      <td>77579</td>\n",
       "      <td>-1.0</td>\n",
       "      <td>1200000.0</td>\n",
       "      <td>NaN</td>\n",
       "      <td>False</td>\n",
       "    </tr>\n",
       "    <tr>\n",
       "      <td>2974</td>\n",
       "      <td>tt1800246</td>\n",
       "      <td>That Awkward Moment</td>\n",
       "      <td>2014</td>\n",
       "      <td>Tom Gormican</td>\n",
       "      <td>Treehouse Pictures</td>\n",
       "      <td>4811</td>\n",
       "      <td>8000000.0</td>\n",
       "      <td>26000000.0</td>\n",
       "      <td>18000000.0</td>\n",
       "      <td>False</td>\n",
       "    </tr>\n",
       "  </tbody>\n",
       "</table>\n",
       "</div>"
      ],
      "text/plain": [
       "        imdb_id                title  year         director  \\\n",
       "8893  tt0102587       Only Yesterday  1991    Isao Takahata   \n",
       "7478  tt5974460  The Women's Balcony  2016  Emil Ben-Shimon   \n",
       "2974  tt1800246  That Awkward Moment  2014     Tom Gormican   \n",
       "\n",
       "                        production_co   rank  budget_usd    us_gross  \\\n",
       "8893  Nippon Television Network (NTV)   5706        -1.0    453000.0   \n",
       "7478                        Pie Films  77579        -1.0   1200000.0   \n",
       "2974               Treehouse Pictures   4811   8000000.0  26000000.0   \n",
       "\n",
       "         revenue  popular  \n",
       "8893         NaN    False  \n",
       "7478         NaN    False  \n",
       "2974  18000000.0    False  "
      ]
     },
     "execution_count": 29,
     "metadata": {},
     "output_type": "execute_result"
    }
   ],
   "source": [
    "revenue_df.sample(3)"
   ]
  },
  {
   "cell_type": "markdown",
   "metadata": {},
   "source": [
    "### Save as CSV"
   ]
  },
  {
   "cell_type": "code",
   "execution_count": 30,
   "metadata": {
    "ExecuteTime": {
     "end_time": "2020-03-24T21:45:38.522024Z",
     "start_time": "2020-03-24T21:45:38.342582Z"
    }
   },
   "outputs": [],
   "source": [
    "revenue_save_path = os.path.join(os.pardir, 'data', 'processed', 'revenue.csv')\n",
    "revenue_df.to_csv(revenue_save_path, index=False)"
   ]
  },
  {
   "cell_type": "code",
   "execution_count": 31,
   "metadata": {
    "ExecuteTime": {
     "end_time": "2020-03-24T21:45:40.984328Z",
     "start_time": "2020-03-24T21:45:40.810483Z"
    }
   },
   "outputs": [
    {
     "data": {
      "text/html": [
       "<div>\n",
       "<style scoped>\n",
       "    .dataframe tbody tr th:only-of-type {\n",
       "        vertical-align: middle;\n",
       "    }\n",
       "\n",
       "    .dataframe tbody tr th {\n",
       "        vertical-align: top;\n",
       "    }\n",
       "\n",
       "    .dataframe thead th {\n",
       "        text-align: right;\n",
       "    }\n",
       "</style>\n",
       "<table border=\"1\" class=\"dataframe\">\n",
       "  <thead>\n",
       "    <tr style=\"text-align: right;\">\n",
       "      <th></th>\n",
       "      <th>imdb_id</th>\n",
       "      <th>title</th>\n",
       "      <th>year</th>\n",
       "      <th>director</th>\n",
       "      <th>production_co</th>\n",
       "      <th>rank</th>\n",
       "      <th>budget_usd</th>\n",
       "      <th>us_gross</th>\n",
       "      <th>revenue</th>\n",
       "      <th>popular</th>\n",
       "    </tr>\n",
       "  </thead>\n",
       "  <tbody>\n",
       "    <tr>\n",
       "      <td>8863</td>\n",
       "      <td>tt6335734</td>\n",
       "      <td>The Night Is Short, Walk on Girl</td>\n",
       "      <td>2017</td>\n",
       "      <td>Masaaki Yuasa</td>\n",
       "      <td>Science Saru</td>\n",
       "      <td>16510</td>\n",
       "      <td>-1.0</td>\n",
       "      <td>406000.0</td>\n",
       "      <td>NaN</td>\n",
       "      <td>False</td>\n",
       "    </tr>\n",
       "    <tr>\n",
       "      <td>3012</td>\n",
       "      <td>tt0884328</td>\n",
       "      <td>The Mist</td>\n",
       "      <td>2007</td>\n",
       "      <td>Frank Darabont</td>\n",
       "      <td>Dimension Films</td>\n",
       "      <td>2216</td>\n",
       "      <td>18000000.0</td>\n",
       "      <td>26000000.0</td>\n",
       "      <td>8000000.0</td>\n",
       "      <td>True</td>\n",
       "    </tr>\n",
       "    <tr>\n",
       "      <td>2734</td>\n",
       "      <td>tt2247476</td>\n",
       "      <td>When the Game Stands Tall</td>\n",
       "      <td>2014</td>\n",
       "      <td>Thomas Carter</td>\n",
       "      <td>Affirm Films</td>\n",
       "      <td>16032</td>\n",
       "      <td>15000000.0</td>\n",
       "      <td>30000000.0</td>\n",
       "      <td>15000000.0</td>\n",
       "      <td>False</td>\n",
       "    </tr>\n",
       "  </tbody>\n",
       "</table>\n",
       "</div>"
      ],
      "text/plain": [
       "        imdb_id                             title  year        director  \\\n",
       "8863  tt6335734  The Night Is Short, Walk on Girl  2017   Masaaki Yuasa   \n",
       "3012  tt0884328                          The Mist  2007  Frank Darabont   \n",
       "2734  tt2247476         When the Game Stands Tall  2014   Thomas Carter   \n",
       "\n",
       "        production_co   rank  budget_usd    us_gross     revenue  popular  \n",
       "8863     Science Saru  16510        -1.0    406000.0         NaN    False  \n",
       "3012  Dimension Films   2216  18000000.0  26000000.0   8000000.0     True  \n",
       "2734     Affirm Films  16032  15000000.0  30000000.0  15000000.0    False  "
      ]
     },
     "execution_count": 31,
     "metadata": {},
     "output_type": "execute_result"
    }
   ],
   "source": [
    "test_revenue_save = pd.read_csv(revenue_save_path)\n",
    "test_revenue_save.sample(3)"
   ]
  },
  {
   "cell_type": "markdown",
   "metadata": {},
   "source": [
    "## 2. Genre:\n",
    "For genre we will need a dataset that lists each movie and it's genre. To analyze the success of the genre, we will need to examine the relationship of genre to the revenue earned."
   ]
  },
  {
   "cell_type": "markdown",
   "metadata": {},
   "source": [
    "Bringing in the list of movie titles:"
   ]
  },
  {
   "cell_type": "code",
   "execution_count": 32,
   "metadata": {
    "ExecuteTime": {
     "end_time": "2020-03-24T18:25:59.887423Z",
     "start_time": "2020-03-24T18:25:59.882320Z"
    }
   },
   "outputs": [],
   "source": [
    "titles_path = os.path.join(os.pardir, 'data', 'raw', 'movies.csv')"
   ]
  },
  {
   "cell_type": "code",
   "execution_count": 33,
   "metadata": {
    "ExecuteTime": {
     "end_time": "2020-03-24T18:26:01.982323Z",
     "start_time": "2020-03-24T18:26:00.666811Z"
    }
   },
   "outputs": [
    {
     "data": {
      "text/html": [
       "<div>\n",
       "<style scoped>\n",
       "    .dataframe tbody tr th:only-of-type {\n",
       "        vertical-align: middle;\n",
       "    }\n",
       "\n",
       "    .dataframe tbody tr th {\n",
       "        vertical-align: top;\n",
       "    }\n",
       "\n",
       "    .dataframe thead th {\n",
       "        text-align: right;\n",
       "    }\n",
       "</style>\n",
       "<table border=\"1\" class=\"dataframe\">\n",
       "  <thead>\n",
       "    <tr style=\"text-align: right;\">\n",
       "      <th></th>\n",
       "      <th>tconst</th>\n",
       "      <th>primaryTitle</th>\n",
       "      <th>startYear</th>\n",
       "      <th>genres</th>\n",
       "    </tr>\n",
       "  </thead>\n",
       "  <tbody>\n",
       "    <tr>\n",
       "      <td>0</td>\n",
       "      <td>tt0000009</td>\n",
       "      <td>Miss Jerry</td>\n",
       "      <td>1894</td>\n",
       "      <td>Romance</td>\n",
       "    </tr>\n",
       "    <tr>\n",
       "      <td>1</td>\n",
       "      <td>tt0000147</td>\n",
       "      <td>The Corbett-Fitzsimmons Fight</td>\n",
       "      <td>1897</td>\n",
       "      <td>Documentary,News,Sport</td>\n",
       "    </tr>\n",
       "    <tr>\n",
       "      <td>2</td>\n",
       "      <td>tt0000335</td>\n",
       "      <td>Soldiers of the Cross</td>\n",
       "      <td>1900</td>\n",
       "      <td>Biography,Drama</td>\n",
       "    </tr>\n",
       "    <tr>\n",
       "      <td>3</td>\n",
       "      <td>tt0000502</td>\n",
       "      <td>Bohemios</td>\n",
       "      <td>1905</td>\n",
       "      <td>\\N</td>\n",
       "    </tr>\n",
       "    <tr>\n",
       "      <td>4</td>\n",
       "      <td>tt0000574</td>\n",
       "      <td>The Story of the Kelly Gang</td>\n",
       "      <td>1906</td>\n",
       "      <td>Biography,Crime,Drama</td>\n",
       "    </tr>\n",
       "  </tbody>\n",
       "</table>\n",
       "</div>"
      ],
      "text/plain": [
       "      tconst                   primaryTitle startYear                  genres\n",
       "0  tt0000009                     Miss Jerry      1894                 Romance\n",
       "1  tt0000147  The Corbett-Fitzsimmons Fight      1897  Documentary,News,Sport\n",
       "2  tt0000335          Soldiers of the Cross      1900         Biography,Drama\n",
       "3  tt0000502                       Bohemios      1905                      \\N\n",
       "4  tt0000574    The Story of the Kelly Gang      1906   Biography,Crime,Drama"
      ]
     },
     "execution_count": 33,
     "metadata": {},
     "output_type": "execute_result"
    }
   ],
   "source": [
    "genres_df = pd.read_csv(titles_path)\n",
    "genres_df.head()"
   ]
  },
  {
   "cell_type": "code",
   "execution_count": 34,
   "metadata": {
    "ExecuteTime": {
     "end_time": "2020-03-24T18:26:02.823116Z",
     "start_time": "2020-03-24T18:26:02.673872Z"
    }
   },
   "outputs": [
    {
     "name": "stdout",
     "output_type": "stream",
     "text": [
      "<class 'pandas.core.frame.DataFrame'>\n",
      "RangeIndex: 545821 entries, 0 to 545820\n",
      "Data columns (total 4 columns):\n",
      "tconst          545821 non-null object\n",
      "primaryTitle    545821 non-null object\n",
      "startYear       545821 non-null object\n",
      "genres          545821 non-null object\n",
      "dtypes: object(4)\n",
      "memory usage: 16.7+ MB\n"
     ]
    }
   ],
   "source": [
    "genres_df.info()"
   ]
  },
  {
   "cell_type": "markdown",
   "metadata": {},
   "source": [
    "### Changes:\n",
    "Looking at the initial dataframe, these are the things I would like to change:\n",
    "1. Change column names\n",
    "2. Drop original_title and runtime_minutes columns"
   ]
  },
  {
   "cell_type": "code",
   "execution_count": 35,
   "metadata": {
    "ExecuteTime": {
     "end_time": "2020-03-24T18:26:03.572419Z",
     "start_time": "2020-03-24T18:26:03.337869Z"
    }
   },
   "outputs": [],
   "source": [
    "genres_df = genres_df.rename(columns={'tconst': 'imdb_id', 'primaryTitle': 'title', 'startYear': 'year'})"
   ]
  },
  {
   "cell_type": "code",
   "execution_count": 36,
   "metadata": {
    "ExecuteTime": {
     "end_time": "2020-03-24T18:26:03.659686Z",
     "start_time": "2020-03-24T18:26:03.575826Z"
    }
   },
   "outputs": [
    {
     "data": {
      "text/html": [
       "<div>\n",
       "<style scoped>\n",
       "    .dataframe tbody tr th:only-of-type {\n",
       "        vertical-align: middle;\n",
       "    }\n",
       "\n",
       "    .dataframe tbody tr th {\n",
       "        vertical-align: top;\n",
       "    }\n",
       "\n",
       "    .dataframe thead th {\n",
       "        text-align: right;\n",
       "    }\n",
       "</style>\n",
       "<table border=\"1\" class=\"dataframe\">\n",
       "  <thead>\n",
       "    <tr style=\"text-align: right;\">\n",
       "      <th></th>\n",
       "      <th>imdb_id</th>\n",
       "      <th>title</th>\n",
       "      <th>year</th>\n",
       "      <th>genres</th>\n",
       "    </tr>\n",
       "  </thead>\n",
       "  <tbody>\n",
       "    <tr>\n",
       "      <td>466688</td>\n",
       "      <td>tt6259456</td>\n",
       "      <td>Dismembering the Band</td>\n",
       "      <td>\\N</td>\n",
       "      <td>Horror</td>\n",
       "    </tr>\n",
       "    <tr>\n",
       "      <td>159692</td>\n",
       "      <td>tt0286702</td>\n",
       "      <td>The House Next Door</td>\n",
       "      <td>2002</td>\n",
       "      <td>Drama,Thriller</td>\n",
       "    </tr>\n",
       "    <tr>\n",
       "      <td>373770</td>\n",
       "      <td>tt3185948</td>\n",
       "      <td>Flow</td>\n",
       "      <td>2011</td>\n",
       "      <td>Documentary</td>\n",
       "    </tr>\n",
       "  </tbody>\n",
       "</table>\n",
       "</div>"
      ],
      "text/plain": [
       "          imdb_id                  title  year          genres\n",
       "466688  tt6259456  Dismembering the Band    \\N          Horror\n",
       "159692  tt0286702    The House Next Door  2002  Drama,Thriller\n",
       "373770  tt3185948                   Flow  2011     Documentary"
      ]
     },
     "execution_count": 36,
     "metadata": {},
     "output_type": "execute_result"
    }
   ],
   "source": [
    "genres_df.sample(3)"
   ]
  },
  {
   "cell_type": "markdown",
   "metadata": {},
   "source": [
    "That looks good. Let me deal with Nan's:"
   ]
  },
  {
   "cell_type": "code",
   "execution_count": 37,
   "metadata": {
    "ExecuteTime": {
     "end_time": "2020-03-24T18:26:03.922683Z",
     "start_time": "2020-03-24T18:26:03.668950Z"
    }
   },
   "outputs": [
    {
     "data": {
      "text/plain": [
       "imdb_id    0\n",
       "title      0\n",
       "year       0\n",
       "genres     0\n",
       "dtype: int64"
      ]
     },
     "execution_count": 37,
     "metadata": {},
     "output_type": "execute_result"
    }
   ],
   "source": [
    "genres_df.isna().sum()"
   ]
  },
  {
   "cell_type": "markdown",
   "metadata": {},
   "source": [
    "### Save as CSV"
   ]
  },
  {
   "cell_type": "code",
   "execution_count": 38,
   "metadata": {
    "ExecuteTime": {
     "end_time": "2020-03-24T18:26:07.383436Z",
     "start_time": "2020-03-24T18:26:05.321253Z"
    }
   },
   "outputs": [],
   "source": [
    "genres_save_path = os.path.join(os.pardir, 'data', 'processed', 'genres.csv')\n",
    "genres_df.to_csv(genres_save_path, index=False)"
   ]
  },
  {
   "cell_type": "code",
   "execution_count": 39,
   "metadata": {
    "ExecuteTime": {
     "end_time": "2020-03-24T18:26:09.281234Z",
     "start_time": "2020-03-24T18:26:08.016328Z"
    }
   },
   "outputs": [
    {
     "data": {
      "text/html": [
       "<div>\n",
       "<style scoped>\n",
       "    .dataframe tbody tr th:only-of-type {\n",
       "        vertical-align: middle;\n",
       "    }\n",
       "\n",
       "    .dataframe tbody tr th {\n",
       "        vertical-align: top;\n",
       "    }\n",
       "\n",
       "    .dataframe thead th {\n",
       "        text-align: right;\n",
       "    }\n",
       "</style>\n",
       "<table border=\"1\" class=\"dataframe\">\n",
       "  <thead>\n",
       "    <tr style=\"text-align: right;\">\n",
       "      <th></th>\n",
       "      <th>imdb_id</th>\n",
       "      <th>title</th>\n",
       "      <th>year</th>\n",
       "      <th>genres</th>\n",
       "    </tr>\n",
       "  </thead>\n",
       "  <tbody>\n",
       "    <tr>\n",
       "      <td>345745</td>\n",
       "      <td>tt2332544</td>\n",
       "      <td>Darwin et la science de l'évolution</td>\n",
       "      <td>2002</td>\n",
       "      <td>Documentary</td>\n",
       "    </tr>\n",
       "    <tr>\n",
       "      <td>397594</td>\n",
       "      <td>tt3854280</td>\n",
       "      <td>Baby Lu</td>\n",
       "      <td>\\N</td>\n",
       "      <td>Drama</td>\n",
       "    </tr>\n",
       "    <tr>\n",
       "      <td>96658</td>\n",
       "      <td>tt0148842</td>\n",
       "      <td>Shikast</td>\n",
       "      <td>1953</td>\n",
       "      <td>Drama</td>\n",
       "    </tr>\n",
       "  </tbody>\n",
       "</table>\n",
       "</div>"
      ],
      "text/plain": [
       "          imdb_id                                title  year       genres\n",
       "345745  tt2332544  Darwin et la science de l'évolution  2002  Documentary\n",
       "397594  tt3854280                              Baby Lu    \\N        Drama\n",
       "96658   tt0148842                              Shikast  1953        Drama"
      ]
     },
     "execution_count": 39,
     "metadata": {},
     "output_type": "execute_result"
    }
   ],
   "source": [
    "test_genres_save = pd.read_csv(genres_save_path)\n",
    "test_genres_save.sample(3)"
   ]
  },
  {
   "cell_type": "markdown",
   "metadata": {},
   "source": [
    "## 3. Actors\n",
    "These columns will be key in identifying the people who have the ability to produce high quality work on a consistent basis."
   ]
  },
  {
   "cell_type": "code",
   "execution_count": 40,
   "metadata": {
    "ExecuteTime": {
     "end_time": "2020-03-24T18:26:13.036061Z",
     "start_time": "2020-03-24T18:26:10.569032Z"
    }
   },
   "outputs": [],
   "source": [
    "people_path = os.path.join(os.pardir, 'data', 'raw', 'imdb.name.basics.csv')\n",
    "people_df = pd.read_csv(people_path)"
   ]
  },
  {
   "cell_type": "code",
   "execution_count": 41,
   "metadata": {
    "ExecuteTime": {
     "end_time": "2020-03-24T18:26:43.414513Z",
     "start_time": "2020-03-24T18:26:43.365611Z"
    }
   },
   "outputs": [
    {
     "data": {
      "text/html": [
       "<div>\n",
       "<style scoped>\n",
       "    .dataframe tbody tr th:only-of-type {\n",
       "        vertical-align: middle;\n",
       "    }\n",
       "\n",
       "    .dataframe tbody tr th {\n",
       "        vertical-align: top;\n",
       "    }\n",
       "\n",
       "    .dataframe thead th {\n",
       "        text-align: right;\n",
       "    }\n",
       "</style>\n",
       "<table border=\"1\" class=\"dataframe\">\n",
       "  <thead>\n",
       "    <tr style=\"text-align: right;\">\n",
       "      <th></th>\n",
       "      <th>nconst</th>\n",
       "      <th>primary_name</th>\n",
       "      <th>birth_year</th>\n",
       "      <th>death_year</th>\n",
       "      <th>primary_profession</th>\n",
       "      <th>known_for_titles</th>\n",
       "    </tr>\n",
       "  </thead>\n",
       "  <tbody>\n",
       "    <tr>\n",
       "      <td>499694</td>\n",
       "      <td>nm7808566</td>\n",
       "      <td>Joanne Dawn</td>\n",
       "      <td>NaN</td>\n",
       "      <td>NaN</td>\n",
       "      <td>actor</td>\n",
       "      <td>tt8318000,tt5291938,tt5300206,tt5440598</td>\n",
       "    </tr>\n",
       "    <tr>\n",
       "      <td>367882</td>\n",
       "      <td>nm4630906</td>\n",
       "      <td>José Balado</td>\n",
       "      <td>NaN</td>\n",
       "      <td>NaN</td>\n",
       "      <td>producer,sound_department,director</td>\n",
       "      <td>tt7439428,tt5532044,tt4537412,tt5532036</td>\n",
       "    </tr>\n",
       "    <tr>\n",
       "      <td>243162</td>\n",
       "      <td>nm5163011</td>\n",
       "      <td>Sherice Griffiths</td>\n",
       "      <td>NaN</td>\n",
       "      <td>NaN</td>\n",
       "      <td>miscellaneous,assistant_director,director</td>\n",
       "      <td>tt3969108,tt6664774,tt0974015,tt2249786</td>\n",
       "    </tr>\n",
       "  </tbody>\n",
       "</table>\n",
       "</div>"
      ],
      "text/plain": [
       "           nconst       primary_name  birth_year  death_year  \\\n",
       "499694  nm7808566        Joanne Dawn         NaN         NaN   \n",
       "367882  nm4630906        José Balado         NaN         NaN   \n",
       "243162  nm5163011  Sherice Griffiths         NaN         NaN   \n",
       "\n",
       "                               primary_profession  \\\n",
       "499694                                      actor   \n",
       "367882         producer,sound_department,director   \n",
       "243162  miscellaneous,assistant_director,director   \n",
       "\n",
       "                               known_for_titles  \n",
       "499694  tt8318000,tt5291938,tt5300206,tt5440598  \n",
       "367882  tt7439428,tt5532044,tt4537412,tt5532036  \n",
       "243162  tt3969108,tt6664774,tt0974015,tt2249786  "
      ]
     },
     "execution_count": 41,
     "metadata": {},
     "output_type": "execute_result"
    }
   ],
   "source": [
    "people_df.sample(3)"
   ]
  },
  {
   "cell_type": "markdown",
   "metadata": {},
   "source": [
    "### Changes:\n",
    "Some cleanup tasks:\n",
    "1. Change name of primary_name column to 'name'\n",
    "2. Select all the actors and actress\n",
    "3. Drop birth_year, death_year, known_for_titles"
   ]
  },
  {
   "cell_type": "code",
   "execution_count": 42,
   "metadata": {
    "ExecuteTime": {
     "end_time": "2020-03-24T18:26:48.582604Z",
     "start_time": "2020-03-24T18:26:48.538621Z"
    }
   },
   "outputs": [
    {
     "data": {
      "text/html": [
       "<div>\n",
       "<style scoped>\n",
       "    .dataframe tbody tr th:only-of-type {\n",
       "        vertical-align: middle;\n",
       "    }\n",
       "\n",
       "    .dataframe tbody tr th {\n",
       "        vertical-align: top;\n",
       "    }\n",
       "\n",
       "    .dataframe thead th {\n",
       "        text-align: right;\n",
       "    }\n",
       "</style>\n",
       "<table border=\"1\" class=\"dataframe\">\n",
       "  <thead>\n",
       "    <tr style=\"text-align: right;\">\n",
       "      <th></th>\n",
       "      <th>nconst</th>\n",
       "      <th>primary_name</th>\n",
       "      <th>birth_year</th>\n",
       "      <th>death_year</th>\n",
       "      <th>primary_profession</th>\n",
       "      <th>known_for_titles</th>\n",
       "    </tr>\n",
       "  </thead>\n",
       "  <tbody>\n",
       "    <tr>\n",
       "      <td>323402</td>\n",
       "      <td>nm5061485</td>\n",
       "      <td>Javier Martín-Domínguez</td>\n",
       "      <td>NaN</td>\n",
       "      <td>NaN</td>\n",
       "      <td>director,actor</td>\n",
       "      <td>tt0390699,tt0085880,tt0407419,tt2292850</td>\n",
       "    </tr>\n",
       "    <tr>\n",
       "      <td>310989</td>\n",
       "      <td>nm3276178</td>\n",
       "      <td>Dominique Keller</td>\n",
       "      <td>NaN</td>\n",
       "      <td>NaN</td>\n",
       "      <td>producer,director,writer</td>\n",
       "      <td>tt1398920,tt2121824,tt5618812,tt7343524</td>\n",
       "    </tr>\n",
       "    <tr>\n",
       "      <td>410235</td>\n",
       "      <td>nm7193938</td>\n",
       "      <td>Josefin Finér</td>\n",
       "      <td>NaN</td>\n",
       "      <td>NaN</td>\n",
       "      <td>NaN</td>\n",
       "      <td>tt1781874</td>\n",
       "    </tr>\n",
       "  </tbody>\n",
       "</table>\n",
       "</div>"
      ],
      "text/plain": [
       "           nconst             primary_name  birth_year  death_year  \\\n",
       "323402  nm5061485  Javier Martín-Domínguez         NaN         NaN   \n",
       "310989  nm3276178         Dominique Keller         NaN         NaN   \n",
       "410235  nm7193938            Josefin Finér         NaN         NaN   \n",
       "\n",
       "              primary_profession                         known_for_titles  \n",
       "323402            director,actor  tt0390699,tt0085880,tt0407419,tt2292850  \n",
       "310989  producer,director,writer  tt1398920,tt2121824,tt5618812,tt7343524  \n",
       "410235                       NaN                                tt1781874  "
      ]
     },
     "execution_count": 42,
     "metadata": {},
     "output_type": "execute_result"
    }
   ],
   "source": [
    "people_df.sample(3)"
   ]
  },
  {
   "cell_type": "code",
   "execution_count": 43,
   "metadata": {
    "ExecuteTime": {
     "end_time": "2020-03-24T18:26:51.615699Z",
     "start_time": "2020-03-24T18:26:51.270502Z"
    }
   },
   "outputs": [],
   "source": [
    "people_df = people_df.rename(columns={'primary_name': 'name'})"
   ]
  },
  {
   "cell_type": "code",
   "execution_count": 44,
   "metadata": {
    "ExecuteTime": {
     "end_time": "2020-03-24T18:26:52.448360Z",
     "start_time": "2020-03-24T18:26:52.437874Z"
    }
   },
   "outputs": [],
   "source": [
    "def can_act(professions):\n",
    "    if type(professions) != str:\n",
    "        return False\n",
    "    if 'actor' in professions or 'actress' in professions:\n",
    "        return True\n",
    "    else:\n",
    "        return False"
   ]
  },
  {
   "cell_type": "code",
   "execution_count": 45,
   "metadata": {
    "ExecuteTime": {
     "end_time": "2020-03-24T18:26:53.694140Z",
     "start_time": "2020-03-24T18:26:53.378019Z"
    }
   },
   "outputs": [],
   "source": [
    "people_df['can_act'] = people_df['primary_profession'].apply(can_act)"
   ]
  },
  {
   "cell_type": "code",
   "execution_count": 46,
   "metadata": {
    "ExecuteTime": {
     "end_time": "2020-03-24T21:22:27.132779Z",
     "start_time": "2020-03-24T21:20:51.565Z"
    }
   },
   "outputs": [
    {
     "data": {
      "text/html": [
       "<div>\n",
       "<style scoped>\n",
       "    .dataframe tbody tr th:only-of-type {\n",
       "        vertical-align: middle;\n",
       "    }\n",
       "\n",
       "    .dataframe tbody tr th {\n",
       "        vertical-align: top;\n",
       "    }\n",
       "\n",
       "    .dataframe thead th {\n",
       "        text-align: right;\n",
       "    }\n",
       "</style>\n",
       "<table border=\"1\" class=\"dataframe\">\n",
       "  <thead>\n",
       "    <tr style=\"text-align: right;\">\n",
       "      <th></th>\n",
       "      <th>nconst</th>\n",
       "      <th>name</th>\n",
       "      <th>birth_year</th>\n",
       "      <th>death_year</th>\n",
       "      <th>primary_profession</th>\n",
       "      <th>known_for_titles</th>\n",
       "      <th>can_act</th>\n",
       "    </tr>\n",
       "  </thead>\n",
       "  <tbody>\n",
       "    <tr>\n",
       "      <td>274845</td>\n",
       "      <td>nm4300329</td>\n",
       "      <td>Jason 'Bamba' Anderson</td>\n",
       "      <td>NaN</td>\n",
       "      <td>NaN</td>\n",
       "      <td>producer,actor,writer</td>\n",
       "      <td>tt3586562,tt4458480,tt3239564,tt1832973</td>\n",
       "      <td>True</td>\n",
       "    </tr>\n",
       "    <tr>\n",
       "      <td>472010</td>\n",
       "      <td>nm7425076</td>\n",
       "      <td>Gilberto Martins</td>\n",
       "      <td>NaN</td>\n",
       "      <td>NaN</td>\n",
       "      <td>actor</td>\n",
       "      <td>tt4815352</td>\n",
       "      <td>True</td>\n",
       "    </tr>\n",
       "    <tr>\n",
       "      <td>474027</td>\n",
       "      <td>nm9845078</td>\n",
       "      <td>Boycut</td>\n",
       "      <td>NaN</td>\n",
       "      <td>NaN</td>\n",
       "      <td>actor</td>\n",
       "      <td>NaN</td>\n",
       "      <td>True</td>\n",
       "    </tr>\n",
       "  </tbody>\n",
       "</table>\n",
       "</div>"
      ],
      "text/plain": [
       "           nconst                    name  birth_year  death_year  \\\n",
       "274845  nm4300329  Jason 'Bamba' Anderson         NaN         NaN   \n",
       "472010  nm7425076        Gilberto Martins         NaN         NaN   \n",
       "474027  nm9845078                  Boycut         NaN         NaN   \n",
       "\n",
       "           primary_profession                         known_for_titles  \\\n",
       "274845  producer,actor,writer  tt3586562,tt4458480,tt3239564,tt1832973   \n",
       "472010                  actor                                tt4815352   \n",
       "474027                  actor                                      NaN   \n",
       "\n",
       "        can_act  \n",
       "274845     True  \n",
       "472010     True  \n",
       "474027     True  "
      ]
     },
     "execution_count": 46,
     "metadata": {},
     "output_type": "execute_result"
    }
   ],
   "source": [
    "people_df.sample(3)"
   ]
  },
  {
   "cell_type": "markdown",
   "metadata": {},
   "source": [
    "Okay, we will grab all the actors and directors and make individual dataframes for them:"
   ]
  },
  {
   "cell_type": "code",
   "execution_count": 47,
   "metadata": {
    "ExecuteTime": {
     "end_time": "2020-03-24T18:26:56.238194Z",
     "start_time": "2020-03-24T18:26:56.184624Z"
    }
   },
   "outputs": [],
   "source": [
    "actors_df = people_df[people_df['can_act'] == True]"
   ]
  },
  {
   "cell_type": "markdown",
   "metadata": {},
   "source": [
    "And now we can drop the unwanted columns:"
   ]
  },
  {
   "cell_type": "code",
   "execution_count": 48,
   "metadata": {
    "ExecuteTime": {
     "end_time": "2020-03-24T18:26:57.873722Z",
     "start_time": "2020-03-24T18:26:57.828530Z"
    }
   },
   "outputs": [],
   "source": [
    "drop_columns = ['primary_profession', 'can_act', 'birth_year', 'death_year', 'known_for_titles']\n",
    "actors_df = actors_df.drop(columns=drop_columns)"
   ]
  },
  {
   "cell_type": "code",
   "execution_count": 49,
   "metadata": {
    "ExecuteTime": {
     "end_time": "2020-03-24T18:26:58.792722Z",
     "start_time": "2020-03-24T18:26:58.769829Z"
    }
   },
   "outputs": [
    {
     "data": {
      "text/html": [
       "<div>\n",
       "<style scoped>\n",
       "    .dataframe tbody tr th:only-of-type {\n",
       "        vertical-align: middle;\n",
       "    }\n",
       "\n",
       "    .dataframe tbody tr th {\n",
       "        vertical-align: top;\n",
       "    }\n",
       "\n",
       "    .dataframe thead th {\n",
       "        text-align: right;\n",
       "    }\n",
       "</style>\n",
       "<table border=\"1\" class=\"dataframe\">\n",
       "  <thead>\n",
       "    <tr style=\"text-align: right;\">\n",
       "      <th></th>\n",
       "      <th>nconst</th>\n",
       "      <th>name</th>\n",
       "    </tr>\n",
       "  </thead>\n",
       "  <tbody>\n",
       "    <tr>\n",
       "      <td>168547</td>\n",
       "      <td>nm2178489</td>\n",
       "      <td>Sorab Wadia</td>\n",
       "    </tr>\n",
       "    <tr>\n",
       "      <td>299700</td>\n",
       "      <td>nm4467597</td>\n",
       "      <td>Stuart J. Prowse</td>\n",
       "    </tr>\n",
       "    <tr>\n",
       "      <td>484884</td>\n",
       "      <td>nm8497364</td>\n",
       "      <td>Joe Oviguian</td>\n",
       "    </tr>\n",
       "  </tbody>\n",
       "</table>\n",
       "</div>"
      ],
      "text/plain": [
       "           nconst              name\n",
       "168547  nm2178489       Sorab Wadia\n",
       "299700  nm4467597  Stuart J. Prowse\n",
       "484884  nm8497364      Joe Oviguian"
      ]
     },
     "execution_count": 49,
     "metadata": {},
     "output_type": "execute_result"
    }
   ],
   "source": [
    "actors_df.sample(3)"
   ]
  },
  {
   "cell_type": "markdown",
   "metadata": {},
   "source": [
    "Let's check for missing values:"
   ]
  },
  {
   "cell_type": "code",
   "execution_count": 50,
   "metadata": {
    "ExecuteTime": {
     "end_time": "2020-03-24T18:27:00.658779Z",
     "start_time": "2020-03-24T18:27:00.611473Z"
    }
   },
   "outputs": [
    {
     "data": {
      "text/plain": [
       "nconst    0\n",
       "name      0\n",
       "dtype: int64"
      ]
     },
     "execution_count": 50,
     "metadata": {},
     "output_type": "execute_result"
    }
   ],
   "source": [
    "actors_df.isna().sum()"
   ]
  },
  {
   "cell_type": "markdown",
   "metadata": {},
   "source": [
    "There we go. A very large list of actors and actresses. We can join them to the titles and see if there are any patterns amongst the top performing titles."
   ]
  },
  {
   "cell_type": "markdown",
   "metadata": {},
   "source": [
    "### Save as CSV"
   ]
  },
  {
   "cell_type": "code",
   "execution_count": 51,
   "metadata": {
    "ExecuteTime": {
     "end_time": "2020-03-24T18:27:03.813146Z",
     "start_time": "2020-03-24T18:27:02.902511Z"
    }
   },
   "outputs": [],
   "source": [
    "actors_save_path = os.path.join(os.pardir, 'data', 'processed', 'actors.csv')\n",
    "actors_df.to_csv(actors_save_path, index=False)"
   ]
  },
  {
   "cell_type": "code",
   "execution_count": 52,
   "metadata": {
    "ExecuteTime": {
     "end_time": "2020-03-24T18:27:05.229683Z",
     "start_time": "2020-03-24T18:27:04.673268Z"
    }
   },
   "outputs": [
    {
     "data": {
      "text/html": [
       "<div>\n",
       "<style scoped>\n",
       "    .dataframe tbody tr th:only-of-type {\n",
       "        vertical-align: middle;\n",
       "    }\n",
       "\n",
       "    .dataframe tbody tr th {\n",
       "        vertical-align: top;\n",
       "    }\n",
       "\n",
       "    .dataframe thead th {\n",
       "        text-align: right;\n",
       "    }\n",
       "</style>\n",
       "<table border=\"1\" class=\"dataframe\">\n",
       "  <thead>\n",
       "    <tr style=\"text-align: right;\">\n",
       "      <th></th>\n",
       "      <th>nconst</th>\n",
       "      <th>name</th>\n",
       "    </tr>\n",
       "  </thead>\n",
       "  <tbody>\n",
       "    <tr>\n",
       "      <td>255707</td>\n",
       "      <td>nm8847811</td>\n",
       "      <td>Vicky Chen</td>\n",
       "    </tr>\n",
       "    <tr>\n",
       "      <td>38102</td>\n",
       "      <td>nm0603268</td>\n",
       "      <td>Anders Mordal</td>\n",
       "    </tr>\n",
       "    <tr>\n",
       "      <td>198945</td>\n",
       "      <td>nm4758886</td>\n",
       "      <td>Jewels Lubin</td>\n",
       "    </tr>\n",
       "  </tbody>\n",
       "</table>\n",
       "</div>"
      ],
      "text/plain": [
       "           nconst           name\n",
       "255707  nm8847811     Vicky Chen\n",
       "38102   nm0603268  Anders Mordal\n",
       "198945  nm4758886   Jewels Lubin"
      ]
     },
     "execution_count": 52,
     "metadata": {},
     "output_type": "execute_result"
    }
   ],
   "source": [
    "test_actors_save = pd.read_csv(actors_save_path)\n",
    "test_actors_save.sample(3)"
   ]
  },
  {
   "cell_type": "markdown",
   "metadata": {},
   "source": [
    "## 4. Time of Year (date)\n",
    "Time of year will be an important metric to discover the most opportune time to release a film."
   ]
  },
  {
   "cell_type": "code",
   "execution_count": 53,
   "metadata": {
    "ExecuteTime": {
     "end_time": "2020-03-24T18:27:07.067394Z",
     "start_time": "2020-03-24T18:27:06.980650Z"
    }
   },
   "outputs": [],
   "source": [
    "date_path = os.path.join(os.pardir, 'data', 'raw', 'tmdb_movies.csv')\n",
    "date_df = pd.read_csv(date_path)"
   ]
  },
  {
   "cell_type": "code",
   "execution_count": 54,
   "metadata": {
    "ExecuteTime": {
     "end_time": "2020-03-24T18:27:08.196388Z",
     "start_time": "2020-03-24T18:27:08.142123Z"
    }
   },
   "outputs": [
    {
     "data": {
      "text/html": [
       "<div>\n",
       "<style scoped>\n",
       "    .dataframe tbody tr th:only-of-type {\n",
       "        vertical-align: middle;\n",
       "    }\n",
       "\n",
       "    .dataframe tbody tr th {\n",
       "        vertical-align: top;\n",
       "    }\n",
       "\n",
       "    .dataframe thead th {\n",
       "        text-align: right;\n",
       "    }\n",
       "</style>\n",
       "<table border=\"1\" class=\"dataframe\">\n",
       "  <thead>\n",
       "    <tr style=\"text-align: right;\">\n",
       "      <th></th>\n",
       "      <th>imdbId</th>\n",
       "      <th>budget</th>\n",
       "      <th>revenue</th>\n",
       "      <th>originalTitle</th>\n",
       "      <th>releaseDate</th>\n",
       "    </tr>\n",
       "  </thead>\n",
       "  <tbody>\n",
       "    <tr>\n",
       "      <td>23005</td>\n",
       "      <td>tt0250202</td>\n",
       "      <td>0</td>\n",
       "      <td>1051948.0</td>\n",
       "      <td>All Over the Guy</td>\n",
       "      <td>2001-08-10</td>\n",
       "    </tr>\n",
       "    <tr>\n",
       "      <td>40169</td>\n",
       "      <td>tt1483756</td>\n",
       "      <td>0</td>\n",
       "      <td>0.0</td>\n",
       "      <td>The Trouble with Bliss</td>\n",
       "      <td>2011-10-01</td>\n",
       "    </tr>\n",
       "    <tr>\n",
       "      <td>9333</td>\n",
       "      <td>tt0386032</td>\n",
       "      <td>9000000</td>\n",
       "      <td>24538513.0</td>\n",
       "      <td>Sicko</td>\n",
       "      <td>2007-05-18</td>\n",
       "    </tr>\n",
       "  </tbody>\n",
       "</table>\n",
       "</div>"
      ],
      "text/plain": [
       "          imdbId   budget     revenue           originalTitle releaseDate\n",
       "23005  tt0250202        0   1051948.0        All Over the Guy  2001-08-10\n",
       "40169  tt1483756        0         0.0  The Trouble with Bliss  2011-10-01\n",
       "9333   tt0386032  9000000  24538513.0                   Sicko  2007-05-18"
      ]
     },
     "execution_count": 54,
     "metadata": {},
     "output_type": "execute_result"
    }
   ],
   "source": [
    "date_df.sample(3)"
   ]
  },
  {
   "cell_type": "markdown",
   "metadata": {},
   "source": [
    "### Changes:\n",
    "We only need a couple columns from this set:\n",
    "1. imdb_id\n",
    "2. release_date\n",
    "\n",
    "The column names are ok as well, so this will be very simple."
   ]
  },
  {
   "cell_type": "code",
   "execution_count": 55,
   "metadata": {
    "ExecuteTime": {
     "end_time": "2020-03-24T18:27:10.310176Z",
     "start_time": "2020-03-24T18:27:10.270271Z"
    }
   },
   "outputs": [],
   "source": [
    "date_df = date_df.drop_duplicates()"
   ]
  },
  {
   "cell_type": "code",
   "execution_count": 56,
   "metadata": {
    "ExecuteTime": {
     "end_time": "2020-03-24T18:27:11.369339Z",
     "start_time": "2020-03-24T18:27:11.328741Z"
    }
   },
   "outputs": [],
   "source": [
    "date_df = date_df.rename(columns={'imdbId': 'imdb_id', 'originalTitle': 'title', 'releaseDate': 'date'})"
   ]
  },
  {
   "cell_type": "code",
   "execution_count": 57,
   "metadata": {
    "ExecuteTime": {
     "end_time": "2020-03-24T20:37:34.533039Z",
     "start_time": "2020-03-24T20:37:34.526327Z"
    }
   },
   "outputs": [],
   "source": [
    "date_df = date_df[['imdb_id', 'date']]"
   ]
  },
  {
   "cell_type": "code",
   "execution_count": 58,
   "metadata": {
    "ExecuteTime": {
     "end_time": "2020-03-24T20:37:37.185454Z",
     "start_time": "2020-03-24T20:37:37.174439Z"
    }
   },
   "outputs": [],
   "source": [
    "date_df = date_df.dropna()"
   ]
  },
  {
   "cell_type": "code",
   "execution_count": 59,
   "metadata": {
    "ExecuteTime": {
     "end_time": "2020-03-24T20:37:38.170889Z",
     "start_time": "2020-03-24T20:37:38.158502Z"
    }
   },
   "outputs": [
    {
     "data": {
      "text/html": [
       "<div>\n",
       "<style scoped>\n",
       "    .dataframe tbody tr th:only-of-type {\n",
       "        vertical-align: middle;\n",
       "    }\n",
       "\n",
       "    .dataframe tbody tr th {\n",
       "        vertical-align: top;\n",
       "    }\n",
       "\n",
       "    .dataframe thead th {\n",
       "        text-align: right;\n",
       "    }\n",
       "</style>\n",
       "<table border=\"1\" class=\"dataframe\">\n",
       "  <thead>\n",
       "    <tr style=\"text-align: right;\">\n",
       "      <th></th>\n",
       "      <th>imdb_id</th>\n",
       "      <th>date</th>\n",
       "    </tr>\n",
       "  </thead>\n",
       "  <tbody>\n",
       "    <tr>\n",
       "      <td>2227</td>\n",
       "      <td>tt1302067</td>\n",
       "      <td>2010-12-17</td>\n",
       "    </tr>\n",
       "    <tr>\n",
       "      <td>42401</td>\n",
       "      <td>tt1348318</td>\n",
       "      <td>2009-09-22</td>\n",
       "    </tr>\n",
       "    <tr>\n",
       "      <td>34438</td>\n",
       "      <td>tt1780762</td>\n",
       "      <td>2012-09-12</td>\n",
       "    </tr>\n",
       "  </tbody>\n",
       "</table>\n",
       "</div>"
      ],
      "text/plain": [
       "         imdb_id        date\n",
       "2227   tt1302067  2010-12-17\n",
       "42401  tt1348318  2009-09-22\n",
       "34438  tt1780762  2012-09-12"
      ]
     },
     "execution_count": 59,
     "metadata": {},
     "output_type": "execute_result"
    }
   ],
   "source": [
    "date_df.sample(3)"
   ]
  },
  {
   "cell_type": "code",
   "execution_count": 60,
   "metadata": {
    "ExecuteTime": {
     "end_time": "2020-03-24T20:37:42.233599Z",
     "start_time": "2020-03-24T20:37:42.223923Z"
    }
   },
   "outputs": [
    {
     "name": "stdout",
     "output_type": "stream",
     "text": [
      "<class 'pandas.core.frame.DataFrame'>\n",
      "Int64Index: 14466 entries, 0 to 43495\n",
      "Data columns (total 2 columns):\n",
      "imdb_id    14466 non-null object\n",
      "date       14466 non-null object\n",
      "dtypes: object(2)\n",
      "memory usage: 339.0+ KB\n"
     ]
    }
   ],
   "source": [
    "date_df.info()"
   ]
  },
  {
   "cell_type": "code",
   "execution_count": 61,
   "metadata": {
    "ExecuteTime": {
     "end_time": "2020-03-24T20:37:44.022320Z",
     "start_time": "2020-03-24T20:37:44.012076Z"
    }
   },
   "outputs": [
    {
     "data": {
      "text/plain": [
       "imdb_id    0\n",
       "date       0\n",
       "dtype: int64"
      ]
     },
     "execution_count": 61,
     "metadata": {},
     "output_type": "execute_result"
    }
   ],
   "source": [
    "date_df.isna().sum()"
   ]
  },
  {
   "cell_type": "markdown",
   "metadata": {},
   "source": [
    "### Save to CSV"
   ]
  },
  {
   "cell_type": "code",
   "execution_count": 62,
   "metadata": {
    "ExecuteTime": {
     "end_time": "2020-03-24T20:37:47.031140Z",
     "start_time": "2020-03-24T20:37:46.999979Z"
    }
   },
   "outputs": [],
   "source": [
    "date_save_path = os.path.join(os.pardir, 'data', 'processed', 'date.csv')\n",
    "date_df.to_csv(date_save_path, index=False)"
   ]
  },
  {
   "cell_type": "code",
   "execution_count": 63,
   "metadata": {
    "ExecuteTime": {
     "end_time": "2020-03-24T20:37:48.167133Z",
     "start_time": "2020-03-24T20:37:48.131758Z"
    }
   },
   "outputs": [
    {
     "data": {
      "text/html": [
       "<div>\n",
       "<style scoped>\n",
       "    .dataframe tbody tr th:only-of-type {\n",
       "        vertical-align: middle;\n",
       "    }\n",
       "\n",
       "    .dataframe tbody tr th {\n",
       "        vertical-align: top;\n",
       "    }\n",
       "\n",
       "    .dataframe thead th {\n",
       "        text-align: right;\n",
       "    }\n",
       "</style>\n",
       "<table border=\"1\" class=\"dataframe\">\n",
       "  <thead>\n",
       "    <tr style=\"text-align: right;\">\n",
       "      <th></th>\n",
       "      <th>imdb_id</th>\n",
       "      <th>date</th>\n",
       "    </tr>\n",
       "  </thead>\n",
       "  <tbody>\n",
       "    <tr>\n",
       "      <td>9977</td>\n",
       "      <td>tt2205948</td>\n",
       "      <td>2012-10-05</td>\n",
       "    </tr>\n",
       "    <tr>\n",
       "      <td>4144</td>\n",
       "      <td>tt1129445</td>\n",
       "      <td>2009-10-22</td>\n",
       "    </tr>\n",
       "    <tr>\n",
       "      <td>8518</td>\n",
       "      <td>tt0285879</td>\n",
       "      <td>2003-08-17</td>\n",
       "    </tr>\n",
       "  </tbody>\n",
       "</table>\n",
       "</div>"
      ],
      "text/plain": [
       "        imdb_id        date\n",
       "9977  tt2205948  2012-10-05\n",
       "4144  tt1129445  2009-10-22\n",
       "8518  tt0285879  2003-08-17"
      ]
     },
     "execution_count": 63,
     "metadata": {},
     "output_type": "execute_result"
    }
   ],
   "source": [
    "test_date_save = pd.read_csv(date_save_path)\n",
    "test_date_save.sample(3)"
   ]
  },
  {
   "cell_type": "markdown",
   "metadata": {},
   "source": [
    "## 5. Keywords (content)"
   ]
  },
  {
   "cell_type": "code",
   "execution_count": 64,
   "metadata": {
    "ExecuteTime": {
     "end_time": "2020-03-24T18:27:23.697678Z",
     "start_time": "2020-03-24T18:27:23.421349Z"
    }
   },
   "outputs": [],
   "source": [
    "keywords_path = os.path.join(os.pardir, 'data', 'raw', 'tmdb_keywords.csv')\n",
    "keywords_df = pd.read_csv(keywords_path)"
   ]
  },
  {
   "cell_type": "code",
   "execution_count": 65,
   "metadata": {
    "ExecuteTime": {
     "end_time": "2020-03-24T18:27:24.861727Z",
     "start_time": "2020-03-24T18:27:24.808024Z"
    }
   },
   "outputs": [
    {
     "data": {
      "text/html": [
       "<div>\n",
       "<style scoped>\n",
       "    .dataframe tbody tr th:only-of-type {\n",
       "        vertical-align: middle;\n",
       "    }\n",
       "\n",
       "    .dataframe tbody tr th {\n",
       "        vertical-align: top;\n",
       "    }\n",
       "\n",
       "    .dataframe thead th {\n",
       "        text-align: right;\n",
       "    }\n",
       "</style>\n",
       "<table border=\"1\" class=\"dataframe\">\n",
       "  <thead>\n",
       "    <tr style=\"text-align: right;\">\n",
       "      <th></th>\n",
       "      <th>imdbId</th>\n",
       "      <th>keywordId</th>\n",
       "      <th>keyword</th>\n",
       "    </tr>\n",
       "  </thead>\n",
       "  <tbody>\n",
       "    <tr>\n",
       "      <td>142874</td>\n",
       "      <td>tt0118900</td>\n",
       "      <td>9826</td>\n",
       "      <td>murder</td>\n",
       "    </tr>\n",
       "    <tr>\n",
       "      <td>72286</td>\n",
       "      <td>tt0046247</td>\n",
       "      <td>10520</td>\n",
       "      <td>slave auction</td>\n",
       "    </tr>\n",
       "    <tr>\n",
       "      <td>169387</td>\n",
       "      <td>tt0096180</td>\n",
       "      <td>1416</td>\n",
       "      <td>jazz</td>\n",
       "    </tr>\n",
       "  </tbody>\n",
       "</table>\n",
       "</div>"
      ],
      "text/plain": [
       "           imdbId  keywordId        keyword\n",
       "142874  tt0118900       9826         murder\n",
       "72286   tt0046247      10520  slave auction\n",
       "169387  tt0096180       1416           jazz"
      ]
     },
     "execution_count": 65,
     "metadata": {},
     "output_type": "execute_result"
    }
   ],
   "source": [
    "keywords_df.sample(3)"
   ]
  },
  {
   "cell_type": "code",
   "execution_count": 66,
   "metadata": {
    "ExecuteTime": {
     "end_time": "2020-03-24T18:27:26.182045Z",
     "start_time": "2020-03-24T18:27:26.136098Z"
    }
   },
   "outputs": [
    {
     "name": "stdout",
     "output_type": "stream",
     "text": [
      "<class 'pandas.core.frame.DataFrame'>\n",
      "RangeIndex: 257984 entries, 0 to 257983\n",
      "Data columns (total 3 columns):\n",
      "imdbId       257984 non-null object\n",
      "keywordId    257984 non-null int64\n",
      "keyword      257984 non-null object\n",
      "dtypes: int64(1), object(2)\n",
      "memory usage: 5.9+ MB\n"
     ]
    }
   ],
   "source": [
    "keywords_df.info()"
   ]
  },
  {
   "cell_type": "markdown",
   "metadata": {},
   "source": [
    "This is a simple dataframe, when I created it I knew exactly the columns I would use. \n",
    "\n",
    "I do need to change the column names from camelCase to snake_case (node.js uses camelCase):"
   ]
  },
  {
   "cell_type": "code",
   "execution_count": 67,
   "metadata": {
    "ExecuteTime": {
     "end_time": "2020-03-24T18:27:27.460652Z",
     "start_time": "2020-03-24T18:27:27.396497Z"
    }
   },
   "outputs": [],
   "source": [
    "keywords_df = keywords_df.rename(columns={'imdbId': 'imdb_id', 'keywordId': 'keyword_id'})"
   ]
  },
  {
   "cell_type": "code",
   "execution_count": 68,
   "metadata": {
    "ExecuteTime": {
     "end_time": "2020-03-24T18:27:28.793176Z",
     "start_time": "2020-03-24T18:27:28.729097Z"
    }
   },
   "outputs": [
    {
     "data": {
      "text/html": [
       "<div>\n",
       "<style scoped>\n",
       "    .dataframe tbody tr th:only-of-type {\n",
       "        vertical-align: middle;\n",
       "    }\n",
       "\n",
       "    .dataframe tbody tr th {\n",
       "        vertical-align: top;\n",
       "    }\n",
       "\n",
       "    .dataframe thead th {\n",
       "        text-align: right;\n",
       "    }\n",
       "</style>\n",
       "<table border=\"1\" class=\"dataframe\">\n",
       "  <thead>\n",
       "    <tr style=\"text-align: right;\">\n",
       "      <th></th>\n",
       "      <th>imdb_id</th>\n",
       "      <th>keyword_id</th>\n",
       "      <th>keyword</th>\n",
       "    </tr>\n",
       "  </thead>\n",
       "  <tbody>\n",
       "    <tr>\n",
       "      <td>202552</td>\n",
       "      <td>tt1814836</td>\n",
       "      <td>2282</td>\n",
       "      <td>love of animals</td>\n",
       "    </tr>\n",
       "    <tr>\n",
       "      <td>176139</td>\n",
       "      <td>tt1974419</td>\n",
       "      <td>14818</td>\n",
       "      <td>model</td>\n",
       "    </tr>\n",
       "    <tr>\n",
       "      <td>71029</td>\n",
       "      <td>tt3231054</td>\n",
       "      <td>3571</td>\n",
       "      <td>crucifixion</td>\n",
       "    </tr>\n",
       "  </tbody>\n",
       "</table>\n",
       "</div>"
      ],
      "text/plain": [
       "          imdb_id  keyword_id          keyword\n",
       "202552  tt1814836        2282  love of animals\n",
       "176139  tt1974419       14818            model\n",
       "71029   tt3231054        3571      crucifixion"
      ]
     },
     "execution_count": 68,
     "metadata": {},
     "output_type": "execute_result"
    }
   ],
   "source": [
    "keywords_df.sample(3)"
   ]
  },
  {
   "cell_type": "code",
   "execution_count": 69,
   "metadata": {
    "ExecuteTime": {
     "end_time": "2020-03-24T20:48:25.734348Z",
     "start_time": "2020-03-24T20:48:25.588074Z"
    }
   },
   "outputs": [
    {
     "data": {
      "text/plain": [
       "0         False\n",
       "1         False\n",
       "2         False\n",
       "3         False\n",
       "4         False\n",
       "          ...  \n",
       "257979     True\n",
       "257980     True\n",
       "257981     True\n",
       "257982     True\n",
       "257983     True\n",
       "Length: 257984, dtype: bool"
      ]
     },
     "execution_count": 69,
     "metadata": {},
     "output_type": "execute_result"
    }
   ],
   "source": [
    "keywords_df.duplicated()"
   ]
  },
  {
   "cell_type": "code",
   "execution_count": 70,
   "metadata": {
    "ExecuteTime": {
     "end_time": "2020-03-24T18:27:30.415250Z",
     "start_time": "2020-03-24T18:27:30.300531Z"
    }
   },
   "outputs": [
    {
     "data": {
      "text/plain": [
       "imdb_id       0\n",
       "keyword_id    0\n",
       "keyword       0\n",
       "dtype: int64"
      ]
     },
     "execution_count": 70,
     "metadata": {},
     "output_type": "execute_result"
    }
   ],
   "source": [
    "keywords_df.isna().sum()"
   ]
  },
  {
   "cell_type": "markdown",
   "metadata": {},
   "source": [
    "### Save to CSV"
   ]
  },
  {
   "cell_type": "code",
   "execution_count": 71,
   "metadata": {
    "ExecuteTime": {
     "end_time": "2020-03-24T18:27:32.975518Z",
     "start_time": "2020-03-24T18:27:31.933801Z"
    }
   },
   "outputs": [],
   "source": [
    "keywords_save_path = os.path.join(os.pardir, 'data', 'processed', 'keywords.csv')\n",
    "keywords_df.to_csv(keywords_save_path, index=False)"
   ]
  },
  {
   "cell_type": "code",
   "execution_count": 72,
   "metadata": {
    "ExecuteTime": {
     "end_time": "2020-03-24T18:27:34.352635Z",
     "start_time": "2020-03-24T18:27:34.029792Z"
    }
   },
   "outputs": [
    {
     "data": {
      "text/html": [
       "<div>\n",
       "<style scoped>\n",
       "    .dataframe tbody tr th:only-of-type {\n",
       "        vertical-align: middle;\n",
       "    }\n",
       "\n",
       "    .dataframe tbody tr th {\n",
       "        vertical-align: top;\n",
       "    }\n",
       "\n",
       "    .dataframe thead th {\n",
       "        text-align: right;\n",
       "    }\n",
       "</style>\n",
       "<table border=\"1\" class=\"dataframe\">\n",
       "  <thead>\n",
       "    <tr style=\"text-align: right;\">\n",
       "      <th></th>\n",
       "      <th>imdb_id</th>\n",
       "      <th>keyword_id</th>\n",
       "      <th>keyword</th>\n",
       "    </tr>\n",
       "  </thead>\n",
       "  <tbody>\n",
       "    <tr>\n",
       "      <td>79686</td>\n",
       "      <td>tt2053463</td>\n",
       "      <td>9665</td>\n",
       "      <td>cover-up</td>\n",
       "    </tr>\n",
       "    <tr>\n",
       "      <td>221625</td>\n",
       "      <td>tt0089034</td>\n",
       "      <td>10714</td>\n",
       "      <td>serial killer</td>\n",
       "    </tr>\n",
       "    <tr>\n",
       "      <td>230190</td>\n",
       "      <td>tt0120263</td>\n",
       "      <td>236316</td>\n",
       "      <td>anarchic comedy</td>\n",
       "    </tr>\n",
       "  </tbody>\n",
       "</table>\n",
       "</div>"
      ],
      "text/plain": [
       "          imdb_id  keyword_id          keyword\n",
       "79686   tt2053463        9665         cover-up\n",
       "221625  tt0089034       10714    serial killer\n",
       "230190  tt0120263      236316  anarchic comedy"
      ]
     },
     "execution_count": 72,
     "metadata": {},
     "output_type": "execute_result"
    }
   ],
   "source": [
    "test_keywords_save = pd.read_csv(keywords_save_path)\n",
    "test_keywords_save.sample(3)"
   ]
  },
  {
   "cell_type": "markdown",
   "metadata": {},
   "source": [
    "## Building Dataset\n",
    "In this section I will combine all the individual datasets into one large dataframe that I can explore in the EDA phase. \n",
    "\n",
    "I will keep the actors and keywords seperate for now so they don't explode the dataframe."
   ]
  },
  {
   "cell_type": "code",
   "execution_count": 73,
   "metadata": {
    "ExecuteTime": {
     "end_time": "2020-03-24T21:46:08.502741Z",
     "start_time": "2020-03-24T21:46:07.826312Z"
    }
   },
   "outputs": [],
   "source": [
    "# joining revenue with genres:\n",
    "combined_df = revenue_df.set_index('imdb_id').join(genres_df.set_index('imdb_id'), rsuffix='_rev')"
   ]
  },
  {
   "cell_type": "code",
   "execution_count": 74,
   "metadata": {
    "ExecuteTime": {
     "end_time": "2020-03-24T21:46:10.567729Z",
     "start_time": "2020-03-24T21:46:10.499451Z"
    }
   },
   "outputs": [
    {
     "data": {
      "text/html": [
       "<div>\n",
       "<style scoped>\n",
       "    .dataframe tbody tr th:only-of-type {\n",
       "        vertical-align: middle;\n",
       "    }\n",
       "\n",
       "    .dataframe tbody tr th {\n",
       "        vertical-align: top;\n",
       "    }\n",
       "\n",
       "    .dataframe thead th {\n",
       "        text-align: right;\n",
       "    }\n",
       "</style>\n",
       "<table border=\"1\" class=\"dataframe\">\n",
       "  <thead>\n",
       "    <tr style=\"text-align: right;\">\n",
       "      <th></th>\n",
       "      <th>title</th>\n",
       "      <th>year</th>\n",
       "      <th>director</th>\n",
       "      <th>production_co</th>\n",
       "      <th>rank</th>\n",
       "      <th>budget_usd</th>\n",
       "      <th>us_gross</th>\n",
       "      <th>revenue</th>\n",
       "      <th>popular</th>\n",
       "      <th>title_rev</th>\n",
       "      <th>year_rev</th>\n",
       "      <th>genres</th>\n",
       "    </tr>\n",
       "    <tr>\n",
       "      <th>imdb_id</th>\n",
       "      <th></th>\n",
       "      <th></th>\n",
       "      <th></th>\n",
       "      <th></th>\n",
       "      <th></th>\n",
       "      <th></th>\n",
       "      <th></th>\n",
       "      <th></th>\n",
       "      <th></th>\n",
       "      <th></th>\n",
       "      <th></th>\n",
       "      <th></th>\n",
       "    </tr>\n",
       "  </thead>\n",
       "  <tbody>\n",
       "    <tr>\n",
       "      <td>tt2488496</td>\n",
       "      <td>Star Wars: Episode VII - The Force Awakens</td>\n",
       "      <td>2015</td>\n",
       "      <td>J.J. Abrams</td>\n",
       "      <td>Lucasfilm</td>\n",
       "      <td>519</td>\n",
       "      <td>245000000.0</td>\n",
       "      <td>937000000.0</td>\n",
       "      <td>692000000.0</td>\n",
       "      <td>True</td>\n",
       "      <td>Star Wars: Episode VII - The Force Awakens</td>\n",
       "      <td>2015</td>\n",
       "      <td>Action,Adventure,Sci-Fi</td>\n",
       "    </tr>\n",
       "    <tr>\n",
       "      <td>tt4154796</td>\n",
       "      <td>Avengers: Endgame</td>\n",
       "      <td>2019</td>\n",
       "      <td>Anthony Russo</td>\n",
       "      <td>Marvel Studios</td>\n",
       "      <td>111</td>\n",
       "      <td>356000000.0</td>\n",
       "      <td>858000000.0</td>\n",
       "      <td>502000000.0</td>\n",
       "      <td>True</td>\n",
       "      <td>Avengers: Endgame</td>\n",
       "      <td>2019</td>\n",
       "      <td>Action,Adventure,Drama</td>\n",
       "    </tr>\n",
       "    <tr>\n",
       "      <td>tt0499549</td>\n",
       "      <td>Avatar</td>\n",
       "      <td>2009</td>\n",
       "      <td>James Cameron</td>\n",
       "      <td>Twentieth Century Fox</td>\n",
       "      <td>533</td>\n",
       "      <td>237000000.0</td>\n",
       "      <td>761000000.0</td>\n",
       "      <td>524000000.0</td>\n",
       "      <td>True</td>\n",
       "      <td>Avatar</td>\n",
       "      <td>2009</td>\n",
       "      <td>Action,Adventure,Fantasy</td>\n",
       "    </tr>\n",
       "  </tbody>\n",
       "</table>\n",
       "</div>"
      ],
      "text/plain": [
       "                                                title  year       director  \\\n",
       "imdb_id                                                                      \n",
       "tt2488496  Star Wars: Episode VII - The Force Awakens  2015    J.J. Abrams   \n",
       "tt4154796                           Avengers: Endgame  2019  Anthony Russo   \n",
       "tt0499549                                      Avatar  2009  James Cameron   \n",
       "\n",
       "                   production_co  rank   budget_usd     us_gross      revenue  \\\n",
       "imdb_id                                                                         \n",
       "tt2488496              Lucasfilm   519  245000000.0  937000000.0  692000000.0   \n",
       "tt4154796         Marvel Studios   111  356000000.0  858000000.0  502000000.0   \n",
       "tt0499549  Twentieth Century Fox   533  237000000.0  761000000.0  524000000.0   \n",
       "\n",
       "           popular                                   title_rev year_rev  \\\n",
       "imdb_id                                                                   \n",
       "tt2488496     True  Star Wars: Episode VII - The Force Awakens     2015   \n",
       "tt4154796     True                           Avengers: Endgame     2019   \n",
       "tt0499549     True                                      Avatar     2009   \n",
       "\n",
       "                             genres  \n",
       "imdb_id                              \n",
       "tt2488496   Action,Adventure,Sci-Fi  \n",
       "tt4154796    Action,Adventure,Drama  \n",
       "tt0499549  Action,Adventure,Fantasy  "
      ]
     },
     "execution_count": 74,
     "metadata": {},
     "output_type": "execute_result"
    }
   ],
   "source": [
    "combined_df.head(3)"
   ]
  },
  {
   "cell_type": "code",
   "execution_count": 75,
   "metadata": {
    "ExecuteTime": {
     "end_time": "2020-03-24T21:46:12.574029Z",
     "start_time": "2020-03-24T21:46:12.534169Z"
    }
   },
   "outputs": [],
   "source": [
    "combined_df = combined_df.drop(columns=['title_rev', 'year_rev'])"
   ]
  },
  {
   "cell_type": "code",
   "execution_count": 76,
   "metadata": {
    "ExecuteTime": {
     "end_time": "2020-03-24T21:46:14.408079Z",
     "start_time": "2020-03-24T21:46:14.387626Z"
    }
   },
   "outputs": [],
   "source": [
    "combined_df = combined_df.reset_index()"
   ]
  },
  {
   "cell_type": "code",
   "execution_count": 77,
   "metadata": {
    "ExecuteTime": {
     "end_time": "2020-03-24T21:46:16.530356Z",
     "start_time": "2020-03-24T21:46:16.454624Z"
    }
   },
   "outputs": [],
   "source": [
    "# adding in time of year next:\n",
    "combined_df = combined_df.set_index('imdb_id').join(date_df.set_index('imdb_id')).reset_index()"
   ]
  },
  {
   "cell_type": "code",
   "execution_count": 78,
   "metadata": {
    "ExecuteTime": {
     "end_time": "2020-03-24T21:46:21.301931Z",
     "start_time": "2020-03-24T21:46:21.252000Z"
    }
   },
   "outputs": [
    {
     "data": {
      "text/html": [
       "<div>\n",
       "<style scoped>\n",
       "    .dataframe tbody tr th:only-of-type {\n",
       "        vertical-align: middle;\n",
       "    }\n",
       "\n",
       "    .dataframe tbody tr th {\n",
       "        vertical-align: top;\n",
       "    }\n",
       "\n",
       "    .dataframe thead th {\n",
       "        text-align: right;\n",
       "    }\n",
       "</style>\n",
       "<table border=\"1\" class=\"dataframe\">\n",
       "  <thead>\n",
       "    <tr style=\"text-align: right;\">\n",
       "      <th></th>\n",
       "      <th>imdb_id</th>\n",
       "      <th>title</th>\n",
       "      <th>year</th>\n",
       "      <th>director</th>\n",
       "      <th>production_co</th>\n",
       "      <th>rank</th>\n",
       "      <th>budget_usd</th>\n",
       "      <th>us_gross</th>\n",
       "      <th>revenue</th>\n",
       "      <th>popular</th>\n",
       "      <th>genres</th>\n",
       "      <th>date</th>\n",
       "    </tr>\n",
       "  </thead>\n",
       "  <tbody>\n",
       "    <tr>\n",
       "      <td>3142</td>\n",
       "      <td>tt0327437</td>\n",
       "      <td>Around the World in 80 Days</td>\n",
       "      <td>2004</td>\n",
       "      <td>Frank Coraci</td>\n",
       "      <td>Walden Media</td>\n",
       "      <td>7403</td>\n",
       "      <td>110000000.0</td>\n",
       "      <td>24000000.0</td>\n",
       "      <td>-86000000.0</td>\n",
       "      <td>False</td>\n",
       "      <td>Action,Adventure,Comedy</td>\n",
       "      <td>2004-06-16</td>\n",
       "    </tr>\n",
       "    <tr>\n",
       "      <td>13366</td>\n",
       "      <td>tt1308165</td>\n",
       "      <td>The Taqwacores</td>\n",
       "      <td>2010</td>\n",
       "      <td>Eyad Zahra</td>\n",
       "      <td>Rumanni Filmworks</td>\n",
       "      <td>119019</td>\n",
       "      <td>-1.0</td>\n",
       "      <td>11000.0</td>\n",
       "      <td>NaN</td>\n",
       "      <td>False</td>\n",
       "      <td>Drama,Music</td>\n",
       "      <td>2010-01-24</td>\n",
       "    </tr>\n",
       "    <tr>\n",
       "      <td>9758</td>\n",
       "      <td>tt5866930</td>\n",
       "      <td>The Adventurers</td>\n",
       "      <td>2017</td>\n",
       "      <td>Stephen Fung</td>\n",
       "      <td>Gravity Pictures</td>\n",
       "      <td>31684</td>\n",
       "      <td>-1.0</td>\n",
       "      <td>217000.0</td>\n",
       "      <td>NaN</td>\n",
       "      <td>False</td>\n",
       "      <td>Action,Adventure,Crime</td>\n",
       "      <td>2017-08-11</td>\n",
       "    </tr>\n",
       "    <tr>\n",
       "      <td>5447</td>\n",
       "      <td>tt0401383</td>\n",
       "      <td>The Diving Bell and the Butterfly</td>\n",
       "      <td>2007</td>\n",
       "      <td>Julian Schnabel</td>\n",
       "      <td>Pathé Renn Productions</td>\n",
       "      <td>4053</td>\n",
       "      <td>-1.0</td>\n",
       "      <td>6000000.0</td>\n",
       "      <td>NaN</td>\n",
       "      <td>False</td>\n",
       "      <td>Biography,Drama</td>\n",
       "      <td>2007-05-23</td>\n",
       "    </tr>\n",
       "    <tr>\n",
       "      <td>7622</td>\n",
       "      <td>tt0990413</td>\n",
       "      <td>Sugar</td>\n",
       "      <td>2008</td>\n",
       "      <td>Anna Boden</td>\n",
       "      <td>HBO Films</td>\n",
       "      <td>32329</td>\n",
       "      <td>-1.0</td>\n",
       "      <td>1100000.0</td>\n",
       "      <td>NaN</td>\n",
       "      <td>False</td>\n",
       "      <td>Drama,Sport</td>\n",
       "      <td>2008-04-03</td>\n",
       "    </tr>\n",
       "  </tbody>\n",
       "</table>\n",
       "</div>"
      ],
      "text/plain": [
       "         imdb_id                              title  year         director  \\\n",
       "3142   tt0327437        Around the World in 80 Days  2004     Frank Coraci   \n",
       "13366  tt1308165                     The Taqwacores  2010       Eyad Zahra   \n",
       "9758   tt5866930                    The Adventurers  2017     Stephen Fung   \n",
       "5447   tt0401383  The Diving Bell and the Butterfly  2007  Julian Schnabel   \n",
       "7622   tt0990413                              Sugar  2008       Anna Boden   \n",
       "\n",
       "                production_co    rank   budget_usd    us_gross     revenue  \\\n",
       "3142             Walden Media    7403  110000000.0  24000000.0 -86000000.0   \n",
       "13366       Rumanni Filmworks  119019         -1.0     11000.0         NaN   \n",
       "9758         Gravity Pictures   31684         -1.0    217000.0         NaN   \n",
       "5447   Pathé Renn Productions    4053         -1.0   6000000.0         NaN   \n",
       "7622                HBO Films   32329         -1.0   1100000.0         NaN   \n",
       "\n",
       "       popular                   genres        date  \n",
       "3142     False  Action,Adventure,Comedy  2004-06-16  \n",
       "13366    False              Drama,Music  2010-01-24  \n",
       "9758     False   Action,Adventure,Crime  2017-08-11  \n",
       "5447     False          Biography,Drama  2007-05-23  \n",
       "7622     False              Drama,Sport  2008-04-03  "
      ]
     },
     "execution_count": 78,
     "metadata": {},
     "output_type": "execute_result"
    }
   ],
   "source": [
    "combined_df.sample(5)"
   ]
  },
  {
   "cell_type": "code",
   "execution_count": 79,
   "metadata": {
    "ExecuteTime": {
     "end_time": "2020-03-24T21:46:23.933462Z",
     "start_time": "2020-03-24T21:46:23.866178Z"
    }
   },
   "outputs": [
    {
     "name": "stdout",
     "output_type": "stream",
     "text": [
      "<class 'pandas.core.frame.DataFrame'>\n",
      "RangeIndex: 14431 entries, 0 to 14430\n",
      "Data columns (total 12 columns):\n",
      "imdb_id          14431 non-null object\n",
      "title            14431 non-null object\n",
      "year             14431 non-null object\n",
      "director         14431 non-null object\n",
      "production_co    14431 non-null object\n",
      "rank             14431 non-null int64\n",
      "budget_usd       14431 non-null float64\n",
      "us_gross         14431 non-null float64\n",
      "revenue          7896 non-null float64\n",
      "popular          14431 non-null bool\n",
      "genres           14317 non-null object\n",
      "date             14375 non-null object\n",
      "dtypes: bool(1), float64(3), int64(1), object(7)\n",
      "memory usage: 1.2+ MB\n"
     ]
    }
   ],
   "source": [
    "combined_df.info()"
   ]
  },
  {
   "cell_type": "code",
   "execution_count": 80,
   "metadata": {},
   "outputs": [],
   "source": [
    "combined_df = combined_df.dropna()"
   ]
  },
  {
   "cell_type": "code",
   "execution_count": 81,
   "metadata": {},
   "outputs": [
    {
     "name": "stdout",
     "output_type": "stream",
     "text": [
      "<class 'pandas.core.frame.DataFrame'>\n",
      "Int64Index: 7865 entries, 0 to 14430\n",
      "Data columns (total 12 columns):\n",
      "imdb_id          7865 non-null object\n",
      "title            7865 non-null object\n",
      "year             7865 non-null object\n",
      "director         7865 non-null object\n",
      "production_co    7865 non-null object\n",
      "rank             7865 non-null int64\n",
      "budget_usd       7865 non-null float64\n",
      "us_gross         7865 non-null float64\n",
      "revenue          7865 non-null float64\n",
      "popular          7865 non-null bool\n",
      "genres           7865 non-null object\n",
      "date             7865 non-null object\n",
      "dtypes: bool(1), float64(3), int64(1), object(7)\n",
      "memory usage: 745.0+ KB\n"
     ]
    }
   ],
   "source": [
    "combined_df.info()"
   ]
  },
  {
   "cell_type": "markdown",
   "metadata": {},
   "source": [
    "### Save to CSV"
   ]
  },
  {
   "cell_type": "code",
   "execution_count": 82,
   "metadata": {},
   "outputs": [],
   "source": [
    "combined_save_path = os.path.join(os.pardir, 'data', 'processed', 'combined.csv')\n",
    "combined_df.to_csv(combined_save_path, index=False)"
   ]
  },
  {
   "cell_type": "code",
   "execution_count": 83,
   "metadata": {},
   "outputs": [
    {
     "data": {
      "text/html": [
       "<div>\n",
       "<style scoped>\n",
       "    .dataframe tbody tr th:only-of-type {\n",
       "        vertical-align: middle;\n",
       "    }\n",
       "\n",
       "    .dataframe tbody tr th {\n",
       "        vertical-align: top;\n",
       "    }\n",
       "\n",
       "    .dataframe thead th {\n",
       "        text-align: right;\n",
       "    }\n",
       "</style>\n",
       "<table border=\"1\" class=\"dataframe\">\n",
       "  <thead>\n",
       "    <tr style=\"text-align: right;\">\n",
       "      <th></th>\n",
       "      <th>imdb_id</th>\n",
       "      <th>title</th>\n",
       "      <th>year</th>\n",
       "      <th>director</th>\n",
       "      <th>production_co</th>\n",
       "      <th>rank</th>\n",
       "      <th>budget_usd</th>\n",
       "      <th>us_gross</th>\n",
       "      <th>revenue</th>\n",
       "      <th>popular</th>\n",
       "      <th>genres</th>\n",
       "      <th>date</th>\n",
       "    </tr>\n",
       "  </thead>\n",
       "  <tbody>\n",
       "    <tr>\n",
       "      <td>2201</td>\n",
       "      <td>tt0191754</td>\n",
       "      <td>28 Days</td>\n",
       "      <td>2000</td>\n",
       "      <td>Betty Thomas</td>\n",
       "      <td>Columbia Pictures</td>\n",
       "      <td>5530</td>\n",
       "      <td>4.300000e+07</td>\n",
       "      <td>37000000.0</td>\n",
       "      <td>-6.000000e+06</td>\n",
       "      <td>False</td>\n",
       "      <td>Comedy,Drama</td>\n",
       "      <td>2000-04-06</td>\n",
       "    </tr>\n",
       "    <tr>\n",
       "      <td>5854</td>\n",
       "      <td>tt1313092</td>\n",
       "      <td>Animal Kingdom</td>\n",
       "      <td>2010</td>\n",
       "      <td>David Michôd</td>\n",
       "      <td>Porchlight Films</td>\n",
       "      <td>3901</td>\n",
       "      <td>2.902084e+06</td>\n",
       "      <td>1000000.0</td>\n",
       "      <td>-1.902084e+06</td>\n",
       "      <td>False</td>\n",
       "      <td>Crime,Drama</td>\n",
       "      <td>2010-06-03</td>\n",
       "    </tr>\n",
       "    <tr>\n",
       "      <td>1695</td>\n",
       "      <td>tt0299172</td>\n",
       "      <td>Home on the Range</td>\n",
       "      <td>2004</td>\n",
       "      <td>Will Finn</td>\n",
       "      <td>Walt Disney Pictures</td>\n",
       "      <td>8010</td>\n",
       "      <td>1.100000e+08</td>\n",
       "      <td>50000000.0</td>\n",
       "      <td>-6.000000e+07</td>\n",
       "      <td>False</td>\n",
       "      <td>Adventure,Animation,Comedy</td>\n",
       "      <td>2004-04-02</td>\n",
       "    </tr>\n",
       "  </tbody>\n",
       "</table>\n",
       "</div>"
      ],
      "text/plain": [
       "        imdb_id              title  year      director         production_co  \\\n",
       "2201  tt0191754            28 Days  2000  Betty Thomas     Columbia Pictures   \n",
       "5854  tt1313092     Animal Kingdom  2010  David Michôd      Porchlight Films   \n",
       "1695  tt0299172  Home on the Range  2004     Will Finn  Walt Disney Pictures   \n",
       "\n",
       "      rank    budget_usd    us_gross       revenue  popular  \\\n",
       "2201  5530  4.300000e+07  37000000.0 -6.000000e+06    False   \n",
       "5854  3901  2.902084e+06   1000000.0 -1.902084e+06    False   \n",
       "1695  8010  1.100000e+08  50000000.0 -6.000000e+07    False   \n",
       "\n",
       "                          genres        date  \n",
       "2201                Comedy,Drama  2000-04-06  \n",
       "5854                 Crime,Drama  2010-06-03  \n",
       "1695  Adventure,Animation,Comedy  2004-04-02  "
      ]
     },
     "execution_count": 83,
     "metadata": {},
     "output_type": "execute_result"
    }
   ],
   "source": [
    "test_combined_save = pd.read_csv(combined_save_path)\n",
    "test_combined_save.sample(3)"
   ]
  },
  {
   "cell_type": "code",
   "execution_count": 84,
   "metadata": {},
   "outputs": [
    {
     "name": "stdout",
     "output_type": "stream",
     "text": [
      "<class 'pandas.core.frame.DataFrame'>\n",
      "Int64Index: 7865 entries, 0 to 14430\n",
      "Data columns (total 12 columns):\n",
      "imdb_id          7865 non-null object\n",
      "title            7865 non-null object\n",
      "year             7865 non-null object\n",
      "director         7865 non-null object\n",
      "production_co    7865 non-null object\n",
      "rank             7865 non-null int64\n",
      "budget_usd       7865 non-null float64\n",
      "us_gross         7865 non-null float64\n",
      "revenue          7865 non-null float64\n",
      "popular          7865 non-null bool\n",
      "genres           7865 non-null object\n",
      "date             7865 non-null object\n",
      "dtypes: bool(1), float64(3), int64(1), object(7)\n",
      "memory usage: 745.0+ KB\n"
     ]
    }
   ],
   "source": [
    "combined_df.info()"
   ]
  },
  {
   "cell_type": "code",
   "execution_count": null,
   "metadata": {},
   "outputs": [],
   "source": []
  }
 ],
 "metadata": {
  "file_extension": ".py",
  "kernelspec": {
   "display_name": "Python 3",
   "language": "python",
   "name": "python3"
  },
  "language_info": {
   "codemirror_mode": {
    "name": "ipython",
    "version": 3
   },
   "file_extension": ".py",
   "mimetype": "text/x-python",
   "name": "python",
   "nbconvert_exporter": "python",
   "pygments_lexer": "ipython3",
   "version": "3.6.9"
  },
  "mimetype": "text/x-python",
  "name": "python",
  "npconvert_exporter": "python",
  "pygments_lexer": "ipython3",
  "toc": {
   "base_numbering": 1,
   "nav_menu": {},
   "number_sections": true,
   "sideBar": true,
   "skip_h1_title": false,
   "title_cell": "Table of Contents",
   "title_sidebar": "Contents",
   "toc_cell": false,
   "toc_position": {},
   "toc_section_display": true,
   "toc_window_display": false
  },
  "varInspector": {
   "cols": {
    "lenName": 16,
    "lenType": 16,
    "lenVar": 40
   },
   "kernels_config": {
    "python": {
     "delete_cmd_postfix": "",
     "delete_cmd_prefix": "del ",
     "library": "var_list.py",
     "varRefreshCmd": "print(var_dic_list())"
    },
    "r": {
     "delete_cmd_postfix": ") ",
     "delete_cmd_prefix": "rm(",
     "library": "var_list.r",
     "varRefreshCmd": "cat(var_dic_list()) "
    }
   },
   "oldHeight": 120,
   "position": {
    "height": "40px",
    "left": "448px",
    "right": "20px",
    "top": "110px",
    "width": "435px"
   },
   "types_to_exclude": [
    "module",
    "function",
    "builtin_function_or_method",
    "instance",
    "_Feature"
   ],
   "varInspector_section_display": "none",
   "window_display": true
  },
  "version": 3
 },
 "nbformat": 4,
 "nbformat_minor": 2
}
