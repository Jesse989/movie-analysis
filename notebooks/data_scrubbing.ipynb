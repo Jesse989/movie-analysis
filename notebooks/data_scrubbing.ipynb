{
 "cells": [
  {
   "cell_type": "markdown",
   "metadata": {},
   "source": [
    "# Movie Analysis: Data Scrubbing"
   ]
  },
  {
   "cell_type": "markdown",
   "metadata": {},
   "source": [
    "## About:\n",
    "In the data scrubbing phase I will focus on cleaning up the columns I plan on using, and building up the data frame I will use for the EDA phase:\n",
    "\n",
    "1. US Gross Revenue\n",
    "2. Genre\n",
    "3. Actors\n",
    "4. Time of Year (date)\n",
    "5. Keywords (content)"
   ]
  },
  {
   "cell_type": "markdown",
   "metadata": {},
   "source": [
    "### Project imports:"
   ]
  },
  {
   "cell_type": "code",
   "execution_count": 1,
   "metadata": {
    "ExecuteTime": {
     "end_time": "2020-03-24T18:25:32.208705Z",
     "start_time": "2020-03-24T18:25:31.387337Z"
    }
   },
   "outputs": [],
   "source": [
    "# imports for entire data gathering phase\n",
    "import pandas as pd \n",
    "import os"
   ]
  },
  {
   "cell_type": "markdown",
   "metadata": {},
   "source": [
    "## 1. US Gross Revene\n",
    "This column will be how we measure the other columns, so we will start here and drop any rows that don't have this information."
   ]
  },
  {
   "cell_type": "code",
   "execution_count": 2,
   "metadata": {
    "ExecuteTime": {
     "end_time": "2020-03-24T18:25:33.763924Z",
     "start_time": "2020-03-24T18:25:33.678225Z"
    }
   },
   "outputs": [],
   "source": [
    "revenue_path = os.path.join(os.pardir, 'data', 'interim', 'money.csv')\n",
    "revenue_df = pd.read_csv(revenue_path)"
   ]
  },
  {
   "cell_type": "code",
   "execution_count": 3,
   "metadata": {
    "ExecuteTime": {
     "end_time": "2020-03-24T18:25:34.633139Z",
     "start_time": "2020-03-24T18:25:34.593476Z"
    }
   },
   "outputs": [
    {
     "data": {
      "text/html": [
       "<div>\n",
       "<style scoped>\n",
       "    .dataframe tbody tr th:only-of-type {\n",
       "        vertical-align: middle;\n",
       "    }\n",
       "\n",
       "    .dataframe tbody tr th {\n",
       "        vertical-align: top;\n",
       "    }\n",
       "\n",
       "    .dataframe thead th {\n",
       "        text-align: right;\n",
       "    }\n",
       "</style>\n",
       "<table border=\"1\" class=\"dataframe\">\n",
       "  <thead>\n",
       "    <tr style=\"text-align: right;\">\n",
       "      <th></th>\n",
       "      <th>imdb_id</th>\n",
       "      <th>title</th>\n",
       "      <th>year</th>\n",
       "      <th>director</th>\n",
       "      <th>production_co</th>\n",
       "      <th>region_code</th>\n",
       "      <th>rank</th>\n",
       "      <th>budget_usd</th>\n",
       "      <th>us_gross</th>\n",
       "    </tr>\n",
       "  </thead>\n",
       "  <tbody>\n",
       "    <tr>\n",
       "      <td>0</td>\n",
       "      <td>tt2488496</td>\n",
       "      <td>Star Wars: Episode VII - The Force Awakens</td>\n",
       "      <td>2015</td>\n",
       "      <td>J.J. Abrams</td>\n",
       "      <td>Lucasfilm</td>\n",
       "      <td>[US]</td>\n",
       "      <td>519</td>\n",
       "      <td>$245MM</td>\n",
       "      <td>$937MM</td>\n",
       "    </tr>\n",
       "    <tr>\n",
       "      <td>1</td>\n",
       "      <td>tt4154796</td>\n",
       "      <td>Avengers: Endgame</td>\n",
       "      <td>2019</td>\n",
       "      <td>Anthony Russo</td>\n",
       "      <td>Marvel Studios</td>\n",
       "      <td>[US]</td>\n",
       "      <td>111</td>\n",
       "      <td>$356MM</td>\n",
       "      <td>$858MM</td>\n",
       "    </tr>\n",
       "    <tr>\n",
       "      <td>2</td>\n",
       "      <td>tt0499549</td>\n",
       "      <td>Avatar</td>\n",
       "      <td>2009</td>\n",
       "      <td>James Cameron</td>\n",
       "      <td>Twentieth Century Fox</td>\n",
       "      <td>[US]</td>\n",
       "      <td>533</td>\n",
       "      <td>$237MM</td>\n",
       "      <td>$761MM</td>\n",
       "    </tr>\n",
       "    <tr>\n",
       "      <td>3</td>\n",
       "      <td>tt1825683</td>\n",
       "      <td>Black Panther</td>\n",
       "      <td>2018</td>\n",
       "      <td>Ryan Coogler</td>\n",
       "      <td>Marvel Studios</td>\n",
       "      <td>[US]</td>\n",
       "      <td>269</td>\n",
       "      <td>$200MM</td>\n",
       "      <td>$700MM</td>\n",
       "    </tr>\n",
       "    <tr>\n",
       "      <td>4</td>\n",
       "      <td>tt4154756</td>\n",
       "      <td>Avengers: Infinity War</td>\n",
       "      <td>2018</td>\n",
       "      <td>Anthony Russo</td>\n",
       "      <td>Marvel Studios</td>\n",
       "      <td>[US]</td>\n",
       "      <td>376</td>\n",
       "      <td>$321MM</td>\n",
       "      <td>$679MM</td>\n",
       "    </tr>\n",
       "  </tbody>\n",
       "</table>\n",
       "</div>"
      ],
      "text/plain": [
       "     imdb_id                                       title  year       director  \\\n",
       "0  tt2488496  Star Wars: Episode VII - The Force Awakens  2015    J.J. Abrams   \n",
       "1  tt4154796                           Avengers: Endgame  2019  Anthony Russo   \n",
       "2  tt0499549                                      Avatar  2009  James Cameron   \n",
       "3  tt1825683                               Black Panther  2018   Ryan Coogler   \n",
       "4  tt4154756                      Avengers: Infinity War  2018  Anthony Russo   \n",
       "\n",
       "           production_co region_code rank budget_usd us_gross  \n",
       "0              Lucasfilm        [US]  519     $245MM   $937MM  \n",
       "1         Marvel Studios        [US]  111     $356MM   $858MM  \n",
       "2  Twentieth Century Fox        [US]  533     $237MM   $761MM  \n",
       "3         Marvel Studios        [US]  269     $200MM   $700MM  \n",
       "4         Marvel Studios        [US]  376     $321MM   $679MM  "
      ]
     },
     "execution_count": 3,
     "metadata": {},
     "output_type": "execute_result"
    }
   ],
   "source": [
    "revenue_df.head()"
   ]
  },
  {
   "cell_type": "code",
   "execution_count": 4,
   "metadata": {
    "ExecuteTime": {
     "end_time": "2020-03-24T18:25:35.954127Z",
     "start_time": "2020-03-24T18:25:35.937232Z"
    }
   },
   "outputs": [
    {
     "name": "stdout",
     "output_type": "stream",
     "text": [
      "<class 'pandas.core.frame.DataFrame'>\n",
      "RangeIndex: 14702 entries, 0 to 14701\n",
      "Data columns (total 9 columns):\n",
      "imdb_id          14700 non-null object\n",
      "title            14700 non-null object\n",
      "year             14685 non-null object\n",
      "director         14671 non-null object\n",
      "production_co    14345 non-null object\n",
      "region_code      13447 non-null object\n",
      "rank             14688 non-null object\n",
      "budget_usd       7996 non-null object\n",
      "us_gross         14598 non-null object\n",
      "dtypes: object(9)\n",
      "memory usage: 1.0+ MB\n"
     ]
    }
   ],
   "source": [
    "revenue_df.info()"
   ]
  },
  {
   "cell_type": "markdown",
   "metadata": {},
   "source": [
    "### Changes:\n",
    "\n",
    "1. Convert 'us_gross', and 'budget_usd' values into floats. That means stripping the non-number characters out as well as changing 'MM' to ',000,000'.\n",
    "2. Convert year column to int, so the years don't have the trailing .0.\n",
    "3. region_code does not need the brackets around the abbreviations."
   ]
  },
  {
   "cell_type": "code",
   "execution_count": 5,
   "metadata": {
    "ExecuteTime": {
     "end_time": "2020-03-24T18:25:37.423078Z",
     "start_time": "2020-03-24T18:25:37.413298Z"
    },
    "code_folding": [
     1
    ]
   },
   "outputs": [],
   "source": [
    "# Created 3/22/2020 with current exhange values. Values not adjusted for the date the movie was created.\n",
    "def get_conversion_rate(value):\n",
    "    \"\"\"Get exchange rate for given currency code\n",
    "    \n",
    "    Arguments:\n",
    "        value (string): String with currency code or symbol in it\n",
    "\n",
    "    Returns:\n",
    "        rate (float): Conversion rate to usd\n",
    "    \"\"\"\n",
    "    if '£' in value:\n",
    "        return 0.854\n",
    "    elif '€' in value:\n",
    "        return 0.9334\n",
    "    elif 'AUD' in value:\n",
    "        return 1.7229\n",
    "    elif 'CAD' in value:\n",
    "        return 1.435\n",
    "    elif 'FRF' in value:\n",
    "        return 6.55957 * 0.9334\n",
    "    elif 'INR' in value:\n",
    "        return 75.394\n",
    "    elif 'THB' in value:\n",
    "        return 32.68\n",
    "    elif 'EM' in value:\n",
    "        return 0 # cant find info on EM\n",
    "    elif 'JPY' in value:\n",
    "        return 110.75\n",
    "    elif 'SKW' in value:\n",
    "        return 1254.45\n",
    "    elif 'HUF' in value:\n",
    "        return 327.94\n",
    "    elif 'NGN' in value:\n",
    "        return 364\n",
    "    elif 'CNY' in value:\n",
    "        return 7.0950\n",
    "    elif 'ESP' in value:\n",
    "        return 155.42826\n",
    "    elif 'RUR' in value:\n",
    "        return 79.87\n",
    "    elif 'HKD' in value:\n",
    "        return 7.7570\n",
    "    elif 'ISK' in value:\n",
    "        return 140.490\n",
    "    elif 'PHP' in value:\n",
    "        return 51.19\n",
    "    elif 'DKK' in value:\n",
    "        return 6.9716\n",
    "    elif 'CZK' in value:\n",
    "        return 25.5620\n",
    "    elif 'SKK' in value:\n",
    "        return 10.3753\n",
    "    elif 'NOK' in value:\n",
    "        return 11.7890\n",
    "    elif 'MXN' in value:\n",
    "        return 24.4215\n",
    "    elif 'JMD' in value:\n",
    "        return 135.07\n",
    "    elif 'PLN' in value:\n",
    "        return 4.23\n",
    "    else:\n",
    "        return 1"
   ]
  },
  {
   "cell_type": "code",
   "execution_count": 6,
   "metadata": {
    "ExecuteTime": {
     "end_time": "2020-03-24T18:25:38.652579Z",
     "start_time": "2020-03-24T18:25:38.644749Z"
    },
    "code_folding": [
     0
    ]
   },
   "outputs": [],
   "source": [
    "def strip_currency_code(value):\n",
    "    \"\"\"Strips currency code from front of currency string\n",
    "\n",
    "    Arguments: \n",
    "        value (string): currency amount prefaced with currency code\n",
    "    \n",
    "    Returns:\n",
    "        value (string): value without the currency code\n",
    "    \"\"\"\n",
    "    if value[:1] in '$£€':\n",
    "        return value[1:]\n",
    "    else:\n",
    "        return value[3:]"
   ]
  },
  {
   "cell_type": "code",
   "execution_count": 7,
   "metadata": {
    "ExecuteTime": {
     "end_time": "2020-03-24T18:25:39.303271Z",
     "start_time": "2020-03-24T18:25:39.293824Z"
    },
    "code_folding": [
     0
    ]
   },
   "outputs": [],
   "source": [
    "def convert_money(value):\n",
    "    \"\"\"Takes currency string and parses it into correct amount in USD\n",
    "    \n",
    "    Arguments:\n",
    "        value (string): currency in form: CAD 345.3B \n",
    "\n",
    "    Returns:\n",
    "        value (int): currency converted to USD and in standard numeric form\n",
    "    \"\"\"\n",
    "    # type checking\n",
    "    if (type(value) != str):\n",
    "        return None\n",
    "    # check currency sign and get coefficient\n",
    "    coef = get_conversion_rate(value)\n",
    "    value = strip_currency_code(value)\n",
    "    if 'K' in value:\n",
    "        value = float(value.strip('K')) * 1000 * coef\n",
    "    elif 'MM' in value:\n",
    "        value = float(value.strip('MM')) * 1000000 * coef\n",
    "    elif 'B' in value:\n",
    "        value = float(value.strip('B')) * 1000000000 * coef\n",
    "    else:\n",
    "        value = float(value.strip()) * coef\n",
    "    return int(value)"
   ]
  },
  {
   "cell_type": "code",
   "execution_count": 8,
   "metadata": {
    "ExecuteTime": {
     "end_time": "2020-03-24T18:25:39.810627Z",
     "start_time": "2020-03-24T18:25:39.753126Z"
    }
   },
   "outputs": [],
   "source": [
    "revenue_df['us_gross'] = revenue_df['us_gross'].apply(convert_money)"
   ]
  },
  {
   "cell_type": "code",
   "execution_count": 9,
   "metadata": {
    "ExecuteTime": {
     "end_time": "2020-03-24T18:25:40.514203Z",
     "start_time": "2020-03-24T18:25:40.478503Z"
    }
   },
   "outputs": [],
   "source": [
    "revenue_df['budget_usd'] = revenue_df['budget_usd'].apply(convert_money)"
   ]
  },
  {
   "cell_type": "code",
   "execution_count": 10,
   "metadata": {
    "ExecuteTime": {
     "end_time": "2020-03-24T18:25:41.260930Z",
     "start_time": "2020-03-24T18:25:41.252514Z"
    }
   },
   "outputs": [
    {
     "data": {
      "text/plain": [
       "6706"
      ]
     },
     "execution_count": 10,
     "metadata": {},
     "output_type": "execute_result"
    }
   ],
   "source": [
    "revenue_df['budget_usd'].isna().sum()"
   ]
  },
  {
   "cell_type": "code",
   "execution_count": 11,
   "metadata": {
    "ExecuteTime": {
     "end_time": "2020-03-24T18:25:42.258244Z",
     "start_time": "2020-03-24T18:25:42.233318Z"
    }
   },
   "outputs": [
    {
     "data": {
      "text/html": [
       "<div>\n",
       "<style scoped>\n",
       "    .dataframe tbody tr th:only-of-type {\n",
       "        vertical-align: middle;\n",
       "    }\n",
       "\n",
       "    .dataframe tbody tr th {\n",
       "        vertical-align: top;\n",
       "    }\n",
       "\n",
       "    .dataframe thead th {\n",
       "        text-align: right;\n",
       "    }\n",
       "</style>\n",
       "<table border=\"1\" class=\"dataframe\">\n",
       "  <thead>\n",
       "    <tr style=\"text-align: right;\">\n",
       "      <th></th>\n",
       "      <th>imdb_id</th>\n",
       "      <th>title</th>\n",
       "      <th>year</th>\n",
       "      <th>director</th>\n",
       "      <th>production_co</th>\n",
       "      <th>region_code</th>\n",
       "      <th>rank</th>\n",
       "      <th>budget_usd</th>\n",
       "      <th>us_gross</th>\n",
       "    </tr>\n",
       "  </thead>\n",
       "  <tbody>\n",
       "    <tr>\n",
       "      <td>62</td>\n",
       "      <td>tt1477834</td>\n",
       "      <td>Aquaman</td>\n",
       "      <td>2018</td>\n",
       "      <td>James Wan</td>\n",
       "      <td>DC Comics</td>\n",
       "      <td>[US]</td>\n",
       "      <td>516</td>\n",
       "      <td>160000000.0</td>\n",
       "      <td>335000000.0</td>\n",
       "    </tr>\n",
       "    <tr>\n",
       "      <td>4722</td>\n",
       "      <td>tt1604171</td>\n",
       "      <td>Prom</td>\n",
       "      <td>2011</td>\n",
       "      <td>Joe Nussbaum</td>\n",
       "      <td>Rickshaw Productions</td>\n",
       "      <td>[US]</td>\n",
       "      <td>14,200</td>\n",
       "      <td>8000000.0</td>\n",
       "      <td>10000000.0</td>\n",
       "    </tr>\n",
       "    <tr>\n",
       "      <td>1141</td>\n",
       "      <td>tt0241303</td>\n",
       "      <td>Chocolat</td>\n",
       "      <td>2000</td>\n",
       "      <td>Lasse Hallström</td>\n",
       "      <td>Miramax</td>\n",
       "      <td>[US]</td>\n",
       "      <td>2,869</td>\n",
       "      <td>25000000.0</td>\n",
       "      <td>72000000.0</td>\n",
       "    </tr>\n",
       "    <tr>\n",
       "      <td>4915</td>\n",
       "      <td>tt0891592</td>\n",
       "      <td>Street Fighter: The Legend of Chun-Li</td>\n",
       "      <td>2009</td>\n",
       "      <td>Andrzej Bartkowiak</td>\n",
       "      <td>Hyde Park Entertainment</td>\n",
       "      <td>[US]</td>\n",
       "      <td>11,405</td>\n",
       "      <td>18000000.0</td>\n",
       "      <td>8700000.0</td>\n",
       "    </tr>\n",
       "    <tr>\n",
       "      <td>9229</td>\n",
       "      <td>tt1213672</td>\n",
       "      <td>Billy: The Early Years</td>\n",
       "      <td>2008</td>\n",
       "      <td>Robby Benson</td>\n",
       "      <td>Solex Productions</td>\n",
       "      <td>[GB]</td>\n",
       "      <td>58,196</td>\n",
       "      <td>NaN</td>\n",
       "      <td>347000.0</td>\n",
       "    </tr>\n",
       "  </tbody>\n",
       "</table>\n",
       "</div>"
      ],
      "text/plain": [
       "        imdb_id                                  title  year  \\\n",
       "62    tt1477834                                Aquaman  2018   \n",
       "4722  tt1604171                                   Prom  2011   \n",
       "1141  tt0241303                               Chocolat  2000   \n",
       "4915  tt0891592  Street Fighter: The Legend of Chun-Li  2009   \n",
       "9229  tt1213672                 Billy: The Early Years  2008   \n",
       "\n",
       "                director            production_co region_code    rank  \\\n",
       "62             James Wan                DC Comics        [US]     516   \n",
       "4722        Joe Nussbaum     Rickshaw Productions        [US]  14,200   \n",
       "1141     Lasse Hallström                  Miramax        [US]   2,869   \n",
       "4915  Andrzej Bartkowiak  Hyde Park Entertainment        [US]  11,405   \n",
       "9229        Robby Benson        Solex Productions        [GB]  58,196   \n",
       "\n",
       "       budget_usd     us_gross  \n",
       "62    160000000.0  335000000.0  \n",
       "4722    8000000.0   10000000.0  \n",
       "1141   25000000.0   72000000.0  \n",
       "4915   18000000.0    8700000.0  \n",
       "9229          NaN     347000.0  "
      ]
     },
     "execution_count": 11,
     "metadata": {},
     "output_type": "execute_result"
    }
   ],
   "source": [
    "revenue_df.sample(5)"
   ]
  },
  {
   "cell_type": "markdown",
   "metadata": {},
   "source": [
    "Now for region code. We actually don't need this column so we will drop it."
   ]
  },
  {
   "cell_type": "code",
   "execution_count": 12,
   "metadata": {
    "ExecuteTime": {
     "end_time": "2020-03-24T18:25:43.971086Z",
     "start_time": "2020-03-24T18:25:43.965226Z"
    }
   },
   "outputs": [],
   "source": [
    "revenue_df.drop(columns='region_code', inplace=True)"
   ]
  },
  {
   "cell_type": "markdown",
   "metadata": {},
   "source": [
    "For the 'year' column we went ahead and dropped the missing rows, because there were only 6 of them."
   ]
  },
  {
   "cell_type": "code",
   "execution_count": 13,
   "metadata": {
    "ExecuteTime": {
     "end_time": "2020-03-24T18:25:45.318625Z",
     "start_time": "2020-03-24T18:25:45.305956Z"
    }
   },
   "outputs": [
    {
     "data": {
      "text/plain": [
       "imdb_id             2\n",
       "title               2\n",
       "year               17\n",
       "director           31\n",
       "production_co     357\n",
       "rank               14\n",
       "budget_usd       6706\n",
       "us_gross          104\n",
       "dtype: int64"
      ]
     },
     "execution_count": 13,
     "metadata": {},
     "output_type": "execute_result"
    }
   ],
   "source": [
    "revenue_df.isna().sum()"
   ]
  },
  {
   "cell_type": "markdown",
   "metadata": {},
   "source": [
    "Cleaning up Nan values:"
   ]
  },
  {
   "cell_type": "code",
   "execution_count": 14,
   "metadata": {
    "ExecuteTime": {
     "end_time": "2020-03-24T18:25:47.298978Z",
     "start_time": "2020-03-24T18:25:47.293824Z"
    }
   },
   "outputs": [],
   "source": [
    "# first, change the missing values from budget to -1, so we dont drop 1910 rows.\n",
    "revenue_df['budget_usd'] = revenue_df['budget_usd'].fillna(-1)"
   ]
  },
  {
   "cell_type": "code",
   "execution_count": 15,
   "metadata": {
    "ExecuteTime": {
     "end_time": "2020-03-24T18:25:48.298011Z",
     "start_time": "2020-03-24T18:25:48.291194Z"
    }
   },
   "outputs": [],
   "source": [
    "# also, fill in the production_co missing values with an 'Unknown'\n",
    "revenue_df['production_co'] = revenue_df['production_co'].fillna('Unknown')"
   ]
  },
  {
   "cell_type": "code",
   "execution_count": 16,
   "metadata": {
    "ExecuteTime": {
     "end_time": "2020-03-24T18:25:49.294735Z",
     "start_time": "2020-03-24T18:25:49.265320Z"
    }
   },
   "outputs": [
    {
     "name": "stdout",
     "output_type": "stream",
     "text": [
      "<class 'pandas.core.frame.DataFrame'>\n",
      "RangeIndex: 14702 entries, 0 to 14701\n",
      "Data columns (total 8 columns):\n",
      "imdb_id          14700 non-null object\n",
      "title            14700 non-null object\n",
      "year             14685 non-null object\n",
      "director         14671 non-null object\n",
      "production_co    14702 non-null object\n",
      "rank             14688 non-null object\n",
      "budget_usd       14702 non-null float64\n",
      "us_gross         14598 non-null float64\n",
      "dtypes: float64(2), object(6)\n",
      "memory usage: 919.0+ KB\n"
     ]
    }
   ],
   "source": [
    "revenue_df.info()"
   ]
  },
  {
   "cell_type": "code",
   "execution_count": 17,
   "metadata": {
    "ExecuteTime": {
     "end_time": "2020-03-24T18:25:50.629560Z",
     "start_time": "2020-03-24T18:25:50.608556Z"
    }
   },
   "outputs": [],
   "source": [
    "revenue_df = revenue_df.dropna()"
   ]
  },
  {
   "cell_type": "code",
   "execution_count": 18,
   "metadata": {
    "ExecuteTime": {
     "end_time": "2020-03-24T18:25:51.996800Z",
     "start_time": "2020-03-24T18:25:51.971575Z"
    }
   },
   "outputs": [
    {
     "data": {
      "text/html": [
       "<div>\n",
       "<style scoped>\n",
       "    .dataframe tbody tr th:only-of-type {\n",
       "        vertical-align: middle;\n",
       "    }\n",
       "\n",
       "    .dataframe tbody tr th {\n",
       "        vertical-align: top;\n",
       "    }\n",
       "\n",
       "    .dataframe thead th {\n",
       "        text-align: right;\n",
       "    }\n",
       "</style>\n",
       "<table border=\"1\" class=\"dataframe\">\n",
       "  <thead>\n",
       "    <tr style=\"text-align: right;\">\n",
       "      <th></th>\n",
       "      <th>imdb_id</th>\n",
       "      <th>title</th>\n",
       "      <th>year</th>\n",
       "      <th>director</th>\n",
       "      <th>production_co</th>\n",
       "      <th>rank</th>\n",
       "      <th>budget_usd</th>\n",
       "      <th>us_gross</th>\n",
       "    </tr>\n",
       "  </thead>\n",
       "  <tbody>\n",
       "    <tr>\n",
       "      <td>12499</td>\n",
       "      <td>tt2386502</td>\n",
       "      <td>A Long Way Off</td>\n",
       "      <td>2014</td>\n",
       "      <td>Michael Davis</td>\n",
       "      <td>Prodigafilm</td>\n",
       "      <td>133,046</td>\n",
       "      <td>500000.0</td>\n",
       "      <td>30000.0</td>\n",
       "    </tr>\n",
       "    <tr>\n",
       "      <td>9345</td>\n",
       "      <td>tt9205986</td>\n",
       "      <td>You Are Here: A Come From Away Story</td>\n",
       "      <td>2018</td>\n",
       "      <td>Moze Mossanen</td>\n",
       "      <td>MDF Productions</td>\n",
       "      <td>25,016</td>\n",
       "      <td>-1.0</td>\n",
       "      <td>319000.0</td>\n",
       "    </tr>\n",
       "    <tr>\n",
       "      <td>12604</td>\n",
       "      <td>tt0079820</td>\n",
       "      <td>The King and the Mockingbird</td>\n",
       "      <td>1980</td>\n",
       "      <td>Paul Grimault</td>\n",
       "      <td>Les Films Paul Grimault</td>\n",
       "      <td>49,936</td>\n",
       "      <td>-1.0</td>\n",
       "      <td>28000.0</td>\n",
       "    </tr>\n",
       "    <tr>\n",
       "      <td>5596</td>\n",
       "      <td>tt3385524</td>\n",
       "      <td>Stan &amp; Ollie</td>\n",
       "      <td>2018</td>\n",
       "      <td>Jon S. Baird</td>\n",
       "      <td>Entertainment One</td>\n",
       "      <td>4,085</td>\n",
       "      <td>10000000.0</td>\n",
       "      <td>5500000.0</td>\n",
       "    </tr>\n",
       "    <tr>\n",
       "      <td>1092</td>\n",
       "      <td>tt0164334</td>\n",
       "      <td>Along Came a Spider</td>\n",
       "      <td>2001</td>\n",
       "      <td>Lee Tamahori</td>\n",
       "      <td>Paramount Pictures</td>\n",
       "      <td>2,962</td>\n",
       "      <td>60000000.0</td>\n",
       "      <td>74000000.0</td>\n",
       "    </tr>\n",
       "  </tbody>\n",
       "</table>\n",
       "</div>"
      ],
      "text/plain": [
       "         imdb_id                                 title  year       director  \\\n",
       "12499  tt2386502                        A Long Way Off  2014  Michael Davis   \n",
       "9345   tt9205986  You Are Here: A Come From Away Story  2018  Moze Mossanen   \n",
       "12604  tt0079820          The King and the Mockingbird  1980  Paul Grimault   \n",
       "5596   tt3385524                          Stan & Ollie  2018   Jon S. Baird   \n",
       "1092   tt0164334                   Along Came a Spider  2001   Lee Tamahori   \n",
       "\n",
       "                 production_co     rank  budget_usd    us_gross  \n",
       "12499              Prodigafilm  133,046    500000.0     30000.0  \n",
       "9345           MDF Productions   25,016        -1.0    319000.0  \n",
       "12604  Les Films Paul Grimault   49,936        -1.0     28000.0  \n",
       "5596         Entertainment One    4,085  10000000.0   5500000.0  \n",
       "1092        Paramount Pictures    2,962  60000000.0  74000000.0  "
      ]
     },
     "execution_count": 18,
     "metadata": {},
     "output_type": "execute_result"
    }
   ],
   "source": [
    "revenue_df.sample(5)"
   ]
  },
  {
   "cell_type": "markdown",
   "metadata": {},
   "source": [
    "Now for dropping duplicates:"
   ]
  },
  {
   "cell_type": "code",
   "execution_count": 19,
   "metadata": {
    "ExecuteTime": {
     "end_time": "2020-03-24T18:25:53.735680Z",
     "start_time": "2020-03-24T18:25:53.704946Z"
    }
   },
   "outputs": [],
   "source": [
    "revenue_df = revenue_df.drop_duplicates()"
   ]
  },
  {
   "cell_type": "code",
   "execution_count": 20,
   "metadata": {
    "ExecuteTime": {
     "end_time": "2020-03-24T18:25:54.500666Z",
     "start_time": "2020-03-24T18:25:54.483831Z"
    }
   },
   "outputs": [
    {
     "name": "stdout",
     "output_type": "stream",
     "text": [
      "<class 'pandas.core.frame.DataFrame'>\n",
      "Int64Index: 14431 entries, 0 to 14598\n",
      "Data columns (total 8 columns):\n",
      "imdb_id          14431 non-null object\n",
      "title            14431 non-null object\n",
      "year             14431 non-null object\n",
      "director         14431 non-null object\n",
      "production_co    14431 non-null object\n",
      "rank             14431 non-null object\n",
      "budget_usd       14431 non-null float64\n",
      "us_gross         14431 non-null float64\n",
      "dtypes: float64(2), object(6)\n",
      "memory usage: 1014.7+ KB\n"
     ]
    }
   ],
   "source": [
    "revenue_df.info()"
   ]
  },
  {
   "cell_type": "code",
   "execution_count": 21,
   "metadata": {
    "ExecuteTime": {
     "end_time": "2020-03-24T18:25:55.298540Z",
     "start_time": "2020-03-24T18:25:55.268774Z"
    }
   },
   "outputs": [
    {
     "data": {
      "text/html": [
       "<div>\n",
       "<style scoped>\n",
       "    .dataframe tbody tr th:only-of-type {\n",
       "        vertical-align: middle;\n",
       "    }\n",
       "\n",
       "    .dataframe tbody tr th {\n",
       "        vertical-align: top;\n",
       "    }\n",
       "\n",
       "    .dataframe thead th {\n",
       "        text-align: right;\n",
       "    }\n",
       "</style>\n",
       "<table border=\"1\" class=\"dataframe\">\n",
       "  <thead>\n",
       "    <tr style=\"text-align: right;\">\n",
       "      <th></th>\n",
       "      <th>imdb_id</th>\n",
       "      <th>title</th>\n",
       "      <th>year</th>\n",
       "      <th>director</th>\n",
       "      <th>production_co</th>\n",
       "      <th>rank</th>\n",
       "      <th>budget_usd</th>\n",
       "      <th>us_gross</th>\n",
       "    </tr>\n",
       "  </thead>\n",
       "  <tbody>\n",
       "    <tr>\n",
       "      <td>8178</td>\n",
       "      <td>tt7147540</td>\n",
       "      <td>Made in India</td>\n",
       "      <td>2018</td>\n",
       "      <td>Sharat Katariya</td>\n",
       "      <td>Yash Raj Films</td>\n",
       "      <td>33,210</td>\n",
       "      <td>6200000.0</td>\n",
       "      <td>791000.0</td>\n",
       "    </tr>\n",
       "    <tr>\n",
       "      <td>9207</td>\n",
       "      <td>tt1599975</td>\n",
       "      <td>The Princess of Montpensier</td>\n",
       "      <td>2010</td>\n",
       "      <td>Bertrand Tavernier</td>\n",
       "      <td>Paradis Films</td>\n",
       "      <td>25,385</td>\n",
       "      <td>-1.0</td>\n",
       "      <td>352000.0</td>\n",
       "    </tr>\n",
       "    <tr>\n",
       "      <td>12918</td>\n",
       "      <td>tt1756799</td>\n",
       "      <td>The Day</td>\n",
       "      <td>2011</td>\n",
       "      <td>Douglas Aarniokoski</td>\n",
       "      <td>Content Media Corporation International</td>\n",
       "      <td>17,493</td>\n",
       "      <td>-1.0</td>\n",
       "      <td>21000.0</td>\n",
       "    </tr>\n",
       "  </tbody>\n",
       "</table>\n",
       "</div>"
      ],
      "text/plain": [
       "         imdb_id                        title  year             director  \\\n",
       "8178   tt7147540                Made in India  2018      Sharat Katariya   \n",
       "9207   tt1599975  The Princess of Montpensier  2010   Bertrand Tavernier   \n",
       "12918  tt1756799                      The Day  2011  Douglas Aarniokoski   \n",
       "\n",
       "                                 production_co    rank  budget_usd  us_gross  \n",
       "8178                            Yash Raj Films  33,210   6200000.0  791000.0  \n",
       "9207                             Paradis Films  25,385        -1.0  352000.0  \n",
       "12918  Content Media Corporation International  17,493        -1.0   21000.0  "
      ]
     },
     "execution_count": 21,
     "metadata": {},
     "output_type": "execute_result"
    }
   ],
   "source": [
    "revenue_df.sample(3)"
   ]
  },
  {
   "cell_type": "markdown",
   "metadata": {},
   "source": [
    "### Save as CSV"
   ]
  },
  {
   "cell_type": "code",
   "execution_count": 22,
   "metadata": {
    "ExecuteTime": {
     "end_time": "2020-03-24T18:25:56.992979Z",
     "start_time": "2020-03-24T18:25:56.860542Z"
    }
   },
   "outputs": [],
   "source": [
    "revenue_save_path = os.path.join(os.pardir, 'data', 'processed', 'revenue.csv')\n",
    "revenue_df.to_csv(revenue_save_path, index=False)"
   ]
  },
  {
   "cell_type": "code",
   "execution_count": 23,
   "metadata": {
    "ExecuteTime": {
     "end_time": "2020-03-24T18:25:57.820406Z",
     "start_time": "2020-03-24T18:25:57.700510Z"
    }
   },
   "outputs": [
    {
     "data": {
      "text/html": [
       "<div>\n",
       "<style scoped>\n",
       "    .dataframe tbody tr th:only-of-type {\n",
       "        vertical-align: middle;\n",
       "    }\n",
       "\n",
       "    .dataframe tbody tr th {\n",
       "        vertical-align: top;\n",
       "    }\n",
       "\n",
       "    .dataframe thead th {\n",
       "        text-align: right;\n",
       "    }\n",
       "</style>\n",
       "<table border=\"1\" class=\"dataframe\">\n",
       "  <thead>\n",
       "    <tr style=\"text-align: right;\">\n",
       "      <th></th>\n",
       "      <th>imdb_id</th>\n",
       "      <th>title</th>\n",
       "      <th>year</th>\n",
       "      <th>director</th>\n",
       "      <th>production_co</th>\n",
       "      <th>rank</th>\n",
       "      <th>budget_usd</th>\n",
       "      <th>us_gross</th>\n",
       "    </tr>\n",
       "  </thead>\n",
       "  <tbody>\n",
       "    <tr>\n",
       "      <td>1830</td>\n",
       "      <td>tt1872194</td>\n",
       "      <td>The Judge</td>\n",
       "      <td>2014</td>\n",
       "      <td>David Dobkin</td>\n",
       "      <td>Warner Bros.</td>\n",
       "      <td>2,631</td>\n",
       "      <td>50000000.0</td>\n",
       "      <td>47000000.0</td>\n",
       "    </tr>\n",
       "    <tr>\n",
       "      <td>11625</td>\n",
       "      <td>tt0843850</td>\n",
       "      <td>Finishing the Game: The Search for a New Bruce...</td>\n",
       "      <td>2007</td>\n",
       "      <td>Justin Lin</td>\n",
       "      <td>Barnstorm Pictures</td>\n",
       "      <td>65,097</td>\n",
       "      <td>500000.0</td>\n",
       "      <td>53000.0</td>\n",
       "    </tr>\n",
       "    <tr>\n",
       "      <td>13878</td>\n",
       "      <td>tt5770864</td>\n",
       "      <td>The Man from Earth: Holocene</td>\n",
       "      <td>2017</td>\n",
       "      <td>Richard Schenkman</td>\n",
       "      <td>Falling Sky Entertainment</td>\n",
       "      <td>13,356</td>\n",
       "      <td>-1.0</td>\n",
       "      <td>5000.0</td>\n",
       "    </tr>\n",
       "  </tbody>\n",
       "</table>\n",
       "</div>"
      ],
      "text/plain": [
       "         imdb_id                                              title  year  \\\n",
       "1830   tt1872194                                          The Judge  2014   \n",
       "11625  tt0843850  Finishing the Game: The Search for a New Bruce...  2007   \n",
       "13878  tt5770864                       The Man from Earth: Holocene  2017   \n",
       "\n",
       "                director              production_co    rank  budget_usd  \\\n",
       "1830        David Dobkin               Warner Bros.   2,631  50000000.0   \n",
       "11625         Justin Lin         Barnstorm Pictures  65,097    500000.0   \n",
       "13878  Richard Schenkman  Falling Sky Entertainment  13,356        -1.0   \n",
       "\n",
       "         us_gross  \n",
       "1830   47000000.0  \n",
       "11625     53000.0  \n",
       "13878      5000.0  "
      ]
     },
     "execution_count": 23,
     "metadata": {},
     "output_type": "execute_result"
    }
   ],
   "source": [
    "test_revenue_save = pd.read_csv(revenue_save_path)\n",
    "test_revenue_save.sample(3)"
   ]
  },
  {
   "cell_type": "markdown",
   "metadata": {},
   "source": [
    "## 2. Genre:\n",
    "For genre we will need a dataset that lists each movie and it's genre. To analyze the success of the genre, we will need to examine the relationship of genre to the revenue earned."
   ]
  },
  {
   "cell_type": "markdown",
   "metadata": {},
   "source": [
    "Bringing in the list of movie titles:"
   ]
  },
  {
   "cell_type": "code",
   "execution_count": 24,
   "metadata": {
    "ExecuteTime": {
     "end_time": "2020-03-24T18:25:59.887423Z",
     "start_time": "2020-03-24T18:25:59.882320Z"
    }
   },
   "outputs": [],
   "source": [
    "titles_path = os.path.join(os.pardir, 'data', 'raw', 'movies.csv')"
   ]
  },
  {
   "cell_type": "code",
   "execution_count": 25,
   "metadata": {
    "ExecuteTime": {
     "end_time": "2020-03-24T18:26:01.982323Z",
     "start_time": "2020-03-24T18:26:00.666811Z"
    }
   },
   "outputs": [
    {
     "data": {
      "text/html": [
       "<div>\n",
       "<style scoped>\n",
       "    .dataframe tbody tr th:only-of-type {\n",
       "        vertical-align: middle;\n",
       "    }\n",
       "\n",
       "    .dataframe tbody tr th {\n",
       "        vertical-align: top;\n",
       "    }\n",
       "\n",
       "    .dataframe thead th {\n",
       "        text-align: right;\n",
       "    }\n",
       "</style>\n",
       "<table border=\"1\" class=\"dataframe\">\n",
       "  <thead>\n",
       "    <tr style=\"text-align: right;\">\n",
       "      <th></th>\n",
       "      <th>tconst</th>\n",
       "      <th>primaryTitle</th>\n",
       "      <th>startYear</th>\n",
       "      <th>genres</th>\n",
       "    </tr>\n",
       "  </thead>\n",
       "  <tbody>\n",
       "    <tr>\n",
       "      <td>0</td>\n",
       "      <td>tt0000009</td>\n",
       "      <td>Miss Jerry</td>\n",
       "      <td>1894</td>\n",
       "      <td>Romance</td>\n",
       "    </tr>\n",
       "    <tr>\n",
       "      <td>1</td>\n",
       "      <td>tt0000147</td>\n",
       "      <td>The Corbett-Fitzsimmons Fight</td>\n",
       "      <td>1897</td>\n",
       "      <td>Documentary,News,Sport</td>\n",
       "    </tr>\n",
       "    <tr>\n",
       "      <td>2</td>\n",
       "      <td>tt0000335</td>\n",
       "      <td>Soldiers of the Cross</td>\n",
       "      <td>1900</td>\n",
       "      <td>Biography,Drama</td>\n",
       "    </tr>\n",
       "    <tr>\n",
       "      <td>3</td>\n",
       "      <td>tt0000502</td>\n",
       "      <td>Bohemios</td>\n",
       "      <td>1905</td>\n",
       "      <td>\\N</td>\n",
       "    </tr>\n",
       "    <tr>\n",
       "      <td>4</td>\n",
       "      <td>tt0000574</td>\n",
       "      <td>The Story of the Kelly Gang</td>\n",
       "      <td>1906</td>\n",
       "      <td>Biography,Crime,Drama</td>\n",
       "    </tr>\n",
       "  </tbody>\n",
       "</table>\n",
       "</div>"
      ],
      "text/plain": [
       "      tconst                   primaryTitle startYear                  genres\n",
       "0  tt0000009                     Miss Jerry      1894                 Romance\n",
       "1  tt0000147  The Corbett-Fitzsimmons Fight      1897  Documentary,News,Sport\n",
       "2  tt0000335          Soldiers of the Cross      1900         Biography,Drama\n",
       "3  tt0000502                       Bohemios      1905                      \\N\n",
       "4  tt0000574    The Story of the Kelly Gang      1906   Biography,Crime,Drama"
      ]
     },
     "execution_count": 25,
     "metadata": {},
     "output_type": "execute_result"
    }
   ],
   "source": [
    "genres_df = pd.read_csv(titles_path)\n",
    "genres_df.head()"
   ]
  },
  {
   "cell_type": "code",
   "execution_count": 26,
   "metadata": {
    "ExecuteTime": {
     "end_time": "2020-03-24T18:26:02.823116Z",
     "start_time": "2020-03-24T18:26:02.673872Z"
    }
   },
   "outputs": [
    {
     "name": "stdout",
     "output_type": "stream",
     "text": [
      "<class 'pandas.core.frame.DataFrame'>\n",
      "RangeIndex: 545821 entries, 0 to 545820\n",
      "Data columns (total 4 columns):\n",
      "tconst          545821 non-null object\n",
      "primaryTitle    545821 non-null object\n",
      "startYear       545821 non-null object\n",
      "genres          545821 non-null object\n",
      "dtypes: object(4)\n",
      "memory usage: 16.7+ MB\n"
     ]
    }
   ],
   "source": [
    "genres_df.info()"
   ]
  },
  {
   "cell_type": "markdown",
   "metadata": {},
   "source": [
    "### Changes:\n",
    "Looking at the initial dataframe, these are the things I would like to change:\n",
    "1. Change column names\n",
    "2. Drop original_title and runtime_minutes columns"
   ]
  },
  {
   "cell_type": "code",
   "execution_count": 27,
   "metadata": {
    "ExecuteTime": {
     "end_time": "2020-03-24T18:26:03.572419Z",
     "start_time": "2020-03-24T18:26:03.337869Z"
    }
   },
   "outputs": [],
   "source": [
    "genres_df = genres_df.rename(columns={'tconst': 'imdb_id', 'primaryTitle': 'title', 'startYear': 'year'})"
   ]
  },
  {
   "cell_type": "code",
   "execution_count": 28,
   "metadata": {
    "ExecuteTime": {
     "end_time": "2020-03-24T18:26:03.659686Z",
     "start_time": "2020-03-24T18:26:03.575826Z"
    }
   },
   "outputs": [
    {
     "data": {
      "text/html": [
       "<div>\n",
       "<style scoped>\n",
       "    .dataframe tbody tr th:only-of-type {\n",
       "        vertical-align: middle;\n",
       "    }\n",
       "\n",
       "    .dataframe tbody tr th {\n",
       "        vertical-align: top;\n",
       "    }\n",
       "\n",
       "    .dataframe thead th {\n",
       "        text-align: right;\n",
       "    }\n",
       "</style>\n",
       "<table border=\"1\" class=\"dataframe\">\n",
       "  <thead>\n",
       "    <tr style=\"text-align: right;\">\n",
       "      <th></th>\n",
       "      <th>imdb_id</th>\n",
       "      <th>title</th>\n",
       "      <th>year</th>\n",
       "      <th>genres</th>\n",
       "    </tr>\n",
       "  </thead>\n",
       "  <tbody>\n",
       "    <tr>\n",
       "      <td>56304</td>\n",
       "      <td>tt0077527</td>\n",
       "      <td>Exit 7</td>\n",
       "      <td>1978</td>\n",
       "      <td>Crime,Drama</td>\n",
       "    </tr>\n",
       "    <tr>\n",
       "      <td>104260</td>\n",
       "      <td>tt0165656</td>\n",
       "      <td>Brutes and Savages</td>\n",
       "      <td>1978</td>\n",
       "      <td>Documentary</td>\n",
       "    </tr>\n",
       "    <tr>\n",
       "      <td>195312</td>\n",
       "      <td>tt0396177</td>\n",
       "      <td>Poprask na silnici E 4</td>\n",
       "      <td>1980</td>\n",
       "      <td>Comedy</td>\n",
       "    </tr>\n",
       "  </tbody>\n",
       "</table>\n",
       "</div>"
      ],
      "text/plain": [
       "          imdb_id                   title  year       genres\n",
       "56304   tt0077527                  Exit 7  1978  Crime,Drama\n",
       "104260  tt0165656      Brutes and Savages  1978  Documentary\n",
       "195312  tt0396177  Poprask na silnici E 4  1980       Comedy"
      ]
     },
     "execution_count": 28,
     "metadata": {},
     "output_type": "execute_result"
    }
   ],
   "source": [
    "genres_df.sample(3)"
   ]
  },
  {
   "cell_type": "markdown",
   "metadata": {},
   "source": [
    "That looks good. Let me deal with Nan's:"
   ]
  },
  {
   "cell_type": "code",
   "execution_count": 29,
   "metadata": {
    "ExecuteTime": {
     "end_time": "2020-03-24T18:26:03.922683Z",
     "start_time": "2020-03-24T18:26:03.668950Z"
    }
   },
   "outputs": [
    {
     "data": {
      "text/plain": [
       "imdb_id    0\n",
       "title      0\n",
       "year       0\n",
       "genres     0\n",
       "dtype: int64"
      ]
     },
     "execution_count": 29,
     "metadata": {},
     "output_type": "execute_result"
    }
   ],
   "source": [
    "genres_df.isna().sum()"
   ]
  },
  {
   "cell_type": "markdown",
   "metadata": {},
   "source": [
    "### Save as CSV"
   ]
  },
  {
   "cell_type": "code",
   "execution_count": 30,
   "metadata": {
    "ExecuteTime": {
     "end_time": "2020-03-24T18:26:07.383436Z",
     "start_time": "2020-03-24T18:26:05.321253Z"
    }
   },
   "outputs": [],
   "source": [
    "genres_save_path = os.path.join(os.pardir, 'data', 'processed', 'genres.csv')\n",
    "genres_df.to_csv(genres_save_path, index=False)"
   ]
  },
  {
   "cell_type": "code",
   "execution_count": 31,
   "metadata": {
    "ExecuteTime": {
     "end_time": "2020-03-24T18:26:09.281234Z",
     "start_time": "2020-03-24T18:26:08.016328Z"
    }
   },
   "outputs": [
    {
     "data": {
      "text/html": [
       "<div>\n",
       "<style scoped>\n",
       "    .dataframe tbody tr th:only-of-type {\n",
       "        vertical-align: middle;\n",
       "    }\n",
       "\n",
       "    .dataframe tbody tr th {\n",
       "        vertical-align: top;\n",
       "    }\n",
       "\n",
       "    .dataframe thead th {\n",
       "        text-align: right;\n",
       "    }\n",
       "</style>\n",
       "<table border=\"1\" class=\"dataframe\">\n",
       "  <thead>\n",
       "    <tr style=\"text-align: right;\">\n",
       "      <th></th>\n",
       "      <th>imdb_id</th>\n",
       "      <th>title</th>\n",
       "      <th>year</th>\n",
       "      <th>genres</th>\n",
       "    </tr>\n",
       "  </thead>\n",
       "  <tbody>\n",
       "    <tr>\n",
       "      <td>290435</td>\n",
       "      <td>tt1427220</td>\n",
       "      <td>Heart Land</td>\n",
       "      <td>2012</td>\n",
       "      <td>Comedy,Romance</td>\n",
       "    </tr>\n",
       "    <tr>\n",
       "      <td>192878</td>\n",
       "      <td>tt0387460</td>\n",
       "      <td>The Off Season</td>\n",
       "      <td>2004</td>\n",
       "      <td>Horror</td>\n",
       "    </tr>\n",
       "    <tr>\n",
       "      <td>348912</td>\n",
       "      <td>tt2381935</td>\n",
       "      <td>FedCon XVI: Drone Heart</td>\n",
       "      <td>2007</td>\n",
       "      <td>Documentary</td>\n",
       "    </tr>\n",
       "  </tbody>\n",
       "</table>\n",
       "</div>"
      ],
      "text/plain": [
       "          imdb_id                    title  year          genres\n",
       "290435  tt1427220               Heart Land  2012  Comedy,Romance\n",
       "192878  tt0387460           The Off Season  2004          Horror\n",
       "348912  tt2381935  FedCon XVI: Drone Heart  2007     Documentary"
      ]
     },
     "execution_count": 31,
     "metadata": {},
     "output_type": "execute_result"
    }
   ],
   "source": [
    "test_genres_save = pd.read_csv(genres_save_path)\n",
    "test_genres_save.sample(3)"
   ]
  },
  {
   "cell_type": "markdown",
   "metadata": {},
   "source": [
    "## 3. Actors\n",
    "These columns will be key in identifying the people who have the ability to produce high quality work on a consistent basis."
   ]
  },
  {
   "cell_type": "code",
   "execution_count": 32,
   "metadata": {
    "ExecuteTime": {
     "end_time": "2020-03-24T18:26:13.036061Z",
     "start_time": "2020-03-24T18:26:10.569032Z"
    }
   },
   "outputs": [],
   "source": [
    "people_path = os.path.join(os.pardir, 'data', 'raw', 'imdb.name.basics.csv')\n",
    "people_df = pd.read_csv(people_path)"
   ]
  },
  {
   "cell_type": "code",
   "execution_count": 33,
   "metadata": {
    "ExecuteTime": {
     "end_time": "2020-03-24T18:26:43.414513Z",
     "start_time": "2020-03-24T18:26:43.365611Z"
    }
   },
   "outputs": [
    {
     "data": {
      "text/html": [
       "<div>\n",
       "<style scoped>\n",
       "    .dataframe tbody tr th:only-of-type {\n",
       "        vertical-align: middle;\n",
       "    }\n",
       "\n",
       "    .dataframe tbody tr th {\n",
       "        vertical-align: top;\n",
       "    }\n",
       "\n",
       "    .dataframe thead th {\n",
       "        text-align: right;\n",
       "    }\n",
       "</style>\n",
       "<table border=\"1\" class=\"dataframe\">\n",
       "  <thead>\n",
       "    <tr style=\"text-align: right;\">\n",
       "      <th></th>\n",
       "      <th>nconst</th>\n",
       "      <th>primary_name</th>\n",
       "      <th>birth_year</th>\n",
       "      <th>death_year</th>\n",
       "      <th>primary_profession</th>\n",
       "      <th>known_for_titles</th>\n",
       "    </tr>\n",
       "  </thead>\n",
       "  <tbody>\n",
       "    <tr>\n",
       "      <td>377031</td>\n",
       "      <td>nm7499551</td>\n",
       "      <td>Michael P. Nagy</td>\n",
       "      <td>NaN</td>\n",
       "      <td>NaN</td>\n",
       "      <td>art_department,production_designer,actor</td>\n",
       "      <td>tt5235954,tt4288728,tt7164814,tt4711924</td>\n",
       "    </tr>\n",
       "    <tr>\n",
       "      <td>515374</td>\n",
       "      <td>nm7566094</td>\n",
       "      <td>Raviteja Mudigere</td>\n",
       "      <td>NaN</td>\n",
       "      <td>NaN</td>\n",
       "      <td>director,writer</td>\n",
       "      <td>tt5000210</td>\n",
       "    </tr>\n",
       "    <tr>\n",
       "      <td>599656</td>\n",
       "      <td>nm8718962</td>\n",
       "      <td>Zhang Zikun</td>\n",
       "      <td>NaN</td>\n",
       "      <td>NaN</td>\n",
       "      <td>actor</td>\n",
       "      <td>tt6437856</td>\n",
       "    </tr>\n",
       "  </tbody>\n",
       "</table>\n",
       "</div>"
      ],
      "text/plain": [
       "           nconst       primary_name  birth_year  death_year  \\\n",
       "377031  nm7499551    Michael P. Nagy         NaN         NaN   \n",
       "515374  nm7566094  Raviteja Mudigere         NaN         NaN   \n",
       "599656  nm8718962        Zhang Zikun         NaN         NaN   \n",
       "\n",
       "                              primary_profession  \\\n",
       "377031  art_department,production_designer,actor   \n",
       "515374                           director,writer   \n",
       "599656                                     actor   \n",
       "\n",
       "                               known_for_titles  \n",
       "377031  tt5235954,tt4288728,tt7164814,tt4711924  \n",
       "515374                                tt5000210  \n",
       "599656                                tt6437856  "
      ]
     },
     "execution_count": 33,
     "metadata": {},
     "output_type": "execute_result"
    }
   ],
   "source": [
    "people_df.sample(3)"
   ]
  },
  {
   "cell_type": "markdown",
   "metadata": {},
   "source": [
    "### Changes:\n",
    "Some cleanup tasks:\n",
    "1. Change name of primary_name column to 'name'\n",
    "2. Select all the actors and actress\n",
    "3. Drop birth_year, death_year, known_for_titles"
   ]
  },
  {
   "cell_type": "code",
   "execution_count": 34,
   "metadata": {
    "ExecuteTime": {
     "end_time": "2020-03-24T18:26:48.582604Z",
     "start_time": "2020-03-24T18:26:48.538621Z"
    }
   },
   "outputs": [
    {
     "data": {
      "text/html": [
       "<div>\n",
       "<style scoped>\n",
       "    .dataframe tbody tr th:only-of-type {\n",
       "        vertical-align: middle;\n",
       "    }\n",
       "\n",
       "    .dataframe tbody tr th {\n",
       "        vertical-align: top;\n",
       "    }\n",
       "\n",
       "    .dataframe thead th {\n",
       "        text-align: right;\n",
       "    }\n",
       "</style>\n",
       "<table border=\"1\" class=\"dataframe\">\n",
       "  <thead>\n",
       "    <tr style=\"text-align: right;\">\n",
       "      <th></th>\n",
       "      <th>nconst</th>\n",
       "      <th>primary_name</th>\n",
       "      <th>birth_year</th>\n",
       "      <th>death_year</th>\n",
       "      <th>primary_profession</th>\n",
       "      <th>known_for_titles</th>\n",
       "    </tr>\n",
       "  </thead>\n",
       "  <tbody>\n",
       "    <tr>\n",
       "      <td>245458</td>\n",
       "      <td>nm4022004</td>\n",
       "      <td>Abderrazak Zitouny</td>\n",
       "      <td>NaN</td>\n",
       "      <td>NaN</td>\n",
       "      <td>actor,director</td>\n",
       "      <td>tt3592504,tt1706341,tt5237736</td>\n",
       "    </tr>\n",
       "    <tr>\n",
       "      <td>596947</td>\n",
       "      <td>nm8919733</td>\n",
       "      <td>Serhad Öztürk</td>\n",
       "      <td>NaN</td>\n",
       "      <td>NaN</td>\n",
       "      <td>producer</td>\n",
       "      <td>tt6768850,tt7711182</td>\n",
       "    </tr>\n",
       "    <tr>\n",
       "      <td>397523</td>\n",
       "      <td>nm7006672</td>\n",
       "      <td>Adhiraj Ganguly</td>\n",
       "      <td>NaN</td>\n",
       "      <td>NaN</td>\n",
       "      <td>actor</td>\n",
       "      <td>tt4658786,tt4300302,tt8489884</td>\n",
       "    </tr>\n",
       "  </tbody>\n",
       "</table>\n",
       "</div>"
      ],
      "text/plain": [
       "           nconst        primary_name  birth_year  death_year  \\\n",
       "245458  nm4022004  Abderrazak Zitouny         NaN         NaN   \n",
       "596947  nm8919733       Serhad Öztürk         NaN         NaN   \n",
       "397523  nm7006672     Adhiraj Ganguly         NaN         NaN   \n",
       "\n",
       "       primary_profession               known_for_titles  \n",
       "245458     actor,director  tt3592504,tt1706341,tt5237736  \n",
       "596947           producer            tt6768850,tt7711182  \n",
       "397523              actor  tt4658786,tt4300302,tt8489884  "
      ]
     },
     "execution_count": 34,
     "metadata": {},
     "output_type": "execute_result"
    }
   ],
   "source": [
    "people_df.sample(3)"
   ]
  },
  {
   "cell_type": "code",
   "execution_count": 35,
   "metadata": {
    "ExecuteTime": {
     "end_time": "2020-03-24T18:26:51.615699Z",
     "start_time": "2020-03-24T18:26:51.270502Z"
    }
   },
   "outputs": [],
   "source": [
    "people_df = people_df.rename(columns={'primary_name': 'name'})"
   ]
  },
  {
   "cell_type": "code",
   "execution_count": 36,
   "metadata": {
    "ExecuteTime": {
     "end_time": "2020-03-24T18:26:52.448360Z",
     "start_time": "2020-03-24T18:26:52.437874Z"
    }
   },
   "outputs": [],
   "source": [
    "def can_act(professions):\n",
    "    if type(professions) != str:\n",
    "        return False\n",
    "    if 'actor' in professions or 'actress' in professions:\n",
    "        return True\n",
    "    else:\n",
    "        return False"
   ]
  },
  {
   "cell_type": "code",
   "execution_count": 37,
   "metadata": {
    "ExecuteTime": {
     "end_time": "2020-03-24T18:26:53.694140Z",
     "start_time": "2020-03-24T18:26:53.378019Z"
    }
   },
   "outputs": [],
   "source": [
    "people_df['can_act'] = people_df['primary_profession'].apply(can_act)"
   ]
  },
  {
   "cell_type": "code",
   "execution_count": 38,
   "metadata": {
    "ExecuteTime": {
     "end_time": "2020-03-24T18:26:54.557635Z",
     "start_time": "2020-03-24T18:26:54.481735Z"
    }
   },
   "outputs": [
    {
     "data": {
      "text/html": [
       "<div>\n",
       "<style scoped>\n",
       "    .dataframe tbody tr th:only-of-type {\n",
       "        vertical-align: middle;\n",
       "    }\n",
       "\n",
       "    .dataframe tbody tr th {\n",
       "        vertical-align: top;\n",
       "    }\n",
       "\n",
       "    .dataframe thead th {\n",
       "        text-align: right;\n",
       "    }\n",
       "</style>\n",
       "<table border=\"1\" class=\"dataframe\">\n",
       "  <thead>\n",
       "    <tr style=\"text-align: right;\">\n",
       "      <th></th>\n",
       "      <th>nconst</th>\n",
       "      <th>name</th>\n",
       "      <th>birth_year</th>\n",
       "      <th>death_year</th>\n",
       "      <th>primary_profession</th>\n",
       "      <th>known_for_titles</th>\n",
       "      <th>can_act</th>\n",
       "    </tr>\n",
       "  </thead>\n",
       "  <tbody>\n",
       "    <tr>\n",
       "      <td>314673</td>\n",
       "      <td>nm4855396</td>\n",
       "      <td>Péter Gerõcs Asia Dér</td>\n",
       "      <td>NaN</td>\n",
       "      <td>NaN</td>\n",
       "      <td>director</td>\n",
       "      <td>tt2185475</td>\n",
       "      <td>False</td>\n",
       "    </tr>\n",
       "    <tr>\n",
       "      <td>601511</td>\n",
       "      <td>nm9624421</td>\n",
       "      <td>Jared Nelson</td>\n",
       "      <td>NaN</td>\n",
       "      <td>NaN</td>\n",
       "      <td>actor</td>\n",
       "      <td>tt8549254,tt7099566,tt9185410,tt8585940</td>\n",
       "      <td>True</td>\n",
       "    </tr>\n",
       "    <tr>\n",
       "      <td>564985</td>\n",
       "      <td>nm9800839</td>\n",
       "      <td>Thalapathy Prabhu</td>\n",
       "      <td>NaN</td>\n",
       "      <td>NaN</td>\n",
       "      <td>director</td>\n",
       "      <td>NaN</td>\n",
       "      <td>False</td>\n",
       "    </tr>\n",
       "  </tbody>\n",
       "</table>\n",
       "</div>"
      ],
      "text/plain": [
       "           nconst                   name  birth_year  death_year  \\\n",
       "314673  nm4855396  Péter Gerõcs Asia Dér         NaN         NaN   \n",
       "601511  nm9624421           Jared Nelson         NaN         NaN   \n",
       "564985  nm9800839      Thalapathy Prabhu         NaN         NaN   \n",
       "\n",
       "       primary_profession                         known_for_titles  can_act  \n",
       "314673           director                                tt2185475    False  \n",
       "601511              actor  tt8549254,tt7099566,tt9185410,tt8585940     True  \n",
       "564985           director                                      NaN    False  "
      ]
     },
     "execution_count": 38,
     "metadata": {},
     "output_type": "execute_result"
    }
   ],
   "source": [
    "people_df.sample(3)"
   ]
  },
  {
   "cell_type": "markdown",
   "metadata": {},
   "source": [
    "Okay, we will grab all the actors and directors and make individual dataframes for them:"
   ]
  },
  {
   "cell_type": "code",
   "execution_count": 39,
   "metadata": {
    "ExecuteTime": {
     "end_time": "2020-03-24T18:26:56.238194Z",
     "start_time": "2020-03-24T18:26:56.184624Z"
    }
   },
   "outputs": [],
   "source": [
    "actors_df = people_df[people_df['can_act'] == True]"
   ]
  },
  {
   "cell_type": "markdown",
   "metadata": {},
   "source": [
    "And now we can drop the unwanted columns:"
   ]
  },
  {
   "cell_type": "code",
   "execution_count": 40,
   "metadata": {
    "ExecuteTime": {
     "end_time": "2020-03-24T18:26:57.873722Z",
     "start_time": "2020-03-24T18:26:57.828530Z"
    }
   },
   "outputs": [],
   "source": [
    "drop_columns = ['primary_profession', 'can_act', 'birth_year', 'death_year', 'known_for_titles']\n",
    "actors_df = actors_df.drop(columns=drop_columns)"
   ]
  },
  {
   "cell_type": "code",
   "execution_count": 41,
   "metadata": {
    "ExecuteTime": {
     "end_time": "2020-03-24T18:26:58.792722Z",
     "start_time": "2020-03-24T18:26:58.769829Z"
    }
   },
   "outputs": [
    {
     "data": {
      "text/html": [
       "<div>\n",
       "<style scoped>\n",
       "    .dataframe tbody tr th:only-of-type {\n",
       "        vertical-align: middle;\n",
       "    }\n",
       "\n",
       "    .dataframe tbody tr th {\n",
       "        vertical-align: top;\n",
       "    }\n",
       "\n",
       "    .dataframe thead th {\n",
       "        text-align: right;\n",
       "    }\n",
       "</style>\n",
       "<table border=\"1\" class=\"dataframe\">\n",
       "  <thead>\n",
       "    <tr style=\"text-align: right;\">\n",
       "      <th></th>\n",
       "      <th>nconst</th>\n",
       "      <th>name</th>\n",
       "    </tr>\n",
       "  </thead>\n",
       "  <tbody>\n",
       "    <tr>\n",
       "      <td>538191</td>\n",
       "      <td>nm7410053</td>\n",
       "      <td>Ashley Brasel</td>\n",
       "    </tr>\n",
       "    <tr>\n",
       "      <td>3843</td>\n",
       "      <td>nm0091480</td>\n",
       "      <td>Michael Bofshever</td>\n",
       "    </tr>\n",
       "    <tr>\n",
       "      <td>393149</td>\n",
       "      <td>nm5063278</td>\n",
       "      <td>Francesca Testasecca</td>\n",
       "    </tr>\n",
       "  </tbody>\n",
       "</table>\n",
       "</div>"
      ],
      "text/plain": [
       "           nconst                  name\n",
       "538191  nm7410053         Ashley Brasel\n",
       "3843    nm0091480     Michael Bofshever\n",
       "393149  nm5063278  Francesca Testasecca"
      ]
     },
     "execution_count": 41,
     "metadata": {},
     "output_type": "execute_result"
    }
   ],
   "source": [
    "actors_df.sample(3)"
   ]
  },
  {
   "cell_type": "markdown",
   "metadata": {},
   "source": [
    "Let's check for missing values:"
   ]
  },
  {
   "cell_type": "code",
   "execution_count": 42,
   "metadata": {
    "ExecuteTime": {
     "end_time": "2020-03-24T18:27:00.658779Z",
     "start_time": "2020-03-24T18:27:00.611473Z"
    }
   },
   "outputs": [
    {
     "data": {
      "text/plain": [
       "nconst    0\n",
       "name      0\n",
       "dtype: int64"
      ]
     },
     "execution_count": 42,
     "metadata": {},
     "output_type": "execute_result"
    }
   ],
   "source": [
    "actors_df.isna().sum()"
   ]
  },
  {
   "cell_type": "markdown",
   "metadata": {},
   "source": [
    "There we go. A very large list of actors and actresses. We can join them to the titles and see if there are any patterns amongst the top performing titles."
   ]
  },
  {
   "cell_type": "markdown",
   "metadata": {},
   "source": [
    "### Save as CSV"
   ]
  },
  {
   "cell_type": "code",
   "execution_count": 43,
   "metadata": {
    "ExecuteTime": {
     "end_time": "2020-03-24T18:27:03.813146Z",
     "start_time": "2020-03-24T18:27:02.902511Z"
    }
   },
   "outputs": [],
   "source": [
    "actors_save_path = os.path.join(os.pardir, 'data', 'processed', 'actors.csv')\n",
    "actors_df.to_csv(actors_save_path, index=False)"
   ]
  },
  {
   "cell_type": "code",
   "execution_count": 44,
   "metadata": {
    "ExecuteTime": {
     "end_time": "2020-03-24T18:27:05.229683Z",
     "start_time": "2020-03-24T18:27:04.673268Z"
    }
   },
   "outputs": [
    {
     "data": {
      "text/html": [
       "<div>\n",
       "<style scoped>\n",
       "    .dataframe tbody tr th:only-of-type {\n",
       "        vertical-align: middle;\n",
       "    }\n",
       "\n",
       "    .dataframe tbody tr th {\n",
       "        vertical-align: top;\n",
       "    }\n",
       "\n",
       "    .dataframe thead th {\n",
       "        text-align: right;\n",
       "    }\n",
       "</style>\n",
       "<table border=\"1\" class=\"dataframe\">\n",
       "  <thead>\n",
       "    <tr style=\"text-align: right;\">\n",
       "      <th></th>\n",
       "      <th>nconst</th>\n",
       "      <th>name</th>\n",
       "    </tr>\n",
       "  </thead>\n",
       "  <tbody>\n",
       "    <tr>\n",
       "      <td>3771</td>\n",
       "      <td>nm0022963</td>\n",
       "      <td>Jana Altmanová</td>\n",
       "    </tr>\n",
       "    <tr>\n",
       "      <td>254049</td>\n",
       "      <td>nm8747452</td>\n",
       "      <td>Yannick Hornecker</td>\n",
       "    </tr>\n",
       "    <tr>\n",
       "      <td>227527</td>\n",
       "      <td>nm5930666</td>\n",
       "      <td>Aruna Balaraj</td>\n",
       "    </tr>\n",
       "  </tbody>\n",
       "</table>\n",
       "</div>"
      ],
      "text/plain": [
       "           nconst               name\n",
       "3771    nm0022963     Jana Altmanová\n",
       "254049  nm8747452  Yannick Hornecker\n",
       "227527  nm5930666      Aruna Balaraj"
      ]
     },
     "execution_count": 44,
     "metadata": {},
     "output_type": "execute_result"
    }
   ],
   "source": [
    "test_actors_save = pd.read_csv(actors_save_path)\n",
    "test_actors_save.sample(3)"
   ]
  },
  {
   "cell_type": "markdown",
   "metadata": {},
   "source": [
    "## 4. Time of Year (date)\n",
    "Time of year will be an important metric to discover the most opportune time to release a film."
   ]
  },
  {
   "cell_type": "code",
   "execution_count": 45,
   "metadata": {
    "ExecuteTime": {
     "end_time": "2020-03-24T18:27:07.067394Z",
     "start_time": "2020-03-24T18:27:06.980650Z"
    }
   },
   "outputs": [],
   "source": [
    "date_path = os.path.join(os.pardir, 'data', 'raw', 'tmdb_movies.csv')\n",
    "date_df = pd.read_csv(date_path)"
   ]
  },
  {
   "cell_type": "code",
   "execution_count": 46,
   "metadata": {
    "ExecuteTime": {
     "end_time": "2020-03-24T18:27:08.196388Z",
     "start_time": "2020-03-24T18:27:08.142123Z"
    }
   },
   "outputs": [
    {
     "data": {
      "text/html": [
       "<div>\n",
       "<style scoped>\n",
       "    .dataframe tbody tr th:only-of-type {\n",
       "        vertical-align: middle;\n",
       "    }\n",
       "\n",
       "    .dataframe tbody tr th {\n",
       "        vertical-align: top;\n",
       "    }\n",
       "\n",
       "    .dataframe thead th {\n",
       "        text-align: right;\n",
       "    }\n",
       "</style>\n",
       "<table border=\"1\" class=\"dataframe\">\n",
       "  <thead>\n",
       "    <tr style=\"text-align: right;\">\n",
       "      <th></th>\n",
       "      <th>imdbId</th>\n",
       "      <th>budget</th>\n",
       "      <th>revenue</th>\n",
       "      <th>originalTitle</th>\n",
       "      <th>releaseDate</th>\n",
       "    </tr>\n",
       "  </thead>\n",
       "  <tbody>\n",
       "    <tr>\n",
       "      <td>26385</td>\n",
       "      <td>tt1772424</td>\n",
       "      <td>21000000</td>\n",
       "      <td>6700000.0</td>\n",
       "      <td>Et maintenant on va où ?</td>\n",
       "      <td>2011-05-16</td>\n",
       "    </tr>\n",
       "    <tr>\n",
       "      <td>15822</td>\n",
       "      <td>tt0113965</td>\n",
       "      <td>6400000</td>\n",
       "      <td>6.0</td>\n",
       "      <td>Never Talk to Strangers</td>\n",
       "      <td>1995-10-20</td>\n",
       "    </tr>\n",
       "    <tr>\n",
       "      <td>31878</td>\n",
       "      <td>tt0110857</td>\n",
       "      <td>0</td>\n",
       "      <td>126247.0</td>\n",
       "      <td>Police Academy: Mission to Moscow</td>\n",
       "      <td>1994-06-09</td>\n",
       "    </tr>\n",
       "  </tbody>\n",
       "</table>\n",
       "</div>"
      ],
      "text/plain": [
       "          imdbId    budget    revenue                      originalTitle  \\\n",
       "26385  tt1772424  21000000  6700000.0           Et maintenant on va où ?   \n",
       "15822  tt0113965   6400000        6.0            Never Talk to Strangers   \n",
       "31878  tt0110857         0   126247.0  Police Academy: Mission to Moscow   \n",
       "\n",
       "      releaseDate  \n",
       "26385  2011-05-16  \n",
       "15822  1995-10-20  \n",
       "31878  1994-06-09  "
      ]
     },
     "execution_count": 46,
     "metadata": {},
     "output_type": "execute_result"
    }
   ],
   "source": [
    "date_df.sample(3)"
   ]
  },
  {
   "cell_type": "markdown",
   "metadata": {},
   "source": [
    "### Changes:\n",
    "We only need a couple columns from this set:\n",
    "1. title\n",
    "2. release_date\n",
    "\n",
    "The column names are ok as well, so this will be very simple."
   ]
  },
  {
   "cell_type": "code",
   "execution_count": 47,
   "metadata": {
    "ExecuteTime": {
     "end_time": "2020-03-24T18:27:10.310176Z",
     "start_time": "2020-03-24T18:27:10.270271Z"
    }
   },
   "outputs": [],
   "source": [
    "date_df = date_df.drop_duplicates()"
   ]
  },
  {
   "cell_type": "code",
   "execution_count": 48,
   "metadata": {
    "ExecuteTime": {
     "end_time": "2020-03-24T18:27:11.369339Z",
     "start_time": "2020-03-24T18:27:11.328741Z"
    }
   },
   "outputs": [],
   "source": [
    "date_df = date_df.rename(columns={'imdbId': 'imdb_id', 'originalTitle': 'title', 'releaseDate': 'date'})"
   ]
  },
  {
   "cell_type": "code",
   "execution_count": 49,
   "metadata": {
    "ExecuteTime": {
     "end_time": "2020-03-24T18:27:12.367728Z",
     "start_time": "2020-03-24T18:27:12.357125Z"
    }
   },
   "outputs": [],
   "source": [
    "date_df = date_df[['imdb_id', 'title', 'date']]"
   ]
  },
  {
   "cell_type": "code",
   "execution_count": 50,
   "metadata": {
    "ExecuteTime": {
     "end_time": "2020-03-24T18:27:13.268487Z",
     "start_time": "2020-03-24T18:27:13.241255Z"
    }
   },
   "outputs": [],
   "source": [
    "date_df = date_df.dropna()"
   ]
  },
  {
   "cell_type": "code",
   "execution_count": 51,
   "metadata": {
    "ExecuteTime": {
     "end_time": "2020-03-24T18:27:14.230047Z",
     "start_time": "2020-03-24T18:27:14.209064Z"
    }
   },
   "outputs": [
    {
     "data": {
      "text/html": [
       "<div>\n",
       "<style scoped>\n",
       "    .dataframe tbody tr th:only-of-type {\n",
       "        vertical-align: middle;\n",
       "    }\n",
       "\n",
       "    .dataframe tbody tr th {\n",
       "        vertical-align: top;\n",
       "    }\n",
       "\n",
       "    .dataframe thead th {\n",
       "        text-align: right;\n",
       "    }\n",
       "</style>\n",
       "<table border=\"1\" class=\"dataframe\">\n",
       "  <thead>\n",
       "    <tr style=\"text-align: right;\">\n",
       "      <th></th>\n",
       "      <th>imdb_id</th>\n",
       "      <th>title</th>\n",
       "      <th>date</th>\n",
       "    </tr>\n",
       "  </thead>\n",
       "  <tbody>\n",
       "    <tr>\n",
       "      <td>16756</td>\n",
       "      <td>tt0089877</td>\n",
       "      <td>Rainbow Brite and the Star Stealer</td>\n",
       "      <td>1985-11-15</td>\n",
       "    </tr>\n",
       "    <tr>\n",
       "      <td>42770</td>\n",
       "      <td>tt2259360</td>\n",
       "      <td>搜索</td>\n",
       "      <td>2012-07-06</td>\n",
       "    </tr>\n",
       "    <tr>\n",
       "      <td>10893</td>\n",
       "      <td>tt0087231</td>\n",
       "      <td>The Falcon and the Snowman</td>\n",
       "      <td>1985-01-25</td>\n",
       "    </tr>\n",
       "  </tbody>\n",
       "</table>\n",
       "</div>"
      ],
      "text/plain": [
       "         imdb_id                               title        date\n",
       "16756  tt0089877  Rainbow Brite and the Star Stealer  1985-11-15\n",
       "42770  tt2259360                                  搜索  2012-07-06\n",
       "10893  tt0087231          The Falcon and the Snowman  1985-01-25"
      ]
     },
     "execution_count": 51,
     "metadata": {},
     "output_type": "execute_result"
    }
   ],
   "source": [
    "date_df.sample(3)"
   ]
  },
  {
   "cell_type": "code",
   "execution_count": 52,
   "metadata": {
    "ExecuteTime": {
     "end_time": "2020-03-24T18:27:15.440991Z",
     "start_time": "2020-03-24T18:27:15.425288Z"
    }
   },
   "outputs": [
    {
     "name": "stdout",
     "output_type": "stream",
     "text": [
      "<class 'pandas.core.frame.DataFrame'>\n",
      "Int64Index: 14466 entries, 0 to 43255\n",
      "Data columns (total 3 columns):\n",
      "imdb_id    14466 non-null object\n",
      "title      14466 non-null object\n",
      "date       14466 non-null object\n",
      "dtypes: object(3)\n",
      "memory usage: 452.1+ KB\n"
     ]
    }
   ],
   "source": [
    "date_df.info()"
   ]
  },
  {
   "cell_type": "code",
   "execution_count": 53,
   "metadata": {
    "ExecuteTime": {
     "end_time": "2020-03-24T18:27:16.686403Z",
     "start_time": "2020-03-24T18:27:16.659813Z"
    }
   },
   "outputs": [
    {
     "data": {
      "text/plain": [
       "imdb_id    0\n",
       "title      0\n",
       "date       0\n",
       "dtype: int64"
      ]
     },
     "execution_count": 53,
     "metadata": {},
     "output_type": "execute_result"
    }
   ],
   "source": [
    "date_df.isna().sum()"
   ]
  },
  {
   "cell_type": "markdown",
   "metadata": {},
   "source": [
    "### Save to CSV"
   ]
  },
  {
   "cell_type": "code",
   "execution_count": 54,
   "metadata": {
    "ExecuteTime": {
     "end_time": "2020-03-24T18:27:18.243870Z",
     "start_time": "2020-03-24T18:27:18.195658Z"
    }
   },
   "outputs": [],
   "source": [
    "date_save_path = os.path.join(os.pardir, 'data', 'processed', 'date.csv')\n",
    "date_df.to_csv(date_save_path, index=False)"
   ]
  },
  {
   "cell_type": "code",
   "execution_count": 55,
   "metadata": {
    "ExecuteTime": {
     "end_time": "2020-03-24T18:27:19.393823Z",
     "start_time": "2020-03-24T18:27:19.343403Z"
    }
   },
   "outputs": [
    {
     "data": {
      "text/html": [
       "<div>\n",
       "<style scoped>\n",
       "    .dataframe tbody tr th:only-of-type {\n",
       "        vertical-align: middle;\n",
       "    }\n",
       "\n",
       "    .dataframe tbody tr th {\n",
       "        vertical-align: top;\n",
       "    }\n",
       "\n",
       "    .dataframe thead th {\n",
       "        text-align: right;\n",
       "    }\n",
       "</style>\n",
       "<table border=\"1\" class=\"dataframe\">\n",
       "  <thead>\n",
       "    <tr style=\"text-align: right;\">\n",
       "      <th></th>\n",
       "      <th>imdb_id</th>\n",
       "      <th>title</th>\n",
       "      <th>date</th>\n",
       "    </tr>\n",
       "  </thead>\n",
       "  <tbody>\n",
       "    <tr>\n",
       "      <td>13948</td>\n",
       "      <td>tt3122842</td>\n",
       "      <td>The Automatic Hate</td>\n",
       "      <td>2015-03-15</td>\n",
       "    </tr>\n",
       "    <tr>\n",
       "      <td>12898</td>\n",
       "      <td>tt0208911</td>\n",
       "      <td>The King Is Alive</td>\n",
       "      <td>2000-05-11</td>\n",
       "    </tr>\n",
       "    <tr>\n",
       "      <td>8306</td>\n",
       "      <td>tt0134154</td>\n",
       "      <td>Ride with the Devil</td>\n",
       "      <td>1999-11-24</td>\n",
       "    </tr>\n",
       "  </tbody>\n",
       "</table>\n",
       "</div>"
      ],
      "text/plain": [
       "         imdb_id                title        date\n",
       "13948  tt3122842   The Automatic Hate  2015-03-15\n",
       "12898  tt0208911    The King Is Alive  2000-05-11\n",
       "8306   tt0134154  Ride with the Devil  1999-11-24"
      ]
     },
     "execution_count": 55,
     "metadata": {},
     "output_type": "execute_result"
    }
   ],
   "source": [
    "test_date_save = pd.read_csv(date_save_path)\n",
    "test_date_save.sample(3)"
   ]
  },
  {
   "cell_type": "markdown",
   "metadata": {},
   "source": [
    "## 5. Keywords (content)"
   ]
  },
  {
   "cell_type": "code",
   "execution_count": 56,
   "metadata": {
    "ExecuteTime": {
     "end_time": "2020-03-24T18:27:23.697678Z",
     "start_time": "2020-03-24T18:27:23.421349Z"
    }
   },
   "outputs": [],
   "source": [
    "keywords_path = os.path.join(os.pardir, 'data', 'raw', 'tmdb_keywords.csv')\n",
    "keywords_df = pd.read_csv(keywords_path)"
   ]
  },
  {
   "cell_type": "code",
   "execution_count": 57,
   "metadata": {
    "ExecuteTime": {
     "end_time": "2020-03-24T18:27:24.861727Z",
     "start_time": "2020-03-24T18:27:24.808024Z"
    }
   },
   "outputs": [
    {
     "data": {
      "text/html": [
       "<div>\n",
       "<style scoped>\n",
       "    .dataframe tbody tr th:only-of-type {\n",
       "        vertical-align: middle;\n",
       "    }\n",
       "\n",
       "    .dataframe tbody tr th {\n",
       "        vertical-align: top;\n",
       "    }\n",
       "\n",
       "    .dataframe thead th {\n",
       "        text-align: right;\n",
       "    }\n",
       "</style>\n",
       "<table border=\"1\" class=\"dataframe\">\n",
       "  <thead>\n",
       "    <tr style=\"text-align: right;\">\n",
       "      <th></th>\n",
       "      <th>imdbId</th>\n",
       "      <th>keywordId</th>\n",
       "      <th>keyword</th>\n",
       "    </tr>\n",
       "  </thead>\n",
       "  <tbody>\n",
       "    <tr>\n",
       "      <td>190425</td>\n",
       "      <td>tt0283897</td>\n",
       "      <td>15087</td>\n",
       "      <td>iraq war</td>\n",
       "    </tr>\n",
       "    <tr>\n",
       "      <td>59010</td>\n",
       "      <td>tt4034228</td>\n",
       "      <td>9253</td>\n",
       "      <td>slapstick</td>\n",
       "    </tr>\n",
       "    <tr>\n",
       "      <td>140106</td>\n",
       "      <td>tt0091814</td>\n",
       "      <td>9974</td>\n",
       "      <td>obesity</td>\n",
       "    </tr>\n",
       "  </tbody>\n",
       "</table>\n",
       "</div>"
      ],
      "text/plain": [
       "           imdbId  keywordId    keyword\n",
       "190425  tt0283897      15087   iraq war\n",
       "59010   tt4034228       9253  slapstick\n",
       "140106  tt0091814       9974    obesity"
      ]
     },
     "execution_count": 57,
     "metadata": {},
     "output_type": "execute_result"
    }
   ],
   "source": [
    "keywords_df.sample(3)"
   ]
  },
  {
   "cell_type": "code",
   "execution_count": 58,
   "metadata": {
    "ExecuteTime": {
     "end_time": "2020-03-24T18:27:26.182045Z",
     "start_time": "2020-03-24T18:27:26.136098Z"
    }
   },
   "outputs": [
    {
     "name": "stdout",
     "output_type": "stream",
     "text": [
      "<class 'pandas.core.frame.DataFrame'>\n",
      "RangeIndex: 269939 entries, 0 to 269938\n",
      "Data columns (total 3 columns):\n",
      "imdbId       269939 non-null object\n",
      "keywordId    269939 non-null int64\n",
      "keyword      269939 non-null object\n",
      "dtypes: int64(1), object(2)\n",
      "memory usage: 6.2+ MB\n"
     ]
    }
   ],
   "source": [
    "keywords_df.info()"
   ]
  },
  {
   "cell_type": "markdown",
   "metadata": {},
   "source": [
    "This is a simple dataframe, when I created it I knew exactly the columns I would use. \n",
    "\n",
    "I do need to change the column names from camelCase to snake_case (node.js uses camelCase):"
   ]
  },
  {
   "cell_type": "code",
   "execution_count": 59,
   "metadata": {
    "ExecuteTime": {
     "end_time": "2020-03-24T18:27:27.460652Z",
     "start_time": "2020-03-24T18:27:27.396497Z"
    }
   },
   "outputs": [],
   "source": [
    "keywords_df = keywords_df.rename(columns={'imdbId': 'imdb_id', 'keywordId': 'keyword_id'})"
   ]
  },
  {
   "cell_type": "code",
   "execution_count": 60,
   "metadata": {
    "ExecuteTime": {
     "end_time": "2020-03-24T18:27:28.793176Z",
     "start_time": "2020-03-24T18:27:28.729097Z"
    }
   },
   "outputs": [
    {
     "data": {
      "text/html": [
       "<div>\n",
       "<style scoped>\n",
       "    .dataframe tbody tr th:only-of-type {\n",
       "        vertical-align: middle;\n",
       "    }\n",
       "\n",
       "    .dataframe tbody tr th {\n",
       "        vertical-align: top;\n",
       "    }\n",
       "\n",
       "    .dataframe thead th {\n",
       "        text-align: right;\n",
       "    }\n",
       "</style>\n",
       "<table border=\"1\" class=\"dataframe\">\n",
       "  <thead>\n",
       "    <tr style=\"text-align: right;\">\n",
       "      <th></th>\n",
       "      <th>imdb_id</th>\n",
       "      <th>keyword_id</th>\n",
       "      <th>keyword</th>\n",
       "    </tr>\n",
       "  </thead>\n",
       "  <tbody>\n",
       "    <tr>\n",
       "      <td>107644</td>\n",
       "      <td>tt0452702</td>\n",
       "      <td>577</td>\n",
       "      <td>black people</td>\n",
       "    </tr>\n",
       "    <tr>\n",
       "      <td>29652</td>\n",
       "      <td>tt0373051</td>\n",
       "      <td>9878</td>\n",
       "      <td>fighter jet</td>\n",
       "    </tr>\n",
       "    <tr>\n",
       "      <td>209117</td>\n",
       "      <td>tt0261983</td>\n",
       "      <td>33451</td>\n",
       "      <td>masturbation</td>\n",
       "    </tr>\n",
       "  </tbody>\n",
       "</table>\n",
       "</div>"
      ],
      "text/plain": [
       "          imdb_id  keyword_id       keyword\n",
       "107644  tt0452702         577  black people\n",
       "29652   tt0373051        9878   fighter jet\n",
       "209117  tt0261983       33451  masturbation"
      ]
     },
     "execution_count": 60,
     "metadata": {},
     "output_type": "execute_result"
    }
   ],
   "source": [
    "keywords_df.sample(3)"
   ]
  },
  {
   "cell_type": "code",
   "execution_count": null,
   "metadata": {},
   "outputs": [],
   "source": []
  },
  {
   "cell_type": "code",
   "execution_count": 61,
   "metadata": {
    "ExecuteTime": {
     "end_time": "2020-03-24T18:27:30.415250Z",
     "start_time": "2020-03-24T18:27:30.300531Z"
    }
   },
   "outputs": [
    {
     "data": {
      "text/plain": [
       "imdb_id       0\n",
       "keyword_id    0\n",
       "keyword       0\n",
       "dtype: int64"
      ]
     },
     "execution_count": 61,
     "metadata": {},
     "output_type": "execute_result"
    }
   ],
   "source": [
    "keywords_df.isna().sum()"
   ]
  },
  {
   "cell_type": "markdown",
   "metadata": {},
   "source": [
    "### Save to CSV"
   ]
  },
  {
   "cell_type": "code",
   "execution_count": 62,
   "metadata": {
    "ExecuteTime": {
     "end_time": "2020-03-24T18:27:32.975518Z",
     "start_time": "2020-03-24T18:27:31.933801Z"
    }
   },
   "outputs": [],
   "source": [
    "keywords_save_path = os.path.join(os.pardir, 'data', 'processed', 'keywords.csv')\n",
    "keywords_df.to_csv(keywords_save_path, index=False)"
   ]
  },
  {
   "cell_type": "code",
   "execution_count": 63,
   "metadata": {
    "ExecuteTime": {
     "end_time": "2020-03-24T18:27:34.352635Z",
     "start_time": "2020-03-24T18:27:34.029792Z"
    }
   },
   "outputs": [
    {
     "data": {
      "text/html": [
       "<div>\n",
       "<style scoped>\n",
       "    .dataframe tbody tr th:only-of-type {\n",
       "        vertical-align: middle;\n",
       "    }\n",
       "\n",
       "    .dataframe tbody tr th {\n",
       "        vertical-align: top;\n",
       "    }\n",
       "\n",
       "    .dataframe thead th {\n",
       "        text-align: right;\n",
       "    }\n",
       "</style>\n",
       "<table border=\"1\" class=\"dataframe\">\n",
       "  <thead>\n",
       "    <tr style=\"text-align: right;\">\n",
       "      <th></th>\n",
       "      <th>imdb_id</th>\n",
       "      <th>keyword_id</th>\n",
       "      <th>keyword</th>\n",
       "    </tr>\n",
       "  </thead>\n",
       "  <tbody>\n",
       "    <tr>\n",
       "      <td>243584</td>\n",
       "      <td>tt1922645</td>\n",
       "      <td>6091</td>\n",
       "      <td>war</td>\n",
       "    </tr>\n",
       "    <tr>\n",
       "      <td>244819</td>\n",
       "      <td>tt1276996</td>\n",
       "      <td>193650</td>\n",
       "      <td>pickles</td>\n",
       "    </tr>\n",
       "    <tr>\n",
       "      <td>46969</td>\n",
       "      <td>tt7401588</td>\n",
       "      <td>1919</td>\n",
       "      <td>mayor</td>\n",
       "    </tr>\n",
       "  </tbody>\n",
       "</table>\n",
       "</div>"
      ],
      "text/plain": [
       "          imdb_id  keyword_id  keyword\n",
       "243584  tt1922645        6091      war\n",
       "244819  tt1276996      193650  pickles\n",
       "46969   tt7401588        1919    mayor"
      ]
     },
     "execution_count": 63,
     "metadata": {},
     "output_type": "execute_result"
    }
   ],
   "source": [
    "test_keywords_save = pd.read_csv(keywords_save_path)\n",
    "test_keywords_save.sample(3)"
   ]
  },
  {
   "cell_type": "markdown",
   "metadata": {},
   "source": [
    "## Building Dataset\n",
    "In this section I will combine all the individual datasets into one large dataframe that I can explore in the EDA phase."
   ]
  },
  {
   "cell_type": "code",
   "execution_count": 64,
   "metadata": {
    "ExecuteTime": {
     "end_time": "2020-03-24T18:27:36.086655Z",
     "start_time": "2020-03-24T18:27:35.668252Z"
    }
   },
   "outputs": [],
   "source": [
    "# joining revenue with genres:\n",
    "combined_df = revenue_df.set_index('imdb_id').join(genres_df.set_index('imdb_id'), rsuffix='_rev')"
   ]
  },
  {
   "cell_type": "code",
   "execution_count": 66,
   "metadata": {
    "ExecuteTime": {
     "end_time": "2020-03-24T18:29:36.024170Z",
     "start_time": "2020-03-24T18:29:35.965643Z"
    }
   },
   "outputs": [
    {
     "data": {
      "text/html": [
       "<div>\n",
       "<style scoped>\n",
       "    .dataframe tbody tr th:only-of-type {\n",
       "        vertical-align: middle;\n",
       "    }\n",
       "\n",
       "    .dataframe tbody tr th {\n",
       "        vertical-align: top;\n",
       "    }\n",
       "\n",
       "    .dataframe thead th {\n",
       "        text-align: right;\n",
       "    }\n",
       "</style>\n",
       "<table border=\"1\" class=\"dataframe\">\n",
       "  <thead>\n",
       "    <tr style=\"text-align: right;\">\n",
       "      <th></th>\n",
       "      <th>title</th>\n",
       "      <th>year</th>\n",
       "      <th>director</th>\n",
       "      <th>production_co</th>\n",
       "      <th>rank</th>\n",
       "      <th>budget_usd</th>\n",
       "      <th>us_gross</th>\n",
       "      <th>title_rev</th>\n",
       "      <th>year_rev</th>\n",
       "      <th>genres</th>\n",
       "    </tr>\n",
       "    <tr>\n",
       "      <th>imdb_id</th>\n",
       "      <th></th>\n",
       "      <th></th>\n",
       "      <th></th>\n",
       "      <th></th>\n",
       "      <th></th>\n",
       "      <th></th>\n",
       "      <th></th>\n",
       "      <th></th>\n",
       "      <th></th>\n",
       "      <th></th>\n",
       "    </tr>\n",
       "  </thead>\n",
       "  <tbody>\n",
       "    <tr>\n",
       "      <td>tt2488496</td>\n",
       "      <td>Star Wars: Episode VII - The Force Awakens</td>\n",
       "      <td>2015</td>\n",
       "      <td>J.J. Abrams</td>\n",
       "      <td>Lucasfilm</td>\n",
       "      <td>519</td>\n",
       "      <td>245000000.0</td>\n",
       "      <td>937000000.0</td>\n",
       "      <td>Star Wars: Episode VII - The Force Awakens</td>\n",
       "      <td>2015</td>\n",
       "      <td>Action,Adventure,Sci-Fi</td>\n",
       "    </tr>\n",
       "    <tr>\n",
       "      <td>tt4154796</td>\n",
       "      <td>Avengers: Endgame</td>\n",
       "      <td>2019</td>\n",
       "      <td>Anthony Russo</td>\n",
       "      <td>Marvel Studios</td>\n",
       "      <td>111</td>\n",
       "      <td>356000000.0</td>\n",
       "      <td>858000000.0</td>\n",
       "      <td>Avengers: Endgame</td>\n",
       "      <td>2019</td>\n",
       "      <td>Action,Adventure,Drama</td>\n",
       "    </tr>\n",
       "    <tr>\n",
       "      <td>tt0499549</td>\n",
       "      <td>Avatar</td>\n",
       "      <td>2009</td>\n",
       "      <td>James Cameron</td>\n",
       "      <td>Twentieth Century Fox</td>\n",
       "      <td>533</td>\n",
       "      <td>237000000.0</td>\n",
       "      <td>761000000.0</td>\n",
       "      <td>Avatar</td>\n",
       "      <td>2009</td>\n",
       "      <td>Action,Adventure,Fantasy</td>\n",
       "    </tr>\n",
       "  </tbody>\n",
       "</table>\n",
       "</div>"
      ],
      "text/plain": [
       "                                                title  year       director  \\\n",
       "imdb_id                                                                      \n",
       "tt2488496  Star Wars: Episode VII - The Force Awakens  2015    J.J. Abrams   \n",
       "tt4154796                           Avengers: Endgame  2019  Anthony Russo   \n",
       "tt0499549                                      Avatar  2009  James Cameron   \n",
       "\n",
       "                   production_co rank   budget_usd     us_gross  \\\n",
       "imdb_id                                                           \n",
       "tt2488496              Lucasfilm  519  245000000.0  937000000.0   \n",
       "tt4154796         Marvel Studios  111  356000000.0  858000000.0   \n",
       "tt0499549  Twentieth Century Fox  533  237000000.0  761000000.0   \n",
       "\n",
       "                                            title_rev year_rev  \\\n",
       "imdb_id                                                          \n",
       "tt2488496  Star Wars: Episode VII - The Force Awakens     2015   \n",
       "tt4154796                           Avengers: Endgame     2019   \n",
       "tt0499549                                      Avatar     2009   \n",
       "\n",
       "                             genres  \n",
       "imdb_id                              \n",
       "tt2488496   Action,Adventure,Sci-Fi  \n",
       "tt4154796    Action,Adventure,Drama  \n",
       "tt0499549  Action,Adventure,Fantasy  "
      ]
     },
     "execution_count": 66,
     "metadata": {},
     "output_type": "execute_result"
    }
   ],
   "source": [
    "combined_df.head(3)"
   ]
  },
  {
   "cell_type": "code",
   "execution_count": 67,
   "metadata": {
    "ExecuteTime": {
     "end_time": "2020-03-24T18:30:12.644862Z",
     "start_time": "2020-03-24T18:30:12.637121Z"
    }
   },
   "outputs": [],
   "source": [
    "combined_df = combined_df.drop(columns=['title_rev', 'year_rev'])"
   ]
  },
  {
   "cell_type": "code",
   "execution_count": 68,
   "metadata": {
    "ExecuteTime": {
     "end_time": "2020-03-24T18:30:13.719558Z",
     "start_time": "2020-03-24T18:30:13.703567Z"
    }
   },
   "outputs": [
    {
     "name": "stdout",
     "output_type": "stream",
     "text": [
      "<class 'pandas.core.frame.DataFrame'>\n",
      "Index: 14431 entries, tt2488496 to tt0429277\n",
      "Data columns (total 8 columns):\n",
      "title            14431 non-null object\n",
      "year             14431 non-null object\n",
      "director         14431 non-null object\n",
      "production_co    14431 non-null object\n",
      "rank             14431 non-null object\n",
      "budget_usd       14431 non-null float64\n",
      "us_gross         14431 non-null float64\n",
      "genres           14317 non-null object\n",
      "dtypes: float64(2), object(6)\n",
      "memory usage: 1.6+ MB\n"
     ]
    }
   ],
   "source": [
    "combined_df.info()"
   ]
  },
  {
   "cell_type": "code",
   "execution_count": 69,
   "metadata": {
    "ExecuteTime": {
     "end_time": "2020-03-24T18:30:16.739047Z",
     "start_time": "2020-03-24T18:30:16.725457Z"
    }
   },
   "outputs": [
    {
     "data": {
      "text/html": [
       "<div>\n",
       "<style scoped>\n",
       "    .dataframe tbody tr th:only-of-type {\n",
       "        vertical-align: middle;\n",
       "    }\n",
       "\n",
       "    .dataframe tbody tr th {\n",
       "        vertical-align: top;\n",
       "    }\n",
       "\n",
       "    .dataframe thead th {\n",
       "        text-align: right;\n",
       "    }\n",
       "</style>\n",
       "<table border=\"1\" class=\"dataframe\">\n",
       "  <thead>\n",
       "    <tr style=\"text-align: right;\">\n",
       "      <th></th>\n",
       "      <th>imdb_id</th>\n",
       "      <th>title</th>\n",
       "      <th>date</th>\n",
       "    </tr>\n",
       "  </thead>\n",
       "  <tbody>\n",
       "  </tbody>\n",
       "</table>\n",
       "</div>"
      ],
      "text/plain": [
       "Empty DataFrame\n",
       "Columns: [imdb_id, title, date]\n",
       "Index: []"
      ]
     },
     "execution_count": 69,
     "metadata": {},
     "output_type": "execute_result"
    }
   ],
   "source": [
    "date_df[date_df['title'] == '28 Days Later...']"
   ]
  },
  {
   "cell_type": "code",
   "execution_count": 70,
   "metadata": {
    "ExecuteTime": {
     "end_time": "2020-03-24T18:30:25.907445Z",
     "start_time": "2020-03-24T18:30:25.814755Z"
    }
   },
   "outputs": [
    {
     "data": {
      "text/html": [
       "<div>\n",
       "<style scoped>\n",
       "    .dataframe tbody tr th:only-of-type {\n",
       "        vertical-align: middle;\n",
       "    }\n",
       "\n",
       "    .dataframe tbody tr th {\n",
       "        vertical-align: top;\n",
       "    }\n",
       "\n",
       "    .dataframe thead th {\n",
       "        text-align: right;\n",
       "    }\n",
       "</style>\n",
       "<table border=\"1\" class=\"dataframe\">\n",
       "  <thead>\n",
       "    <tr style=\"text-align: right;\">\n",
       "      <th></th>\n",
       "      <th>title</th>\n",
       "      <th>year</th>\n",
       "      <th>director</th>\n",
       "      <th>production_co</th>\n",
       "      <th>rank</th>\n",
       "      <th>budget_usd</th>\n",
       "      <th>us_gross</th>\n",
       "      <th>genres</th>\n",
       "    </tr>\n",
       "    <tr>\n",
       "      <th>imdb_id</th>\n",
       "      <th></th>\n",
       "      <th></th>\n",
       "      <th></th>\n",
       "      <th></th>\n",
       "      <th></th>\n",
       "      <th></th>\n",
       "      <th></th>\n",
       "      <th></th>\n",
       "    </tr>\n",
       "  </thead>\n",
       "  <tbody>\n",
       "    <tr>\n",
       "      <td>tt2488496</td>\n",
       "      <td>Star Wars: Episode VII - The Force Awakens</td>\n",
       "      <td>2015</td>\n",
       "      <td>J.J. Abrams</td>\n",
       "      <td>Lucasfilm</td>\n",
       "      <td>519</td>\n",
       "      <td>245000000.0</td>\n",
       "      <td>937000000.0</td>\n",
       "      <td>Action,Adventure,Sci-Fi</td>\n",
       "    </tr>\n",
       "    <tr>\n",
       "      <td>tt4154796</td>\n",
       "      <td>Avengers: Endgame</td>\n",
       "      <td>2019</td>\n",
       "      <td>Anthony Russo</td>\n",
       "      <td>Marvel Studios</td>\n",
       "      <td>111</td>\n",
       "      <td>356000000.0</td>\n",
       "      <td>858000000.0</td>\n",
       "      <td>Action,Adventure,Drama</td>\n",
       "    </tr>\n",
       "    <tr>\n",
       "      <td>tt0499549</td>\n",
       "      <td>Avatar</td>\n",
       "      <td>2009</td>\n",
       "      <td>James Cameron</td>\n",
       "      <td>Twentieth Century Fox</td>\n",
       "      <td>533</td>\n",
       "      <td>237000000.0</td>\n",
       "      <td>761000000.0</td>\n",
       "      <td>Action,Adventure,Fantasy</td>\n",
       "    </tr>\n",
       "    <tr>\n",
       "      <td>tt1825683</td>\n",
       "      <td>Black Panther</td>\n",
       "      <td>2018</td>\n",
       "      <td>Ryan Coogler</td>\n",
       "      <td>Marvel Studios</td>\n",
       "      <td>269</td>\n",
       "      <td>200000000.0</td>\n",
       "      <td>700000000.0</td>\n",
       "      <td>Action,Adventure,Sci-Fi</td>\n",
       "    </tr>\n",
       "    <tr>\n",
       "      <td>tt4154756</td>\n",
       "      <td>Avengers: Infinity War</td>\n",
       "      <td>2018</td>\n",
       "      <td>Anthony Russo</td>\n",
       "      <td>Marvel Studios</td>\n",
       "      <td>376</td>\n",
       "      <td>321000000.0</td>\n",
       "      <td>679000000.0</td>\n",
       "      <td>Action,Adventure,Sci-Fi</td>\n",
       "    </tr>\n",
       "    <tr>\n",
       "      <td>...</td>\n",
       "      <td>...</td>\n",
       "      <td>...</td>\n",
       "      <td>...</td>\n",
       "      <td>...</td>\n",
       "      <td>...</td>\n",
       "      <td>...</td>\n",
       "      <td>...</td>\n",
       "      <td>...</td>\n",
       "    </tr>\n",
       "    <tr>\n",
       "      <td>tt1682940</td>\n",
       "      <td>Playback</td>\n",
       "      <td>2012</td>\n",
       "      <td>Michael A. Nickles</td>\n",
       "      <td>Fontenay Films Ltd.</td>\n",
       "      <td>45,045</td>\n",
       "      <td>1600000.0</td>\n",
       "      <td>264.0</td>\n",
       "      <td>Horror,Thriller</td>\n",
       "    </tr>\n",
       "    <tr>\n",
       "      <td>tt4796122</td>\n",
       "      <td>Satanic</td>\n",
       "      <td>2016</td>\n",
       "      <td>Jeffrey G. Hunt</td>\n",
       "      <td>Magnet Releasing</td>\n",
       "      <td>14,581</td>\n",
       "      <td>-1.0</td>\n",
       "      <td>252.0</td>\n",
       "      <td>Horror</td>\n",
       "    </tr>\n",
       "    <tr>\n",
       "      <td>tt1934452</td>\n",
       "      <td>Realms</td>\n",
       "      <td>2017</td>\n",
       "      <td>Daric Gates</td>\n",
       "      <td>DNF Pictures</td>\n",
       "      <td>17,728</td>\n",
       "      <td>2000000.0</td>\n",
       "      <td>147.0</td>\n",
       "      <td>Horror,Mystery</td>\n",
       "    </tr>\n",
       "    <tr>\n",
       "      <td>tt1157631</td>\n",
       "      <td>Dog Eat Dog</td>\n",
       "      <td>2008</td>\n",
       "      <td>Carlos Moreno</td>\n",
       "      <td>64 A Films</td>\n",
       "      <td>103,124</td>\n",
       "      <td>-1.0</td>\n",
       "      <td>80.0</td>\n",
       "      <td>Thriller</td>\n",
       "    </tr>\n",
       "    <tr>\n",
       "      <td>tt0429277</td>\n",
       "      <td>Zyzzyx Rd</td>\n",
       "      <td>2006</td>\n",
       "      <td>John Penney</td>\n",
       "      <td>Zyzzyx LLC</td>\n",
       "      <td>14,918</td>\n",
       "      <td>2000000.0</td>\n",
       "      <td>30.0</td>\n",
       "      <td>Crime,Drama,Thriller</td>\n",
       "    </tr>\n",
       "  </tbody>\n",
       "</table>\n",
       "<p>14431 rows × 8 columns</p>\n",
       "</div>"
      ],
      "text/plain": [
       "                                                title  year  \\\n",
       "imdb_id                                                       \n",
       "tt2488496  Star Wars: Episode VII - The Force Awakens  2015   \n",
       "tt4154796                           Avengers: Endgame  2019   \n",
       "tt0499549                                      Avatar  2009   \n",
       "tt1825683                               Black Panther  2018   \n",
       "tt4154756                      Avengers: Infinity War  2018   \n",
       "...                                               ...   ...   \n",
       "tt1682940                                    Playback  2012   \n",
       "tt4796122                                     Satanic  2016   \n",
       "tt1934452                                      Realms  2017   \n",
       "tt1157631                                 Dog Eat Dog  2008   \n",
       "tt0429277                                   Zyzzyx Rd  2006   \n",
       "\n",
       "                     director          production_co     rank   budget_usd  \\\n",
       "imdb_id                                                                      \n",
       "tt2488496         J.J. Abrams              Lucasfilm      519  245000000.0   \n",
       "tt4154796       Anthony Russo         Marvel Studios      111  356000000.0   \n",
       "tt0499549       James Cameron  Twentieth Century Fox      533  237000000.0   \n",
       "tt1825683        Ryan Coogler         Marvel Studios      269  200000000.0   \n",
       "tt4154756       Anthony Russo         Marvel Studios      376  321000000.0   \n",
       "...                       ...                    ...      ...          ...   \n",
       "tt1682940  Michael A. Nickles    Fontenay Films Ltd.   45,045    1600000.0   \n",
       "tt4796122     Jeffrey G. Hunt       Magnet Releasing   14,581         -1.0   \n",
       "tt1934452         Daric Gates           DNF Pictures   17,728    2000000.0   \n",
       "tt1157631       Carlos Moreno             64 A Films  103,124         -1.0   \n",
       "tt0429277         John Penney             Zyzzyx LLC   14,918    2000000.0   \n",
       "\n",
       "              us_gross                    genres  \n",
       "imdb_id                                           \n",
       "tt2488496  937000000.0   Action,Adventure,Sci-Fi  \n",
       "tt4154796  858000000.0    Action,Adventure,Drama  \n",
       "tt0499549  761000000.0  Action,Adventure,Fantasy  \n",
       "tt1825683  700000000.0   Action,Adventure,Sci-Fi  \n",
       "tt4154756  679000000.0   Action,Adventure,Sci-Fi  \n",
       "...                ...                       ...  \n",
       "tt1682940        264.0           Horror,Thriller  \n",
       "tt4796122        252.0                    Horror  \n",
       "tt1934452        147.0            Horror,Mystery  \n",
       "tt1157631         80.0                  Thriller  \n",
       "tt0429277         30.0      Crime,Drama,Thriller  \n",
       "\n",
       "[14431 rows x 8 columns]"
      ]
     },
     "execution_count": 70,
     "metadata": {},
     "output_type": "execute_result"
    }
   ],
   "source": [
    "combined_df.explode('genres')"
   ]
  },
  {
   "cell_type": "code",
   "execution_count": null,
   "metadata": {
    "ExecuteTime": {
     "end_time": "2020-03-24T18:23:34.468268Z",
     "start_time": "2020-03-24T18:23:34.439Z"
    }
   },
   "outputs": [],
   "source": [
    "# adding in time of year next:\n",
    "combined_df.set_index('title').join(date_df.set_index('title')).sample(10) "
   ]
  },
  {
   "cell_type": "code",
   "execution_count": null,
   "metadata": {
    "ExecuteTime": {
     "end_time": "2020-03-24T18:23:34.595778Z",
     "start_time": "2020-03-24T18:23:34.578266Z"
    }
   },
   "outputs": [],
   "source": [
    "combined_df.sample(5)"
   ]
  },
  {
   "cell_type": "code",
   "execution_count": null,
   "metadata": {
    "ExecuteTime": {
     "end_time": "2020-03-24T18:23:34.602464Z",
     "start_time": "2020-03-24T18:23:34.461Z"
    }
   },
   "outputs": [],
   "source": [
    "columns = ['title', 'year_rev', 'us_gross', 'budget_usd']\n",
    "combined_df = combined_df.drop_duplicates(subset=columns)"
   ]
  },
  {
   "cell_type": "code",
   "execution_count": null,
   "metadata": {
    "ExecuteTime": {
     "end_time": "2020-03-24T18:23:34.605661Z",
     "start_time": "2020-03-24T18:23:34.472Z"
    }
   },
   "outputs": [],
   "source": [
    "combined_df"
   ]
  },
  {
   "cell_type": "code",
   "execution_count": null,
   "metadata": {},
   "outputs": [],
   "source": []
  }
 ],
 "metadata": {
  "file_extension": ".py",
  "kernelspec": {
   "display_name": "Python 3",
   "language": "python",
   "name": "python3"
  },
  "language_info": {
   "codemirror_mode": {
    "name": "ipython",
    "version": 3
   },
   "file_extension": ".py",
   "mimetype": "text/x-python",
   "name": "python",
   "nbconvert_exporter": "python",
   "pygments_lexer": "ipython3",
   "version": "3.6.9"
  },
  "mimetype": "text/x-python",
  "name": "python",
  "npconvert_exporter": "python",
  "pygments_lexer": "ipython3",
  "toc": {
   "base_numbering": 1,
   "nav_menu": {},
   "number_sections": true,
   "sideBar": true,
   "skip_h1_title": false,
   "title_cell": "Table of Contents",
   "title_sidebar": "Contents",
   "toc_cell": false,
   "toc_position": {},
   "toc_section_display": true,
   "toc_window_display": false
  },
  "varInspector": {
   "cols": {
    "lenName": 16,
    "lenType": 16,
    "lenVar": 40
   },
   "kernels_config": {
    "python": {
     "delete_cmd_postfix": "",
     "delete_cmd_prefix": "del ",
     "library": "var_list.py",
     "varRefreshCmd": "print(var_dic_list())"
    },
    "r": {
     "delete_cmd_postfix": ") ",
     "delete_cmd_prefix": "rm(",
     "library": "var_list.r",
     "varRefreshCmd": "cat(var_dic_list()) "
    }
   },
   "oldHeight": 120,
   "position": {
    "height": "40px",
    "left": "448px",
    "right": "20px",
    "top": "110px",
    "width": "435px"
   },
   "types_to_exclude": [
    "module",
    "function",
    "builtin_function_or_method",
    "instance",
    "_Feature"
   ],
   "varInspector_section_display": "none",
   "window_display": true
  },
  "version": 3
 },
 "nbformat": 4,
 "nbformat_minor": 2
}
